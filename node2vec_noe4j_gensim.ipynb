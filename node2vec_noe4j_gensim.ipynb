{
  "nbformat": 4,
  "nbformat_minor": 0,
  "metadata": {
    "colab": {
      "name": "node2vec-noe4j-gensim.ipynb",
      "provenance": [],
      "collapsed_sections": [
        "SgK1U6pU2ijO",
        "e0AfLWjS3dI-",
        "RpGpVc7G4iqY",
        "9XZ2D0hC4pu0",
        "IBQbckgA4yAk",
        "8lKRFTCq6DWU"
      ],
      "toc_visible": true
    },
    "kernelspec": {
      "display_name": "Python 3",
      "name": "python3"
    }
  },
  "cells": [
    {
      "cell_type": "markdown",
      "metadata": {
        "id": "RsoveyT7h78r"
      },
      "source": [
        "\r\n",
        "\r\n",
        "# Inicjalizacja\r\n",
        "Do zrealizowania poniższego kodu potrzebny jest utworzony nowy, pusty projekt w darmowym środowisku zapenianym przez Neo4j (https://neo4j.com/sandbox/). po utworzeniu takiego pojektu niezbędne jest w późniejszej części podanie danych dostępowych do utworzonego projektu. Środowisko Neo4j udostępnia również dobrą wizualizację stowrzonej bazy danych za pomocą narzedzia Bloom. Więcej szczegółów na temat realizacji tego projketu znajduje się poniżej lub w dodatkowych źródłach:\r\n",
        "- link do pracy inżynierskiej Overleaf - https://www.overleaf.com/read/bydgzbrmwwtr\r\n",
        "- link do repozytorium z aplikacją do reprezentowania wyszukań - https://github.com/szuzanna/Entity-Set-Expander-with-Graph-Embeddings\r\n",
        "- https://towardsdatascience.com/node-embeddings-node2vec-with-neo4j-5152d3472d8e\r\n",
        "- https://neo4j.com/developer/kb/import-csv-locations/\r\n"
      ]
    },
    {
      "cell_type": "markdown",
      "metadata": {
        "id": "NG9p3o6DBvzy"
      },
      "source": [
        "##Instalacja i import potrzebnych bibliotek "
      ]
    },
    {
      "cell_type": "code",
      "metadata": {
        "colab": {
          "base_uri": "https://localhost:8080/"
        },
        "id": "ddYK2jlBOfXy",
        "outputId": "3f2defe0-b884-4a0f-b050-56ff53c9c50c"
      },
      "source": [
        "pip install neo4j "
      ],
      "execution_count": 1,
      "outputs": [
        {
          "output_type": "stream",
          "text": [
            "Collecting neo4j\n",
            "\u001b[?25l  Downloading https://files.pythonhosted.org/packages/36/f7/3c0b20ad7cdeac89d44e5380b0b4507995b1aec843692e3e76dd6cd1c638/neo4j-4.2.1.tar.gz (69kB)\n",
            "\r\u001b[K     |████▊                           | 10kB 23.5MB/s eta 0:00:01\r\u001b[K     |█████████▍                      | 20kB 20.1MB/s eta 0:00:01\r\u001b[K     |██████████████▏                 | 30kB 10.9MB/s eta 0:00:01\r\u001b[K     |██████████████████▉             | 40kB 9.1MB/s eta 0:00:01\r\u001b[K     |███████████████████████▋        | 51kB 4.4MB/s eta 0:00:01\r\u001b[K     |████████████████████████████▎   | 61kB 4.9MB/s eta 0:00:01\r\u001b[K     |████████████████████████████████| 71kB 3.7MB/s \n",
            "\u001b[?25hRequirement already satisfied: pytz in /usr/local/lib/python3.6/dist-packages (from neo4j) (2018.9)\n",
            "Building wheels for collected packages: neo4j\n",
            "  Building wheel for neo4j (setup.py) ... \u001b[?25l\u001b[?25hdone\n",
            "  Created wheel for neo4j: filename=neo4j-4.2.1-cp36-none-any.whl size=95190 sha256=f3a399c482d964cd1fded26e626c1113f1e434ba5a3964f5a5ca8c5324f73fcf\n",
            "  Stored in directory: /root/.cache/pip/wheels/00/a8/69/083e04c2ffc0a7e026c9356cd5bb54c65128f3e08ef8371be0\n",
            "Successfully built neo4j\n",
            "Installing collected packages: neo4j\n",
            "Successfully installed neo4j-4.2.1\n"
          ],
          "name": "stdout"
        }
      ]
    },
    {
      "cell_type": "code",
      "metadata": {
        "id": "aq2uHk8k0mwh"
      },
      "source": [
        "#Import biblioteki do tworzenia i obsługi modelu word2vec\n",
        "from gensim.models import Word2Vec\n",
        "#Import bibliteki niezbędnej do komunikacji z bazą danych w Neo4j\n",
        "from neo4j import GraphDatabase\n",
        "import pandas as pd\n",
        "import time"
      ],
      "execution_count": 2,
      "outputs": []
    },
    {
      "cell_type": "markdown",
      "metadata": {
        "id": "xSq89y0iB2K1"
      },
      "source": [
        "## Podanie namiarów na pustą baze danych na Neo4j i połączenie się z nią "
      ]
    },
    {
      "cell_type": "code",
      "metadata": {
        "id": "aKO3ijGAB13N"
      },
      "source": [
        "host = 'bolt://52.91.118.4:34331'\n",
        "user = 'neo4j'\n",
        "password = 'contact-relay-journey'\n",
        "driver = GraphDatabase.driver(host,auth=(user, password))"
      ],
      "execution_count": 17,
      "outputs": []
    },
    {
      "cell_type": "markdown",
      "metadata": {
        "id": "IjFPWm_MiTi0"
      },
      "source": [
        "#Tworzenie bazy danych i wczytaywanie danych"
      ]
    },
    {
      "cell_type": "markdown",
      "metadata": {
        "id": "710B8I2GCf1G"
      },
      "source": [
        "## Podanie schamtu bazy i załadowanie do niej danych z .csv na githubie"
      ]
    },
    {
      "cell_type": "code",
      "metadata": {
        "id": "NrSqcyO_CYY0"
      },
      "source": [
        "#Zaptenie do bazy wtorzące jej schemat\n",
        "graph_schema_query = \"\"\"\n",
        "\n",
        "CALL apoc.schema.assert( \n",
        "    null, \n",
        "    {Ingredient:['name'], Dish:['id'], DishType:['name']})\n",
        "\n",
        "\"\"\"\n",
        "\n",
        "#Zapytanie do bazy pobierajce dane z pliku .csv i wczytanie tych danych do bazy\n",
        "graph_import_query = \"\"\"\n",
        "\n",
        "LOAD CSV WITH HEADERS FROM \"https://raw.githubusercontent.com/szuzanna/neo4j/main/newfood.csv\" as row \n",
        "CREATE (d:Dish{id:row.id, name:row.title}) \n",
        "SET d += apoc.map.clean(row, ['id','title','dishTypes','ingredients'],[]) \n",
        "FOREACH (i in split(row.ingredients,',') | MERGE (in:Ingredient{name:toLower(replace(i,'-',' '))}) \n",
        "                                           MERGE (in)<-[:HAS_INGREDIENT]-(d)) \n",
        "FOREACH (dt in split(row.dishTypes,',')  | MERGE (dts:DishType{name:dt}) \n",
        "                                           MERGE (dts)<-[:DISH_TYPE]-(d))\n",
        "\n",
        "\"\"\"\n",
        "\n",
        "with driver.session() as session:\n",
        "    session.run(graph_schema_query)\n",
        "    session.run(graph_import_query)"
      ],
      "execution_count": 4,
      "outputs": []
    },
    {
      "cell_type": "markdown",
      "metadata": {
        "id": "J37Op_rQigBO"
      },
      "source": [
        "## Ilość węzłów i relacji w bazie"
      ]
    },
    {
      "cell_type": "code",
      "metadata": {
        "colab": {
          "base_uri": "https://localhost:8080/"
        },
        "id": "c1haWy18WLu6",
        "outputId": "1935fb5f-56d8-4f06-96b8-e85a20eec3c3"
      },
      "source": [
        "#Zapytanie zwracające ilość wezłów oraz ilość połączeń jaka występuje w bazie\r\n",
        "tmp = pd.DataFrame()\r\n",
        "with driver.session() as session:\r\n",
        "    results = session.run(\"\"\"\r\n",
        "    CALL apoc.meta.stats() YIELD nodeCount \r\n",
        "    CALL apoc.meta.stats() YIELD relCount \r\n",
        "    RETURN nodeCount, relCount \r\n",
        "    \"\"\")\r\n",
        "    tmp = pd.DataFrame([dict(result) for result in results])\r\n",
        "\r\n",
        "print(tmp)"
      ],
      "execution_count": 5,
      "outputs": [
        {
          "output_type": "stream",
          "text": [
            "   nodeCount  relCount\n",
            "0       3682     23783\n"
          ],
          "name": "stdout"
        }
      ]
    },
    {
      "cell_type": "markdown",
      "metadata": {
        "id": "PsNGzQFgiq9W"
      },
      "source": [
        "## Ilość węzłów poszecgólnego typu"
      ]
    },
    {
      "cell_type": "code",
      "metadata": {
        "colab": {
          "base_uri": "https://localhost:8080/"
        },
        "id": "T7fzEC_xY8EO",
        "outputId": "c68b790f-0759-4758-c95b-0e93ef417972"
      },
      "source": [
        "#Zapytanie zwracające ilości węzłów każdego z typów\r\n",
        "tmp = pd.DataFrame()\r\n",
        "with driver.session() as session:\r\n",
        "    results = session.run(\"\"\"\r\n",
        "    CALL apoc.meta.stats() YIELD labels\r\n",
        "    RETURN labels\r\n",
        "    \"\"\")\r\n",
        "    tmp = results.value('labels')\r\n",
        "\r\n",
        "print(tmp)"
      ],
      "execution_count": 6,
      "outputs": [
        {
          "output_type": "stream",
          "text": [
            "[{'Ingredient': 1937, 'DishType': 23, 'Dish': 1722}]\n"
          ],
          "name": "stdout"
        }
      ]
    },
    {
      "cell_type": "markdown",
      "metadata": {
        "id": "-OeAL7miiwdN"
      },
      "source": [
        "#Przydatne, przykładowe statyski z bazy pozwalające zapoznać się z jej zawartością"
      ]
    },
    {
      "cell_type": "markdown",
      "metadata": {
        "id": "4J3b2iQxVjYl"
      },
      "source": [
        "##Najpopularniejsze składniki"
      ]
    },
    {
      "cell_type": "code",
      "metadata": {
        "colab": {
          "base_uri": "https://localhost:8080/"
        },
        "id": "7-8Xj4BoS__D",
        "outputId": "2f29a052-21b1-4334-e2a9-cfedae688933"
      },
      "source": [
        "#Zapytanie zwracające 20 węzłów typu składnik z najwiekszą ilością relacji wchodzacych do danego węzła\n",
        "tmp = pd.DataFrame()\n",
        "with driver.session() as session:\n",
        "    results = session.run(\"\"\"\n",
        "    MATCH (n:Ingredient)\n",
        "    RETURN n.name as ingredient, size((n)<--()) as mentions \n",
        "    ORDER BY mentions DESC\n",
        "    LIMIT 20\n",
        "    \"\"\")\n",
        "    tmp = pd.DataFrame([dict(result) for result in results])\n",
        "\n",
        "\n",
        "print(tmp)"
      ],
      "execution_count": 7,
      "outputs": [
        {
          "output_type": "stream",
          "text": [
            "                ingredient  mentions\n",
            "0                olive oil       954\n",
            "1                   garlic       425\n",
            "2                     salt       405\n",
            "3                   butter       397\n",
            "4              lemon juice       373\n",
            "5          salt and pepper       347\n",
            "6                  anchovy       341\n",
            "7          unsalted butter       305\n",
            "8            garlic cloves       293\n",
            "9                   capers       267\n",
            "10             kosher salt       247\n",
            "11                 parsley       177\n",
            "12             bell pepper       177\n",
            "13                   onion       171\n",
            "14            black pepper       171\n",
            "15                   water       158\n",
            "16            garlic clove       154\n",
            "17               anchovies       154\n",
            "18              lemon zest       147\n",
            "19  extra virgin olive oil       145\n"
          ],
          "name": "stdout"
        }
      ]
    },
    {
      "cell_type": "markdown",
      "metadata": {
        "id": "S1ITntr1jEtm"
      },
      "source": [
        "##Najmniej popularne składniki"
      ]
    },
    {
      "cell_type": "code",
      "metadata": {
        "colab": {
          "base_uri": "https://localhost:8080/"
        },
        "id": "4WIy9QHLhvKk",
        "outputId": "42662602-f55b-474f-e3ba-f81d0e09ecce"
      },
      "source": [
        "#Zapytanie zwracające 20 węzłów typu składnik z najmniejszą ilością relacji wchodzacych do danego węzła\r\n",
        "tmp = pd.DataFrame()\r\n",
        "with driver.session() as session:\r\n",
        "    results = session.run(\"\"\"\r\n",
        "    MATCH (n:Ingredient)\r\n",
        "    RETURN n.name as ingredient, size((n)<--()) as mentions \r\n",
        "    ORDER BY mentions \r\n",
        "    LIMIT 20\r\n",
        "    \"\"\")\r\n",
        "    tmp = pd.DataFrame([dict(result) for result in results])\r\n",
        "\r\n",
        "\r\n",
        "print(tmp)"
      ],
      "execution_count": 8,
      "outputs": [
        {
          "output_type": "stream",
          "text": [
            "                           ingredient  mentions\n",
            "0                         beet greens         1\n",
            "1                    dandelion greens         1\n",
            "2                            pinenuts         1\n",
            "3                          cane sugar         1\n",
            "4                     extra firm tofu         1\n",
            "5                         pinto beans         1\n",
            "6                            sprinkle         1\n",
            "7                        green chilli         1\n",
            "8                          loin roast         1\n",
            "9                     strained yogurt         1\n",
            "10                        top sirloin         1\n",
            "11                      acini di pepe         1\n",
            "12                      seltzer water         1\n",
            "13                   remove from oven         1\n",
            "14                         rice syrup         1\n",
            "15                         frying oil         1\n",
            "16  pomodori al forno con le acciughe         1\n",
            "17              fire roasted tomatoes         1\n",
            "18                       caperberries         1\n",
            "19                    hard boiled egg         1\n"
          ],
          "name": "stdout"
        }
      ]
    },
    {
      "cell_type": "markdown",
      "metadata": {
        "id": "NePqW_6amVvz"
      },
      "source": [
        "##Potrawy z największa ilością składników"
      ]
    },
    {
      "cell_type": "code",
      "metadata": {
        "colab": {
          "base_uri": "https://localhost:8080/"
        },
        "id": "os_mvg7emWJo",
        "outputId": "6489dd09-e926-4409-9244-315dedbad31c"
      },
      "source": [
        "tmp = pd.DataFrame()\r\n",
        "with driver.session() as session:\r\n",
        "    results = session.run(\"\"\"\r\n",
        "    MATCH (d:Dish)\r\n",
        "    RETURN d.name as dish, size((d)-->()) as mentions \r\n",
        "    ORDER BY mentions DESC\r\n",
        "    LIMIT 20\r\n",
        "    \"\"\")\r\n",
        "    tmp = pd.DataFrame([dict(result) for result in results])\r\n",
        "\r\n",
        "\r\n",
        "print(tmp)"
      ],
      "execution_count": 9,
      "outputs": [
        {
          "output_type": "stream",
          "text": [
            "                                                 dish  mentions\n",
            "0                       Poached Beef With Green Sauce       165\n",
            "1              Sea Bass With Brown Shrimps & Couscous        50\n",
            "2                                         Salsa Verde        44\n",
            "3                                       Bouillabaisse        40\n",
            "4                        Ceviche de Pescado: Two Ways        39\n",
            "5                           Easy to Make Dinner Combo        37\n",
            "6   Salad with Parmigiano-Reggiano and anchovy dre...        34\n",
            "7                            New England Fish Chowder        32\n",
            "8   Yagihashi's Black Sea Bass with Somen and Vege...        29\n",
            "9                         Easy Baked Parmesan Tilapia        29\n",
            "10                 McDevitt's Miso-Marinated Sea Bass        28\n",
            "11  Kitchen Play: Salmon with Herbed Butter and Bu...        28\n",
            "12  Baketard.com - Blog - Giorgio Locatelli's Bran...        28\n",
            "13                                  Fish Taco Platter        27\n",
            "14  Chef Race: Cornmeal-Crusted Catfish with Tomat...        27\n",
            "15  Striped Bass with Saffron Vegetables and Spice...        27\n",
            "16                                               Home        26\n",
            "17       Stuffed Bluefish with Sweet and Spicy Masala        26\n",
            "18  Surf and Turf in Herbed Red Wine Sauce with Bu...        26\n",
            "19  Black Sea Bass With Moroccan Vegetables and Ch...        26\n"
          ],
          "name": "stdout"
        }
      ]
    },
    {
      "cell_type": "markdown",
      "metadata": {
        "id": "1ga29VEJVov9"
      },
      "source": [
        "##Wypisanie wszystkich potraw zawierających wymienione składniki"
      ]
    },
    {
      "cell_type": "code",
      "metadata": {
        "colab": {
          "base_uri": "https://localhost:8080/"
        },
        "id": "tSHSO_bsTM6a",
        "outputId": "ed80aaba-1c13-4e8c-b08a-08cee57e421b"
      },
      "source": [
        "#Zapytanie zwracające max 10 potraw zawierających składniki - \"feta cheese\", \"zucchini\"\n",
        "with driver.session() as session:\n",
        "    results = session.run(\"\"\"\n",
        "    WITH [\"feta cheese\", \"zucchini\"] as ingredients \n",
        "    MATCH (d:Dish) \n",
        "    WHERE all(i in ingredients WHERE exists( \n",
        "        (d)-[:HAS_INGREDIENT]->(:Ingredient {name: i}))) \n",
        "    RETURN d.name AS dish, \n",
        "           [(d)-[:HAS_INGREDIENT]->(i) | i.name] AS ingredients \n",
        "    ORDER BY size(ingredients)\n",
        "    LIMIT 10\n",
        "    \"\"\")\n",
        "    tmp = pd.DataFrame([dict(result) for result in results])\n",
        "\n",
        "print(tmp)\n"
      ],
      "execution_count": 10,
      "outputs": [
        {
          "output_type": "stream",
          "text": [
            "                          dish                                        ingredients\n",
            "0    Striped Bass en Papillote  [lemon juice, striped bass, salt, black pepper...\n",
            "1  Mediterranean Salad Platter  [feta cheese, red onions, zucchini, salt, pepp...\n"
          ],
          "name": "stdout"
        }
      ]
    },
    {
      "cell_type": "markdown",
      "metadata": {
        "id": "5y3gqFT9jW52"
      },
      "source": [
        "#Implementacja metody node2vec"
      ]
    },
    {
      "cell_type": "markdown",
      "metadata": {
        "id": "qdC57K3gaGiA"
      },
      "source": [
        "## Tworzenie nowego grafu nazywamy go 'all' zawiera on wszytskie wezły a połaczenie miedzy nimi są nieskierowane, bez żadnej nazwy ani wagi."
      ]
    },
    {
      "cell_type": "code",
      "metadata": {
        "id": "RPrBgguRWA9q"
      },
      "source": [
        "with driver.session() as session:\n",
        "    session.run(\"\"\"CALL gds.graph.create('all', \n",
        "    '*', \n",
        "    {ALL_UNDIRECTED: {type:'*', orientation:'UNDIRECTED'}})\"\"\")"
      ],
      "execution_count": 11,
      "outputs": []
    },
    {
      "cell_type": "markdown",
      "metadata": {
        "id": "yhggqDumPNOn"
      },
      "source": [
        "##Przykładowy model metody node2vec "
      ]
    },
    {
      "cell_type": "code",
      "metadata": {
        "colab": {
          "base_uri": "https://localhost:8080/"
        },
        "id": "j609m3krb3t-",
        "outputId": "5fcb3a8d-f3fc-4533-e5f6-5e6cfab52e61"
      },
      "source": [
        "start = time.clock()\n",
        "# Define random walk query\n",
        "random_walks_query = \"\"\"\n",
        "MATCH (node)\n",
        "CALL gds.alpha.randomWalk.stream('all', {\n",
        "  start: id(node),\n",
        "  steps: 15,\n",
        "  walks: 5,\n",
        "  mode:'node2vec',\n",
        "  inOut:0.6,\n",
        "  return:1.0\n",
        "})\n",
        "YIELD nodeIds\n",
        "RETURN [id in nodeIds | gds.util.asNode(id).name] as walks\n",
        "\"\"\"\n",
        "# Fetch data from neo4j\n",
        "with driver.session() as session:\n",
        "    walks = session.run(random_walks_query)\n",
        "    # Train the word2vec model\n",
        "    clean_walks = [row['walks'] for row in walks]\n",
        "model = Word2Vec(clean_walks, sg=1, window=5, size=100)\n",
        "end = time.clock()\n",
        "total = end - start\n",
        "print(\"{0:02f}s\".format(total))\n",
        "\n",
        "model.save(\"foodEmbedding_default.model\")\n",
        "\n"
      ],
      "execution_count": 15,
      "outputs": [
        {
          "output_type": "stream",
          "text": [
            "13.968493s\n"
          ],
          "name": "stdout"
        }
      ]
    },
    {
      "cell_type": "code",
      "metadata": {
        "colab": {
          "base_uri": "https://localhost:8080/"
        },
        "id": "1REm53qQw_Rm",
        "outputId": "56e15e6a-32ff-4112-a556-e573ef12dd40"
      },
      "source": [
        "model.most_similar('olive oil')"
      ],
      "execution_count": 14,
      "outputs": [
        {
          "output_type": "stream",
          "text": [
            "/usr/local/lib/python3.6/dist-packages/ipykernel_launcher.py:1: DeprecationWarning: Call to deprecated `most_similar` (Method will be removed in 4.0.0, use self.wv.most_similar() instead).\n",
            "  \"\"\"Entry point for launching an IPython kernel.\n"
          ],
          "name": "stderr"
        },
        {
          "output_type": "execute_result",
          "data": {
            "text/plain": [
              "[('aged balsamic vinegar', 0.6569322347640991),\n",
              " ('dried figs', 0.6526914834976196),\n",
              " ('lamb loin chops', 0.6453710794448853),\n",
              " ('dried chilli flakes', 0.6416180729866028),\n",
              " ('dried tomatoes', 0.6402533054351807),\n",
              " ('manchego', 0.6400256752967834),\n",
              " ('dried great northern beans', 0.6392632722854614),\n",
              " ('celery ribs', 0.6385805606842041),\n",
              " ('fusilli', 0.6376804113388062),\n",
              " ('red skinned potatoes', 0.6371135711669922)]"
            ]
          },
          "metadata": {
            "tags": []
          },
          "execution_count": 14
        }
      ]
    },
    {
      "cell_type": "markdown",
      "metadata": {
        "id": "-B6pY6HLCduz"
      },
      "source": [
        "#Testowanie hiperparametrów"
      ]
    },
    {
      "cell_type": "markdown",
      "metadata": {
        "id": "SgK1U6pU2ijO"
      },
      "source": [
        "## Steps"
      ]
    },
    {
      "cell_type": "code",
      "metadata": {
        "colab": {
          "base_uri": "https://localhost:8080/"
        },
        "id": "XoOLicMH3D7n",
        "outputId": "1c53b544-8d5c-4b19-e2de-dd98f3838ddd"
      },
      "source": [
        "start = time.clock()\n",
        "# Define random walk query\n",
        "random_walks_query = \"\"\"\n",
        "MATCH (node)\n",
        "CALL gds.alpha.randomWalk.stream('all', {\n",
        "  start: id(node),\n",
        "  steps: 10,\n",
        "  walks: 5,\n",
        "  mode:'node2vec',\n",
        "  inOut:0.6,\n",
        "  return:1.0\n",
        "})\n",
        "YIELD nodeIds\n",
        "RETURN [id in nodeIds | gds.util.asNode(id).name] as walks\n",
        "\"\"\"\n",
        "# Fetch data from neo4j\n",
        "with driver.session() as session:\n",
        "    walks = session.run(random_walks_query)\n",
        "    # Train the word2vec model\n",
        "    clean_walks = [row['walks'] for row in walks]\n",
        "model = Word2Vec(clean_walks, sg=1, window=5, size=100)\n",
        "end = time.clock()\n",
        "total = end - start\n",
        "print(\"{0:02f}s\".format(total))\n",
        "\n",
        "model.save(\"foodEmbedding_steps10.model\")\n",
        "\n"
      ],
      "execution_count": 16,
      "outputs": [
        {
          "output_type": "stream",
          "text": [
            "9.391337s\n"
          ],
          "name": "stdout"
        }
      ]
    },
    {
      "cell_type": "code",
      "metadata": {
        "colab": {
          "base_uri": "https://localhost:8080/"
        },
        "id": "NbTiyY683D8S",
        "outputId": "76d2ac6e-6922-4462-9cf3-d4c95a2b7b1f"
      },
      "source": [
        "model.most_similar('olive oil')"
      ],
      "execution_count": 17,
      "outputs": [
        {
          "output_type": "stream",
          "text": [
            "/usr/local/lib/python3.6/dist-packages/ipykernel_launcher.py:1: DeprecationWarning: Call to deprecated `most_similar` (Method will be removed in 4.0.0, use self.wv.most_similar() instead).\n",
            "  \"\"\"Entry point for launching an IPython kernel.\n"
          ],
          "name": "stderr"
        },
        {
          "output_type": "execute_result",
          "data": {
            "text/plain": [
              "[('spaghetti', 0.7909681797027588),\n",
              " ('broccoli', 0.7891433835029602),\n",
              " ('cauliflower', 0.7649942636489868),\n",
              " ('Orecchiette (almost) Alla Pugliese', 0.7625887393951416),\n",
              " ('rosemary leaves', 0.7583848237991333),\n",
              " ('Montbrun Melange: Olive Bread With Basil, Marinated Tomatoes, A',\n",
              "  0.7505795359611511),\n",
              " ('aged balsamic vinegar', 0.7482173442840576),\n",
              " ('Mediterranean Pasta with Broccoli', 0.7481319904327393),\n",
              " ('pecorino', 0.7459369897842407),\n",
              " ('corn bread mix', 0.7447943687438965)]"
            ]
          },
          "metadata": {
            "tags": []
          },
          "execution_count": 17
        }
      ]
    },
    {
      "cell_type": "code",
      "metadata": {
        "colab": {
          "base_uri": "https://localhost:8080/"
        },
        "id": "gRoZppLV3Fxw",
        "outputId": "8737433e-31ec-46d1-ffa5-63621e7bcb24"
      },
      "source": [
        "start = time.clock()\n",
        "# Define random walk query\n",
        "random_walks_query = \"\"\"\n",
        "MATCH (node)\n",
        "CALL gds.alpha.randomWalk.stream('all', {\n",
        "  start: id(node),\n",
        "  steps: 30,\n",
        "  walks: 5,\n",
        "  mode:'node2vec',\n",
        "  inOut:0.6,\n",
        "  return:1.0\n",
        "})\n",
        "YIELD nodeIds\n",
        "RETURN [id in nodeIds | gds.util.asNode(id).name] as walks\n",
        "\"\"\"\n",
        "# Fetch data from neo4j\n",
        "with driver.session() as session:\n",
        "    walks = session.run(random_walks_query)\n",
        "    # Train the word2vec model\n",
        "    clean_walks = [row['walks'] for row in walks]\n",
        "model = Word2Vec(clean_walks, sg=1, window=5, size=100)\n",
        "end = time.clock()\n",
        "total = end - start\n",
        "print(\"{0:02f}s\".format(total))\n",
        "\n",
        "model.save(\"foodEmbedding_steps30.model\")\n",
        "\n",
        "\n"
      ],
      "execution_count": 18,
      "outputs": [
        {
          "output_type": "stream",
          "text": [
            "26.930963s\n"
          ],
          "name": "stdout"
        }
      ]
    },
    {
      "cell_type": "code",
      "metadata": {
        "colab": {
          "base_uri": "https://localhost:8080/"
        },
        "id": "OExPrxPb3Fxy",
        "outputId": "c23850f5-0f4d-4781-a7f8-b60432af3841"
      },
      "source": [
        "model.most_similar('olive oil')"
      ],
      "execution_count": 19,
      "outputs": [
        {
          "output_type": "stream",
          "text": [
            "/usr/local/lib/python3.6/dist-packages/ipykernel_launcher.py:1: DeprecationWarning: Call to deprecated `most_similar` (Method will be removed in 4.0.0, use self.wv.most_similar() instead).\n",
            "  \"\"\"Entry point for launching an IPython kernel.\n"
          ],
          "name": "stderr"
        },
        {
          "output_type": "execute_result",
          "data": {
            "text/plain": [
              "[('corn bread mix', 0.5591591000556946),\n",
              " ('variety of crudité', 0.5486303567886353),\n",
              " ('dried great northern beans', 0.5480088591575623),\n",
              " ('red mullet', 0.541245698928833),\n",
              " ('penne', 0.540414035320282),\n",
              " ('unpitted', 0.5378836393356323),\n",
              " ('parlsley', 0.534924328327179),\n",
              " ('broccoli raab', 0.5311227440834045),\n",
              " ('gem squash', 0.5290196537971497),\n",
              " ('from donna deane', 0.5285034775733948)]"
            ]
          },
          "metadata": {
            "tags": []
          },
          "execution_count": 19
        }
      ]
    },
    {
      "cell_type": "code",
      "metadata": {
        "colab": {
          "base_uri": "https://localhost:8080/"
        },
        "id": "FnNISQcP3GPU",
        "outputId": "641b8c92-31a4-42ab-bef6-f8f86bbc219d"
      },
      "source": [
        "start = time.clock()\n",
        "# Define random walk query\n",
        "random_walks_query = \"\"\"\n",
        "MATCH (node)\n",
        "CALL gds.alpha.randomWalk.stream('all', {\n",
        "  start: id(node),\n",
        "  steps: 50,\n",
        "  walks: 5,\n",
        "  mode:'node2vec',\n",
        "  inOut:0.6,\n",
        "  return:1.0\n",
        "})\n",
        "YIELD nodeIds\n",
        "RETURN [id in nodeIds | gds.util.asNode(id).name] as walks\n",
        "\"\"\"\n",
        "# Fetch data from neo4j\n",
        "with driver.session() as session:\n",
        "    walks = session.run(random_walks_query)\n",
        "    # Train the word2vec model\n",
        "    clean_walks = [row['walks'] for row in walks]\n",
        "model = Word2Vec(clean_walks, sg=1, window=5, size=100)\n",
        "end = time.clock()\n",
        "total = end - start\n",
        "print(\"{0:02f}s\".format(total))\n",
        "\n",
        "model.save(\"foodEmbedding_steps50.model\")\n",
        "\n",
        "\n"
      ],
      "execution_count": 20,
      "outputs": [
        {
          "output_type": "stream",
          "text": [
            "44.245715s\n"
          ],
          "name": "stdout"
        }
      ]
    },
    {
      "cell_type": "code",
      "metadata": {
        "colab": {
          "base_uri": "https://localhost:8080/"
        },
        "id": "ZMK66EIB3GPX",
        "outputId": "bf24bd0e-bb10-4cb8-95f9-60755604d557"
      },
      "source": [
        "model.most_similar('olive oil')"
      ],
      "execution_count": 21,
      "outputs": [
        {
          "output_type": "stream",
          "text": [
            "/usr/local/lib/python3.6/dist-packages/ipykernel_launcher.py:1: DeprecationWarning: Call to deprecated `most_similar` (Method will be removed in 4.0.0, use self.wv.most_similar() instead).\n",
            "  \"\"\"Entry point for launching an IPython kernel.\n"
          ],
          "name": "stderr"
        },
        {
          "output_type": "execute_result",
          "data": {
            "text/plain": [
              "[('parlsley', 0.5458523035049438),\n",
              " ('green onion tops', 0.5254658460617065),\n",
              " ('corn bread mix', 0.5242621898651123),\n",
              " ('dried figs', 0.5238118171691895),\n",
              " ('walnut halves', 0.5157029032707214),\n",
              " ('unpitted', 0.5103681087493896),\n",
              " ('rigatoni', 0.5016729235649109),\n",
              " ('flank steak', 0.5009630918502808),\n",
              " ('pork chops', 0.5009398460388184),\n",
              " ('cooked quinoa', 0.5005707740783691)]"
            ]
          },
          "metadata": {
            "tags": []
          },
          "execution_count": 21
        }
      ]
    },
    {
      "cell_type": "markdown",
      "metadata": {
        "id": "e0AfLWjS3dI-"
      },
      "source": [
        "##Walks"
      ]
    },
    {
      "cell_type": "code",
      "metadata": {
        "colab": {
          "base_uri": "https://localhost:8080/"
        },
        "id": "dU1b8xda39FR",
        "outputId": "db91649d-c1e6-47f4-bba1-3e88eb24b4a2"
      },
      "source": [
        "start = time.clock()\n",
        "# Define random walk query\n",
        "random_walks_query = \"\"\"\n",
        "MATCH (node)\n",
        "CALL gds.alpha.randomWalk.stream('all', {\n",
        "  start: id(node),\n",
        "  steps: 15,\n",
        "  walks: 3,\n",
        "  mode:'node2vec',\n",
        "  inOut:0.6,\n",
        "  return:1.0\n",
        "})\n",
        "YIELD nodeIds\n",
        "RETURN [id in nodeIds | gds.util.asNode(id).name] as walks\n",
        "\"\"\"\n",
        "# Fetch data from neo4j\n",
        "with driver.session() as session:\n",
        "    walks = session.run(random_walks_query)\n",
        "    # Train the word2vec model\n",
        "    clean_walks = [row['walks'] for row in walks]\n",
        "model = Word2Vec(clean_walks, sg=1, window=5, size=100)\n",
        "end = time.clock()\n",
        "total = end - start\n",
        "print(\"{0:02f}s\".format(total))\n",
        "\n",
        "model.save(\"foodEmbedding_walks3.model\")\n",
        "\n"
      ],
      "execution_count": 22,
      "outputs": [
        {
          "output_type": "stream",
          "text": [
            "8.507426s\n"
          ],
          "name": "stdout"
        }
      ]
    },
    {
      "cell_type": "code",
      "metadata": {
        "colab": {
          "base_uri": "https://localhost:8080/"
        },
        "id": "SO27pdyF39FS",
        "outputId": "a2e6912c-458b-4c88-fb81-15a9f900ab7f"
      },
      "source": [
        "model.most_similar('olive oil')"
      ],
      "execution_count": 23,
      "outputs": [
        {
          "output_type": "stream",
          "text": [
            "/usr/local/lib/python3.6/dist-packages/ipykernel_launcher.py:1: DeprecationWarning: Call to deprecated `most_similar` (Method will be removed in 4.0.0, use self.wv.most_similar() instead).\n",
            "  \"\"\"Entry point for launching an IPython kernel.\n"
          ],
          "name": "stderr"
        },
        {
          "output_type": "execute_result",
          "data": {
            "text/plain": [
              "[('basil leaves', 0.8340641260147095),\n",
              " ('fresh thyme', 0.8106650114059448),\n",
              " ('cherry tomatoes', 0.7979010343551636),\n",
              " ('rosemary', 0.7879591584205627),\n",
              " ('anchovy', 0.7878119945526123),\n",
              " ('Mediterranean Pasta with Broccoli', 0.7856109142303467),\n",
              " ('chicken livers', 0.7810992002487183),\n",
              " ('broccoli', 0.7801734805107117),\n",
              " ('roasted red peppers', 0.7781273126602173),\n",
              " ('flat leaf parsley leaves', 0.7774746417999268)]"
            ]
          },
          "metadata": {
            "tags": []
          },
          "execution_count": 23
        }
      ]
    },
    {
      "cell_type": "code",
      "metadata": {
        "colab": {
          "base_uri": "https://localhost:8080/"
        },
        "id": "O_X-TyRH3_Uq",
        "outputId": "006b3343-40f2-4137-b0df-30f545c3668c"
      },
      "source": [
        "start = time.clock()\n",
        "# Define random walk query\n",
        "random_walks_query = \"\"\"\n",
        "MATCH (node)\n",
        "CALL gds.alpha.randomWalk.stream('all', {\n",
        "  start: id(node),\n",
        "  steps: 15,\n",
        "  walks: 10,\n",
        "  mode:'node2vec',\n",
        "  inOut:0.6,\n",
        "  return:1.0\n",
        "})\n",
        "YIELD nodeIds\n",
        "RETURN [id in nodeIds | gds.util.asNode(id).name] as walks\n",
        "\"\"\"\n",
        "# Fetch data from neo4j\n",
        "with driver.session() as session:\n",
        "    walks = session.run(random_walks_query)\n",
        "    # Train the word2vec model\n",
        "    clean_walks = [row['walks'] for row in walks]\n",
        "model = Word2Vec(clean_walks, sg=1, window=5, size=100)\n",
        "end = time.clock()\n",
        "total = end - start\n",
        "print(\"{0:02f}s\".format(total))\n",
        "\n",
        "model.save(\"foodEmbedding_walks10.model\")\n",
        "\n"
      ],
      "execution_count": 24,
      "outputs": [
        {
          "output_type": "stream",
          "text": [
            "27.230416s\n"
          ],
          "name": "stdout"
        }
      ]
    },
    {
      "cell_type": "code",
      "metadata": {
        "colab": {
          "base_uri": "https://localhost:8080/"
        },
        "id": "s7GCtF__3_Ut",
        "outputId": "64839900-b65b-4a7a-a29b-d27ba06e003a"
      },
      "source": [
        "model.most_similar('olive oil')"
      ],
      "execution_count": 25,
      "outputs": [
        {
          "output_type": "stream",
          "text": [
            "/usr/local/lib/python3.6/dist-packages/ipykernel_launcher.py:1: DeprecationWarning: Call to deprecated `most_similar` (Method will be removed in 4.0.0, use self.wv.most_similar() instead).\n",
            "  \"\"\"Entry point for launching an IPython kernel.\n"
          ],
          "name": "stderr"
        },
        {
          "output_type": "execute_result",
          "data": {
            "text/plain": [
              "[('parlsley', 0.5299296975135803),\n",
              " ('dried chilli flakes', 0.5297034978866577),\n",
              " ('rigatoni', 0.5014475584030151),\n",
              " ('gem squash', 0.498526394367218),\n",
              " ('corn bread mix', 0.4982989728450775),\n",
              " ('Roasted Red Peppers With Anchovies And Olive Oil', 0.49650639295578003),\n",
              " ('octopus', 0.4945990741252899),\n",
              " ('aged balsamic vinegar', 0.4936733543872833),\n",
              " ('unpitted', 0.49271953105926514),\n",
              " ('serrano ham', 0.48888519406318665)]"
            ]
          },
          "metadata": {
            "tags": []
          },
          "execution_count": 25
        }
      ]
    },
    {
      "cell_type": "code",
      "metadata": {
        "colab": {
          "base_uri": "https://localhost:8080/"
        },
        "id": "kG_plpGT4APP",
        "outputId": "868bd71d-11b8-4075-953f-3de6fa840f58"
      },
      "source": [
        "start = time.clock()\n",
        "# Define random walk query\n",
        "random_walks_query = \"\"\"\n",
        "MATCH (node)\n",
        "CALL gds.alpha.randomWalk.stream('all', {\n",
        "  start: id(node),\n",
        "  steps: 15,\n",
        "  walks: 15,\n",
        "  mode:'node2vec',\n",
        "  inOut:0.6,\n",
        "  return:1.0\n",
        "})\n",
        "YIELD nodeIds\n",
        "RETURN [id in nodeIds | gds.util.asNode(id).name] as walks\n",
        "\"\"\"\n",
        "# Fetch data from neo4j\n",
        "with driver.session() as session:\n",
        "    walks = session.run(random_walks_query)\n",
        "    # Train the word2vec model\n",
        "    clean_walks = [row['walks'] for row in walks]\n",
        "model = Word2Vec(clean_walks, sg=1, window=5, size=100)\n",
        "end = time.clock()\n",
        "total = end - start\n",
        "print(\"{0:02f}s\".format(total))\n",
        "\n",
        "model.save(\"foodEmbedding_walks15.model\")\n",
        "\n"
      ],
      "execution_count": 26,
      "outputs": [
        {
          "output_type": "stream",
          "text": [
            "40.566639s\n"
          ],
          "name": "stdout"
        }
      ]
    },
    {
      "cell_type": "code",
      "metadata": {
        "colab": {
          "base_uri": "https://localhost:8080/"
        },
        "id": "g9r1ceKa4APQ",
        "outputId": "ad0f236d-f89c-40e9-e172-5d0183b23c18"
      },
      "source": [
        "model.most_similar('olive oil')"
      ],
      "execution_count": 27,
      "outputs": [
        {
          "output_type": "stream",
          "text": [
            "/usr/local/lib/python3.6/dist-packages/ipykernel_launcher.py:1: DeprecationWarning: Call to deprecated `most_similar` (Method will be removed in 4.0.0, use self.wv.most_similar() instead).\n",
            "  \"\"\"Entry point for launching an IPython kernel.\n"
          ],
          "name": "stderr"
        },
        {
          "output_type": "execute_result",
          "data": {
            "text/plain": [
              "[('corn bread mix', 0.5659034252166748),\n",
              " ('butterfish', 0.5439046621322632),\n",
              " ('Grissini With Anchovy Dip', 0.5052345991134644),\n",
              " ('chilli flakes', 0.4945030212402344),\n",
              " ('Penne Puttanesca', 0.492698609828949),\n",
              " ('gem squash', 0.4865618944168091),\n",
              " ('green onion tops', 0.47895368933677673),\n",
              " ('octopus', 0.47438377141952515),\n",
              " ('basic bruschetta', 0.47076982259750366),\n",
              " ('Pan-fried Butterfish', 0.46971628069877625)]"
            ]
          },
          "metadata": {
            "tags": []
          },
          "execution_count": 27
        }
      ]
    },
    {
      "cell_type": "markdown",
      "metadata": {
        "id": "7fju2i3f4J5A"
      },
      "source": [
        "##Pramaterty node2vec"
      ]
    },
    {
      "cell_type": "code",
      "metadata": {
        "colab": {
          "base_uri": "https://localhost:8080/"
        },
        "id": "mkdc5AuKn_od",
        "outputId": "ed357ea5-f750-49b3-b815-b313889517df"
      },
      "source": [
        "start = time.clock()\n",
        "# Define random walk query\n",
        "random_walks_query = \"\"\"\n",
        "MATCH (node)\n",
        "CALL gds.alpha.randomWalk.stream('all', {\n",
        "  start: id(node),\n",
        "  steps: 15,\n",
        "  walks: 5,\n",
        "  mode:'node2vec',\n",
        "  inOut:1.5,\n",
        "  return:0.5\n",
        "})\n",
        "YIELD nodeIds\n",
        "RETURN [id in nodeIds | gds.util.asNode(id).name] as walks\n",
        "\"\"\"\n",
        "# Fetch data from neo4j\n",
        "with driver.session() as session:\n",
        "    walks = session.run(random_walks_query)\n",
        "    # Train the word2vec model\n",
        "    clean_walks = [row['walks'] for row in walks]\n",
        "model = Word2Vec(clean_walks, sg=1, window=5, size=100)\n",
        "end = time.clock()\n",
        "total = end - start\n",
        "print(\"{0:02f}s\".format(total))\n",
        "\n",
        "model.save(\"foodEmbedding_sg_r05_io15.model\")\n",
        "\n"
      ],
      "execution_count": 9,
      "outputs": [
        {
          "output_type": "stream",
          "text": [
            "13.430950s\n"
          ],
          "name": "stdout"
        }
      ]
    },
    {
      "cell_type": "code",
      "metadata": {
        "colab": {
          "base_uri": "https://localhost:8080/"
        },
        "id": "Thyl6BRNn_os",
        "outputId": "a1767ae2-0b8e-43a5-92a3-ba8f65549b79"
      },
      "source": [
        "model.most_similar('olive oil')"
      ],
      "execution_count": 10,
      "outputs": [
        {
          "output_type": "stream",
          "text": [
            "/usr/local/lib/python3.6/dist-packages/ipykernel_launcher.py:1: DeprecationWarning: Call to deprecated `most_similar` (Method will be removed in 4.0.0, use self.wv.most_similar() instead).\n",
            "  \"\"\"Entry point for launching an IPython kernel.\n"
          ],
          "name": "stderr"
        },
        {
          "output_type": "execute_result",
          "data": {
            "text/plain": [
              "[('octopus', 0.610521137714386),\n",
              " ('basic bruschetta', 0.5958776473999023),\n",
              " ('tuna in olive oil', 0.5926709771156311),\n",
              " ('anchovy fillet', 0.5907862186431885),\n",
              " ('penne', 0.5906845331192017),\n",
              " ('rib eye steaks', 0.5900151133537292),\n",
              " ('chickpea flour', 0.5889759063720703),\n",
              " ('dried chilli flakes', 0.5827676057815552),\n",
              " ('short bread cookie', 0.5815433263778687),\n",
              " ('fusilli', 0.5812956094741821)]"
            ]
          },
          "metadata": {
            "tags": []
          },
          "execution_count": 10
        }
      ]
    },
    {
      "cell_type": "code",
      "metadata": {
        "colab": {
          "base_uri": "https://localhost:8080/"
        },
        "id": "r8lNMVKvoAej",
        "outputId": "fca2cd4f-ea12-4adc-8575-efe761c9dfc8"
      },
      "source": [
        "start = time.clock()\n",
        "# Define random walk query\n",
        "random_walks_query = \"\"\"\n",
        "MATCH (node)\n",
        "CALL gds.alpha.randomWalk.stream('all', {\n",
        "  start: id(node),\n",
        "  steps: 15,\n",
        "  walks: 5,\n",
        "  mode:'node2vec',\n",
        "  inOut:0.5,\n",
        "  return:1.5\n",
        "})\n",
        "YIELD nodeIds\n",
        "RETURN [id in nodeIds | gds.util.asNode(id).name] as walks\n",
        "\"\"\"\n",
        "# Fetch data from neo4j\n",
        "with driver.session() as session:\n",
        "    walks = session.run(random_walks_query)\n",
        "    # Train the word2vec model\n",
        "    clean_walks = [row['walks'] for row in walks]\n",
        "model = Word2Vec(clean_walks, sg=1, window=5, size=100)\n",
        "end = time.clock()\n",
        "total = end - start\n",
        "print(\"{0:02f}s\".format(total))\n",
        "\n",
        "model.save(\"foodEmbedding_sg_r15_io05.model\")\n",
        "\n"
      ],
      "execution_count": 17,
      "outputs": [
        {
          "output_type": "stream",
          "text": [
            "13.571535s\n"
          ],
          "name": "stdout"
        }
      ]
    },
    {
      "cell_type": "code",
      "metadata": {
        "colab": {
          "base_uri": "https://localhost:8080/"
        },
        "id": "YXTjmp3ooAej",
        "outputId": "02b838b0-8f6f-4f0e-fbed-b75672065cdd"
      },
      "source": [
        "model.most_similar('olive oil')"
      ],
      "execution_count": 18,
      "outputs": [
        {
          "output_type": "stream",
          "text": [
            "/usr/local/lib/python3.6/dist-packages/ipykernel_launcher.py:1: DeprecationWarning: Call to deprecated `most_similar` (Method will be removed in 4.0.0, use self.wv.most_similar() instead).\n",
            "  \"\"\"Entry point for launching an IPython kernel.\n"
          ],
          "name": "stderr"
        },
        {
          "output_type": "execute_result",
          "data": {
            "text/plain": [
              "[('chilli flakes', 0.6721237897872925),\n",
              " ('fusilli', 0.6694563627243042),\n",
              " ('corn bread mix', 0.6618563532829285),\n",
              " ('baby artichokes', 0.6561764478683472),\n",
              " ('extra lean ground beef', 0.6536005735397339),\n",
              " ('basic bruschetta', 0.6535323858261108),\n",
              " ('penne', 0.6534193754196167),\n",
              " ('unpitted', 0.6489623785018921),\n",
              " ('dried tomatoes', 0.6466060876846313),\n",
              " ('dried chilli flakes', 0.6464773416519165)]"
            ]
          },
          "metadata": {
            "tags": []
          },
          "execution_count": 18
        }
      ]
    },
    {
      "cell_type": "code",
      "metadata": {
        "colab": {
          "base_uri": "https://localhost:8080/"
        },
        "id": "2XoB60lOoS3k",
        "outputId": "63396629-2356-4f22-b6e5-243148990d57"
      },
      "source": [
        "start = time.clock()\n",
        "# Define random walk query\n",
        "random_walks_query = \"\"\"\n",
        "MATCH (node)\n",
        "CALL gds.alpha.randomWalk.stream('all', {\n",
        "  start: id(node),\n",
        "  steps: 15,\n",
        "  walks: 5,\n",
        "  mode:'node2vec',\n",
        "  inOut:1.5,\n",
        "  return:0.5\n",
        "})\n",
        "YIELD nodeIds\n",
        "RETURN [id in nodeIds | gds.util.asNode(id).name] as walks\n",
        "\"\"\"\n",
        "# Fetch data from neo4j\n",
        "with driver.session() as session:\n",
        "    walks = session.run(random_walks_query)\n",
        "    # Train the word2vec model\n",
        "    clean_walks = [row['walks'] for row in walks]\n",
        "model = Word2Vec(clean_walks, sg=0, window=5, size=100)\n",
        "end = time.clock()\n",
        "total = end - start\n",
        "print(\"{0:02f}s\".format(total))\n",
        "\n",
        "model.save(\"foodEmbedding_cbow_r05_io15.model\")\n",
        "\n"
      ],
      "execution_count": 13,
      "outputs": [
        {
          "output_type": "stream",
          "text": [
            "6.575958s\n"
          ],
          "name": "stdout"
        }
      ]
    },
    {
      "cell_type": "code",
      "metadata": {
        "colab": {
          "base_uri": "https://localhost:8080/"
        },
        "id": "shvQwVXLoS3r",
        "outputId": "c83afd94-9c62-4bd6-cbbb-838927b4491e"
      },
      "source": [
        "model.most_similar('olive oil')"
      ],
      "execution_count": 14,
      "outputs": [
        {
          "output_type": "stream",
          "text": [
            "/usr/local/lib/python3.6/dist-packages/ipykernel_launcher.py:1: DeprecationWarning: Call to deprecated `most_similar` (Method will be removed in 4.0.0, use self.wv.most_similar() instead).\n",
            "  \"\"\"Entry point for launching an IPython kernel.\n"
          ],
          "name": "stderr"
        },
        {
          "output_type": "execute_result",
          "data": {
            "text/plain": [
              "[('spaghetti', 0.7681190371513367),\n",
              " ('parmigiano reggiano cheese', 0.7625564336776733),\n",
              " ('kalamata olives', 0.7486042976379395),\n",
              " ('Croutons with Tapenade', 0.7325603365898132),\n",
              " ('baguette', 0.7295055985450745),\n",
              " ('fresh basil', 0.7254635095596313),\n",
              " ('crushed red pepper', 0.7177973985671997),\n",
              " ('Quinoa Puttanesca', 0.717643141746521),\n",
              " ('Vermicelli with Sauce alla Sofia', 0.7164179086685181),\n",
              " ('anchovy', 0.7139915227890015)]"
            ]
          },
          "metadata": {
            "tags": []
          },
          "execution_count": 14
        }
      ]
    },
    {
      "cell_type": "code",
      "metadata": {
        "colab": {
          "base_uri": "https://localhost:8080/"
        },
        "id": "VS4La4YzoT-_",
        "outputId": "0c71a7da-7153-4710-e9a8-2453f50aa141"
      },
      "source": [
        "start = time.clock()\n",
        "# Define random walk query\n",
        "random_walks_query = \"\"\"\n",
        "MATCH (node)\n",
        "CALL gds.alpha.randomWalk.stream('all', {\n",
        "  start: id(node),\n",
        "  steps: 15,\n",
        "  walks: 5,\n",
        "  mode:'node2vec',\n",
        "  inOut:0.5,\n",
        "  return:1.5\n",
        "})\n",
        "YIELD nodeIds\n",
        "RETURN [id in nodeIds | gds.util.asNode(id).name] as walks\n",
        "\"\"\"\n",
        "# Fetch data from neo4j\n",
        "with driver.session() as session:\n",
        "    walks = session.run(random_walks_query)\n",
        "    # Train the word2vec model\n",
        "    clean_walks = [row['walks'] for row in walks]\n",
        "model = Word2Vec(clean_walks, sg=0, window=5, size=100)\n",
        "end = time.clock()\n",
        "total = end - start\n",
        "print(\"{0:02f}s\".format(total))\n",
        "\n",
        "model.save(\"foodEmbedding_cbow_r15_io05.model\")\n",
        "\n"
      ],
      "execution_count": 19,
      "outputs": [
        {
          "output_type": "stream",
          "text": [
            "6.702697s\n"
          ],
          "name": "stdout"
        }
      ]
    },
    {
      "cell_type": "code",
      "metadata": {
        "colab": {
          "base_uri": "https://localhost:8080/"
        },
        "id": "YHc9-PdGoT-_",
        "outputId": "96682ffe-c471-4a9f-f2e7-87aeeba60d64"
      },
      "source": [
        "model.most_similar('olive oil')"
      ],
      "execution_count": 20,
      "outputs": [
        {
          "output_type": "stream",
          "text": [
            "/usr/local/lib/python3.6/dist-packages/ipykernel_launcher.py:1: DeprecationWarning: Call to deprecated `most_similar` (Method will be removed in 4.0.0, use self.wv.most_similar() instead).\n",
            "  \"\"\"Entry point for launching an IPython kernel.\n"
          ],
          "name": "stderr"
        },
        {
          "output_type": "execute_result",
          "data": {
            "text/plain": [
              "[('garlic cloves', 0.9598323106765747),\n",
              " ('kalamata olives', 0.9462919235229492),\n",
              " ('baguette', 0.90604168176651),\n",
              " ('oil cured black olives', 0.8997437953948975),\n",
              " ('cherry tomatoes', 0.8943390250205994),\n",
              " ('parmigiano reggiano cheese', 0.8922959566116333),\n",
              " ('black olives', 0.891531765460968),\n",
              " ('Muffuletta', 0.890328049659729),\n",
              " ('flat leaf parsley leaves', 0.8749189376831055),\n",
              " ('garlic', 0.8733569383621216)]"
            ]
          },
          "metadata": {
            "tags": []
          },
          "execution_count": 20
        }
      ]
    },
    {
      "cell_type": "markdown",
      "metadata": {
        "id": "RpGpVc7G4iqY"
      },
      "source": [
        "##Size"
      ]
    },
    {
      "cell_type": "code",
      "metadata": {
        "colab": {
          "base_uri": "https://localhost:8080/"
        },
        "id": "KWq4OrYx5EMf",
        "outputId": "770dc1dc-a099-42d2-bc6e-0870cdbbf9fc"
      },
      "source": [
        "start = time.clock()\n",
        "# Define random walk query\n",
        "random_walks_query = \"\"\"\n",
        "MATCH (node)\n",
        "CALL gds.alpha.randomWalk.stream('all', {\n",
        "  start: id(node),\n",
        "  steps: 15,\n",
        "  walks: 5,\n",
        "  mode:'node2vec',\n",
        "  inOut:0.6,\n",
        "  return:1.0\n",
        "})\n",
        "YIELD nodeIds\n",
        "RETURN [id in nodeIds | gds.util.asNode(id).name] as walks\n",
        "\"\"\"\n",
        "# Fetch data from neo4j\n",
        "with driver.session() as session:\n",
        "    walks = session.run(random_walks_query)\n",
        "    # Train the word2vec model\n",
        "    clean_walks = [row['walks'] for row in walks]\n",
        "model = Word2Vec(clean_walks, sg=1, window=5, size=50)\n",
        "end = time.clock()\n",
        "total = end - start\n",
        "print(\"{0:02f}s\".format(total))\n",
        "\n",
        "model.save(\"foodEmbedding_size50.model\")\n",
        "\n"
      ],
      "execution_count": 28,
      "outputs": [
        {
          "output_type": "stream",
          "text": [
            "WARNING:gensim.models.base_any2vec:consider setting layer size to a multiple of 4 for greater performance\n"
          ],
          "name": "stderr"
        },
        {
          "output_type": "stream",
          "text": [
            "15.832314s\n"
          ],
          "name": "stdout"
        }
      ]
    },
    {
      "cell_type": "code",
      "metadata": {
        "colab": {
          "base_uri": "https://localhost:8080/"
        },
        "id": "cEnoFMI45EM9",
        "outputId": "c1c29e8c-b1e8-4f54-dcce-8db8d2686589"
      },
      "source": [
        "model.most_similar('olive oil')"
      ],
      "execution_count": 29,
      "outputs": [
        {
          "output_type": "stream",
          "text": [
            "/usr/local/lib/python3.6/dist-packages/ipykernel_launcher.py:1: DeprecationWarning: Call to deprecated `most_similar` (Method will be removed in 4.0.0, use self.wv.most_similar() instead).\n",
            "  \"\"\"Entry point for launching an IPython kernel.\n"
          ],
          "name": "stderr"
        },
        {
          "output_type": "execute_result",
          "data": {
            "text/plain": [
              "[('corn bread mix', 0.7627268433570862),\n",
              " ('calamata olives', 0.7560825943946838),\n",
              " ('aleppo pepper', 0.7558659911155701),\n",
              " ('dried beans', 0.7459368109703064),\n",
              " ('octopus', 0.7452048659324646),\n",
              " ('serrano ham', 0.7305186986923218),\n",
              " ('dried chilli flakes', 0.7280954122543335),\n",
              " ('unpitted', 0.721984326839447),\n",
              " ('rigatoni', 0.72080397605896),\n",
              " ('baby arugula leaves', 0.7201208472251892)]"
            ]
          },
          "metadata": {
            "tags": []
          },
          "execution_count": 29
        }
      ]
    },
    {
      "cell_type": "code",
      "metadata": {
        "colab": {
          "base_uri": "https://localhost:8080/"
        },
        "id": "Y7heVC3-5FGY",
        "outputId": "f371422a-e2af-4500-987a-d9ceeffb2156"
      },
      "source": [
        "start = time.clock()\n",
        "# Define random walk query\n",
        "random_walks_query = \"\"\"\n",
        "MATCH (node)\n",
        "CALL gds.alpha.randomWalk.stream('all', {\n",
        "  start: id(node),\n",
        "  steps: 15,\n",
        "  walks: 5,\n",
        "  mode:'node2vec',\n",
        "  inOut:0.6,\n",
        "  return:1.0\n",
        "})\n",
        "YIELD nodeIds\n",
        "RETURN [id in nodeIds | gds.util.asNode(id).name] as walks\n",
        "\"\"\"\n",
        "# Fetch data from neo4j\n",
        "with driver.session() as session:\n",
        "    walks = session.run(random_walks_query)\n",
        "    # Train the word2vec model\n",
        "    clean_walks = [row['walks'] for row in walks]\n",
        "model = Word2Vec(clean_walks, sg=1, window=5, size=200)\n",
        "end = time.clock()\n",
        "total = end - start\n",
        "print(\"{0:02f}s\".format(total))\n",
        "\n",
        "model.save(\"foodEmbedding_size200.model\")\n",
        "\n"
      ],
      "execution_count": 30,
      "outputs": [
        {
          "output_type": "stream",
          "text": [
            "16.788485s\n"
          ],
          "name": "stdout"
        }
      ]
    },
    {
      "cell_type": "code",
      "metadata": {
        "colab": {
          "base_uri": "https://localhost:8080/"
        },
        "id": "MoxzLtvE5FGZ",
        "outputId": "ba5d4869-b56b-448e-e455-995a00745ed2"
      },
      "source": [
        "model.most_similar('olive oil')"
      ],
      "execution_count": 31,
      "outputs": [
        {
          "output_type": "stream",
          "text": [
            "/usr/local/lib/python3.6/dist-packages/ipykernel_launcher.py:1: DeprecationWarning: Call to deprecated `most_similar` (Method will be removed in 4.0.0, use self.wv.most_similar() instead).\n",
            "  \"\"\"Entry point for launching an IPython kernel.\n"
          ],
          "name": "stderr"
        },
        {
          "output_type": "execute_result",
          "data": {
            "text/plain": [
              "[('penne', 0.6590503454208374),\n",
              " ('lamb loin chops', 0.654988169670105),\n",
              " ('celery ribs', 0.6534550189971924),\n",
              " ('dried tomatoes', 0.6508963108062744),\n",
              " ('chianti', 0.6507312059402466),\n",
              " ('dried great northern beans', 0.6504547595977783),\n",
              " ('anchovy fillet', 0.6448917388916016),\n",
              " ('parlsley', 0.6442325115203857),\n",
              " ('dried chilli flakes', 0.6440320014953613),\n",
              " ('tuna in olive oil', 0.6439108848571777)]"
            ]
          },
          "metadata": {
            "tags": []
          },
          "execution_count": 31
        }
      ]
    },
    {
      "cell_type": "code",
      "metadata": {
        "colab": {
          "base_uri": "https://localhost:8080/"
        },
        "id": "Nsoj-VLZ5FwQ",
        "outputId": "20d53bce-9f9a-4251-cd07-838420ec07cc"
      },
      "source": [
        "start = time.clock()\n",
        "# Define random walk query\n",
        "random_walks_query = \"\"\"\n",
        "MATCH (node)\n",
        "CALL gds.alpha.randomWalk.stream('all', {\n",
        "  start: id(node),\n",
        "  steps: 15,\n",
        "  walks: 5,\n",
        "  mode:'node2vec',\n",
        "  inOut:0.6,\n",
        "  return:1.0\n",
        "})\n",
        "YIELD nodeIds\n",
        "RETURN [id in nodeIds | gds.util.asNode(id).name] as walks\n",
        "\"\"\"\n",
        "# Fetch data from neo4j\n",
        "with driver.session() as session:\n",
        "    walks = session.run(random_walks_query)\n",
        "    # Train the word2vec model\n",
        "    clean_walks = [row['walks'] for row in walks]\n",
        "model = Word2Vec(clean_walks, sg=1, window=5, size=300)\n",
        "end = time.clock()\n",
        "total = end - start\n",
        "print(\"{0:02f}s\".format(total))\n",
        "\n",
        "model.save(\"foodEmbedding_size300.model\")\n",
        "\n"
      ],
      "execution_count": 32,
      "outputs": [
        {
          "output_type": "stream",
          "text": [
            "20.384664s\n"
          ],
          "name": "stdout"
        }
      ]
    },
    {
      "cell_type": "code",
      "metadata": {
        "colab": {
          "base_uri": "https://localhost:8080/"
        },
        "id": "IeDhIErf5FwR",
        "outputId": "831febcd-1f22-48e3-9ffd-7487d9251852"
      },
      "source": [
        "model.most_similar('olive oil')"
      ],
      "execution_count": 33,
      "outputs": [
        {
          "output_type": "stream",
          "text": [
            "/usr/local/lib/python3.6/dist-packages/ipykernel_launcher.py:1: DeprecationWarning: Call to deprecated `most_similar` (Method will be removed in 4.0.0, use self.wv.most_similar() instead).\n",
            "  \"\"\"Entry point for launching an IPython kernel.\n"
          ],
          "name": "stderr"
        },
        {
          "output_type": "execute_result",
          "data": {
            "text/plain": [
              "[('penne', 0.6768109798431396),\n",
              " ('can whole peeled tomatoes', 0.6656123399734497),\n",
              " ('lamb loin chops', 0.6655267477035522),\n",
              " ('fusilli', 0.661930501461029),\n",
              " ('parlsley', 0.6586669683456421),\n",
              " ('anchovy fillet', 0.658545970916748),\n",
              " ('collard greens', 0.6583807468414307),\n",
              " ('elbow macaroni', 0.6572747230529785),\n",
              " ('celery ribs', 0.657006025314331),\n",
              " ('red onions', 0.6553921699523926)]"
            ]
          },
          "metadata": {
            "tags": []
          },
          "execution_count": 33
        }
      ]
    },
    {
      "cell_type": "markdown",
      "metadata": {
        "id": "9XZ2D0hC4pu0"
      },
      "source": [
        "##Window"
      ]
    },
    {
      "cell_type": "code",
      "metadata": {
        "colab": {
          "base_uri": "https://localhost:8080/"
        },
        "id": "ZJXzSpRY5oBU",
        "outputId": "91fff112-036f-4c96-e4d2-7ef810ccb0a7"
      },
      "source": [
        "start = time.clock()\n",
        "# Define random walk query\n",
        "random_walks_query = \"\"\"\n",
        "MATCH (node)\n",
        "CALL gds.alpha.randomWalk.stream('all', {\n",
        "  start: id(node),\n",
        "  steps: 15,\n",
        "  walks: 5,\n",
        "  mode:'node2vec',\n",
        "  inOut:0.6,\n",
        "  return:1.0\n",
        "})\n",
        "YIELD nodeIds\n",
        "RETURN [id in nodeIds | gds.util.asNode(id).name] as walks\n",
        "\"\"\"\n",
        "# Fetch data from neo4j\n",
        "with driver.session() as session:\n",
        "    walks = session.run(random_walks_query)\n",
        "    # Train the word2vec model\n",
        "    clean_walks = [row['walks'] for row in walks]\n",
        "model = Word2Vec(clean_walks, sg=1, window=3, size=100)\n",
        "end = time.clock()\n",
        "total = end - start\n",
        "print(\"{0:02f}s\".format(total))\n",
        "\n",
        "model.save(\"foodEmbedding_window3.model\")\n",
        "\n"
      ],
      "execution_count": 34,
      "outputs": [
        {
          "output_type": "stream",
          "text": [
            "10.971559s\n"
          ],
          "name": "stdout"
        }
      ]
    },
    {
      "cell_type": "code",
      "metadata": {
        "colab": {
          "base_uri": "https://localhost:8080/"
        },
        "id": "vO3ErjOR5oBl",
        "outputId": "83c28453-8483-4f1b-b934-b2e7bee1e7fa"
      },
      "source": [
        "model.most_similar('olive oil')"
      ],
      "execution_count": 35,
      "outputs": [
        {
          "output_type": "stream",
          "text": [
            "/usr/local/lib/python3.6/dist-packages/ipykernel_launcher.py:1: DeprecationWarning: Call to deprecated `most_similar` (Method will be removed in 4.0.0, use self.wv.most_similar() instead).\n",
            "  \"\"\"Entry point for launching an IPython kernel.\n"
          ],
          "name": "stderr"
        },
        {
          "output_type": "execute_result",
          "data": {
            "text/plain": [
              "[('baby arugula leaves', 0.6600899696350098),\n",
              " ('hazelnuts', 0.651681661605835),\n",
              " ('dried great northern beans', 0.650213360786438),\n",
              " ('anise seeds', 0.6459257006645203),\n",
              " ('lamb loin chops', 0.6458263993263245),\n",
              " ('red chiles', 0.6451155543327332),\n",
              " ('dried chilli flakes', 0.6434712409973145),\n",
              " ('basic bruschetta', 0.6367380023002625),\n",
              " ('kalamata olives', 0.635761022567749),\n",
              " ('soak', 0.6334322690963745)]"
            ]
          },
          "metadata": {
            "tags": []
          },
          "execution_count": 35
        }
      ]
    },
    {
      "cell_type": "code",
      "metadata": {
        "colab": {
          "base_uri": "https://localhost:8080/"
        },
        "id": "WF79YiQD5oUq",
        "outputId": "161e4a39-583a-4147-f716-cb1632334dbf"
      },
      "source": [
        "start = time.clock()\n",
        "# Define random walk query\n",
        "random_walks_query = \"\"\"\n",
        "MATCH (node)\n",
        "CALL gds.alpha.randomWalk.stream('all', {\n",
        "  start: id(node),\n",
        "  steps: 15,\n",
        "  walks: 5,\n",
        "  mode:'node2vec',\n",
        "  inOut:0.6,\n",
        "  return:1.0\n",
        "})\n",
        "YIELD nodeIds\n",
        "RETURN [id in nodeIds | gds.util.asNode(id).name] as walks\n",
        "\"\"\"\n",
        "# Fetch data from neo4j\n",
        "with driver.session() as session:\n",
        "    walks = session.run(random_walks_query)\n",
        "    # Train the word2vec model\n",
        "    clean_walks = [row['walks'] for row in walks]\n",
        "model = Word2Vec(clean_walks, sg=1, window=10, size=100)\n",
        "end = time.clock()\n",
        "total = end - start\n",
        "print(\"{0:02f}s\".format(total))\n",
        "\n",
        "model.save(\"foodEmbedding_window10.model\")\n",
        "\n"
      ],
      "execution_count": 36,
      "outputs": [
        {
          "output_type": "stream",
          "text": [
            "19.372517s\n"
          ],
          "name": "stdout"
        }
      ]
    },
    {
      "cell_type": "code",
      "metadata": {
        "colab": {
          "base_uri": "https://localhost:8080/"
        },
        "id": "BLaWf5Cr5oUt",
        "outputId": "40921682-876f-4b0b-d477-bd47e19556f5"
      },
      "source": [
        "model.most_similar('olive oil')"
      ],
      "execution_count": 37,
      "outputs": [
        {
          "output_type": "stream",
          "text": [
            "/usr/local/lib/python3.6/dist-packages/ipykernel_launcher.py:1: DeprecationWarning: Call to deprecated `most_similar` (Method will be removed in 4.0.0, use self.wv.most_similar() instead).\n",
            "  \"\"\"Entry point for launching an IPython kernel.\n"
          ],
          "name": "stderr"
        },
        {
          "output_type": "execute_result",
          "data": {
            "text/plain": [
              "[('dandelion greens', 0.6831833124160767),\n",
              " ('pork shoulder roast', 0.6806778311729431),\n",
              " ('branzini', 0.6769661903381348),\n",
              " ('green onion tops', 0.6761825084686279),\n",
              " ('bucatini pasta', 0.6747177839279175),\n",
              " ('skinless boneless chicken breasts', 0.6744940280914307),\n",
              " ('prunes', 0.6734331846237183),\n",
              " ('dried tomatoes', 0.672508716583252),\n",
              " ('sundried tomatoes', 0.6707227230072021),\n",
              " ('tomatillo', 0.668376088142395)]"
            ]
          },
          "metadata": {
            "tags": []
          },
          "execution_count": 37
        }
      ]
    },
    {
      "cell_type": "code",
      "metadata": {
        "colab": {
          "base_uri": "https://localhost:8080/"
        },
        "id": "P0OER-_G5oz7",
        "outputId": "455b3df2-8e40-4783-d4f0-3d99744efe80"
      },
      "source": [
        "start = time.clock()\n",
        "# Define random walk query\n",
        "random_walks_query = \"\"\"\n",
        "MATCH (node)\n",
        "CALL gds.alpha.randomWalk.stream('all', {\n",
        "  start: id(node),\n",
        "  steps: 15,\n",
        "  walks: 5,\n",
        "  mode:'node2vec',\n",
        "  inOut:0.6,\n",
        "  return:1.0\n",
        "})\n",
        "YIELD nodeIds\n",
        "RETURN [id in nodeIds | gds.util.asNode(id).name] as walks\n",
        "\"\"\"\n",
        "# Fetch data from neo4j\n",
        "with driver.session() as session:\n",
        "    walks = session.run(random_walks_query)\n",
        "    # Train the word2vec model\n",
        "    clean_walks = [row['walks'] for row in walks]\n",
        "model = Word2Vec(clean_walks, sg=1, window=15, size=100)\n",
        "end = time.clock()\n",
        "total = end - start\n",
        "print(\"{0:02f}s\".format(total))\n",
        "\n",
        "model.save(\"foodEmbedding_window15.model\")\n",
        "\n"
      ],
      "execution_count": 38,
      "outputs": [
        {
          "output_type": "stream",
          "text": [
            "22.804850s\n"
          ],
          "name": "stdout"
        }
      ]
    },
    {
      "cell_type": "code",
      "metadata": {
        "colab": {
          "base_uri": "https://localhost:8080/"
        },
        "id": "o8qyk4QZ5o0F",
        "outputId": "c26eeee0-85c9-46fd-dc3a-e4440b6ae99f"
      },
      "source": [
        "model.most_similar('olive oil')"
      ],
      "execution_count": 39,
      "outputs": [
        {
          "output_type": "stream",
          "text": [
            "/usr/local/lib/python3.6/dist-packages/ipykernel_launcher.py:1: DeprecationWarning: Call to deprecated `most_similar` (Method will be removed in 4.0.0, use self.wv.most_similar() instead).\n",
            "  \"\"\"Entry point for launching an IPython kernel.\n"
          ],
          "name": "stderr"
        },
        {
          "output_type": "execute_result",
          "data": {
            "text/plain": [
              "[('chanterelles', 0.6593757271766663),\n",
              " ('broccoli raab', 0.656437873840332),\n",
              " ('walnut halves', 0.6509329080581665),\n",
              " ('red chilis', 0.6469266414642334),\n",
              " ('dried chilli flakes', 0.646693229675293),\n",
              " ('pork chops', 0.6450908184051514),\n",
              " ('ditalini', 0.6407184600830078),\n",
              " ('yellow wax beans', 0.640357494354248),\n",
              " ('wahoo', 0.6397199034690857),\n",
              " ('strained yogurt', 0.6387580633163452)]"
            ]
          },
          "metadata": {
            "tags": []
          },
          "execution_count": 39
        }
      ]
    },
    {
      "cell_type": "markdown",
      "metadata": {
        "id": "IBQbckgA4yAk"
      },
      "source": [
        "##Typ"
      ]
    },
    {
      "cell_type": "code",
      "metadata": {
        "colab": {
          "base_uri": "https://localhost:8080/"
        },
        "id": "SOdDOfGj6Mt1",
        "outputId": "cb31fe1a-6bba-4992-bb80-61e93386c54b"
      },
      "source": [
        "start = time.clock()\n",
        "# Define random walk query\n",
        "random_walks_query = \"\"\"\n",
        "MATCH (node)\n",
        "CALL gds.alpha.randomWalk.stream('all', {\n",
        "  start: id(node),\n",
        "  steps: 15,\n",
        "  walks: 5,\n",
        "  mode:'node2vec',\n",
        "  inOut:0.6,\n",
        "  return:1.0\n",
        "})\n",
        "YIELD nodeIds\n",
        "RETURN [id in nodeIds | gds.util.asNode(id).name] as walks\n",
        "\"\"\"\n",
        "# Fetch data from neo4j\n",
        "with driver.session() as session:\n",
        "    walks = session.run(random_walks_query)\n",
        "    # Train the word2vec model\n",
        "    clean_walks = [row['walks'] for row in walks]\n",
        "model = Word2Vec(clean_walks, sg=0, window=5, size=100)\n",
        "end = time.clock()\n",
        "total = end - start\n",
        "print(\"{0:02f}s\".format(total))\n",
        "\n",
        "model.save(\"foodEmbedding_default0.model\")\n",
        "\n"
      ],
      "execution_count": 18,
      "outputs": [
        {
          "output_type": "stream",
          "text": [
            "5.694632s\n"
          ],
          "name": "stdout"
        }
      ]
    },
    {
      "cell_type": "code",
      "metadata": {
        "colab": {
          "base_uri": "https://localhost:8080/"
        },
        "id": "reGkRzqm6MuS",
        "outputId": "e0e0318e-e5ff-4ac9-f512-70b5c718abc4"
      },
      "source": [
        "model.most_similar('olive oil')"
      ],
      "execution_count": 19,
      "outputs": [
        {
          "output_type": "stream",
          "text": [
            "/usr/local/lib/python3.6/dist-packages/ipykernel_launcher.py:1: DeprecationWarning: Call to deprecated `most_similar` (Method will be removed in 4.0.0, use self.wv.most_similar() instead).\n",
            "  \"\"\"Entry point for launching an IPython kernel.\n"
          ],
          "name": "stderr"
        },
        {
          "output_type": "execute_result",
          "data": {
            "text/plain": [
              "[('garlic cloves', 0.9590425491333008),\n",
              " ('kalamata olives', 0.9212204217910767),\n",
              " ('basil leaves', 0.858863890171051),\n",
              " ('cherry tomatoes', 0.8536038398742676),\n",
              " ('parmigiano reggiano cheese', 0.8515790700912476),\n",
              " ('Mediterranean Salad Platter', 0.8429174423217773),\n",
              " ('Greek Salad With Cherry Tomatoes', 0.840489387512207),\n",
              " ('Muffuletta', 0.837519109249115),\n",
              " ('baguette', 0.8374773263931274),\n",
              " ('bucatini', 0.834338903427124)]"
            ]
          },
          "metadata": {
            "tags": []
          },
          "execution_count": 19
        }
      ]
    },
    {
      "cell_type": "markdown",
      "metadata": {
        "id": "8lKRFTCq6DWU"
      },
      "source": [
        "#Niedeterminizm"
      ]
    },
    {
      "cell_type": "code",
      "metadata": {
        "colab": {
          "base_uri": "https://localhost:8080/"
        },
        "id": "HE7LsNCY61Yt",
        "outputId": "71a80c5e-ec37-4be5-8a32-99c8ee24b237"
      },
      "source": [
        "start = time.clock()\n",
        "# Define random walk query\n",
        "random_walks_query = \"\"\"\n",
        "MATCH (node)\n",
        "CALL gds.alpha.randomWalk.stream('all', {\n",
        "  start: id(node),\n",
        "  steps: 15,\n",
        "  walks: 5,\n",
        "  mode:'node2vec',\n",
        "  inOut:0.6,\n",
        "  return:1.0\n",
        "})\n",
        "YIELD nodeIds\n",
        "RETURN [id in nodeIds | gds.util.asNode(id).name] as walks\n",
        "\"\"\"\n",
        "# Fetch data from neo4j\n",
        "with driver.session() as session:\n",
        "    walks = session.run(random_walks_query)\n",
        "    # Train the word2vec model\n",
        "    clean_walks = [row['walks'] for row in walks]\n",
        "model = Word2Vec(clean_walks, sg=1, window=5, size=100)\n",
        "end = time.clock()\n",
        "total = end - start\n",
        "print(\"{0:02f}s\".format(total))\n",
        "\n",
        "model.save(\"foodEmbedding_niedet1.model\")\n",
        "\n",
        "\n"
      ],
      "execution_count": 64,
      "outputs": [
        {
          "output_type": "stream",
          "text": [
            "13.886087s\n"
          ],
          "name": "stdout"
        }
      ]
    },
    {
      "cell_type": "code",
      "metadata": {
        "colab": {
          "base_uri": "https://localhost:8080/"
        },
        "id": "PAKVMG9V61Yz",
        "outputId": "97556973-81a4-477e-b801-4ce58b5d0c71"
      },
      "source": [
        "model.most_similar('olive oil')"
      ],
      "execution_count": 65,
      "outputs": [
        {
          "output_type": "stream",
          "text": [
            "/usr/local/lib/python3.6/dist-packages/ipykernel_launcher.py:1: DeprecationWarning: Call to deprecated `most_similar` (Method will be removed in 4.0.0, use self.wv.most_similar() instead).\n",
            "  \"\"\"Entry point for launching an IPython kernel.\n"
          ],
          "name": "stderr"
        },
        {
          "output_type": "execute_result",
          "data": {
            "text/plain": [
              "[('roasted red peppers', 0.6548368334770203),\n",
              " ('canned cannellini beans', 0.6545486450195312),\n",
              " ('octopus', 0.6504326462745667),\n",
              " ('parlsley', 0.6487253904342651),\n",
              " ('chianti', 0.6480021476745605),\n",
              " ('globe eggplant', 0.6448535323143005),\n",
              " ('fusilli', 0.644520103931427),\n",
              " ('lamb loin chops', 0.6434299945831299),\n",
              " ('dried tomatoes', 0.6428088545799255),\n",
              " ('rigatoni', 0.6423267126083374)]"
            ]
          },
          "metadata": {
            "tags": []
          },
          "execution_count": 65
        }
      ]
    },
    {
      "cell_type": "code",
      "metadata": {
        "colab": {
          "base_uri": "https://localhost:8080/"
        },
        "id": "HOBkN5kb62pL",
        "outputId": "5f4183de-482c-49fc-ce0f-54aacc62ee34"
      },
      "source": [
        "start = time.clock()\n",
        "# Define random walk query\n",
        "random_walks_query = \"\"\"\n",
        "MATCH (node)\n",
        "CALL gds.alpha.randomWalk.stream('all', {\n",
        "  start: id(node),\n",
        "  steps: 15,\n",
        "  walks: 5,\n",
        "  mode:'node2vec',\n",
        "  inOut:0.6,\n",
        "  return:1.0\n",
        "})\n",
        "YIELD nodeIds\n",
        "RETURN [id in nodeIds | gds.util.asNode(id).name] as walks\n",
        "\"\"\"\n",
        "# Fetch data from neo4j\n",
        "with driver.session() as session:\n",
        "    walks = session.run(random_walks_query)\n",
        "    # Train the word2vec model\n",
        "    clean_walks = [row['walks'] for row in walks]\n",
        "model = Word2Vec(clean_walks, sg=1, window=5, size=100)\n",
        "end = time.clock()\n",
        "total = end - start\n",
        "print(\"{0:02f}s\".format(total))\n",
        "\n",
        "model.save(\"foodEmbedding_niedet2.model\")\n",
        "\n",
        "\n"
      ],
      "execution_count": 66,
      "outputs": [
        {
          "output_type": "stream",
          "text": [
            "13.987671s\n"
          ],
          "name": "stdout"
        }
      ]
    },
    {
      "cell_type": "code",
      "metadata": {
        "colab": {
          "base_uri": "https://localhost:8080/"
        },
        "id": "t9RfyzjB62pM",
        "outputId": "c1945a79-330a-4373-e0a3-a38a8fee3d16"
      },
      "source": [
        "model.most_similar('olive oil')"
      ],
      "execution_count": 67,
      "outputs": [
        {
          "output_type": "stream",
          "text": [
            "/usr/local/lib/python3.6/dist-packages/ipykernel_launcher.py:1: DeprecationWarning: Call to deprecated `most_similar` (Method will be removed in 4.0.0, use self.wv.most_similar() instead).\n",
            "  \"\"\"Entry point for launching an IPython kernel.\n"
          ],
          "name": "stderr"
        },
        {
          "output_type": "execute_result",
          "data": {
            "text/plain": [
              "[('whole garlic cloves', 0.6647781133651733),\n",
              " ('lamb loin chops', 0.6602407097816467),\n",
              " ('tri tip roast', 0.6596821546554565),\n",
              " ('chickpea flour', 0.6538629531860352),\n",
              " ('wahoo', 0.6509428024291992),\n",
              " ('chilli flakes', 0.6505325436592102),\n",
              " ('red chiles', 0.6501350402832031),\n",
              " ('anise seeds', 0.6495939493179321),\n",
              " ('celery ribs', 0.6484204530715942),\n",
              " ('penne', 0.6468736529350281)]"
            ]
          },
          "metadata": {
            "tags": []
          },
          "execution_count": 67
        }
      ]
    },
    {
      "cell_type": "markdown",
      "metadata": {
        "id": "O2FPfB4_6Ov8"
      },
      "source": [
        "#Inne"
      ]
    },
    {
      "cell_type": "code",
      "metadata": {
        "colab": {
          "base_uri": "https://localhost:8080/"
        },
        "id": "KvdqSKqydzta",
        "outputId": "6810cd43-7f9f-4fd1-88a2-1576d9251df2"
      },
      "source": [
        "model.wv['olive oil']"
      ],
      "execution_count": null,
      "outputs": [
        {
          "output_type": "execute_result",
          "data": {
            "text/plain": [
              "array([-0.15738748, -0.1419574 , -0.11409396,  0.01048606, -0.24764684,\n",
              "        0.01759799, -0.1062655 , -0.26186362, -0.09348107,  0.4380587 ,\n",
              "        0.09442838,  0.17305371,  0.4261563 , -0.31597754, -0.05814086,\n",
              "       -0.4174211 ,  0.07376011,  0.14177975, -0.02243035,  0.15933947,\n",
              "        0.22278358, -0.0129896 ,  0.10233842,  0.10350949,  0.25057516,\n",
              "       -0.14087789, -0.05341324,  0.01133251, -0.1369431 , -0.41712046,\n",
              "        0.1322847 , -0.08088497,  0.2566648 ,  0.02181527,  0.0047138 ,\n",
              "        0.01825834,  0.0513213 , -0.28244835, -0.03589903, -0.01623186,\n",
              "        0.02182375, -0.17915241, -0.04042555,  0.2693285 ,  0.4246729 ,\n",
              "        0.08029356, -0.00816643, -0.19569679, -0.22700413, -0.2910635 ,\n",
              "        0.4195272 ,  0.1343985 ,  0.05375957,  0.05433673, -0.13591966,\n",
              "        0.10230035,  0.4201857 , -0.13684915, -0.08646296,  0.12055176,\n",
              "        0.22700074, -0.08864314, -0.34963968,  0.19826956,  0.16771397,\n",
              "       -0.18007088,  0.16804825,  0.1470974 , -0.08083645, -0.08702891,\n",
              "        0.0491611 ,  0.173872  ,  0.19980818, -0.18167585, -0.3675302 ,\n",
              "        0.00564856, -0.6547977 , -0.08787473, -0.11303112,  0.19199173,\n",
              "        0.1592631 ,  0.13393413,  0.00094535, -0.22870299, -0.30022487,\n",
              "       -0.00246105,  0.25153586, -0.17079885, -0.05638419,  0.18259875,\n",
              "        0.07591639, -0.19006869, -0.15784898,  0.29250437,  0.04507639,\n",
              "        0.20127137, -0.07742873, -0.11331183, -0.50048697, -0.38587275],\n",
              "      dtype=float32)"
            ]
          },
          "metadata": {
            "tags": []
          },
          "execution_count": 8
        }
      ]
    },
    {
      "cell_type": "code",
      "metadata": {
        "colab": {
          "base_uri": "https://localhost:8080/"
        },
        "id": "mzQ8R-VgR0Hj",
        "outputId": "53f13219-f1fc-473c-f770-949852ead455"
      },
      "source": [
        "print(clean_walks[:1000])"
      ],
      "execution_count": 73,
      "outputs": [
        {
          "output_type": "stream",
          "text": [
            "[['Anchovies Appetizer With Breadcrumbs & Scallions', 'anchovies', 'Bagna Cauda', 'side dish', 'Fresh Bloody Mary', 'flat leaf parsley leaves', 'Grilled Calamari on a Bed of White Beans', 'yellow onion', 'Saffron Sea Bass Bowl', 'chicken broth', 'Mixed Seafood Risotto', 'onion', 'Baked Cod With Mustard Crumbs', 'dijon mustard', 'Salsa Verde Recipe', 'side dish'], ['Anchovies Appetizer With Breadcrumbs & Scallions', 'antipasto', 'Salmon Club with Avocado Butter', 'salmon fillet', 'Chili-Rubbed Salmon', 'oregano', 'Kitchen Play: Salmon with Herbed Butter and Burst Tomato Sauce', 'shallot', 'Foil-Baked Sea Bass with Spinach', 'salt and pepper', 'Dinner Tonight: Kale Caesar Salad with Anchovies', 'main dish', 'Sake-Steamed Halibut with Dilled Carrots', 'dinner', 'Spring (?) Herb Cooking', 'shallots'], ['Anchovies Appetizer With Breadcrumbs & Scallions', 'snack', 'Stuffed Cherry Peppers', 'capers', 'Caponata-stuffed Zucchini', 'lemon wedges', 'Cod with Artichokes and Chickpeas', 'canned chickpeas', 'Dinner Tonight: Marinated Chickpea Salad', 'juice of lemon', 'Lemon Sole With Miso Lemon Butter & Spring Greens', 'main dish', 'Sake Steamed Bass', 'main course', 'Saffron Shrimp and Stuffed Cherry Peppers', 'shrimp'], ['Anchovies Appetizer With Breadcrumbs & Scallions', 'antipasto', 'Tapenade Crostini', 'baguette', 'Crostini With Tapenade', 'fresh flat leaf parsley', 'Sea Salt-Crusted Pink Snapper with Ice Wine Nage', 'juice of lemon', 'Veal Cutlets With Lemon Caper Sauce', 'corn starch', 'Veal Cutlets With Lemon Caper Sauce', 'chicken stock', 'Paella', 'turmeric', 'Kedgeree', 'cream'], ['Anchovies Appetizer With Breadcrumbs & Scallions', 'snack', 'Oven-roasted Trout With Potatoes', 'salt and pepper', 'Pan-Seared Sea Bass with Olives, Tomatoes and Oregano Brown Rice', 'sea bass fillets', 'Sea Bass Fillets with Parsley Sauce', 'lunch', 'Miso And Soy Chilean Sea Bass', 'dinner', 'Poached Salmon With Corn And White Wine–butter Sauce', 'dry white wine', 'Cod Poached in Tomato-Saffron Broth', 'salt', 'Sautéed Striped Bass with Summer Vegetables', 'fresh basil'], ['Anchovies Appetizer With Breadcrumbs & Scallions', 'antipasti', 'Sliced Baguette With Radishes And Anchovy Butter', 'radishes', 'Striped Bass with Saffron Vegetables and Spiced Broccoli Rabe', 'main dish', 'Whole Roasted Megrim Sole With Caper Parsley Butter', 'butter', 'Dinner Tonight: Mackerel with Currants', 'lunch', 'Pan-Roasted Striped Bass with Roasted Artichokes, Mushrooms, and Tomato Marmalade', 'sundried tomato halves', 'Pan-Roasted Striped Bass with Roasted Artichokes, Mushrooms, and Tomato Marmalade', 'striped bass', 'Fish With Summer Squash', 'zucchini'], ['Anchovies Appetizer With Breadcrumbs & Scallions', 'appetizer', 'Penne Puttanesca', 'capers', 'Texas Smoked Salmon Tartare', 'ground cumin', 'Grilling: Striped Bass with Roasted Salsa', 'oregano', 'Anchovy and White Bean Pizza', 'canned anchovies', 'Broccoflower with Anchovies and Garlic', 'canned anchovies', 'The Pastoral Pleasure Of Bagna Càuda', 'side dish', 'Salmon Rillettes', 'bell pepper'], ['Anchovies Appetizer With Breadcrumbs & Scallions', \"hor d'oeuvre\", 'Salmon Club with Avocado Butter', 'unsalted butter', 'Hake With Wild Mushrooms', 'flat leaf parsley', 'Grilled Fish with Sauce au Chien', 'salt and pepper', 'Sea Bass With Asparagus', 'shiitake mushrooms', 'Sautéed Monkfish with Leeks and Shiitakes', 'shiitake mushrooms', 'Cod with Artichokes and Chickpeas', 'dinner', \"Sea Bass all'Acqua Pazza\", 'onion'], ['Anchovies Appetizer With Breadcrumbs & Scallions', 'bread', 'Grilled Mozzarella Sandwich With Anchovy-olive Tapenade', 'garlic clove', 'Crudités And Shrimp With Green Goddess Dip', 'fresh tarragon', 'Tilapia With Tarragon And Sweet Corn Sauce', 'half and half', 'Tilapia With Tarragon And Sweet Corn Sauce', 'shallots', 'Salmon with Fennel and Pernod', 'lunch', 'Spaghetti Puttanesca', 'dried chilli flakes', 'Spaghetti Puttanesca', 'tomatoes'], ['Anchovies Appetizer With Breadcrumbs & Scallions', 'garlic clove', 'Turkey Ossobuco', 'dry white wine', 'Pan-Seared Salmon with Cherry Tomatoâ€“Ginger Sauce', 'garlic', 'Grilled Halibut with Smashed Fingerlings and Tomato Butter', 'main course', 'Sautéed Bass with Lemongrass', 'dinner', 'Spaghetti With Walnuts And Anchovies', 'main dish', 'Seared Scallops with Basil, Anchovy and Sweet Corn Pudding', 'whole milk', 'Seared Scallops with Basil, Anchovy and Sweet Corn Pudding', 'corn kernels'], ['Anchovies Appetizer With Breadcrumbs & Scallions', 'snack', 'Lemon Herb Fish', 'tilapia fillets', 'Grilled Tilapia with Lemon Butter, Capers and Orzo', 'capers', 'Grilled Fish and \"Chips', 'striped bass', 'Sautéed Striped Bass with Summer Vegetables', 'main dish', 'use real butter', 'dinner', 'Tempura Sardines with Tonnatto Sauce', 'main dish', 'Crispy Baked Cod', 'main course'], ['Anchovies Appetizer With Breadcrumbs & Scallions', 'bread', 'Sea Bass with Red Pepper and Olive Tapenade', 'main dish', 'Smoky Maple-glazed Salmon Supper', 'carrots', 'Roasted Monkfish with Curried Lentils and Browned Butter Cauliflower', 'lemon peel', 'Pan-roasted Swordfish Steaks With Mixed-peppercorn Butter', 'main course', 'Pan Fried Striped Bass', 'salt', 'Baked Gefilte Fish', 'dinner', 'Roasted Halibut With Bacon On Mashed Potatoes With Cabbage Recipe', 'main dish'], ['Anchovies Appetizer With Breadcrumbs & Scallions', 'snack', 'Toasted Parmesan And Garlic Oil Caesar Salad', 'egg yolk', 'Green Goddess Salad With Romaine, Cucumbers, And Avocado', 'salad', 'Crab Salad with Caesar Vinaigrette', 'worcestershire sauce', 'Caesar Salad', 'white wine vinegar', 'Warm Tuna Salad Niçoise', 'low sodium chicken broth', 'Chickpea and Pasta Soup', 'fresh rosemary', 'Oven-roasted Striped Bass with Peppers', 'new'], ['Anchovies Appetizer With Breadcrumbs & Scallions', 'starter', 'Anchovy Fennel Toasts with Roasted Red Peppers', 'red bell peppers', 'Red Bell Pepper and Eggplant Tian with Anchovies', 'side dish', 'Pan-roasted East Coast Skate, Anchovy And Broccoli Pickle', 'ice water', 'Butternut Squash Tart With Anchovy Vinaigrette', 'olive oil', 'Broccoli Rabe Saute With Chicken Sausage', 'starter', 'Grilled Sausage Appetizer With Gremolata', 'long pasta', 'Sake Steamed Bass', 'striped bass'], ['Anchovies Appetizer With Breadcrumbs & Scallions', 'bread', 'Dinner Tonight: Cod with Tarragon-Anchovy Breadcrumbs', 'lunch', 'Chicken with Green Olives', 'parsley', 'Ribeye Steaks and Mushrooms with a Herb, Citrus, and Anchovy Butter', 'dinner', 'Summer Ceviche', 'limes', 'Baked Sea Bass With Herbs And Lime', 'salt & pepper', \"Sneaky Spinach, 'shrooms And Bowties\", 'bread crumbs', 'Stuffed Flank Steak', 'salami'], ['Anchovies Appetizer With Breadcrumbs & Scallions', 'antipasto', 'Miniature Onion Tartlets', 'appetizer', 'Salmon Club with Avocado Butter', 'antipasti', 'Grilled Miso-glazed Sea Bass With Japanese Cucumber Salad', 'green onions', 'Crab Crusted Grouper', 'main dish', 'Roasted Mushroom-Stuffed Striped Bass', 'parsley', 'Orange, Parsley, And Walnut Salad', \"hor d'oeuvre\", 'Baked Sole With Asparagus', 'appetizer'], ['Anchovies Appetizer With Breadcrumbs & Scallions', 'antipasto', 'Broccoli Rabe With Garlic & Anchovies', \"hor d'oeuvre\", 'Roasted Halibut With Pickled Beets (stegte Helleflynder Med Rød', 'starter', 'Stilton Cheese Puffs', 'appetizer', 'Spiced Cod With Broccoli-quinoa Pilaf', 'appetizer', 'Tagliatelle With Purple Sprouting Broccoli, Anchovies And Pecorino', 'anchovies', 'Pasta With Anchovy Bread Crumb Topping', 'olive oil', 'Pumpkin Pasta', 'honey'], ['Anchovies Appetizer With Breadcrumbs & Scallions', 'snack', 'Pissaladière', \"hor d'oeuvre\", 'Roast Sea Bass With Chilli & Lime Leaves', 'antipasti', 'Pissaladiere', 'filo dough', 'Pissaladiere', 'snack', 'Whole Branzino In Grape Leaves With Zucchini, Olives, And Mint', 'antipasti', 'Whole Striped Bass With Fennel And Tomato', 'starter', 'Slow-roasted Cherry Tomato Bruschetta', 'antipasto'], ['Anchovies Appetizer With Breadcrumbs & Scallions', 'snack', 'Pissaladiere', 'garlic', 'Grilled Swordfish With Tangy Compound Butter', 'dinner', 'Anchovy and Rosemary Roasted Lamb', 'fresh rosemary', 'Grilled Monkfish Recipe (with Sweet Runner Bean Stew)', 'runner beans', 'Grilled Monkfish Recipe (with Sweet Runner Bean Stew)', 'main course', 'Super Simple Salmon', 'lemon wedges', 'Butter Fried Flounder Roe', 'pecorino'], ['Anchovies Appetizer With Breadcrumbs & Scallions', 'antipasto', 'Favas, Green Beans, Peas And Zucchini Ribbons', 'appetizer', 'Risotto With Sea Bass And Fennel', 'starter', 'Anchovies Appetizer With Breadcrumbs & Scallions', 'bread', 'Scrambled Eggs With Salmon And Herbs', 'butter', 'Fish Fillets In Parchment With Asparagus And Orange', 'dinner', 'Buckwheat Galettes With Salmon, Capers, And Dill', 'smoked salmon', 'Salmon Rillettes', 'chives'], ['Anchovies Appetizer With Breadcrumbs & Scallions', \"hor d'oeuvre\", 'Anchoïade With Radishes, Fennel, Celery And Carrots', 'olive oil', 'Grilled Salmon with Basil Aïoli', 'pepper sauce', 'Four-Herb Green Goddess Dressing', 'fresh chives', 'Roasted Striped Bass With Chive And Sour Cream Sauce', 'main dish', 'Ceviche de Pescado: Two Ways', 'lemon', 'Trout With Olives And Brown Butter', 'main course', 'Sautéed Shrimp with Green Olives, Scallions and Anchovies', 'garlic cloves'], ['Anchovies Appetizer With Breadcrumbs & Scallions', 'appetizer', 'Salmon Club with Avocado Butter', 'oregano leaves', 'Kalamata Olive Tapenade With Shallots', 'oregano leaves', 'Grilled Halibut with BBQ Butter', 'lunch', 'Avocado And Prawn Open Lasagna With Anchovy Butter', 'bell pepper', 'Steamed White Fish With Julienned Carrots And Spinach With Lemo', 'green onions', 'Broiled Walleye With Dill Tabbouleh', 'fresh dill', 'Grilled Walleye With Peppery Tartar Sauce', 'mayonnaise'], ['Anchovies Appetizer With Breadcrumbs & Scallions', 'scallions', 'Radish Salad Lugano', 'anchovies', 'Anchovy Mayonnaise', 'milk', 'Saffron Shrimp and Stuffed Cherry Peppers', 'milk', 'Blue Fish With Tomato, Garlic And Onions', 'yellow onion', 'Risotto With Sea Bass And Fennel', 'celery stalk', 'Crispy Potato Salad With Chimichurri Sauce', 'potatoes', 'Salade Nicoise', 'hard cooked eggs'], ['Anchovies Appetizer With Breadcrumbs & Scallions', 'antipasti', 'Salmon With Dijon Dill Sauce', 'white wine', 'Stuffed Seabass', 'butter', 'Pan Fried Hake With Polenta And Wilted Baby Spinach Recipe', 'main course', 'Chicken Breasts Provençal', 'flour', \"Seabass Ravioli from Ischia---Ravioli All' Ischitana\", 'lunch', 'Roast Monkfish in Sake Broth', 'water', 'Salmon Chowder With Tarragon', 'salmon'], ['Anchovies Appetizer With Breadcrumbs & Scallions', 'antipasto', 'Penne Puttanesca', 'appetizer', 'Red Tea Smoked Sea Bass With Cinnamon Caramelized Plums', 'antipasti', 'Vegetable Stew With Halibut', \"hor d'oeuvre\", 'Mixed Olive Tapenade', 'antipasto', 'Herbed Fish Cakes with Green Horseradish Sauce', 'horseradish sauce', 'Herbed Fish Cakes with Green Horseradish Sauce', 'parsley', 'Salmon in Lemon-Dill Sauce', 'butter'], ['Anchovies Appetizer With Breadcrumbs & Scallions', 'appetizer', 'Deviled Eggs', 'snack', 'Salmon With Dijon Dill Sauce', 'unsalted butter', 'Olive Oil Poached Salmon with Chanterelles and Asparagus', 'onion', 'Smoked Bluefish Pate', 'lunch', 'Roasted Halibut with Green Olive Sauce', 'white peppercorns', 'Roasted Halibut with Green Olive Sauce', 'bay leaf', 'Smoked Bluefish Rillettes', 'fennel bulb'], ['Anchovies Appetizer With Breadcrumbs & Scallions', 'scallions', 'Steamed Striped Bass', 'shells', 'Steamed Striped Bass', 'lunch', 'Halibut Veracruz', 'avocados', 'Halibut Veracruz', 'dinner', 'Minted Salmon', 'fresh mint', 'Roast Leg Of Lamb With Salsa Verde', 'ground pepper', 'Grilled Swordfish With Tangy Compound Butter', 'olive oil'], ['Anchovies Appetizer With Breadcrumbs & Scallions', 'snack', 'Risotto With Sea Bass And Fennel', 'fennel bulb', 'Sea Bass with Marinated Vegetables', 'basil leaves', 'Poached Salmon with Corn and White Wine-Butter Sauce', 'zucchini', 'Seabass Tartar On Warm Zucchini Cream With Tomato Caviar', 'salt and pepper', 'Corn Risotto Garnished with Bacon & Anchovy Sage Leaf Bite', 'anchovy', 'Green Olive Sauce', 'flat leaf parsley', 'Spaghetti with Anchovies and Bread Crumbs (Spaghetti con Acciughe e Mollica)', 'bread crumbs'], ['Anchovies Appetizer With Breadcrumbs & Scallions', 'starter', 'Orange, Parsley, And Walnut Salad', 'fish', 'Sea Bass With Asparagus', 'salt and pepper', 'Pan-Fried Skate with Brown Butter and Parsnip Puree', 'water', 'Grilled Swordfish With Tangy Compound Butter', 'olive oil', 'Trout Grenobloise', 'trout filet', 'Grilled Striped Bass with Orange-Saffron Butter', 'lunch', 'Lemon Sole with Lemon-Caper Sauce', 'capers'], ['Anchovies Appetizer With Breadcrumbs & Scallions', 'garlic clove', 'Steamed Fish With Ginger & Orange', 'main course', 'Striped Bass Meunière', 'main dish', 'Pan Sautéed Chilean Sea Bass', 'fresh basil', 'Acqua Pazza (fish Simmered In Tomato-garlic Broth)', 'garlic oil', 'Salmon with Tomatoes', 'main course', 'Pasta Puttanesca', 'short pasta', 'Dinner Tonight: Tomato Sauce with Mushrooms and Anchovy', 'anchovy'], ['Anchovies Appetizer With Breadcrumbs & Scallions', 'bread', 'Spaghetti With Caramelized Onions, Anchovies, And Toasted-garli', 'coarse salt', 'Broccoli Rabe Saute With Chicken Sausage', 'crushed red pepper', 'Fusilli with Broccoli Rabe', 'fusilli', 'Fusilli with Broccoli Rabe', 'crushed red pepper', 'Spaghetti Puttanesca', 'canned tomatoes', 'Sea Bass with Fennel, Tomato and Orange', 'main dish', 'Local Amberjack with Pea Tendrils & Roasted Butternut Squash Mash', 'chili flakes'], ['Anchovies Appetizer With Breadcrumbs & Scallions', 'snack', 'Favas, Green Beans, Peas And Zucchini Ribbons', 'antipasto', 'Acqua Pazza (fish Simmered In Tomato-garlic Broth)', 'cherry tomatoes', 'Red Mullet With Tomatoes, Olives & Anchovies', 'main course', 'Quick-Cured Sake Salmon with Quinoa', 'main course', 'Lemon And Chilli Bread Salad', 'chilli', 'Omega 3 Fishballs  (with Swordfish, Cod, Anchovies And Chickpeas)', 'anchovies', 'Kale Salad With Bagna Cauda Vinaigrette', 'salad'], ['Anchovies Appetizer With Breadcrumbs & Scallions', 'olive oil', 'Cumin-Crusted Chilean Sea Bass', 'fresh parsley', 'Black Pepper-crusted Salmon', 'main dish', 'Roasted Trout With Lemon & Walnut-browned Butter', 'kosher salt', 'Striped Bass With Olive-almond Relish Recipe', \"hor d'oeuvre\", 'Roasted Sea Bass With Fennel, Blood Oranges & Olives', \"hor d'oeuvre\", 'Roast Sea Bass With Chilli & Lime Leaves', 'appetizer', 'Anchoïade With Radishes, Fennel, Celery And Carrots', 'garlic cloves'], ['Anchovies Appetizer With Breadcrumbs & Scallions', \"hor d'oeuvre\", \"Katie Lee's Sole Meunière Recipe\", 'black pepper', 'Crisp Chatham Bluefish with Maque Choux', 'ground pepper', 'Blackened Salmon Fillets', 'oregano', 'Young Green Bean, Anchovy and Potato Salad', 'tomatoes', 'Pissaladière', 'rosemary', 'Stuffed Branzino', 'lemon juice', 'Grilled Striped Bass', 'coarse salt'], ['Anchovies Appetizer With Breadcrumbs & Scallions', 'scallions', 'Pan-Seared Black Cod with Grape Salsa', 'salt and pepper', 'Pan-Fried River Trout with Corn Cakes and Red-Pepper Coulis', 'unsalted butter', 'Tilapia With Tarragon And Sweet Corn Sauce', 'fresh tarragon', 'Green Goddess Slaw', 'salt and pepper', 'Salmon with Shiitake and Red Wine Sauce', 'salmon fillets', 'Big City Salmon with Martini Sauce', 'dinner', 'Grilled Fish Tacos', 'mayonnaise'], ['Anchovies Appetizer With Breadcrumbs & Scallions', 'antipasti', 'Fish Chowder', 'appetizer', 'Balsamic, Caper, And Anchovy Marinade', 'balsamic vinegar', 'Kitchen Play: Salmon with Herbed Butter and Burst Tomato Sauce', 'unsalted butter', 'Chicken Breasts Provençal', 'skinless boneless chicken breasts', 'Chicken Breasts Provençal', 'garlic', 'Chicken Liver Crostini', 'chicken broth', 'Pasta Puttanesca', 'grape tomatoes'], ['Anchovies Appetizer With Breadcrumbs & Scallions', 'antipasti', 'Striped Bass Plaki', 'fresh thyme', 'Butternut Squash Tart With Anchovy Vinaigrette', 'main course', 'Salt Cod Brandade', 'dijon mustard', 'Kittencal’s Famous Creamy Caesar Salad Dressing', 'salad', 'Green Bean Salad With Anchovy Dressing', 'juice of lemon', 'Creole Striped Bass', 'white pepper', 'Steamed Fish With Ponzu', 'shaoxing wine'], ['Anchovies Appetizer With Breadcrumbs & Scallions', 'anchovies', 'Broccoli With Anchovies, Capers & Chilli', 'anchovies', 'Linguine Aglio E Olio Con Acciuga', 'anchovies', 'Secret Ingredient Beef Stew', 'canned whole tomatoes', \"Seabass Ravioli from Ischia---Ravioli All' Ischitana\", 'salt', 'Spaghetti with tuna and cherry tomatoes', 'spaghetti', 'Dinner Tonight: Pasta Alla Puttanesca', 'red pepper flakes', 'Poached Beef With Green Sauce', 'spinach'], ['Anchovies Appetizer With Breadcrumbs & Scallions', 'bread', 'Panzanella With Mint And Anchovy', 'garlic', 'Bittermelon With Pork And Blackbean Sauce', 'main course', \"Canal House Cooking's Serious Ragù\", 'lunch', 'Grilled Swordfish With Lemon And Caper Sauce', 'olive oil', 'Halibut with Pepitas, Capers, Cherry Tomatoes, and Basil', 'main dish', 'Caponata-Style Escarole and Cod', 'lunch', 'Catalan Roasted Sea Bass', 'dinner'], ['Anchovies Appetizer With Breadcrumbs & Scallions', 'starter', 'Fish Chowder', 'water', 'Acqua Pazza (fish Simmered In Tomato-garlic Broth)', 'starter', 'Pappardelle With Spicy Meat Sauce', 'anchovy', 'Vermicelli with Sauce alla Sofia', 'oil cured black olives', '\"Toni\\'s Marinated Olives\"', 'side dish', 'Whole Roasted Salmon With Orange Butter Glaze', 'fresh cilantro', 'Grilled Sea Bass with Tropical Salsa', 'main dish'], ['Anchovies Appetizer With Breadcrumbs & Scallions', 'olive oil', 'Lime Seviche', 'halibut', 'Steamed White Fish With Julienned Carrots And Spinach With Lemo', 'sesame oil', 'Scallop Salad With Sweet Vanilla Chili Dressing', 'lime juice', 'Soy-marinated Chinese-style Tilapia With Fresh Ginger And Scall', 'light whipped butter', 'Soy-marinated Chinese-style Tilapia With Fresh Ginger And Scall', 'lunch', 'Mushroom-wine Fish Fillet En Papillote', 'cream', 'Grown-up Cauliflower And Cheese', 'cream'], ['Anchovies Appetizer With Breadcrumbs & Scallions', 'antipasti', 'Striped Bass With Lime Butter', 'starter', 'Penne Puttanesca', 'salt and pepper', 'Poached Salmon with Hollandaise Sauce', 'fresh chives', 'Slow-Roasted Salmon with Cherry Tomatoes and Couscous', 'flat leaf parsley', 'Skirt Steak with Salsa Verde and Ricotta Salata', 'tomato paste', 'Striped Bass with Saffron Vegetables and Spiced Broccoli Rabe', 'striped bass', 'Chili-braised Fish With Tomatoes And Potatoes', 'appetizer'], ['Anchovies Appetizer With Breadcrumbs & Scallions', 'snack', 'Deviled Eggs', 'mustard', 'Fried Oysters with Spicy Rémoulade', 'cornmeal', 'Chef Race: Cornmeal-Crusted Catfish with Tomato-Zucchini Rice and Radish Slaw', 'rice', 'Poached Beef With Green Sauce', 'dolce', 'Poached Beef With Green Sauce', 'farro', 'Farro & Tomato Salad With Basil & Anchovies', 'salt', 'Turkey Ossobuco', 'main dish'], ['Anchovies Appetizer With Breadcrumbs & Scallions', 'antipasti', 'Whole Branzino In Grape Leaves With Zucchini, Olives, And Mint', 'lemons', 'Crockpot Halibut In White Sauce With Broccolini', 'halibut', 'Roasted Sea Bass With Fennel, Blood Oranges & Olives', 'orange peel', 'Roasted Sea Bass With Fennel, Blood Oranges & Olives', 'olive oil', 'Eggplant Stuffed With Savory Beef', 'garlic cloves', 'Chicken Confit', 'shallots', 'Sole with Tarragon-Butter Sauce', 'black pepper'], ['Anchovies Appetizer With Breadcrumbs & Scallions', 'starter', 'Spaghetti Puttanesca', 'antipasto', 'Chili-braised Fish With Tomatoes And Potatoes', \"hor d'oeuvre\", 'Blue Fish With Tomato, Garlic And Onions', 'antipasti', 'Vegetable Stew With Halibut', \"hor d'oeuvre\", 'Crostini With Tapenade', 'lemon juice', 'Crispy Baked Basa', 'main dish', 'Spicy Cauliflower Pasta With Garlic, Anchovies And Capers', 'lunch'], ['Anchovies Appetizer With Breadcrumbs & Scallions', 'appetizer', 'Lemon Herb Fish', \"hor d'oeuvre\", 'Favas, Green Beans, Peas And Zucchini Ribbons', 'antipasti', 'Pan-fried Cod With Mustard-caper Sauce', 'capers', 'Roasted Sea Bass With Caper Sauce', 'anchovy', 'Pasta with Smothered Broccoli Rabe and Olives', 'broccoli rabe', 'Broccoli Rabe Saute With Chicken Sausage', 'snack', 'Crispeddi Semolina Flour Fritters', 'fresh ricotta'], ['Anchovies Appetizer With Breadcrumbs & Scallions', 'appetizer', 'Salmon With Pepita-lime Butter', 'antipasti', 'Tuna, Tomato And Olive Sandwich (pan Bagnat)', 'snack', 'Chicken And Radish Salad With Creamy Avocado Dressing', 'anchovies', 'Pasta With Tonnato And Tomato', 'dinner', 'Salmon with Creamy Dill Sauce', 'garlic salt', 'Krazy Garlic Trout', 'main dish', 'Fish Stew', 'little neck clams'], ['Anchovies Appetizer With Breadcrumbs & Scallions', 'anchovies', 'A French Twist in the Medina: Pan Tunisienne Lunch Pail', 'oil packed tuna', 'Ojai Tapenade', 'cherry tomatoes', 'Panzanella With Mint And Anchovy', 'cucumber', 'Spice Islands Salad with Sambal Dressing', 'mung bean sprouts', 'Fish and Vegetable Soup with Lime, Ginger, and Cilantro', 'lime juice', 'Whole Fish With Mint', 'striped bass', 'Clam And Calamari Seafood Stew With Salsa Verde', 'starter'], ['Anchovies Appetizer With Breadcrumbs & Scallions', 'snack', 'Salmon With Dijon Dill Sauce', 'cucumber', 'Tuscan Bread Salad', 'wine vinegar', 'Skate, Chicory, and Anchovy', 'sea salt', 'Green Bean Caesar Salad with Baby Romaine Lettuces', 'garlic cloves', \"Alex's Anchovy Bucatini\", 'garlic cloves', 'Sea Bass alla Fiorentina', 'lunch', 'Stuffed Peppers with Lamb and Eggplant', 'bell pepper'], ['Anchovies Appetizer With Breadcrumbs & Scallions', 'scallions', 'Baked Fish In Soy Ginger Sauce', 'white fish fillets', 'Steamed Fish With Ginger', 'rice wine', 'Bean Sprout Beef Rice Bowl', 'low sodium soy sauce', 'Ginger Steamed Fish With Troy S Hana Style Sauce Recipe', 'sesame oil', 'Steamed Fish With Ginger', 'vegetable oil', 'Striped Bass with Caramelized Brussels Sprouts', 'lemon zest', 'Steamed White Fish With Julienned Carrots And Spinach With Lemo', 'lemon juice'], ['Anchovies Appetizer With Breadcrumbs & Scallions', 'anchovies', 'Pan-roasted East Coast Skate, Anchovy And Broccoli Pickle', 'sea salt', 'Steamed Whole Fish with Scallions and Ginger', 'wine', 'Pan Fried Catfish With Buttered Rice & Pickled Pepper Relish', 'water', 'Java Chicken in Coconut Sauce', 'fresh ginger', 'Sake-Steamed Halibut with Ginger and Cabbage', 'canola oil', 'Artichoke Fritters with Green Goddess Dipping Sauce', 'lemon wedges', 'Fried Green Tomatoes with Anchovy and Lemon', 'anchovy fillets'], ['Anchovies Appetizer With Breadcrumbs & Scallions', \"hor d'oeuvre\", 'Garlic Herb Tilapia', \"hor d'oeuvre\", 'Kiss (keeping It Super Simple) Fried Fish', 'fish fillets', 'Crispy Baked Fish', 'garlic salt', 'Krazy Garlic Trout', 'main course', 'Grilled Pork Chops with Anchovies and Swiss Chard', 'lunch', 'Grilled Fish', 'dinner', 'Minted Salmon', 'honey'], ['Anchovies Appetizer With Breadcrumbs & Scallions', 'olive oil', 'Grilled Fish Tacos', 'corn tortillas', 'Coconut-guajillo Poached Seafood Taco With Yucatan Salsa', 'serrano chile', 'Grilled Sablefish With Thyme-lemon Salsa Verde', 'side dish', 'Pecan-crusted Halibut with Dijon Cream Sauce', 'dijon mustard', 'Poached Catfish with Leeks and Mustard', 'salt', 'Salmon Chowder', 'dried dillweed', 'Salmon Chowder', 'black pepper'], ['Anchovies Appetizer With Breadcrumbs & Scallions', 'antipasti', 'Seafood Chowder With Crispy Bread Crumbs', 'appetizer', \"Ginger-steamed Fish With Troy's Hana-style Sauce\", 'garlic', 'Crispy Baked Cod', 'dijon mustard', 'Caesar Salad with Crispy Tofu Croutons', 'vegetable oil', 'Halibut With Wasabi Butter', 'rice wine vinegar', 'Sole with Grapefruit-Thyme Butter', 'butter', 'Pfb: Ancho-seared Swordfish With Ginger-sweet Potato Mash, Sear', 'sugar'], ['Anchovies Appetizer With Breadcrumbs & Scallions', 'bread', 'Sunny Side Up Eggs', 'coarse sea salt', 'Grilled Striped Bass with Orange-Saffron Butter', 'lunch', 'Oven-Roasted Whole Fish', 'lemon wedges', 'Grilled Walleye With Peppery Tartar Sauce', 'main course', 'Healthy & Delicious: Baked Rotelle Puttanesca', 'canned tomatoes', 'Sea Bass alla Fiorentina', 'lunch', 'King Salmon With Braised Fennel And Artichokes', 'dinner'], ['Anchovies Appetizer With Breadcrumbs & Scallions', 'snack', 'Fish With Olives, Pine Nuts, Basil And Wine', 'antipasto', 'Pissaladière', \"hor d'oeuvre\", 'Pissaladiere', 'onions', 'Guinea Hen with Vinegar: Faraona al Aceto', 'olive oil', 'Cook the Book: Quick-Cured Salmon', 'dinner', 'Marinated Fresh Anchovies: Alici Marinate', 'olive oil', 'Meat Lite: Nutty Pasta', 'main course'], ['Anchovies Appetizer With Breadcrumbs & Scallions', 'bread', 'Poached Beef With Green Sauce', 'cheese', 'Cook the Book: Sicilian Pizza', 'dinner', 'Halibut With Lemon, Butter, Caper And Dill Sauce', 'shallot', 'Warm Scallop Salad with Mushrooms and Zucchini', 'boston lettuce', 'Grilled Halibut Salad Niçoise', 'dijon mustard', 'Caesar Salad with Crispy Tofu Croutons', 'parmigiano reggiano cheese', 'Crab Salad with Caesar Vinaigrette', 'parmigiano reggiano cheese'], ['Anchovies Appetizer With Breadcrumbs & Scallions', 'starter', 'Garlic Herb Tilapia', 'mustard', 'Grilled Branzino With Rosemary Vinaigrette', 'garlic clove', 'Roasted Radicchio with Anchovy Vinaigrette, Preserved Lemon, and Breadcrumbs', 'dinner', 'Linguine With Garlic And Breadcrumbs', 'main dish', 'Lemon Sole with Tomato-Olive Risotto', 'main dish', 'Seafood Stew with Saffron Zabaglione', 'salt and pepper', 'Garlic-Rubbed Tri-Tip with Mint Caper Salsa', 'hungarian paprika'], ['Anchovies Appetizer With Breadcrumbs & Scallions', 'starter', 'Cioppino', 'dungeness crab', 'Cedar-Planked Salmon with Crab and Citrus Beurre Blanc', 'rub', 'Cedar-Planked Salmon with Crab and Citrus Beurre Blanc', 'olive oil', 'Roasted Cherry Tomato Puttanesca', 'side dish', 'Home', 'pepper', 'Cod And Fish Stew With Garlic Bread Recipe', 'parsley', 'Norwegian Fish Mousse (fiskepudding)', 'cod fish fillet'], ['Anchovies Appetizer With Breadcrumbs & Scallions', 'olive oil', 'Pan-Seared Halibut with Tomato Vinaigrette', 'halibut fillets', 'Roasted Potatoes And Haddock Puttanesca', 'main course', 'Pan-Roasted Cod with Roasted Tomatoes and Leeks', 'olive oil', 'Escarole Salad with Anchovy Dressing', 'dijon mustard', 'Kittencal’s Famous Creamy Caesar Salad Dressing', 'parmesan cheese', 'Anchiode-tipped Romaine', 'parmesan cheese', 'Pasta Puttanesca', 'side dish'], ['Anchovies Appetizer With Breadcrumbs & Scallions', 'olive oil', 'Tapenade', 'tuna in olive oil', 'Tapenade', 'lunch', 'Grappa-Cured Striped Bass', 'striped bass', 'Herbed Fish Cakes with Green Horseradish Sauce', 'ground pepper', 'Pinot-Braised Duck with Spicy Greens', 'garlic', 'Spice Islands Salad with Sambal Dressing', 'salad mix', 'Salad Nicoise', 'oil cured black olives'], ['Anchovies Appetizer With Breadcrumbs & Scallions', 'scallions', \"McDevitt's Miso-Marinated Sea Bass\", 'garlic clove', 'Lemon Sole with Lemon-Caper Sauce', 'garlic clove', 'Lightened Green Goddess Dressing', 'parsley leaves', 'Serious Ragu', 'white wine', 'Old Bay® Butter Sauce On Fish', 'old bay seasoning', 'Old Bay® Butter Sauce On Fish', 'sauce', 'Striped Bass in Agrodolce Sauce', 'sugar'], ['Anchovies Appetizer With Breadcrumbs & Scallions', 'appetizer', 'Broccoli Rabe With Garlic & Anchovies', 'antipasti', 'Whole Branzino In Grape Leaves With Zucchini, Olives, And Mint', 'green olives', 'Artichokes with Anchoïade', 'lemon zest', 'Striped Bass With Olive-almond Relish Recipe', 'antipasto', 'Herbed Fish Cakes with Green Horseradish Sauce', 'parsley', 'Leg of Lamb with Garlic Sauce', 'main dish', 'Lake Trout with Fingerling Potatoes and Bacon', 'dry white wine'], ['Anchovies Appetizer With Breadcrumbs & Scallions', 'snack', 'Orange, Parsley, And Walnut Salad', 'appetizer', 'Baked Sole With Asparagus', 'appetizer', 'Grilled Sausage Appetizer With Gremolata', 'long pasta', 'Grilled Sausage Appetizer With Gremolata', 'fresh flat leaf parsley', 'Linguine with Puttanesca Sauce', 'dinner', 'Grilled Butterflied Trout with Lemon-Parsley Butter', 'canola oil', \"Curto's Grilled Salmon with Bacon and Potato Hash\", 'asparagus'], ['Anchovies Appetizer With Breadcrumbs & Scallions', \"hor d'oeuvre\", 'Miniature Onion Tartlets', 'antipasto', 'Queso Manchego con Aceitunas y Piquillos', 'appetizer', 'Cioppino', 'salt', 'Roast Leg Of Lamb With Salsa Verde', 'fresh mint', 'Minted Salmon', 'honey', 'Fish Tacos with Pickled Onions and Chilies', 'red onions', 'Roast Sea Bass With Chilli & Lime Leaves', 'red chilli'], ['Anchovies Appetizer With Breadcrumbs & Scallions', 'anchovies', 'Spaghetti With Anchovy, Chilli & Breadcrumbs', 'spaghetti', 'Rachael Ray\\'s \"now You\\'ll Be Living A Lot Longer\" Spaghetti', 'pepper', 'Bold Winter Greens Salad', 'sherry vinegar', 'Farro & Tomato Salad With Basil & Anchovies', 'fresh basil leaves', 'Grilled Salmon with Mustard-Wine Sauce', 'garlic', 'Sea Bass Puttanesca In A Foil Pouch', 'fresh flat leaf parsley', 'Roasted Striped Bass', 'saffron threads'], ['Anchovies Appetizer With Breadcrumbs & Scallions', 'starter', 'Spiced Cod With Broccoli-quinoa Pilaf', 'snack', 'Tagliatelle With Purple Sprouting Broccoli, Anchovies And Pecorino', 'appetizer', 'Emerils Fish Provencal', 'zucchini', 'Warm Scallop Salad with Mushrooms and Zucchini', 'boston lettuce', 'Warm Scallop Salad with Mushrooms and Zucchini', 'anchovies', 'San Fran-Caesar with Sour Dough Croutons', 'parmesan', 'Grilled Fish With Pesto Sauce', 'parmesan'], ['Anchovies Appetizer With Breadcrumbs & Scallions', 'antipasto', 'Sliced Baguette With Radishes And Anchovy Butter', 'fresh chives', 'Caramelized Maple-and-Garlic-Glazed Salmon', 'maple syrup', 'Maple-Soy Glazed Salmon', 'black pepper', 'Black Sea Bass with Moroccan Vegetables and Chile Sauce', 'low sodium soy sauce', 'Bean Sprout Beef Rice Bowl', 'main course', 'Shrimp Georgie Porgie', 'butter', 'Trout Amandine, Steamed Asparagus And New Potatoes', 'milk'], ['Anchovies Appetizer With Breadcrumbs & Scallions', 'garlic clove', 'Basil-Steamed Halibut with Lemon Crème Sauce', 'lunch', 'Kale & Lentils', 'dry white wine', 'Halibut With Pepitas, Capers & Tomatoes', 'olive oil', 'Grilled Lamb With Broccoli & Anchovy Sauce', 'lunch', 'Miso-roasted Fish On Cedar Plank', 'ginger', 'Steamed Fish With Ginger', 'sesame oil', 'Ginger Sea Bass over Wilted Greens', 'dinner'], ['Anchovies Appetizer With Breadcrumbs & Scallions', 'bread', 'Sardines On Toast', 'salted butter', 'Buckwheat Galettes With Salmon, Capers, And Dill', 'dill', 'Grilled Blackened Sea Bass', 'black pepper', 'Baked Fish with Roasted Potatoes, Tomatoes, and Salmoriglio Sauce', 'canned tomatoes', 'Baked Fish with Roasted Potatoes, Tomatoes, and Salmoriglio Sauce', 'main course', 'Poached Salmon With Dill & Capers', 'salt and pepper', 'Baked Sole With Asparagus', 'snack'], ['Anchovies Appetizer With Breadcrumbs & Scallions', 'appetizer', 'Queso Manchego con Aceitunas y Piquillos', \"hor d'oeuvre\", 'Seafood Stew', 'olive oil', 'Toasted Baguette with Tomatoes and Anchovies', 'olive oil', 'Roasted Sea Bass With Fennel, Blood Oranges & Olives', 'olive oil', 'Red Pepper & Caper Bruschetta', 'main course', 'Panfried Red Snapper With Chipotle Butter', 'vegetable oil', 'Sautéed Tilapia with Lemon-Peppercorn Pan Sauce', 'vegetable oil'], ['Anchovies Appetizer With Breadcrumbs & Scallions', 'antipasti', 'Cioppino', 'canned tomatoes', 'Fish Fusilli', 'parmesan', 'Finnan Haddie with Spinach and Pancetta', 'olive oil', 'Chicken Puttanesca', 'kalamata olives', 'Grill-steamed Mediterranean Halibut', 'snapper', 'Grill-steamed Mediterranean Halibut', 'lemon peel', 'Artichoke Fritters with Green Goddess Dipping Sauce', 'lemon wedges'], ['Anchovies Appetizer With Breadcrumbs & Scallions', 'bread', 'Arctic Char And Smoked Salmon Rillettes', 'juice of lime', 'Chili-Roasted Cod', 'cod fillets', 'Grilled Fish Tacos', 'mayonnaise', 'Turkey Burgers With Caesar Spread', 'garlic', 'Swordfish with Tomatoes and Capers', 'main course', 'Porgy, Roman Style: Pagro alla Romana', 'extra virgin olive oil', 'Braised Veal Shank with Marjoram: Stinco di Vitello', 'carrot'], ['Anchovies Appetizer With Breadcrumbs & Scallions', 'olive oil', 'Tomato-and-Anchovy Salad with Garlic Cream', 'heirloom tomatoes', 'Pan-roasted Sea Bass with Citrus-Heirloom Tomato Vinaigrette', 'lunch', 'Crispy Baked Fish', 'garlic salt', 'Salmon with Creamy Dill Sauce', 'brine', 'Sautéed Tilapia with Lemon-Peppercorn Pan Sauce', 'black pepper', 'Pasta Puttanesca', 'red chili flakes', \"Alex's Anchovy Bucatini\", 'garlic cloves'], ['Anchovies Appetizer With Breadcrumbs & Scallions', 'snack', \"Ginger-steamed Fish With Troy's Hana-style Sauce\", 'fresh ginger', 'Sake Steamed Bass', 'striped bass', 'Grilled Halibut Salad Niçoise', 'grape tomatoes', 'Hot Niçoise Salad', 'ahi tuna steaks', 'Seared Ahi Tuna Steaks', 'olive oil', 'Grilled Fish With Recado', 'dinner', 'Surf and Turf in Herbed Red Wine Sauce with Buttery Mushrooms and Creamy Leeks', 'white wine'], ['Anchovies Appetizer With Breadcrumbs & Scallions', 'scallions', 'Soy-marinated Chinese-style Tilapia With Fresh Ginger And Scall', 'light whipped butter', 'Soy-marinated Chinese-style Tilapia With Fresh Ginger And Scall', 'light whipped butter', 'Soy-marinated Chinese-style Tilapia With Fresh Ginger And Scall', 'flour', 'Creamy Tuna With Tarragon And Egg Noodles', 'half n half', 'Springtime Asparagus Pizza', 'pizza dough', 'Springtime Asparagus Pizza', 'goat cheese', 'Fresh Lettuces and Heirloom Tomatoes with Chèvre Green Goddess Dressing', 'side dish'], ['Anchovies Appetizer With Breadcrumbs & Scallions', 'anchovies', 'Omega 3 Fishballs  (with Swordfish, Cod, Anchovies And Chickpeas)', 'swordfish', 'Spicy Mustard Swordfish and Artichoke Kabobs', 'red pepper flakes', 'Best Basic Caesar Salad', 'bell pepper', 'Salmon Fillets with Herbed Leeks', 'salt', 'Black Bass with Sicilian-Style Pesto', 'dinner', 'Broiled Red Snapper with Ginger-Lime Butter', 'butter', 'Big City Salmon with Martini Sauce', 'salt and pepper'], ['Anchovies Appetizer With Breadcrumbs & Scallions', 'antipasti', 'Roasted Halibut With Pickled Beets (stegte Helleflynder Med Rød', 'pickled beets', 'Roasted Halibut With Pickled Beets Stegte Helleflynder Med Rodb', 'shallot', 'Grilled Sablefish With Thyme-lemon Salsa Verde', 'serrano chile', 'Hot Smoked Swordfish with White Clam-Garlic-Parsley Sauce', 'fresh flat leaf parsley', 'Celery -Root Rémoulade', 'egg yolk', 'Green Bean Caesar Salad with Baby Romaine Lettuces', 'egg yolk', 'Dinner Tonight: Caesar Salad', 'bread'], ['Anchovies Appetizer With Breadcrumbs & Scallions', 'antipasti', 'Toasted Parmesan And Garlic Oil Caesar Salad', 'antipasto', 'French Onion Tart', 'starter', 'Breadcrumbs Stuffed Green Peppers', 'snack', 'Fish Chowder', 'evaporated milk', 'Fish Chowder', 'potatoes', 'Cheesy Catfish Chowder', 'shredded cheddar cheese', 'Shrimp and Crab Stuffed Flounder', 'shredded cheddar cheese'], ['Anchovies Appetizer With Breadcrumbs & Scallions', 'starter', 'Pasta Con Sarde', \"hor d'oeuvre\", 'spicy tomato mussels', 'snack', 'Kiss (keeping It Super Simple) Fried Fish', \"hor d'oeuvre\", 'Mediterranean Fish Fillets', 'orange roughy', 'Baked Orange Roughy With Veggies', 'fresh mushrooms', 'Grilled Cajun Salmon With Vegetable Mostaccioli', 'butter', 'Crispy Oven-Baked Tilapia with Lemon-Tomato Fettuccine', 'canned tomatoes'], ['Anchovies Appetizer With Breadcrumbs & Scallions', 'bread', 'Kale Caesar', 'croutons', 'Egg-Free Avocado Caesar Salad', 'dijon mustard', 'Anchovy & Italian Parsley Deviled Eggs', 'dinner', 'Coconut-guajillo Poached Seafood Taco With Yucatan Salsa', 'guajillo chile', 'Coconut-guajillo Poached Seafood Taco With Yucatan Salsa', 'canned coconut milk', 'Crispy Halibut With Lemony Basil Sauce', 'panko bread crumbs', 'Coconut Lime Crusted Fish', 'lime zest'], ['Anchovies Appetizer With Breadcrumbs & Scallions', 'anchovies', 'Bittermelon With Pork And Blackbean Sauce', 'miso', 'Roast Monkfish in Sake Broth', 'main course', 'California Artichokes With Anchovy Mayonnaise', 'bay leaves', 'Roasted Branzino With A Salt Crust', 'egg whites', 'Salt-Baked Branzino with Citrus, Fennel and Herbs', 'dinner', 'The Cartoon Kitchen: Fish, Leeks, And Mushrooms', 'lunch', 'Bouillabaisse', 'mussels'], ['Anchovies Appetizer With Breadcrumbs & Scallions', 'antipasti', 'Salmon With Dijon Dill Sauce', 'antipasto', 'Roast Sea Bass With Chilli & Lime Leaves', 'g', 'Roast Sea Bass With Chilli & Lime Leaves', 'appetizer', 'Tilapia With Caper-parsley Sauce', 'antipasti', 'Fried Anchovies', 'eggs', 'Hot Niçoise Salad', 'ahi tuna steaks', 'Seared Ahi Tuna Steaks', 'cayenne pepper'], ['Anchovies Appetizer With Breadcrumbs & Scallions', 'snack', 'Italian Tomato Spaghetti', 'antipasti', 'Miniature Onion Tartlets', 'appetizer', 'Pressed Summer Sandwich with Eggs and Anchovies', 'fresh parsley leaves', 'Smoked haddock with flageolets in a creamy mustard sauce (or Nigel Slater does WTSIM)', 'smoked haddock', 'Smoked Haddock With Puy Lentils', 'lentils', 'Smoked Haddock With Puy Lentils', 'parsley', 'Salsa Verde', 'fruit'], ['Anchovies Appetizer With Breadcrumbs & Scallions', 'appetizer', 'Striped Bass Plaki', 'red onion', 'Tuscan Bread Salad', 'extra virgin olive oil', 'Seabass Tartar On Warm Zucchini Cream With Tomato Caviar', 'main dish', 'Niçoise on a Roll', 'dinner', 'Wood-Roasted Striped Bass with Meyer Lemon and Olive Relish', 'parsley', 'Guinea Hen with Vinegar: Faraona al Aceto', 'onions', 'Pissaladiere', 'all purpose flour'], ['Anchovies Appetizer With Breadcrumbs & Scallions', 'appetizer', 'Spaghetti Puttanesca', 'fresh basil', 'Spaghetti Puttanesca', 'oregano', 'Pissaladière', 'yellow onions', 'Fish Chowder', \"hor d'oeuvre\", 'Risotto With Sea Bass And Fennel', 'snack', 'Mixed Olive Tapenade', 'antipasti', 'Anchoïade With Radishes, Fennel, Celery And Carrots', 'fennel bulbs'], ['Anchovies Appetizer With Breadcrumbs & Scallions', 'scallions', \"Foshee's Striped Bass with Caramelized Onion Sauce\", 'morels', \"Foshee's Striped Bass with Caramelized Onion Sauce\", 'chicken stock', 'Roast Lamb With Anchovies', 'leg of lamb', 'Anchovy and Rosemary Roasted Lamb', 'leg of lamb', 'Pancetta-Wrapped Roast Leg of Lamb', 'dry white wine', 'Seared Wild Salmon With New Potatoes And Dijon Broth', 'baby spinach leaves', 'Fish with Tomatoes, Olives and Capers', 'baby spinach leaves'], ['Anchovies Appetizer With Breadcrumbs & Scallions', 'bread', 'Radicchio & Halloumi Salad With Lemon Anchovy Dressing', 'olive oil', 'Chickpea and Pasta Soup', 'canned tomatoes', 'Chilean Sea Bass', 'main course', 'Roasted Cod with Steamer Clams and Pistachio Sauce', 'salt', 'Super Simple Salmon', 'dinner', 'Lemon-horseradish Sole', 'dijon mustard', 'Beef Tenderloin Cobb Salad', 'flat leaf parsley'], ['Anchovies Appetizer With Breadcrumbs & Scallions', 'starter', 'Turkey Burgers With Caesar Spread', 'snack', 'Striped Bass With Tomatoes, Corn, And Basil', 'starter', 'Roasted Halibut With Pickled Beets (stegte Helleflynder Med Rød', 'starter', 'Stuffed Flank Steak', 'garlic cloves', 'Sicilian Fisherman Stew', 'tomatoes', 'Broiled Bluefish with Tomato and Herbs', 'fresh chives', 'Four-Herb Green Goddess Dressing', 'antipasto'], ['Anchovies Appetizer With Breadcrumbs & Scallions', 'antipasto', 'Hearty Halibut Chowder', 'carrots', 'Lamb and Artichoke Daube', 'dry savory', 'Salmon with Salsify and Celery Root Puree', 'bacon', 'Corn Risotto Garnished with Bacon & Anchovy Sage Leaf Bite', 'anchovy', 'Fusilli with Broccoli Rabe', 'garlic cloves', 'Paella', 'paprika', 'Salmon with Tomatoes', 'pepper sauce'], ['Anchovies Appetizer With Breadcrumbs & Scallions', 'antipasto', 'Turkey Burgers With Caesar Spread', 'swiss cheese', 'Turkey Burgers With Caesar Spread', 'kosher salt', 'Cedar Plank Grilled Loup De Mer (sea Bass)', 'side dish', 'Dressed Up Marbled Eggs', 'eggs', 'Butternut Squash Tart With Anchovy Vinaigrette', 'parmesan cheese', 'Natural Factors’ Tropical Summer Caesar Salad', 'red wine vinegar', 'Dinner Tonight: Caesar Salad', 'main dish'], ['Anchovies Appetizer With Breadcrumbs & Scallions', 'snack', 'Red Tea Smoked Sea Bass With Cinnamon Caramelized Plums', 'ground cinnamon', 'Snapper Tacos with Chipotle Cream', 'salt', \"Domestic Diva's Sea Bass With Roasted Eggplant Puree & Olive An\", 'olive oil', 'Broccoli With Bagna Cauda', 'anchovy', 'Grown-up Cauliflower And Cheese', 'red pepper flakes', 'Tagliolino Allo Scoglio', 'salt and pepper', 'Salmon with Andouille Sausage and Green Olives', 'green olives'], ['Anchovies Appetizer With Breadcrumbs & Scallions', 'starter', 'Tuna, Tomato And Olive Sandwich (pan Bagnat)', 'oil packed tuna', 'Grilled Calamari on a Bed of White Beans', 'main dish', 'Finnan Haddie with Spinach and Pancetta', 'bread crumbs', 'Cook the Book Party Planner: Pasta with Sardines', 'fresh sardines', 'Tempura Sardines with Tonnatto Sauce', 'flour', 'Sea Bass Fillets with Parsley Sauce', 'unsalted butter', 'Basil-Steamed Halibut with Lemon Crème Sauce', 'halibut fillets'], ['Anchovies Appetizer With Breadcrumbs & Scallions', 'appetizer', 'Stilton Cheese Puffs', 'antipasto', 'Roasted Halibut With Pickled Beets (stegte Helleflynder Med Rød', 'salt', 'Salade NiÃ§oise with Fresh Tuna Confit', 'main course', 'Pasta Puttanesca', 'red pepper flakes', 'Pasta Puttanesca', 'kalamata olive', 'Miniature Onion Tartlets', 'anchovy', 'Grilled Sausage Appetizer With Gremolata', 'lemon zest'], ['Anchovies Appetizer With Breadcrumbs & Scallions', 'scallions', 'Steamed Wild Striped Bass with Ginger and Scallions', 'vegetable oil', 'Whole Fish With Mint', 'garlic', 'Grilled Potatoes With Green Goddess Dressing', 'chives', 'Green Goddess Dressing', 'chives', 'Salmon Rillettes/salmon Spread', 'salt', 'Easy Asian-style Low Fat Microwave Steamed Fish', 'coriander', 'Easy Asian-style Low Fat Microwave Steamed Fish', 'lime juice'], ['Anchovies Appetizer With Breadcrumbs & Scallions', 'appetizer', 'Crispeddi Semolina Flour Fritters', 'semolina flour', 'Multilayered Anchovy Bread', 'flour', 'Orange Roughy With Citrus Sauce', 'salt', 'Bacon-wrapped Sea Bass', 'fresh rosemary', 'Pan-Grilled New York Strip Steaks with Green Olive Tapenade', 'steaks', 'Pan-Seared Skirt Steak with Anchovies and Lime', 'main dish', 'Lemon Sole With Flageolet Beans', 'red onion'], ['Anchovies Appetizer With Breadcrumbs & Scallions', 'antipasti', 'Hard-Cooked Eggs with Crisp Anchovy Crumbs', 'brioche', 'Breaded\" Redfish with Shrimp, Fennel, and Orange Salad', 'fresh tarragon', 'Spring (?) Herb Cooking', 'extra virgin olive oil', 'Puglia Lady Rethought For America', 'chicken stock', 'Swordfish with Tomatoes and Capers', 'unsalted butter', 'Rio Grande Trout with Riesling', 'trout fillets', 'Blackened Fish', 'main course'], ['Anchovies Appetizer With Breadcrumbs & Scallions', \"hor d'oeuvre\", 'Striped Bass With Lime Butter', 'shallot', 'Grilled Salmon with Fennel and Creole Mustard Spaetzle', 'main dish', \"Bluefish as the Fisherman's Flag: Bandiera alla Marinara\", 'onion', 'Pinot-Braised Duck with Spicy Greens', 'herbes de provence', 'The Secret Ingredient (anchovy): Halibut Poached In Olive Oil W', 'dinner', 'Sake-Steamed Halibut with Ginger and Cabbage', 'pickled ginger', 'Sake-Steamed Halibut with Ginger and Cabbage', 'cauliflower'], ['Anchovies Appetizer With Breadcrumbs & Scallions', 'garlic clove', 'Greek Salad With Cherry Tomatoes', 'red bell peppers', 'Oven-roasted Striped Bass with Peppers', 'onion', 'Pissaladière Tartlets', 'canned anchovy', 'Pasta With Anchovy-walnut Sauce', 'spaghetti pasta', 'Pasta With Anchovy-walnut Sauce', 'spaghetti pasta', 'Pasta With Anchovy-walnut Sauce', 'olive oil', 'Parmesan Sole', 'wine'], ['Anchovies Appetizer With Breadcrumbs & Scallions', 'olive oil', 'Braised Veal Chops with Honey and Red Grapes', 'red grapes', 'Braised Veal Chops with Honey and Red Grapes', 'main course', 'Kale Caesar', 'garlic', 'Arctic Char with Tangerine-Habanero Glaze and Meyer Lemon Couscous Broth', 'onion', 'Grilled Salmon With Zucchini Relish', 'fresh basil leaves', 'Grilled Salmon with Mustard-Wine Sauce', 'dry white wine', 'Seafood Stew with Anchovy Aioli', 'orange zest'], ['Anchovies Appetizer With Breadcrumbs & Scallions', 'appetizer', 'Mushroom Ravioli with Lemon-Caper Mayonnaise', 'starter', 'Tagliatelle With Purple Sprouting Broccoli, Anchovies And Pecorino', 'anchovies', 'Salmon Salsa Verde', 'anchovies', 'Chicken And Radish Salad With Creamy Avocado Dressing', 'sea salt', 'Sea Bass with Saffron, Sherry and Pine Nuts', 'pine nuts', 'Poached Beef With Green Sauce', 'artichokes', 'Steamed Artichokes With Salsa Verde', 'fennel seeds'], ['Anchovies Appetizer With Breadcrumbs & Scallions', 'olive oil', \"Curto's Grilled Salmon with Bacon and Potato Hash\", 'dijon mustard', 'Smoked-bluefish Pate With Roasted Tomatoes On Crackers', 'olive oil', 'Grilled Rib-Eye Steaks with Roasted Peppers', 'fresh thyme', 'Grilled Sea Bass With A Portuguese Sauce', 'roma tomato', 'Beet Greens With Anchovies', 'olive oil', 'Baked Flounder With Parsnips And Carrots Recipe', 'antipasti', 'Sauteed Flounder With Orange-shallot Sauce', 'olive oil'], ['Anchovies Appetizer With Breadcrumbs & Scallions', 'scallions', 'Niçoise Tuna Sandwich (Pan Bagnat)', 'bell pepper', 'Whole Roasted Fish', 'sea bass', 'Spiced Sea Bass With Caramelised Fennel', 'dinner', 'Prosciutto-wrapped Halibut With Sage Butter Sauce', 'prosciutto', 'Poached Beef With Green Sauce', 'lavender', 'Poached Beef With Green Sauce', 'fish', 'Broiled Fish With Israeli Couscous Pilaf & Corn', 'ears corn'], ['Anchovies Appetizer With Breadcrumbs & Scallions', 'starter', 'Pan-fried Cod With Mustard-caper Sauce', 'antipasti', 'Turkey Burgers With Caesar Spread', 'snack', 'Roasted Halibut With Pickled Beets (stegte Helleflynder Med Rød', 'shallot', 'Green Goddess Slaw', 'fresh parsley', 'Orange Roughy With Lemon, Garlic And Basil', 'orange roughy', 'Orange Roughy With Citrus Sauce', 'lime juice', 'Grilled Fish Tacos', 'corn tortillas'], ['Anchovies Appetizer With Breadcrumbs & Scallions', 'scallions', 'Smoked Black Bass', 'lunch', 'Steak, Tomato and Arugula Sandwiches', 'kosher salt', 'Striped Bass With Olive-almond Relish Recipe', 'kosher salt', 'Garlic-Rubbed Tri-Tip with Mint Caper Salsa', 'kosher salt', 'Salmon Club with Avocado Butter', 'antipasto', 'Broccoli Rabe Saute With Chicken Sausage', 'broccoli rabe', 'Puglia Lady Rethought For America', 'orecchiette'], ['Anchovies Appetizer With Breadcrumbs & Scallions', 'olive oil', 'Turnips and Turnip Greens with Mustard Butter', 'whole grain dijon mustard', 'Pan Bagnat a Gribiche', 'red onion', 'Panzanella With Mint And Anchovy', 'anchovy', 'Chickpea Puttanesca', 'dinner', 'Cajun Style Blackened Snapper', 'butter', 'Veal Cutlets With Lemon Caper Sauce', 'olive oil', 'Corny Mango Salmon', 'sugar'], ['Anchovies Appetizer With Breadcrumbs & Scallions', 'appetizer', 'Italian Tomato Spaghetti', 'anchovy fillets', 'Labneh With Chilli And Anchovy', 'juice of lemon', 'Butter And Herb Cracker Crusted Baked Cod Fish', 'fresh parsley', 'Pasta Puttanesca', 'canned tomatoes', 'Cioppino', 'parsley', 'Roasted Branzino With A Salt Crust', 'garlic', 'Linguine with Garlic and Soy', 'anchovy'], ['Anchovies Appetizer With Breadcrumbs & Scallions', 'anchovies', 'Crab Salad with Caesar Vinaigrette', 'red wine vinegar', 'Pann Bagnat', 'water packed tuna', 'Salad Nicoise', 'romaine lettuce', 'Little Gem Lettuce With House Caesar Dressing', 'sea salt', 'Stuffed Dry-braised Okra', 'okra', 'Stuffed Dry-braised Okra', 'anchovy', 'Garlic-Rubbed Tri-Tip with Mint Caper Salsa', 'pepper'], ['Anchovies Appetizer With Breadcrumbs & Scallions', 'olive oil', \"Tom Valenti's Lamb Shanks\", 'carrot', 'Serious Ragu', 'yellow onion', 'Steak and Ale', 'flour', 'Deep-fried Bacon And Eggs With Lemon-egg Vinaigrette', 'kosher salt', 'Sole With Summer Vegetable Salsa', 'tomato', 'Oven-Roasted Sea Bass with Couscous and Warm Tomato Vinaigrette', 'kosher salt', 'Butter And Herb Cracker Crusted Baked Cod Fish', 'butter'], ['Anchovies Appetizer With Breadcrumbs & Scallions', 'bread', 'Arctic Char And Smoked Salmon Rillettes', 'arctic char', 'Arctic Char And Smoked Salmon Rillettes', 'juice of lime', 'Chef Race: Cornmeal-Crusted Catfish with Tomato-Zucchini Rice and Radish Slaw', 'cilantro leaves', 'Sea Bass Crudo With Peruvian Tiradito Sauce', 'main course', 'Pan Fried Sea Bass', 'lunch', 'Open-Faced Tuna Nicoise Sandwich', 'bread', 'Poached Beef With Green Sauce', 'beverage'], ['Anchovies Appetizer With Breadcrumbs & Scallions', 'starter', 'Seafood Chowder With Crispy Bread Crumbs', 'snack', 'Lemon Herb Fish', 'starter', 'Seafood Stew', 'yellow onion', 'Broiled Fish On Toasted Sourdough', 'lunch', 'Crispy Baked Fish', 'dinner', 'Pan-cooked Asparagus & Fish Recipe', 'olive oil', 'Tuna Tonnato with Eggplant Salad', 'mayonnaise'], ['Anchovies Appetizer With Breadcrumbs & Scallions', 'starter', 'Mushroom Ravioli with Lemon-Caper Mayonnaise', 'parmesan cheese', 'Heavenly Halibut', 'pepper sauce', 'Heavenly Halibut', 'parmesan cheese', 'Grilled Cajun Salmon With Vegetable Mostaccioli', 'fresh mushrooms', 'Fish Chowder', 'salt', 'My Caesar Salad. Part 2', 'olive oil', 'Grilled Butterflied Leg of Lamb with Tomato-Fennel Vinaigrette', 'tomatoes'], ['Anchovies Appetizer With Breadcrumbs & Scallions', 'bread', 'Polpette di Vitello, Tonnato Style', 'main course', 'Grilled Halibut with Smashed Fingerlings and Tomato Butter', 'garlic', 'Slow-roasted Cherry Tomato Bruschetta', 'starter', 'Sauteed Flounder With Orange-shallot Sauce', \"hor d'oeuvre\", 'Pesto-Marinated Striped Bass with Warm Tomatoes', 'grape tomatoes', 'Poached Wild Salmon', 'sea salt', 'Polpette di Vitello, Tonnato Style', 'oil packed tuna'], ['Anchovies Appetizer With Breadcrumbs & Scallions', 'scallions', 'Vegetable Market Salad', 'flat leaf parsley leaves', 'Marinated Cod Fillet And Corn Pudding', 'fresh cilantro leaves', 'Grilled Jicama, Radishes, Scallions, and Chicken with Asian-Style \"Chimichurri', 'fresh parsley leaves', 'Sea Bass alla Fiorentina', 'main dish', 'Bouillabaisse', 'garlic clove', 'Broiled Striped Bass with Ginger-Scallion Oil', 'crushed red pepper', 'Pasta Puttanesca', 'olive oil'], ['Anchovies Appetizer With Breadcrumbs & Scallions', \"hor d'oeuvre\", 'Salmon Club with Avocado Butter', 'arugula leaves', 'Pan-fried Trout With Pecans', 'mat beans', 'Pan-fried Trout With Pecans', 'arugula leaves', 'Pan-fried Trout With Pecans', 'garlic clove', \"Bin189's Red And Green Caesar Salad\", 'olive oil', 'Sea Bass with Marinated Vegetables', 'capers', 'French Tapenade', 'side dish'], ['Anchovies Appetizer With Breadcrumbs & Scallions', 'bread', 'Kale Caesar', 'olive oil', 'Chicken Salad with Green Goddess Dressing', 'chicken breast', 'Chicken Salad with Green Goddess Dressing', 'salt and pepper', 'Sautéed Monkfish with Leeks and Shiitakes', 'chives', 'Potato And Shrimp Salad With Green Goddess Dressing', 'white wine', 'Saffron Sea Bass Bowl', 'plum tomatoes', 'Poached Brisket of Beef with Salsa Verde', 'yellow onions'], ['Anchovies Appetizer With Breadcrumbs & Scallions', 'bread', 'Scrambled Eggs With Salmon And Herbs', 'fresh herbs', 'Scrambled Eggs With Salmon And Herbs', 'milk', 'Scrambled Eggs With Salmon And Herbs', 'bread', 'Panzanella With Anchovy And Mint', 'red onion', 'Panzanella', 'parsley', 'Maruja’s Fish Fillets Layered with Tomatoes, Capers, Bread Crumbs, and Cheese', 'main dish', 'Grilled Halibut with Cilantro Garlic Butter', 'salt and pepper'], ['Anchovies Appetizer With Breadcrumbs & Scallions', \"hor d'oeuvre\", 'Lemon Baked Cod', 'white pepper', 'Baked Ling Cod With Lemon-garlic Butter Sauce', 'fresh parsley', 'Baked Garlic Lemon Tilapia', 'main course', 'Cornish Sea Bass With Frizzled Chillies, Ginger & Spring Onions', 'main dish', 'Chicken Cacciatora With Pan Roasted Potatoes', 'main course', 'Cod with Cashews Baked in Foil Envelopes', 'salt', 'Niçoise Salad with Salmon', 'olives'], ['Anchovies Appetizer With Breadcrumbs & Scallions', 'scallions', 'Cook the Book: Quick-Cured Salmon', 'olive oil', 'Vegetable Market Salad', 'coarse salt', 'Sole With Lemon-butter Sauce', 'butter', 'Taku Lodge Basted Grilled Salmon', 'side dish', 'Panzanella With Mint And Anchovy', 'side dish', 'Smoked Haddock With Puy Lentils', 'garlic clove', 'Broiled Striped Bass with Ginger-Scallion Oil', 'crushed red pepper'], ['Anchovies Appetizer With Breadcrumbs & Scallions', \"hor d'oeuvre\", 'Queso Manchego con Aceitunas y Piquillos', 'antipasti', 'Striped Bass With Tomatoes, Corn, And Basil', 'cherry tomatoes', 'Cat Cora’s Red Snapper With Pepitas, Capers, Cherry Tomatoes An', 'main dish', 'Seared Sea Bass With Garlic Sauce', 'dry vermouth', 'Oven-braised Salmon In Lemon-tarragon Crème Fraîche', 'salmon fillets', 'Salmon With Agrodolce Sauce', 'main course', 'Bluefish with Grape Leaves', 'grape leaves'], ['Anchovies Appetizer With Breadcrumbs & Scallions', 'bread', 'Montbrun Melange: Olive Bread With Basil, Marinated Tomatoes, A', 'basil leaves', 'Salmon With Pistachio-basil Butter', 'main course', 'Salmon with Lentils and Pink Horseradish Cream', 'butter', 'New England Fish Chowder', 'cod', 'Baked Cod With Olives', 'dinner', 'Breaded\" Redfish with Shrimp, Fennel, and Orange Salad', 'dinner', 'Salmon with Warm Passion-Fruit Vinaigrette', 'olive oil'], ['Anchovies Appetizer With Breadcrumbs & Scallions', 'snack', 'Pissaladiere', 'antipasto', 'Anchovies Appetizer With Breadcrumbs & Scallions', 'bread', 'Roasted Cod on Large Garlic Croutons', 'olive oil', 'Grilled Caesar Salad', 'english muffins', 'Deep-fried Bacon And Eggs With Lemon-egg Vinaigrette', 'eggs', 'Salade NiÃ§oise with Fresh Tuna Confit', 'anchovy', 'Beef Tenderloin Cobb Salad', 'olive oil'], ['Anchovies Appetizer With Breadcrumbs & Scallions', 'starter', 'Deviled Eggs', 'mayonnaise', 'Hard-Cooked Eggs with Crisp Anchovy Crumbs', 'antipasti', 'Italian Tomato Spaghetti', 'snack', 'Crostini With Tapenade', 'antipasto', 'Salmon Club with Avocado Butter', \"hor d'oeuvre\", 'Oven-roasted Trout With Potatoes', 'garlic cloves', 'California Artichokes With Anchovy Mayonnaise', 'garlic'], ['Anchovies Appetizer With Breadcrumbs & Scallions', 'bread', 'Arctic Char And Smoked Salmon Rillettes', 'arctic char', 'Arctic Char And Smoked Salmon Rillettes', 'bread', 'Dinner Tonight: Cod with Tarragon-Anchovy Breadcrumbs', 'cod', 'Marinated Cod Fillet And Corn Pudding', 'salt', 'Cornmeal-Crusted Fish with Green-Tomato Tartar Sauce', 'main dish', 'Adriatic Fish Broth', 'dinner', 'Wild King Salmon with Dried Cherries and Smoked Almond Beurre Noisette', 'main dish'], ['Anchovies Appetizer With Breadcrumbs & Scallions', 'starter', 'Lemon Baked Cod', 'flour', 'Cornmeal Crusted Cod with Pecans and Coconut', 'pecans', 'Pan-fried Catfish', 'lemon wedges', 'Whole Baked Fish With Lemon Salt And Aioli', 'fish', 'Fish Over A Bed Of Spinach', 'fish', 'Baked Fish Packets With Broccoli And Squash', 'garlic', 'Spicy Cauliflower Pasta With Garlic, Anchovies And Capers', 'penne pasta'], ['Anchovies Appetizer With Breadcrumbs & Scallions', 'appetizer', 'Pappardelle With Spicy Meat Sauce', 'starter', 'Lemon Baked Cod', 'paprika', 'Marinated Fish Skewers', 'salt', 'Halibut with Mustard-Nut Crust', 'mustard', 'Caesar-roasted Asparagus', 'mustard', 'Deviled Eggs', \"hor d'oeuvre\", 'Polenta Puttanesca', 'antipasto'], ['Anchovies Appetizer With Breadcrumbs & Scallions', 'appetizer', 'Striped Bass Plaki', 'weakfish', 'Striped Bass Plaki', 'unsalted butter', 'Poached Salmon With Corn And White Wine–butter Sauce', 'dinner', 'Beer-Battered Fish Tacos', 'limes', 'Tamarind Glazed Swordfish with Lime, Cilantro and Tamarind Sauce', 'main dish', 'Grilled Salmon with Dill Pickle Butter', 'olive oil', 'Grilled Kale Caesar Salad', 'kale'], ['Anchovies Appetizer With Breadcrumbs & Scallions', 'garlic clove', 'Sautéed Bass With Mint Pesto And Spiced Carrots', 'unsalted pistachios', 'Orecchiette with Cauliflower, Anchovies and Pistachios', 'oil packed tuna', 'Sautéed Broccoli Raab With Balsamic Vinegar', 'kosher salt', 'Matcha & Pistachio-crusted Halibut', 'unsalted pistachios', 'Matcha & Pistachio-crusted Halibut', 'matcha powder', 'Matcha & Pistachio-crusted Halibut', 'matcha powder', 'Matcha & Pistachio-crusted Halibut', 'lemon zest'], ['Anchovies Appetizer With Breadcrumbs & Scallions', 'garlic clove', 'Grilled Lamb Chops with Provençal Dressing', 'thyme', 'Home', 'flat leaf parsley', 'Oven-roasted Fish Stew', 'oregano', 'Double-whammy Arrabiata', 'main dish', 'Macadamia-crusted Sea Bass With Mango Cream Sauce', 'extra virgin olive oil', 'Best Basic Caesar Salad', 'jalapeno chili', 'Fish and Vegetable Soup with Lime, Ginger, and Cilantro', 'green onions'], ['Anchovies Appetizer With Breadcrumbs & Scallions', 'anchovies', 'Sautéed Squid Salad With Salsa Verde', 'anchovies', 'Pasta Puttanesca', 'garlic', 'Pasta With Fried Chile Peppers And Bread Crumbs', 'pasta', 'Pasta With Anchovy Bread Crumb Topping', 'anchovies', 'Pasta With Strong Tomato Sauce', 'rustic loaf', 'Favourite Winter Salad Recipe', 'pomegranate', 'Favourite Winter Salad Recipe', 'watercress'], ['Anchovies Appetizer With Breadcrumbs & Scallions', \"hor d'oeuvre\", 'Salmon With Dijon Dill Sauce', 'salmon fillets', 'Honey- Mustard Salmon With Roasted Asparagus', 'salt and pepper', 'Grilled Skirt Steak with Salsa Verde', 'oil packed tuna', 'Grilled Calamari on a Bed of White Beans', 'lunch', 'Crispy Pan-Fried Sole', 'pepper', 'Grilled Halibut with Potato-Fennel Puree', 'fennel seeds', 'Salmon With Fennel And Pernod', 'lunch'], ['Anchovies Appetizer With Breadcrumbs & Scallions', 'anchovies', 'Pan-roasted East Coast Skate, Anchovy And Broccoli Pickle', 'green chilli', 'Pan-roasted East Coast Skate, Anchovy And Broccoli Pickle', 'juice of lime', 'Salmon With Waffle Glaze', 'juice of lime', 'Roasted Pompano With Blood Orange Avacado Salsa, Cilantro Butte', 'olive oil', 'Tapenade', 'capers', 'Roasted Red Peppers with Tonnato Sauce', 'tuna', 'Spaghetti with tuna and cherry tomatoes', 'anchovy'], ['Anchovies Appetizer With Breadcrumbs & Scallions', 'antipasti', 'Hearty Halibut Chowder', 'onion', 'Stuffed Baked Red Peppers', 'red peppers', 'Red Pepper & Caper Bruschetta', 'lunch', 'Salade Nicoise', 'tuna', 'Salade Nicoise', 'olives', 'Onion Tartlets', 'olive oil', 'Osso bucco', 'anchovy'], ['Anchovies Appetizer With Breadcrumbs & Scallions', 'garlic clove', \"Curto's Grilled Salmon with Bacon and Potato Hash\", 'asparagus', 'Boiled Asparagus With Salsa Verde', 'side dish', 'Fish Fry', 'whitebait', 'Fish Fry', 'butter', 'Salmon In Sorrel Sauce', 'heavy cream', 'Tempura Sardines with Tonnatto Sauce', 'squash', 'Poached Beef With Green Sauce', 'arugula'], ['Anchovies Appetizer With Breadcrumbs & Scallions', 'garlic clove', 'Anchovies Appetizer With Breadcrumbs & Scallions', \"hor d'oeuvre\", 'Emerils Fish Provencal', 'antipasti', 'Pan-fried Cod With Mustard-caper Sauce', 'english cucumber', 'Pan-fried Cod With Mustard-caper Sauce', 'whole grain mustard', 'Roasted Poussins with Anchovy-Mustard Pan Sauce', 'flour', 'No-knead Fennel & Anchovy Pizza', 'main course', 'Cornmeal-Crusted Fish with Green-Tomato Tartar Sauce', 'flour'], ['Anchovies Appetizer With Breadcrumbs & Scallions', 'appetizer', 'Hake Fillet With Jasmine Rice And Cabbage', 'kosher salt', 'Salt-Baked Sea Bass with Warm Tomato Vinaigrette', 'main dish', 'Lemon Sole, Chicory And Cockles', 'garlic clove', 'Basil-Steamed Halibut with Lemon Crème Sauce', 'black pepper', 'Floribbean\" Grouper with Red Pepper-Papaya Jam', 'grouper fillets', 'Broiled Grouper with Creamy Crab and Shrimp Sauce', 'salt and pepper', 'Tuscan Chicken Liver Crostini', 'fresh sage leaves'], ['Anchovies Appetizer With Breadcrumbs & Scallions', 'bread', 'Roasted Cauliflower with Capers and Bread Crumbs', 'side dish', 'Parmesan & Anchovy Straws', 'egg', 'Smoked Fish Cakes With Corn Tartar Sauce', 'dinner', 'Roasted Halibut with Green Olive Sauce', 'heavy cream', 'Swordfish in Creamy Tomato Sauce', 'water', 'Boston Bluefish With Spinach And Soup', 'lunch', 'Coconut Crusted Haddock', 'lime juice'], ['Anchovies Appetizer With Breadcrumbs & Scallions', 'snack', 'Garlic & Herb Seasoned Tilapia', 'starter', 'Acqua Pazza (fish Simmered In Tomato-garlic Broth)', 'white wine', 'Potato And Shrimp Salad With Green Goddess Dressing', 'grape tomatoes', 'Bluefish (or Swordfish) With Preserved Lemons', 'sugar', 'Stuffed Bluefish with Sweet and Spicy Masala', 'garam masala', 'Stuffed Bluefish with Sweet and Spicy Masala', 'green chiles', 'Stuffed Bluefish with Sweet and Spicy Masala', 'dinner'], ['Anchovies Appetizer With Breadcrumbs & Scallions', 'garlic clove', 'Salt-baked Striped Bass with Herb Lemon Chile Sauce (Branzino Sotto Sale con Salmoriglio)', 'lunch', 'Grilled Fish', 'ground cumin', \"Alma's Striped Bass Seviche\", 'grapefruit juice', 'Whole Grilled Fiesta Fish', 'canola oil', 'Cornmeal Crusted Cod with Pecans and Coconut', 'main course', 'Pan-Sautéed Trout with Capers', 'dry white wine', 'Pan Sautéed Chilean Sea Bass', 'main dish'], ['Anchovies Appetizer With Breadcrumbs & Scallions', 'anchovies', 'Caesar Salad', 'cos lettuce', 'Caesar Salad', 'worcestershire sauce', \"Bin189's Red And Green Caesar Salad\", 'anchovies', 'Escarole Salad with Anchovy Dressing', 'dijon mustard', 'Creamy Tuna With Tarragon And Egg Noodles', 'chicken stock', 'Chicken Cacciatore', 'garlic', 'Broiled Walleye With Dill Tabbouleh', 'red bell pepper'], ['Anchovies Appetizer With Breadcrumbs & Scallions', 'scallions', 'Spiced Cod With Broccoli-quinoa Pilaf', 'snack', 'Roasted Sea Bass With Fennel, Blood Oranges & Olives', 'appetizer', 'Roast Sea Bass With Chilli & Lime Leaves', \"hor d'oeuvre\", 'Cedar-planked Salmon With Seasoned Lemon Butter', 'snack', 'Steamed Asian Sea Bass In The Bag', 'antipasto', 'Favas, Green Beans, Peas And Zucchini Ribbons', 'olive oil', 'Bagna Cauda (piedmontese Warm Garlic-anchovy Dip)', 'anchovy'], ['Anchovies Appetizer With Breadcrumbs & Scallions', 'anchovies', 'Caesar Pasta Salad', 'mayonnaise', 'Caesar Salad With Toasty Garlic Croutons', 'salad', 'Warm Tuna Salad Niçoise', 'olive oil', 'Greek Salad With Cherry Tomatoes', 'oregano', 'Basic Ceviche', 'dinner', 'Roasted Monkfish with Curried Lentils and Browned Butter Cauliflower', 'butter', 'Tasty Tilapia', 'tilapia'], ['Anchovies Appetizer With Breadcrumbs & Scallions', 'antipasto', 'Striped Bass With Tomatoes, Corn, And Basil', 'antipasto', 'Acqua Pazza (fish Simmered In Tomato-garlic Broth)', 'white wine', 'Spring (?) Herb Cooking', 'butter', 'Breaded Fish In A Flash', 'butter', 'Salmon with Lentils and Pink Horseradish Cream', 'chicken stock', 'Stuffed Peppers with Lamb and Eggplant', 'yellow onion', 'Smoky Red Pepper Soup', 'garlic cloves'], ['Anchovies Appetizer With Breadcrumbs & Scallions', 'antipasti', \"Dad's Fish Stew\", 'tabasco sauce', 'Striped Bass with Cilantro-Onion Salad', 'cilantro leaves', 'Halibut Veracruz', 'jalapeno', 'Triple Citrus Caesar Salad', 'garlic', 'Whole Mackerel With Orange Butter', 'salt & pepper', 'Baked Halibut À La Wolfgang Puck', 'lunch', 'Veal Scaloppine with Wilted Parsley, Lemon and Sesame', 'dinner'], ['Anchovies Appetizer With Breadcrumbs & Scallions', 'anchovies', 'French Onion Tart', 'onions', \"The Lady's Bouillabaisse\", 'main course', 'Emerils Fish Provencal', 'olive oil', 'Orange, Parsley, And Walnut Salad', 'parsley', 'Radish Salad Lugano', 'salt and pepper', 'Grilled Butterflied Trout with Lemon-Parsley Butter', 'lemon wedges', 'Roasted Sea Bass with Summer Squash', 'plum tomatoes'], ['Anchovies Appetizer With Breadcrumbs & Scallions', 'antipasti', 'Chicken And Radish Salad With Creamy Avocado Dressing', 'chicken breast meat', 'Chicken And Radish Salad With Creamy Avocado Dressing', 'antipasti', 'Fried Anchovies', 'eggs', 'Hot Niçoise Salad', 'anchovies', 'Pann Bagnat', 'fresh parsley', 'Sea Bass and Confetti Vegetables with Lemon-Butter Sauce', 'dry white wine', 'Home', 'dungeness crab'], ['Anchovies Appetizer With Breadcrumbs & Scallions', 'antipasto', 'Hard-Cooked Eggs with Crisp Anchovy Crumbs', 'antipasto', 'Lemon Herb Fish', 'tilapia fillets', 'Garlic & Herb Seasoned Tilapia', 'antipasti', 'Pissaladiere', 'olive oil', 'Miniature Onion Tartlets', 'starter', 'Salmon Club with Avocado Butter', 'juice of lemon', 'Little Gem Lettuce With House Caesar Dressing', 'sea salt'], ['Anchovies Appetizer With Breadcrumbs & Scallions', 'scallions', 'Steamed Whole Fish', 'asian fish sauce', 'Steamed Whole Fish', 'lime zest', 'Arctic Char With Asian Braised Fennel And Citrus Emulsion', 'canola oil', 'Blackened Grouper', 'lemon wedges', 'Grilled Butterflied Trout with Lemon-Parsley Butter', 'parsley', \"Baketard.com - Blog - Giorgio Locatelli's Branzino alla Vernaccia in Crosta Di Pomodoro (Sea Bass with Tomato Crust and Vernaccia Wine)\", 'tomatoes', 'Mediterranean Salad Platter', 'tomatoes'], ['Anchovies Appetizer With Breadcrumbs & Scallions', 'antipasto', 'Whole Striped Bass With Fennel And Tomato', 'basil leaves', 'Poached Salmon with Corn and White Wine-Butter Sauce', 'shallots', 'Striped Bass Meunière', 'lunch', 'Grilled Halibut with Smashed Fingerlings and Tomato Butter', 'parsley', 'Poached Sea Bass with Lemon Butter', 'lemon juice', 'Niçoise Salad Sandwiches', 'ahi tuna', 'Niçoise Salad Sandwiches', 'cherry tomatoes'], ['Anchovies Appetizer With Breadcrumbs & Scallions', 'antipasto', 'Baked Sole With Asparagus', 'salt and pepper', 'Stuffed Summer Squash di Alici', 'colatura di alici', 'Stuffed Summer Squash di Alici', 'lunch', 'Down And Dirty Pasta E Cecci', 'lunch', 'Grilled Halibut with Potato-Fennel Puree', 'fennel bulbs', 'Roast Sea Bass With Chilli & Lime Leaves', 'red chilli', 'Schezuan Pear Broth With Mackerel Dumplings', 'table salt'], ['Anchovies Appetizer With Breadcrumbs & Scallions', 'scallions', 'Steamed Wild Striped Bass with Ginger and Scallions', 'vegetable oil', 'Foil-Packet Fish With Corn Relish', 'striped bass', 'Broiled Striped Bass with Ginger-Scallion Oil', 'lemon juice', 'Oven-Roasted Sea Bass with Couscous and Warm Tomato Vinaigrette', 'couscous', 'Black Sea Bass with Moroccan Vegetables and Chile Sauce', 'leeks', 'Lake Trout with Fingerling Potatoes and Bacon', 'trout fillets', 'Speckled Trout with Crab-stuffed Piquillos, Edamame, and Truffle Vinaigrette', 'dinner'], ['Anchovies Appetizer With Breadcrumbs & Scallions', 'antipasti', 'Striped Bass Plaki', 'weakfish', 'Striped Bass Plaki', 'antipasti', 'Sauteed Flounder With Orange-shallot Sauce', 'starter', 'Cioppino', 'halibut', 'Halibut, Spinach, And Tomatoes In Foil Packets', 'main course', 'Spaghetti With Caramelized Onions, Anchovies, And Toasted-garli', 'bread', 'Bagna Cauda', 'starter'], ['Anchovies Appetizer With Breadcrumbs & Scallions', 'garlic clove', 'Bacon-wrapped Sea Bass', 'olive oil', 'Lightened-up Chicken Caesar Platter', 'parmesan cheese', 'Kittencal’s Famous Creamy Caesar Salad Dressing', 'mayonnaise', 'Caesar Salad Spears', 'salad', 'Balsamic Portabella Salad With Goat Cheese', 'kosher salt', 'Pan-Seared Salmon with Cherry Tomatoâ€“Ginger Sauce', 'fresh ginger', 'Steamed Sea Bass With Ginger And Shiitakes', 'sea bass fillets'], ['Anchovies Appetizer With Breadcrumbs & Scallions', 'antipasto', 'Baked Flounder With Parsnips And Carrots Recipe', 'lemon', 'Easy Baked Parmesan Tilapia', 'pear', 'Bean Sprout Beef Rice Bowl', 'low sodium soy sauce', 'Sea Bass With Asparagus', 'fresh ginger', 'Steamed Sea Bass With Ginger And Shiitakes', 'sea salt', 'use real butter', 'lunch', 'Sautéed Cod With Textures Of Jerusalem Artichokes', 'salt'], ['Anchovies Appetizer With Breadcrumbs & Scallions', 'bread', 'Zakary Pelaccio’s Pasta Con Sarde', 'fresh sardines', 'Zakary Pelaccio’s Pasta Con Sarde', 'dinner', 'Salt and Pepper Salmon', 'fresh dill', 'Salmon with Dijon Dill Sauce', 'black pepper', 'Sautéed Chicken with Tonnato Sauce', 'oregano', 'Rio Grande Trout with Riesling', 'juniper berries', 'Greek-Style Braised Lamb Shanks', 'low sodium beef broth'], ['Anchovies Appetizer With Breadcrumbs & Scallions', 'garlic clove', 'Halibut, Clams, and Pancetta with Escarole', 'pepper', 'Bold Winter Greens Salad', 'anchovy', 'Muffuletta', 'kalamata olives', 'Cook the Book: Braided Beef with Anchovies and Olives', 'loin roast', 'Cook the Book: Braided Beef with Anchovies and Olives', 'kalamata olives', 'Sea Bass with Moroccan Salsa', 'red bell peppers', 'Roasted Red Pepper Sandwiches with Tapenade and Basil', 'canned anchovy fillets'], ['Anchovies Appetizer With Breadcrumbs & Scallions', 'antipasti', 'Asparagus With Anchovies & Garlic', 'water', 'Java Chicken in Coconut Sauce', 'tart apple', 'Java Chicken in Coconut Sauce', 'white peppercorns', 'Striped Bass with Saffron Vegetables and Spiced Broccoli Rabe', 'main dish', 'The Chicken-fried Pork Belly Caesar', 'lunch', \"The Lady's Bouillabaisse\", 'water', \"Fisherman's Soup\", 'celery'], ['Anchovies Appetizer With Breadcrumbs & Scallions', 'garlic clove', 'Smoked Haddock With Puy Lentils', 'lentils', 'Sauteed Cod with Lentils', 'flat leaf parsley', 'Pan-Seared Halibut with Tomato Vinaigrette', 'main course', 'Miso Salmon With Mushrooms', 'chives', 'Broiled Bacon-Basted Salmon with Mushroom-Oyster Sauce', 'mixed mushrooms', 'Broiled Bacon-Basted Salmon with Mushroom-Oyster Sauce', 'chives', \"McDevitt's Miso-Marinated Sea Bass\", 'lime juice'], ['Anchovies Appetizer With Breadcrumbs & Scallions', \"hor d'oeuvre\", 'Roast Sea Bass With Chilli & Lime Leaves', 'starter', 'Mediterranean Fish Fillets', 'onion', 'Salmon Rillettes', 'unsalted butter', 'Veal Scaloppine with Wilted Parsley, Lemon and Sesame', 'veal', 'Veal Scaloppine with Wilted Parsley, Lemon and Sesame', 'anchovy', 'Cook the Book: Artichokes Basted with Anchovy Butter', 'ground pepper', 'Triple Citrus Caesar Salad', 'jalapeno'], ['Anchovies Appetizer With Breadcrumbs & Scallions', \"hor d'oeuvre\", 'Vegetable Stew With Halibut', 'olive oil', 'Salmon With Honey Mustard Pan Sauce', 'whole grain dijon mustard', 'Pan Bagnat a Gribiche', 'whole grain dijon mustard', 'Salmon With Honey Mustard Pan Sauce', 'unsalted butter', \"Katie Lee's Sole Meunière Recipe\", 'lemon juice', 'Dinner Tonight: Kale Caesar Salad with Anchovies', 'main dish', 'Cauliflower Pancakes (Fritelle di Cavalofiore)', 'flour'], ['Anchovies Appetizer With Breadcrumbs & Scallions', 'anchovies', 'Dinner Tonight: Caesar Salad', 'bread', 'Poached Beef With Green Sauce', 'pork', 'Poached Beef With Green Sauce', 'green beans', 'French Tuna Burger With Green Bean Salad', 'dinner', 'Easy Asian-style Low Fat Microwave Steamed Fish', 'gingerroot', 'Easy Asian-style Low Fat Microwave Steamed Fish', 'peanut butter', 'Easy Asian-style Low Fat Microwave Steamed Fish', 'lunch'], ['Anchovies Appetizer With Breadcrumbs & Scallions', 'olive oil', 'Spaghetti With Romano Peppers', 'olive oil', 'Roasted Striped Bass', 'kosher salt', 'Sole Florentine', 'black pepper', 'Creole Striped Bass', 'juice of lemon', 'The Crisper Whisperer: Jar Of Caesar', 'garlic clove', 'Pizza', 'main dish', 'Pan-cooked Asparagus & Fish Recipe', 'fennel'], ['Anchovies Appetizer With Breadcrumbs & Scallions', 'antipasti', 'Fish Chowder', 'antipasti', 'Salmon With Pepita-lime Butter', 'lime zest', 'Fish Cooked In Banana Leaves With Tomatillos And Guajillo Chilis', 'bell pepper', 'Corn Risotto Garnished with Bacon & Anchovy Sage Leaf Bite', 'chardonney', 'Corn Risotto Garnished with Bacon & Anchovy Sage Leaf Bite', 'main course', 'Sablefish with Sun-dried Tomato Tapenade', 'garlic clove', 'French Tapenade', 'bell pepper'], ['Anchovies Appetizer With Breadcrumbs & Scallions', 'anchovies', 'Balsamic, Caper, And Anchovy Marinade', 'olive oil', 'Oven-Roasted Whole Fish', 'bay leaves', 'Herb-Broiled Fish with Lemon Aioli', 'bay leaves', 'Portuguese Fish Stew', 'sea bass fillets', 'Spice-Baked Sea Bass and Red Lentils', 'dried green lentils', 'Roasted Monkfish with Curried Lentils and Browned Butter Cauliflower', 'garlic cloves', 'Brazilian Fish Stew (Moqueca de Peixe)', 'fresh cilantro'], ['Anchovies Appetizer With Breadcrumbs & Scallions', 'appetizer', 'Miniature Onion Tartlets', 'kalamata olive', 'Lamb Chops With Olive Orange Anchovy Sauce Recipe', 'sea salt', 'Twin Pissaladières', 'side dish', 'Roasted Cauliflower with Capers and Bread Crumbs', 'olive oil', 'Bagna Cauda', 'side dish', 'Artichokes with Anchoïade', 'green olives', 'Baked Halibut À La Wolfgang Puck', 'main course'], ['Anchovies Appetizer With Breadcrumbs & Scallions', 'bread', 'Steak, Tomato and Arugula Sandwiches', 'dinner', 'Seared Bass with Cauliflower Duo', 'top blade steak', 'Seared Bass with Cauliflower Duo', 'vegetable oil', 'The Chicken Fried Pork Belly Caesar', 'side dish', 'Blackened Redfish', 'dried thyme', 'Spice-rubbed Fish Fillets With Lemon Butter Sauce', 'paprika', 'Tuscan Braised Short Ribs', 'fresh thyme'], ['Anchovies Appetizer With Breadcrumbs & Scallions', 'antipasto', \"Katie Lee's Sole Meunière Recipe\", 'antipasti', 'Pressed Summer Sandwich with Eggs and Anchovies', 'hard cooked eggs', 'Salad Capricciosa', 'leeks', 'Salmon with Lentils and Mustard-Herb Butter (Saumon aux Lentilles)', 'water', 'Cheesy Catfish Chowder', 'water', 'Fish Fumet', 'bell pepper', 'Grilled Halibut with Smashed Fingerlings and Tomato Butter', 'lemon zest'], ['Anchovies Appetizer With Breadcrumbs & Scallions', 'scallions', 'Vegetable Market Salad', 'coarse salt', 'Tart Green Salad with Avocado Dressing', 'chives', 'Sliced Baguette With Radishes And Anchovy Butter', 'chives', \"Foshee's Striped Bass with Caramelized Onion Sauce\", 'lunch', 'Tuna Patties', 'main course', 'Miso-roasted Fish On Cedar Plank', 'cod fillets', 'Arctic Char with Tangerine-Habanero Glaze and Meyer Lemon Couscous Broth', 'dinner'], ['Anchovies Appetizer With Breadcrumbs & Scallions', 'anchovies', 'Quick tomato macaroni cheese', 'extra virgin olive oil', 'Anchiode-tipped Romaine', 'garlic', 'Roasted Striped Bass With Chive And Sour Cream Sauce', 'chive', 'Roasted Striped Bass With Chive And Sour Cream Sauce', 'chive', 'Roasted Striped Bass With Chive And Sour Cream Sauce', 'garlic', 'Super Simple Roasted Red Pepper Spread', 'dip', 'Smoked Bluefish Spread', 'dip'], ['Anchovies Appetizer With Breadcrumbs & Scallions', 'scallions', 'Steamed Whole Fish with Scallions and Ginger', 'main dish', 'Biftekia Gemista (feta Stuffed Burgers)', 'sablefish', 'Pan-Seared Black Sea Bass with Endives and Grapes', 'belgian endives', 'Sea Salt-Crusted Pink Snapper with Ice Wine Nage', 'belgian endives', 'Caesar Salad Spears', 'mayonnaise', 'Caesar Salad With Toasty Garlic Croutons', 'bell pepper', 'Caesar Salad with Pancetta', 'pancetta'], ['Anchovies Appetizer With Breadcrumbs & Scallions', 'scallions', 'Steamed Sea Bass with Tamarind Sauce', 'pearl onions', 'Pancetta-Wrapped Salmon with Red Wine Butter', 'dinner', 'Trout With Brown Butter & Almonds', 'main course', 'Salmon with Shiitake and Red Wine Sauce', 'salt and pepper', 'Garlic-Rubbed Tri-Tip with Mint Caper Salsa', 'garlic cloves', 'Stuffed Pizza Pie with Escarole', 'anchovy', 'Lightened-up Chicken Caesar Platter', 'dijon mustard'], ['Anchovies Appetizer With Breadcrumbs & Scallions', 'antipasti', 'Hake Fillet With Jasmine Rice And Cabbage', 'jasmine rice', 'Roasted Mushroom-Stuffed Striped Bass', 'unsalted butter', 'Fish Baked In Foil With Fennel And Lime', 'side dish', 'Halibut Baked in Fresh Green Salsa', 'low sodium chicken broth', 'Halibut Baked in Fresh Green Salsa', 'salmon', 'Salmon Rillettes/salmon Spread', 'condiment', 'Salmon Rillettes/salmon Spread', 'paprika'], ['Anchovies Appetizer With Breadcrumbs & Scallions', 'bread', 'Steak, Tomato and Arugula Sandwiches', 'dinner', 'Tarragon-tomato Fish', 'shallots', 'Chicken Thighs With Snap Peas And Agliata', 'snap peas', 'Chicken Thighs With Snap Peas And Agliata', 'sweet paprika', 'Roasted Poussins with Anchovy-Mustard Pan Sauce', 'chives', 'Salmon Rillettes', 'unsalted butter', 'White Anchovy and Crisp Pita Bread Salad', 'garlic clove'], ['Anchovies Appetizer With Breadcrumbs & Scallions', 'antipasti', 'Seafood Chowder With Crispy Bread Crumbs', 'antipasti', 'Roasted Cod And Scallions With Spiced Potatoes', 'red potatoes', 'Home-Style Parisian Potato Salad', 'black pepper', 'Lemon Sole with Lemon-Caper Sauce', 'fat free less sodium chicken broth', 'Striped Bass Meunière', 'black pepper', 'Spaghetti with Anchovies and Breadcrumbs', 'fresh parsley', 'Salmon with Tomatoes', 'lemon juice'], ['Anchovies Appetizer With Breadcrumbs & Scallions', 'antipasti', 'Blue Fish With Tomato, Garlic And Onions', 'antipasto', 'Breadcrumbs Stuffed Green Peppers', 'appetizer', 'Salmon With Dijon Dill Sauce', 'dijon mustard', \"McDevitt's Miso-Marinated Sea Bass\", 'lemon', 'Sea Bass Puttanesca In A Foil Pouch', 'fresh flat leaf parsley', 'Baked Fish with Roasted Potatoes, Tomatoes, and Salmoriglio Sauce', 'bbq sauce', 'Big City Salmon with Martini Sauce', 'shallot'], ['Anchovies Appetizer With Breadcrumbs & Scallions', 'garlic clove', 'Double Bacon Caesar', 'garlic clove', 'Grilled Fish With Orange-fennel Salsa', 'fresh cilantro', 'Sea Bass with Moroccan Salsa', 'fresh cilantro', 'Steamed Sea Bass With Ginger And Shiitakes', 'green onions', 'Caribbean Fish Soup', 'onion', 'Salmon Chowder', 'lunch', 'Dinner Tonight: Pasta Alla Puttanesca', 'canned tomatoes'], ['Anchovies Appetizer With Breadcrumbs & Scallions', 'starter', 'Baked Sole With Asparagus', 'antipasti', 'Roasted Cod And Scallions With Spiced Potatoes', 'scallions', 'Steamed Sea Bass with Tamarind Sauce', 'garlic clove', 'Lightened-up Chicken Caesar Platter', 'dijon mustard', 'Bacon Caesar Salad', 'dijon mustard', 'Salmon with Dijon Dill Sauce', 'dinner', 'Roasted Halibut with Fennel and Croutons', 'lunch'], ['Anchovies Appetizer With Breadcrumbs & Scallions', 'olive oil', 'Mussels with Tomatoes, Wine, and Anise', 'coffee flavored liqueur', 'Mussels with Tomatoes, Wine, and Anise', 'dry white wine', 'Pan-Seared Tarragon Trout', 'flour', 'Halibut Baked in Fresh Green Salsa', 'onion', 'Springtime Dip', 'ground nutmeg', 'Chili Garlic Salmon (light Butter Recipe)', 'swiss chard', 'Sea Bass With Swiss Chard & Beurre Blanc', 'lunch'], ['Anchovies Appetizer With Breadcrumbs & Scallions', 'scallions', 'Steamed Fish With Scallions And Ginger', 'sugar', 'Roasted Radicchio with Anchovy Vinaigrette, Preserved Lemon, and Breadcrumbs', 'main course', 'Citrus Twist Sea-bass', 'olive oil', 'Red Leaf Caesar Salad with Grilled Parmesan Croutons', 'salt and pepper', 'Fried Smelt Recipe', 'garlic', 'Fish With Summer Squash', 'red onion', 'Mixed Grill with Sicilian Lemon Salad and Almond Mint Salsa', 'lemons'], ['Anchovies Appetizer With Breadcrumbs & Scallions', 'scallions', 'Sake Sea Bass in Parchment', 'sea bass', 'Pan Roasted Filet Mignon with Asparagus Sea Bass with Roasted Cauliflower Puree', 'main dish', 'Lamb Chops with Fennel Relish', 'garlic clove', 'Prosciutto, Fried Egg, and Parmesan on Country Bread', 'parmesan', 'Caesar Salad With Toasty Garlic Croutons', 'capers', 'Roast Pork Loin, Turnips, Garlic and Anchovies', 'red wine vinegar', 'Dinner Tonight: Caesar Salad', 'romaine lettuce'], ['Anchovies Appetizer With Breadcrumbs & Scallions', 'appetizer', 'Tapenade Crostini', 'antipasti', 'Grilled Branzino With Rosemary Vinaigrette', 'olive oil', 'Parmesan Chicken With Caesar Roasted Romaine', 'garlic cloves', 'Pan-Roasted Fish with Mediterranean Tomato Sauce', 'fresh flat leaf parsley', 'Fish Stew', 'cumin', 'Chef Race: Cornmeal-Crusted Catfish with Tomato-Zucchini Rice and Radish Slaw', 'radishes', 'Grilled Jicama, Radishes, Scallions, and Chicken with Asian-Style \"Chimichurri', 'radishes'], ['Anchovies Appetizer With Breadcrumbs & Scallions', 'appetizer', 'Baked Flounder With Parsnips And Carrots Recipe', 'lemon zest', 'Skate, Chicory, and Anchovy', 'chicory', 'Green Goddess Dressing', 'romaine', 'Dinner Tonight: Grilled Caesar Salad', 'salt and pepper', 'Grilled Sea Bass With A Portuguese Sauce', 'lunch', 'Tarragon Tuna Melt', 'dijon mustard', 'Caesar Salad', 'dijon mustard'], ['Anchovies Appetizer With Breadcrumbs & Scallions', 'anchovies', 'Anchovy Fries with Smoked Paprika Aioli', 'panko bread crumbs', 'Coconut Lime Crusted Fish', 'dinner', 'Marinated Fish with Salmoriglio Sauce', 'olive oil', 'Baked Fish Packets With Broccoli And Squash', 'broccoli florets', 'Black Sea Bass with Moroccan Vegetables and Chile Sauce', 'black pepper', 'Macadamia-crusted Sea Bass With Mango Cream Sauce', 'olive oil', 'Clam And Calamari Seafood Stew With Salsa Verde', 'squid'], ['Anchovies Appetizer With Breadcrumbs & Scallions', 'anchovies', 'Pepper Pasta', 'bell pepper', 'Asparagus, Lox & Stilton Frittata', 'dinner', 'Crispy Tuna with Tuna-Caper Sauce', 'flat leaf parsley', 'Orecchiette with Cauliflower, Anchovies and Pistachios', 'dinner', 'Challenging Misconceptions: Potato Pizza – A cooking blog - Kitchenist', 'basil', 'Seared Salmon With Quick Hollandaise', 'butter', 'Stuffed Fish in Puff Pastry', 'celery'], ['Anchovies Appetizer With Breadcrumbs & Scallions', 'appetizer', 'Grilled Sausage Appetizer With Gremolata', 'anchovy', 'Lemon And Parsley Sauce', 'side dish', 'Grilled Salmon With Tarragon Butter', 'side dish', 'Roasted Peppers With Anchovies', 'side dish', 'Sea Bass Puttanesca In A Foil Pouch', 'lemon', 'Grilled Swordfish With Lemon And Caper Sauce', 'capers', 'Salt Cod Brandade', 'fat skimmed chicken broth'], ['Anchovies Appetizer With Breadcrumbs & Scallions', 'antipasto', 'Herbed Fish Cakes with Green Horseradish Sauce', 'parsley', 'Cauliflower, Anchovies and Tomatoes', 'red chilli pepper', 'Spicy Kimchi Stew (kimchi Jjigae)', 'canned tuna', 'Turkey Tonnato With Potatoes And Green Beans', 'haricots verts', 'Salade Nicoise', 'main dish', 'Trout Amandine, Steamed Asparagus And New Potatoes', 'butter', 'Salmon with Creamy Dill Sauce', 'sour cream'], ['Anchovies Appetizer With Breadcrumbs & Scallions', \"hor d'oeuvre\", 'Lemon Herb Fish', 'tilapia fillets', 'Lemon-Dill Tilapia', 'salt', 'Cauliflower Mushroom Leek Soup With Butter Fish', 'vegetable broth', 'Spice-Baked Sea Bass and Red Lentils', 'main course', 'Roasted Sea Bass With Caper Sauce', 'sea bass fillets', 'Sea Bass Fillets with Parsley Sauce', 'eggs', 'Scrambled Eggs With Salmon And Herbs', 'cream cheese'], ['Anchovies Appetizer With Breadcrumbs & Scallions', 'anchovies', 'Red Pepper & Caper Bruschetta', 'main dish', 'Pan-Fried Skate with Brown Butter and Parsnip Puree', 'lemon juice', 'Sauteed Cod with Lentils', 'lentils', 'Poached Beef With Green Sauce', 'prosciutto', 'Prosciutto-wrapped Salmon With Warm Corn-mushroom Salsa', 'side dish', 'Blackened Peppers With Capers, Parsley, And Garlic', 'capers', 'Sautéed Striped Bass with Lemon-Caper Sauce', 'capers'], ['Anchovies Appetizer With Breadcrumbs & Scallions', 'bread', 'Panzanella With Anchovy And Mint', 'red onion', 'Roasted Black Sea Bass with Tomato and Olive Salad', 'main course', \"Sea Bass all'Acqua Pazza\", 'garlic cloves', 'Pissaladière', 'canned tomatoes', 'Manhattan-Style Fish Chowder', 'butter', 'Blackened Tuna', 'ahi tuna steaks', 'Glazed Grilled Tuna with Sweet Bell Pepper Ragout', 'main dish'], ['Anchovies Appetizer With Breadcrumbs & Scallions', 'garlic clove', 'Steamed Fish With Ginger & Orange', 'ginger root', 'Cornish Sea Bass With Frizzled Chillies, Ginger & Spring Onions', 'lunch', 'Skinny Tuna Noodle Casserole', 'brown rice pasta', 'Skinny Tuna Noodle Casserole', 'brown rice pasta', 'Skinny Tuna Noodle Casserole', 'butter', 'Sole with Tarragon-Butter Sauce', 'dry white wine', 'Sauteed Flounder With Orange-shallot Sauce', 'fresh parsley'], ['Anchovies Appetizer With Breadcrumbs & Scallions', 'starter', 'Cioppino', 'halibut', 'Sauteed Ling Cod With Leeks & Anchovy Butter', 'leeks', 'Cauliflower Mushroom Leek Soup With Butter Fish', 'soup', 'Caribbean Fish Soup', 'sea bass fillets', 'Miso-Glazed Sea Bass with Asparagus', 'sugar', 'Schezuan Pear Broth With Mackerel Dumplings', 'pepper', 'Onion Confit Pizza (Pissaladière)', 'pepper'], ['Anchovies Appetizer With Breadcrumbs & Scallions', 'bread', 'Anchovies Appetizer With Breadcrumbs & Scallions', 'antipasto', 'Hearty Halibut Chowder', 'carrots', 'Baccala', 'celery', \"Sea Bass all'Acqua Pazza\", 'dinner', 'Sole Piccata With Brown Butter & Grapes', 'sea salt', 'Pan Fried Striped Bass', 'main dish', 'Pecan-Crusted Tilapia', 'snapper fillets'], ['Anchovies Appetizer With Breadcrumbs & Scallions', 'antipasti', 'Fish With Olives, Pine Nuts, Basil And Wine', 'garlic', 'Spaghetti With Green Olive Sauce', 'main course', 'Sea Bass With Swiss Chard & Beurre Blanc', 'dinner', 'Cajun Style Blackened Snapper', 'onion powder', 'Blackened Redfish', 'black pepper', 'Spaghetti with Anchovies and Breadcrumbs', 'extravirgin olive oil', 'Hearts of Romaine Caesar Salad with Grilled Chicken', 'garlic cloves'], ['Anchovies Appetizer With Breadcrumbs & Scallions', 'garlic clove', 'Salad with Parmigiano-Reggiano and anchovy dressing', 'local', 'Salad with Parmigiano-Reggiano and anchovy dressing', 'state primary', 'Salad with Parmigiano-Reggiano and anchovy dressing', 'frisee', 'Flageolet Beans And Frisee Salad', 'frisee', 'Salad with Parmigiano-Reggiano and anchovy dressing', 'local', 'Salad with Parmigiano-Reggiano and anchovy dressing', 'don bartletti / los angeles times', 'Salad with Parmigiano-Reggiano and anchovy dressing', 'salad mix'], ['Anchovies Appetizer With Breadcrumbs & Scallions', 'antipasti', 'Chicken-Liver Crostini', 'capers', 'Acqua Pazza (fish Simmered In Tomato-garlic Broth)', 'snack', 'Garlic Herb Tilapia', 'starter', 'Anchovies Appetizer With Breadcrumbs & Scallions', 'antipasti', 'Chicken-Liver Crostini', 'sage', 'Roasted Red Pepper Pasta Sauce', 'anchovies', 'Grilled Radicchio And Romaine Chopped Salad', 'capers'], ['Anchovies Appetizer With Breadcrumbs & Scallions', 'bread', 'Arctic Char And Smoked Salmon Rillettes', 'arctic char', 'Arctic Char And Smoked Salmon Rillettes', 'chives', 'Sautéed Snapper on Wilted Spinach with Mulled Zinfandel Butter', 'main course', 'Roasted Trout With Lemon & Walnut-browned Butter', 'walnuts', 'Orange, Parsley, And Walnut Salad', 'starter', 'Salmon With Pepita-lime Butter', 'antipasto', 'Breadcrumbs Stuffed Green Peppers', 'antipasti'], ['Anchovies Appetizer With Breadcrumbs & Scallions', 'scallions', 'Salmon with Mushroom Sauce', 'unsalted butter', 'Roasted Cod with Steamer Clams and Pistachio Sauce', 'chives', 'Warm Scallop Salad with Mushrooms and Zucchini', 'lemon juice', 'Balsamic, Caper, And Anchovy Marinade', 'coarse salt', 'Baked Cod With Olives', 'coarse salt', 'Smoked-bluefish Pate With Roasted Tomatoes On Crackers', 'crackers', 'Chocolate \"gone Fishing\" Cake', 'food dye'], ['Anchovies Appetizer With Breadcrumbs & Scallions', \"hor d'oeuvre\", 'Fish With Olives, Pine Nuts, Basil And Wine', 'garlic', 'Caesar Salad', 'coarse salt', 'Lemon-horseradish Sole', 'lemon zest', 'Crispy Monkfish with Capers', 'lemon wedges', 'Chili-Cumin Fried Fish', 'coarse salt', 'Striped Bass With Tomatoes, Corn, And Basil', 'antipasti', 'Pasta Con Sarde', 'chicken'], ['Anchovies Appetizer With Breadcrumbs & Scallions', 'scallions', 'Salmon With Green Goddess Sauce', 'anchovy paste', 'Egg-Free Avocado Caesar Salad', 'anchovy paste', 'Double Bacon Caesar', 'main dish', 'Shallow-Poached Fish Fillets', 'lunch', 'Greek-Style Braised Lamb Shanks', 'onion', 'Crispy Baked Fish', 'sour cream', 'Tuna Caper Dip', 'fresh parsley leaves'], ['Anchovies Appetizer With Breadcrumbs & Scallions', \"hor d'oeuvre\", 'Stilton Cheese Puffs', 'antipasto', 'Baked Flounder With Parsnips And Carrots Recipe', 'starter', 'Steamed Asian Sea Bass In The Bag', 'antipasti', 'Mediterranean Fish Fillets', 'antipasti', 'Garlic Herb Tilapia', 'mustard', 'Smoky-Spicy Bass', 'cayenne pepper', 'Blackened Salmon and Rice', 'dried thyme'], ['Anchovies Appetizer With Breadcrumbs & Scallions', 'scallions', 'Sautéed Bass with Lemongrass', 'leek', 'Poached Halibut With Eberhard', 'onion', 'Pasta with Anchovies, Currants, Fennel, and Pine Nuts', 'breadcrumbs', 'Parmesan-crusted Veal With Salsa Verde', 'main course', 'Grilled Fish With Pesto Sauce', 'lemon', 'Roasted Striped Bass With Chive And Sour Cream Sauce', 'chive', 'Egg and Anchovy Crostini', 'side dish'], ['Anchovies Appetizer With Breadcrumbs & Scallions', 'garlic clove', 'Sea Bass with Marinated Vegetables', 'lemon', 'Fish with Curried Cucumber Tomato Water and Tomato Herb Salad', 'fresh chives', 'Fresh Lettuces and Heirloom Tomatoes with Chèvre Green Goddess Dressing', 'green onions', 'Grilled Jicama, Radishes, Scallions, and Chicken with Asian-Style \"Chimichurri', 'radishes', 'Sardines On Toast', 'oil packed tuna', 'Caesar Salad with Crispy Tofu Croutons', 'romaine hearts', 'San Fran-Caesar with Sour Dough Croutons', 'thyme leaves'], ['Anchovies Appetizer With Breadcrumbs & Scallions', 'antipasto', 'Pesto-Marinated Striped Bass with Warm Tomatoes', 'snack', 'Grilled Halibut With Salt-and-vinegar Potatoes', 'baby arugula', 'Chopped Greek Salad', 'kalamata olive', 'Pasta Puttanesca', 'short pasta', 'Mustard Greens, Shrimp, And Anchovy Pasta', 'olive oil', 'Red Pepper & Caper Bruschetta', 'lunch', 'Corn Risotto Garnished with Bacon & Anchovy Sage Leaf Bite', 'sage'], ['Anchovies Appetizer With Breadcrumbs & Scallions', 'olive oil', 'Fish Over A Bed Of Spinach', 'fresh thyme leaves', 'Pissaldiere', 'kalamata olives', 'Greek Salad With Cherry Tomatoes', 'oregano', 'Maruja’s Fish Fillets Layered with Tomatoes, Capers, Bread Crumbs, and Cheese', 'main dish', 'Salmon, Sweet Potato, and Broccoli Chowder', 'onion', 'Kedgeree', 'eggs', \"Seabass Ravioli from Ischia: Ravioli all' Ischitana\", 'garlic'], ['Anchovies Appetizer With Breadcrumbs & Scallions', 'appetizer', 'Broccoli Rabe With Garlic & Anchovies', 'appetizer', 'Stuffed Flank Steak', 'anchovy', 'Garlic-Rubbed Tri-Tip with Mint Caper Salsa', 'capers', 'Halibut With Pepitas, Capers & Tomatoes', 'lemon juice', 'Garden Caesar Salad', 'garlic', 'Artichokes with Bagna Cauda', 'olive oil', 'Escarole and Roasted Broccoli Salad with Anchovy Dressing', 'asiago cheese'], ['Anchovies Appetizer With Breadcrumbs & Scallions', 'antipasto', 'Grilled Halibut With Salt-and-vinegar Potatoes', 'striped bass', 'Wild Striped Bass en Papillote', 'unsalted butter', 'Sage-rubbed Pork Tenderloins with Sage Butter', 'garlic powder', 'Blue Corn Crusted Black Bass', 'buttermilk', 'Celery -Root Rémoulade', 'dijon mustard', 'Pommes Frites With Two Dipping Sauces', 'canola oil', 'Ginger Steamed Fish With Troy S Hana Style Sauce Recipe', 'lunch'], ['Anchovies Appetizer With Breadcrumbs & Scallions', \"hor d'oeuvre\", 'Pressed Summer Sandwich with Eggs and Anchovies', 'olive oil', 'Niçoise Tuna Sandwich (Pan Bagnat)', 'main dish', 'Salmon With Noodles', 'olive oil', 'Pan-fried Trout With Polenta-spice Crust', 'trout filet', 'Grilled Striped Bass with Orange-Saffron Butter', 'main dish', 'Grilled Halibut with BBQ Butter', 'sugar', 'Oriental Style Peppers', 'sugar'], ['Anchovies Appetizer With Breadcrumbs & Scallions', 'garlic clove', 'Spaghettini with Tomatoes, Anchovies and Almonds', 'almonds', 'Spiced Cod With Broccoli-quinoa Pilaf', 'broccoli', 'Mediterranean Pasta with Broccoli', 'salt and pepper', 'Port-Marinated Pork with Prunes and Anchovies', 'boneless pork loin roast', 'Port-Marinated Pork with Prunes and Anchovies', 'port', 'Striped Bass With Sage And Red-wine Butter', 'dinner', 'Marinated Fish with Salmoriglio Sauce', 'salt'], ['Anchovies Appetizer With Breadcrumbs & Scallions', 'scallions', 'Smoked Black Bass', 'black pepper', 'Sautéed Radicchio', 'garlic', 'The Ultimate Caesar Salad', 'parmesan', 'Caesar Salad', 'olive oil', 'Onion Confit Pizza (Pissaladière)', 'dry savory', 'Grilled Rib-Eye Steaks with Roasted Peppers', 'anchovy fillets', 'Italian Tomato Spaghetti', 'appetizer'], ['Anchovies Appetizer With Breadcrumbs & Scallions', 'olive oil', \"Fisherman's Soup\", 'fresh rosemary', 'Bacon-wrapped Sea Bass', 'salt', 'Flounder Piccata with Spinach', 'main dish', 'Baked Dijon Salmon', 'dry bread crumbs', 'Grilled Salmon with Fennel and Creole Mustard Spaetzle', 'heavy cream', 'Salmon with Mushroom Sauce', 'dry white wine', 'Garam Masala Seared Salmon with Coconut-Curry Butter', 'garam masala'], ['Anchovies Appetizer With Breadcrumbs & Scallions', 'appetizer', 'Pissaladiere', 'fresh thyme', 'Pissaladiere', 'onions', 'Pan-roasted Halibut With Herbed Lentils And Breadcrumbs', 'celery', 'Poached Brisket of Beef with Salsa Verde', 'dinner', 'Pan-Seared Tilapia with Chile Lime Butter', 'serrano chile', 'Spicy Butter-Steamed Bass', 'red snapper fillets', 'Tomato-Crusted Snapper with Artichokes and Olives', 'dry white wine'], ['Anchovies Appetizer With Breadcrumbs & Scallions', 'garlic clove', 'Pan-Seared Halibut with Tomato Vinaigrette', 'garlic clove', 'Easy to Make Dinner Combo', 'food dye', 'Potato Leek And Salmon Frittata', 'eggs', 'Seared Scallops with Basil, Anchovy and Sweet Corn Pudding', 'pea shoots', 'Sautéed Cod With Textures Of Jerusalem Artichokes', 'main dish', 'Lamb Chops with Fennel Relish', 'crushed red pepper', 'Broiled Striped Bass with Ginger-Scallion Oil', 'striped bass'], ['Anchovies Appetizer With Breadcrumbs & Scallions', 'bread', 'Sunny Side Up Eggs', 'eggs', 'Blackened Striped Bass with Corn Spoon Bread and Greens', 'striped bass', 'Cornmeal-Crusted Fish with Green-Tomato Tartar Sauce', 'main dish', 'Fabulous fish stew', 'red snapper', 'Broiled Fish On Toasted Sourdough', 'unsalted butter', 'Cheddar Beer Soup', 'flour', 'Pistachio Crusted Salmon with Lemon Cream Sauce', 'black pepper'], ['Anchovies Appetizer With Breadcrumbs & Scallions', 'appetizer', 'Grilled Miso-glazed Sea Bass With Japanese Cucumber Salad', 'starter', 'Pressed Summer Sandwich with Eggs and Anchovies', 'orange bell pepper', 'Pan Seared Scallops With Pepper And Onions In Anchovy Oil', 'kosher salt', 'Caponata-stuffed Zucchini', 'chives', 'Avocado And Prawn Open Lasagna With Anchovy Butter', 'dinner', 'Slow-roasted Cauliflower With Pounded Anchovies', 'anchovy', 'Cook the Book: Braided Beef with Anchovies and Olives', 'anchovy'], ['Anchovies Appetizer With Breadcrumbs & Scallions', 'starter', 'Penne Puttanesca', 'capers', 'Green Olive & Almond Tapenade', 'garlic', 'Pasta Puttanesca With Kale', 'garlic', 'Pan-Seared Salmon with Cherry Tomatoâ€“Ginger Sauce', 'canola oil', 'Grilled Wahoo with Tomato Sauce', 'flat leaf parsley', 'Stuffed Seabass', 'tomato and basil sauce', 'Stuffed Seabass', 'main course'], ['Anchovies Appetizer With Breadcrumbs & Scallions', 'bread', 'Tarragon Tuna Melt', 'black pepper', 'Spice-Baked Sea Bass and Red Lentils', 'yellow onion', 'Salmon with Leek and Rice Stuffing', 'salmon', 'Salmon Fillets With Horseradish-potato Crust', 'salt and pepper', 'Garlic And Oil Spaghetti With Greens', 'spaghetti', 'Spaghetti with puttanesca', 'tomatoes', 'Seabass Tartar On Warm Zucchini Cream With Tomato Caviar', 'extra virgin olive oil'], ['Anchovies Appetizer With Breadcrumbs & Scallions', 'appetizer', 'Roast Sea Bass With Chilli & Lime Leaves', 'thai fish sauce', 'Grilled Sea Bass with Thai Chili Sauce', 'main dish', 'Almond-crusted Salmon With Leek And Lemon Cream', 'dinner', 'Nova Lox Benedict', 'english muffins', 'Deep-fried Bacon And Eggs With Lemon-egg Vinaigrette', 'main course', 'Saucy Catfish', 'main dish', 'Halibut With Pepitas, Capers & Tomatoes', 'dinner'], ['Anchovies Appetizer With Breadcrumbs & Scallions', 'garlic clove', 'Anchovy and White Bean Pizza', 'dinner', 'Roasted Mushroom-Stuffed Striped Bass', 'parsley', 'Grilled Butterflied Trout with Lemon-Parsley Butter', 'lunch', 'Broccoli With Burrata, Pine Nuts And Warm Anchovy Vinaigrette', 'buffalo mozzarella', 'Fried Squash Blossoms', 'baking powder', 'Deep Fried Sea Bass', 'main course', 'Grilled Halibut with Potato-Fennel Puree', 'fennel seeds'], ['Anchovies Appetizer With Breadcrumbs & Scallions', 'appetizer', 'Clam And Calamari Seafood Stew With Salsa Verde', 'olive oil', 'Fish Tacos On The Grill', 'fish fillets', 'Herb & Pea Fishcakes', 'butter', 'Crisp Chatham Bluefish with Maque Choux', 'lunch', 'Crab Crusted Grouper', 'canned crabmeat', 'Crab Crusted Grouper', 'red bell pepper', 'Quick-Cured Sake Salmon with Quinoa', 'lunch'], ['Anchovies Appetizer With Breadcrumbs & Scallions', 'snack', 'Fish Chowder', 'antipasti', 'Striped Bass With Lime Butter', 'unsalted butter', 'Ribeye Steaks and Mushrooms with a Herb, Citrus, and Anchovy Butter', 'ribeye steaks', 'Ribeye Steaks and Mushrooms with a Herb, Citrus, and Anchovy Butter', 'main course', 'Fish Soup with Bread and Rouille', 'tomato puree', 'Steamed Thai Fish', 'ground ginger', 'Spice-Baked Sea Bass and Red Lentils', 'dried thyme'], ['Anchovies Appetizer With Breadcrumbs & Scallions', 'scallions', 'Gingered Salmon And Carrot Sauce', 'olive oil', 'Bagna Cauda Salad', 'carrots', 'Spring Fish In Parchment', 'green beans', 'Warm Tuna Salad Niçoise', 'salt & pepper', 'Tuscan Bread Salad', 'red onion', 'Roasted Pompano with Citrus Avocado Salsa, Cilantro Butter & Spicy Plantains', 'salt and pepper', 'Cornmeal-Crusted Fish with Green-Tomato Tartar Sauce', 'main course'], ['Anchovies Appetizer With Breadcrumbs & Scallions', 'anchovies', 'Dressed Up Marbled Eggs', 'side dish', 'Onion Pissaladière', 'olives', 'Twin Pissaladières', 'active yeast', 'Whole-wheat blini with green olive tapenade', 'olive tapenade', 'Spring Fish In Parchment', 'vermouth', 'Poached Catfish with Leeks and Mustard', 'main course', 'Roasted Tomato and Roasted Garlic Puttanesca', 'main dish'], ['Anchovies Appetizer With Breadcrumbs & Scallions', \"hor d'oeuvre\", 'Cedar-planked Salmon With Seasoned Lemon Butter', 'snack', 'Mushroom Ravioli with Lemon-Caper Mayonnaise', 'button mushrooms', 'Blackened Bluefish And Burnt Mushrooms', 'main dish', 'Salmon With Cucumber-sour Cream Sauce', 'pepper', 'Lemon-Dill Tilapia', 'tilapia fillets', 'Garlic Herb Tilapia', 'antipasti', 'French Onion Tart', 'antipasti'], ['Anchovies Appetizer With Breadcrumbs & Scallions', 'starter', 'Spaghetti Puttanesca', 'tomato paste', 'Spaghetti Puttanesca', 'yellow onion', 'Krazy Garlic Trout', 'jalapeno pepper', 'Whole Fish With Mint', 'striped bass', 'Pan-Roasted Striped Bass with Roasted Artichokes, Mushrooms, and Tomato Marmalade', 'lunch', 'Shrimp Georgie Porgie', 'butter', 'Salmon With Green Goddess Sauce', 'dinner'], ['Anchovies Appetizer With Breadcrumbs & Scallions', 'olive oil', 'Chef Race: Cornmeal-Crusted Catfish with Tomato-Zucchini Rice and Radish Slaw', 'juice of lime', 'Arctic Char And Smoked Salmon Rillettes', 'smoked salmon', 'Salmon Rillettes/salmon Spread', 'condiment', 'Bagna Cauda Dip With Assorted Vegetables', 'olive oil', 'Farmers’ Pasta', 'fresh flat leaf parsley', 'Find the book', 'cake flour', 'Fried Squash Blossoms', 'squash blossoms'], ['Anchovies Appetizer With Breadcrumbs & Scallions', \"hor d'oeuvre\", 'Chicken-Liver Crostini', \"hor d'oeuvre\", 'Tagliatelle With Purple Sprouting Broccoli, Anchovies And Pecorino', 'antipasti', \"Dad's Fish Stew\", 'onion', 'Bluefish Chowder', 'basil', 'Salsa Verde', 'parsley', 'Wheat Noodles with Anchovy Sauce: Bigoli en Salsa', 'main dish', 'Pancetta-Wrapped Roast Leg of Lamb', 'dry white wine'], ['Anchovies Appetizer With Breadcrumbs & Scallions', 'snack', 'Orange, Parsley, And Walnut Salad', 'snack', 'Fish Chowder', 'antipasti', 'Hard-Cooked Eggs with Crisp Anchovy Crumbs', 'appetizer', 'Whole Striped Bass With Fennel And Tomato', 'snack', 'spicy tomato mussels', 'starter', 'Sliced Baguette With Radishes And Anchovy Butter', 'radishes', 'Ojai Tapenade', 'cherry tomatoes'], ['Anchovies Appetizer With Breadcrumbs & Scallions', 'bread', 'Dinner Tonight: Caesar Salad', 'lemon juice', 'Muffuletta', 'oregano', 'Cook the Book: Sicilian Pizza', 'plum tomatoes', 'Bluefish Chowder', 'lunch', 'Salmon Salsa Verde', 'olive oil', 'Fish With Couscous Salad Recipe (omega 3 And Couscous)', 'fennel bulb', 'Baked Striped Bass With Fennel And Pernod', 'coarse salt'], ['Anchovies Appetizer With Breadcrumbs & Scallions', 'starter', 'Penne Puttanesca', 'fresh flat leaf parsley', 'Fish Stew', 'yellow bell pepper', 'Glazed Grilled Tuna with Sweet Bell Pepper Ragout', 'tomato', 'Brazilian Fish Stew (Moqueca de Peixe)', 'shrimp', 'Seafood Stew', 'orange peel', 'Lamb and Artichoke Daube', 'canned tomatoes', 'Pasta Puttanesca', 'capers'], ['Anchovies Appetizer With Breadcrumbs & Scallions', 'antipasto', 'Anchovy Fennel Toasts with Roasted Red Peppers', 'anchovy', 'Green Bean and Tomato Salad', 'black pepper', 'Salad with Parmigiano-Reggiano and anchovy dressing', 'arugula', 'Open-Faced Tuna Nicoise Sandwich', 'capers', 'Polenta Puttanesca', 'white onion', 'Penne Puttanesca', 'plum tomatoes', 'Simple Niçoise Salad Recipe', 'potatoes'], ['Anchovies Appetizer With Breadcrumbs & Scallions', \"hor d'oeuvre\", 'Stilton Cheese Puffs', 'stilton cheese', 'Stilton Cheese Puffs', 'starter', 'Turkey Burgers With Caesar Spread', 'antipasti', 'Queso Manchego con Aceitunas y Piquillos', 'oil cured black olives', 'Striped Bass with Saffron Vegetables and Spiced Broccoli Rabe', 'white peppercorns', 'Roasted Halibut with Green Olive Sauce', 'shallot', 'Salmon With Dijon Dill Sauce', 'salmon fillets'], ['Anchovies Appetizer With Breadcrumbs & Scallions', 'garlic clove', 'Easy to Make Dinner Combo', 'extra virgin olive oil', 'Cook the Book: Steak with Anchovy Butter', 'garlic clove', 'Baked Peppers With Onion And Tomato', 'side dish', 'Mustard butter, live', 'side dish', 'Salsa Verde', 'side dish', 'Fig-Olive Tapenade', 'lemon juice', 'Catfish Classique', 'shrimp'], ['Anchovies Appetizer With Breadcrumbs & Scallions', \"hor d'oeuvre\", 'Garlic Herb Tilapia', 'butter', 'Nova Lox Benedict', 'english muffins', 'Grilled Caesar Salad', 'juice of lemon', 'Trout With Brown Butter & Almonds', 'main dish', 'Beer Braised BBQ Pork Butt', 'ground coriander', 'Peanut Sauce', 'shallots', 'Poached Catfish with Leeks and Mustard', 'dinner'], ['Anchovies Appetizer With Breadcrumbs & Scallions', 'starter', 'Pasta Con Sarde', 'antipasto', 'Miniature Onion Tartlets', 'antipasti', 'Pesto-Marinated Striped Bass with Warm Tomatoes', 'grape tomatoes', 'Kitchen Play: Salmon with Herbed Butter and Burst Tomato Sauce', 'lemon juice', 'Sea Bass and Confetti Vegetables with Lemon-Butter Sauce', 'fresh parsley', 'Lemon-Dill Tilapia', 'lemons', 'Brook Trout with Pecans, Lemon, and Parsley Brown Butter', 'coarse salt'], ['Anchovies Appetizer With Breadcrumbs & Scallions', 'appetizer', 'Fried Anchovies', 'antipasti', 'Red Tea Smoked Sea Bass With Cinnamon Caramelized Plums', 'appetizer', 'Cioppino', 'dungeness crab', 'Cioppino', 'stock', 'Osso bucco', 'veal', 'Osso bucco', 'main course', 'Gulf Fish en Papillote', 'dinner'], ['Anchovies Appetizer With Breadcrumbs & Scallions', 'antipasto', 'Clam And Calamari Seafood Stew With Salsa Verde', 'bread', 'Dinner Tonight: Caesar Salad', 'main dish', 'Potato-Crusted Snapper', 'black pepper', 'Grilled Caesar Salad', 'garlic', 'Quinoa Puttanesca', 'kalamata olives', 'Chicken Puttanesca', 'kosher salt', 'Pan-roasted Halibut With Herbed Lentils And Breadcrumbs', 'main course'], ['Anchovies Appetizer With Breadcrumbs & Scallions', 'scallions', 'Anchovies Appetizer With Breadcrumbs & Scallions', 'snack', 'Fish Chowder', 'antipasti', 'Anchovy Fennel Toasts with Roasted Red Peppers', 'snack', 'Striped Bass With Tomatoes, Corn, And Basil', 'ears of corn', 'Grouper with Corn \"Pudding\" and Collard Greens', 'dinner', 'Bruschetta With Goat Cheese And Olive Tapenade', 'goat cheese', 'Seriously Italian: Escarole And Walnut Salad With Anchovy Dressing', 'salt and pepper'], ['Anchovies Appetizer With Breadcrumbs & Scallions', 'antipasti', 'Fish Chowder', 'onions', 'Broiled Fish With Israeli Couscous Pilaf & Corn', 'kosher salt', 'Cook the Book: Deviled Egg Salad with Anchovies, Hot Smoked Paprika, and Tomato', 'anchovies', 'Creamy Anchoïade with Crudités', 'side dish', 'Onion Tartlets', 'sugar', 'The Secret Ingredient (pastis): Pastis-glazed Fish With Fennel', 'pastis', 'The Secret Ingredient (pastis): Pastis-glazed Fish With Fennel', 'sea bass filets'], ['Anchovies Appetizer With Breadcrumbs & Scallions', 'bread', 'Tuna Patties', 'main course', 'Ligurian Seafood Stew', 'baby peas', 'Ligurian Seafood Stew', 'main course', 'Salmon Salsa Verde', 'main dish', 'Christmas Pizza', 'sea salt', 'Salt Crusted Whole Fish', 'garlic', 'Stuffed Cornuto Peppers', 'salt and pepper'], ['Anchovies Appetizer With Breadcrumbs & Scallions', 'snack', 'Toasted Parmesan And Garlic Oil Caesar Salad', \"hor d'oeuvre\", 'Tagliatelle With Purple Sprouting Broccoli, Anchovies And Pecorino', 'anchovies', 'Broccoli With Anchovies, Capers & Chilli', 'capers', 'Whole-wheat blini with green olive tapenade', 'white bread', 'Pissaladière Tartlets', 'fresh thyme', 'Red Bell Pepper and Eggplant Tian with Anchovies', 'canned anchovy fillets', 'Roasted Red Pepper Bagna Cauda', 'lemon juice'], ['Anchovies Appetizer With Breadcrumbs & Scallions', 'appetizer', 'Oven-roasted Trout With Potatoes', 'unsalted butter', 'Montbrun Melange: Olive Bread With Basil, Marinated Tomatoes, A', 'anchovies', 'Preserved Lemon Dip', 'parsley', 'Roasted Monkfish with Curried Lentils and Browned Butter Cauliflower', 'onion', \"Fisherman's Soup\", 'soup', 'Smoky Red Pepper Soup', 'kosher salt', 'Green Goddess Salad With Romaine, Cucumbers, And Avocado', 'salad'], ['Anchovies Appetizer With Breadcrumbs & Scallions', 'snack', 'Herbed Fish Cakes with Green Horseradish Sauce', 'antipasto', 'Pan-fried Cod With Mustard-caper Sauce', 'lemon juice', 'Anchovy and Herb Marinade', 'lemon juice', 'Warm Seafood Salad with Pistachio and Capers', 'capers', 'Poached Beef With Green Sauce', 'peppers', 'Blackened Peppers With Capers, Parsley, And Garlic', 'garlic cloves', 'Mussels with Tomatoes, Wine, and Anise', 'main course'], ['Anchovies Appetizer With Breadcrumbs & Scallions', 'appetizer', 'Fried Anchovies', 'flour', 'Cashew And Rosemary Encrusted Salmon With Lime Hibiscus Sauce', 'salt and pepper', 'Paper Wrapped Anniversary Salmon', 'unsalted butter', 'Seared Mahi Mahi with Zesty Basil Butter', 'mahi mahi fillets', 'Macadamia Nut Crusted Mahi Mahi', 'vegetable oil', 'Broiled Striped Bass with Ginger-Scallion Oil', 'main course', 'Cod with Crushed Potatoes and Anchovy-Olive Oil Emulsion', 'olive oil'], ['Anchovies Appetizer With Breadcrumbs & Scallions', 'scallions', 'Sea Bass and Cucumbers in Champagne Sauce', 'cream', 'Sautéed Cod With Textures Of Jerusalem Artichokes', 'cod', 'Miso Glazed Black Cod', 'drink', 'Miso Glazed Black Cod', 'cod', 'Baked Cod With Olives', 'unsalted butter', 'Grilled Halibut with Potato-Fennel Puree', 'mayonnaise', 'Salmon with Creamy Dill Sauce', 'mayonnaise'], ['Anchovies Appetizer With Breadcrumbs & Scallions', 'bread', 'Poached Beef With Green Sauce', 'pickled beets', 'Poached Beef With Green Sauce', 'fava pods', 'Poached Beef With Green Sauce', 'apples', 'Poached Beef With Green Sauce', 'stew meat', 'Osso bucco', 'rye meal', 'Osso bucco', 'onion', 'Sicilian-style Fish Stew', 'main course'], ['Anchovies Appetizer With Breadcrumbs & Scallions', 'antipasto', 'Breadcrumbs Stuffed Green Peppers', 'starter', 'Bagna Cauda', 'antipasto', 'Asparagus With Anchovies & Garlic', 'anchovy paste', 'Seafood Stew with Anchovy Aioli', 'dinner', 'Mediterranean Pasta with Broccoli', 'main dish', 'Spiced Brown Sugar Salmon With Peach-kiwi Salsa', 'lime juice', 'Grilled Halibut with Cilantro Garlic Butter', 'fresh cilantro'], ['Anchovies Appetizer With Breadcrumbs & Scallions', 'garlic clove', 'Chicken Liver Crostini', 'lunch', 'Roasted Cod with Steamer Clams and Pistachio Sauce', 'chives', 'Green Goddess Slaw', 'scallions', 'Baked Fish In Soy Ginger Sauce', 'ginger', 'Steamed Asian Sea Bass In The Bag', 'antipasti', 'Anchoïade With Radishes, Fennel, Celery And Carrots', 'olive oil', 'Deep-fried Bacon And Eggs With Lemon-egg Vinaigrette', 'eggs'], ['Anchovies Appetizer With Breadcrumbs & Scallions', 'appetizer', 'Cedar-planked Salmon With Seasoned Lemon Butter', 'lemon zest', 'Chopped Greek Salad', 'kosher salt', 'Tilapia With Caper-parsley Sauce', 'antipasto', 'Mushroom Ravioli with Lemon-Caper Mayonnaise', 'button mushrooms', 'Mushroom Ravioli with Lemon-Caper Mayonnaise', 'capers', 'Italian Tomato Spaghetti', 'antipasti', \"Ginger-steamed Fish With Troy's Hana-style Sauce\", 'antipasto'], ['Anchovies Appetizer With Breadcrumbs & Scallions', 'garlic clove', 'Cook the Book: Steak with Anchovy Butter', 'dinner', 'Ginger-and-Lemon-Steamed Striped Bass with Fennel Salad', 'fresh ginger', \"McDevitt's Miso-Marinated Sea Bass\", 'artichokes', 'New England Fish Chowder', 'chicken', 'Poached Beef With Green Sauce', 'wood apple', 'Plank-Grilled Salmon with Grape Relish', 'lunch', 'Gulf Fish en Papillote', 'butter'], ['Anchovies Appetizer With Breadcrumbs & Scallions', 'scallions', \"Foshee's Striped Bass with Caramelized Onion Sauce\", 'scallions', 'Steamed Whole Fish', 'cilantro leaves', 'Sea Bass Crudo With Peruvian Tiradito Sauce', 'vegetable oil', 'Garam Masala Seared Salmon with Coconut-Curry Butter', 'drink', 'Poached Beef With Green Sauce', 'ricotta', 'Poached Beef With Green Sauce', 'capers', 'Anchovy and Roasted-Pepper Salad with Goat Cheese', 'capers'], ['Anchovies Appetizer With Breadcrumbs & Scallions', 'anchovies', 'Chicken With Garlic & Olives', 'lunch', 'Seafood Stew with Anchovy Aioli', 'lunch', 'Salmon with Dijon Dill Sauce', 'unsalted butter', 'Steamed Black Bass With Sicilian-style Pesto', 'orange zest', 'Sea Salt-Crusted Pink Snapper with Ice Wine Nage', 'belgian endives', 'Grilled Branzino With Vegetables', 'main dish', 'Roasted Pompano With Blood Orange Avacado Salsa, Cilantro Butte', 'cilantro'], ['Anchovies Appetizer With Breadcrumbs & Scallions', 'starter', 'Polenta Puttanesca', 'antipasti', 'Stuffed Flank Steak', 'salt and pepper', 'Baked Fish In Soy Ginger Sauce', 'sauce', 'Faux Peanut Sauce', 'cilantro leaves', 'Corvina Traditional', 'maple syrup', 'Maple-Soy Glazed Salmon', 'salmon fillet', 'Maple-Soy Glazed Salmon', 'dinner'], ['Anchovies Appetizer With Breadcrumbs & Scallions', 'antipasto', 'Tilapia With Caper-parsley Sauce', 'snack', 'Breadcrumbs Stuffed Green Peppers', 'black olives', 'Red Mullet With Tomatoes, Olives & Anchovies', 'main dish', 'Sea Bass Crusted with Moroccan Spices', 'lemon juice', 'Bay Wolf Caesar', 'parmesan cheese', 'Skinny Tuna Noodle Casserole', 'butter', 'Broiled Fish With Israeli Couscous Pilaf & Corn', 'israeli couscous'], ['Anchovies Appetizer With Breadcrumbs & Scallions', 'snack', 'Lemon Baked Cod', \"hor d'oeuvre\", 'Stilton Cheese Puffs', 'antipasti', 'Garlic & Herb Seasoned Tilapia', 'appetizer', 'Whole Striped Bass With Fennel And Tomato', 'olive oil', 'Lemon Butter Fish With Peperonata', 'capers', 'Cauliflower, Anchovies and Tomatoes', 'cherry tomatoes', 'Pressed Summer Sandwich with Eggs and Anchovies', 'appetizer'], ['Anchovies Appetizer With Breadcrumbs & Scallions', 'antipasto', 'Vegetable Stew With Halibut', 'red potatoes', 'Roasted Cod And Scallions With Spiced Potatoes', 'antipasto', 'Whole Branzino In Grape Leaves With Zucchini, Olives, And Mint', 'snack', 'Pan-fried Cod With Mustard-caper Sauce', 'kosher salt', 'Grilled Eggplant with Olive, Orange & Anchovy Vinaigrette', 'side dish', 'Caramelized Onion Tart With Olives', 'side dish', 'Whole Baked Fish In Sea Salt With Parsley Gremolata', 'coarse sea salt'], ['Anchovies Appetizer With Breadcrumbs & Scallions', 'starter', 'Pissaladière', 'olive oil', 'Fish Stew with Clams', 'sea salt', 'Grilled Swordfish With Lemon And Caper Sauce', 'unsalted butter', 'Grilled Salmon with Dill Pickle Butter', 'dijon mustard', 'Roasted Sea Bass With Caper Sauce', 'main course', 'Grilled Calamari on a Bed of White Beans', 'squid', 'Sautéed Squid Salad With Salsa Verde', 'capers'], ['Anchovies Appetizer With Breadcrumbs & Scallions', 'garlic clove', 'Pan-Seared Tarragon Trout', 'butter', 'Pan-seared Salmon', 'dinner', 'Spring Fish In Parchment', 'lunch', 'Salt Crusted Whole Fish', 'dinner', 'Butternut Squash Tart With Anchovy Vinaigrette', 'flour', 'Sauteed Flounder With Orange-shallot Sauce', \"hor d'oeuvre\", 'Pissaladiere', 'anchovy'], ['Anchovies Appetizer With Breadcrumbs & Scallions', 'bread', 'Toasted Parmesan And Garlic Oil Caesar Salad', 'egg yolk', 'The Chicken Fried Pork Belly Caesar', 'lemon juice', 'Grilled Salmon With Tarragon Butter', 'salmon steaks', 'Grilled Salmon With Zucchini Relish', 'main dish', 'Pan-seared Crispy Salmon', 'shallot', 'Baked Trout With White Wine & Fennel', 'main course', 'Salmon Club With Avocado Butter', 'unsalted butter'], ['Anchovies Appetizer With Breadcrumbs & Scallions', 'scallions', 'Pan-Seared Skirt Steak with Anchovies and Lime', 'steaks', 'Steak and Ale', 'dinner', 'Baked Garlic Lemon Tilapia', 'salt and pepper', 'Osso bucco', 'garlic', 'Crispy Baked Basa', 'cod fillets', 'Fish Chowder', 'antipasto', 'Cedar-planked Salmon With Seasoned Lemon Butter', 'snack'], ['Anchovies Appetizer With Breadcrumbs & Scallions', 'antipasti', 'Garlic & Herb Seasoned Tilapia', 'garlic', 'The Secret Ingredient (anchovy): Green Caesar Salad', 'anchovy filets', 'Dinner Tonight: Orecchiette With Broccoli, Anchovies, And Chiles', 'main dish', 'Cajun Shrimp and Catfish', 'fresh parsley', 'Fish Piccata', 'capers', 'Griddled Courgette Salad With Anchovies & Capers', 'lemon', 'Pan Sauteed Tilapia With Lemon And Jalapeno', 'salt'], ['Anchovies Appetizer With Breadcrumbs & Scallions', 'snack', 'Oven-roasted Trout With Potatoes', 'new potatoes', 'Tilapia With Caper-parsley Sauce', 'kosher salt', 'Arugula and Celery Salad with Lemon-Anchovy Dressing', 'flat leaf parsley leaves', 'Bruschetta With Goat Cheese And Olive Tapenade', 'goat cheese', 'Chickpea Panelle with Goat Cheese and Salsa Rustica', 'red wine vinegar', 'Dinner Tonight: Caesar Salad', 'salt and pepper', 'Oven-roasted Trout With Potatoes', 'antipasti'], ['Anchovies Appetizer With Breadcrumbs & Scallions', 'appetizer', 'Pasta With Cauliflower', \"hor d'oeuvre\", 'Fish Chowder', 'fresh parsley', 'Roasted Trout With Lemon & Walnut-browned Butter', 'main dish', 'Baked Dijon Salmon', 'dijon mustard', \"dragon's Breath' Caesar Salad\", 'parmesan cheese', 'Double Bacon Caesar', 'dinner', 'Sautéed Chicken with Tonnato Sauce', 'mayonnaise'], ['Anchovies Appetizer With Breadcrumbs & Scallions', 'starter', 'Whole Striped Bass With Fennel And Tomato', 'basil leaves', 'Whole Striped Bass With Fennel And Tomato', 'lemon', 'Roasted Radicchio with Anchovy Vinaigrette, Preserved Lemon, and Breadcrumbs', 'radicchio', 'Bagna Cauda', 'radicchio', 'Sautéed Radicchio', 'black pepper', 'Salmon Wellington', 'main course', 'Christmas Pizza', 'main course'], ['Anchovies Appetizer With Breadcrumbs & Scallions', 'snack', 'Mixed Olive Tapenade', 'oil cured black olives', 'Chickpea Panelle with Goat Cheese and Salsa Rustica', 'basil leaves', 'Bluefish (or Swordfish) With Preserved Lemons', 'main course', 'Orecchiette (almost) Alla Pugliese', 'olive oil', 'Pasta With Anchovy-walnut Sauce', 'dinner', 'Oven-Steamed Red Snapper with Fennel and Curry', 'fennel', 'Fish In Vegetable Broth', 'side dish'], ['Anchovies Appetizer With Breadcrumbs & Scallions', 'garlic clove', 'Whole Baked Fish In Sea Salt With Parsley Gremolata', 'lemon', 'Roasted Trout With Lemon & Walnut-browned Butter', 'kosher salt', 'Wood-Roasted Striped Bass with Meyer Lemon and Olive Relish', 'lemon juice', 'Poached Salmon with Hollandaise Sauce', 'main dish', 'Nova Lox Benedict', 'english muffins', 'Nova Lox Benedict', 'butter', \"Natalie's Cajun-Seasoned Pan-Fried Tilapia\", 'main course'], ['Anchovies Appetizer With Breadcrumbs & Scallions', 'starter', 'Favas, Green Beans, Peas And Zucchini Ribbons', 'fava beans', 'Grilled Sea Bass With A Portuguese Sauce', 'butter', 'Grilled Halibut with BBQ Butter', 'orange zest', 'Grilled Eggplant with Olive, Orange & Anchovy Vinaigrette', 'globe eggplant', 'Grilled Eggplant with Olive, Orange & Anchovy Vinaigrette', 'kosher salt', 'Salmon Brochettes with Sliced Fennel Vinaigrette', 'fresh thyme', 'Hazelnut-Crusted Halibut with Roasted Asparagus', 'butter'], ['Anchovies Appetizer With Breadcrumbs & Scallions', 'antipasti', 'Striped Bass Plaki', 'sweet onion', 'Green Goddess Slaw', 'sweet onion', 'Emerils Fish Provencal', 'main course', 'Poached Salmon With Leeks', 'salmon', 'Black Pepper-crusted Salmon', 'fresh parsley', 'Linguine Puttanesca With Chickpeas', 'garlic', 'Gemelli With Cauliflower, Scallions & Green Olives', 'anchovy'], ['Anchovies Appetizer With Breadcrumbs & Scallions', 'snack', 'Mediterranean Fish Fillets', 'canned tomatoes', 'Blue Fish With Tomato, Garlic And Onions', \"hor d'oeuvre\", 'Roasted Cod And Scallions With Spiced Potatoes', 'antipasti', 'Lemon Baked Cod', \"hor d'oeuvre\", 'Salmon With Pepita-lime Butter', 'appetizer', 'Pan-fried Cod With Mustard-caper Sauce', 'whole grain mustard', 'Roasted Poussins with Anchovy-Mustard Pan Sauce', 'flat leaf parsley'], ['Anchovies Appetizer With Breadcrumbs & Scallions', 'olive oil', 'Whole-wheat blini with green olive tapenade', 'white bread', 'Caesar Salad With Heart Croutons', 'anchovy', 'Boiled Asparagus With Salsa Verde', 'capers', 'Striped Bass with Saffron Vegetables and Spiced Broccoli Rabe', 'olive oil', 'Pan-seared Salmon', 'main course', 'Easy to Make Dinner Combo', 'february 25', 'Easy to Make Dinner Combo', 'garlic cloves'], ['Anchovies Appetizer With Breadcrumbs & Scallions', 'olive oil', 'Lightened-up Chicken Caesar Platter', 'anchovy', 'Kale Salad With Walnuts And Soft-boiled Eggs', 'ground cumin', 'Mojo Bass', 'olive oil', 'Potato Salad With Green Goddess Dressing', 'tarragon', 'Chicken Salad with Green Goddess Dressing', 'anchovy', 'Saffron Sea Bass Bowl', 'plum tomatoes', 'Escalivada and Serrano Ham Canapés', 'serrano ham'], ['Anchovies Appetizer With Breadcrumbs & Scallions', 'anchovies', 'Creamy Anchoïade with Crudités', 'garlic cloves', 'Roasted Sea Bass With Fennel, Blood Oranges & Olives', 'snack', 'Miniature Onion Tartlets', 'salt', \"Alex's Anchovy Bucatini\", 'red chili flakes', 'Cauliflower Cannelloni', 'tomato sauce', \"Canal House Cooking's Serious Ragù\", 'celery', \"Tom Valenti's Lamb Shanks\", 'red wine'], ['Anchovies Appetizer With Breadcrumbs & Scallions', 'antipasti', 'Tuna, Tomato And Olive Sandwich (pan Bagnat)', 'olive oil', 'Braised Veal Chops with Honey and Red Grapes', 'main course', 'Manhattan-Style Fish Chowder', 'dry white wine', 'Fish Soup with Bread and Rouille', 'saffron threads', 'Fish Soup with Bread and Rouille', 'main course', 'Crab Stuffed Flounder', 'butter', \"Brian's Easy Stuffed Flounder\", 'onion'], ['Anchovies Appetizer With Breadcrumbs & Scallions', 'scallions', 'Spiced Cod With Broccoli-quinoa Pilaf', 'antipasto', 'Herbed Fish Cakes with Green Horseradish Sauce', 'red onion', 'Roasted Pompano with Citrus Avocado Salsa, Cilantro Butter & Spicy Plantains', 'plantain', 'Roasted Pompano with Citrus Avocado Salsa, Cilantro Butter & Spicy Plantains', 'cilantro', 'Pan-Fried Striped Bass with Stir-Fried Tomatoes and Dill', 'main course', 'Seared Wild Salmon With New Potatoes And Dijon Broth', 'baby spinach leaves', 'Pasta With Green Puttanesca', 'main course'], ['Anchovies Appetizer With Breadcrumbs & Scallions', 'snack', 'Pissaladière', 'appetizer', 'Grilled Miso-glazed Sea Bass With Japanese Cucumber Salad', 'antipasto', 'Pressed Summer Sandwich with Eggs and Anchovies', 'anchovies', 'French Onion Tart', 'antipasti', 'Cedar-planked Salmon With Seasoned Lemon Butter', 'unsalted butter', 'Cod with Cockles and White Wine', 'flour', 'Pizza', 'main course'], ['Anchovies Appetizer With Breadcrumbs & Scallions', \"hor d'oeuvre\", 'Tilapia With Caper-parsley Sauce', 'starter', 'Slow-roasted Cherry Tomato Bruschetta', 'baguette', 'Bagna Cauda Bruschetta', 'extravirgin olive oil', 'Oriental Style Peppers', 'sugar', 'Arctic Char With Asian Braised Fennel And Citrus Emulsion', 'salt and pepper', 'Serious Ragu', 'olive oil', 'Bacon-wrapped Bluefish', 'main dish'], ['Anchovies Appetizer With Breadcrumbs & Scallions', 'antipasti', \"Ginger-steamed Fish With Troy's Hana-style Sauce\", 'antipasti', 'Fish Chowder', 'paprika', 'Sizzling Flounder', 'salt', 'Stuffed Pizza Pie with Escarole', 'water', 'Pissaladiere', 'rosemary', 'Pork Ribs with Orange and Tomato Glaze', 'lunch', 'Butternut Squash Tart With Anchovy Vinaigrette', 'anchovy'], ['Anchovies Appetizer With Breadcrumbs & Scallions', 'starter', 'Mediterranean Fish Fillets', 'orange roughy', \"Fisherman's Soup\", 'celery', 'Salad Capricciosa', 'whipping cream', 'Roasted Black Bass with Apple Cider-Kale Sauce', 'lunch', 'Tarragon-tomato Fish', 'salt and pepper', 'Tomatoes With Anchovy Dressing', 'salt and pepper', 'Orecchiette With Broccoli Rabe', 'garlic'], ['Anchovies Appetizer With Breadcrumbs & Scallions', 'snack', 'Cedar-planked Salmon With Seasoned Lemon Butter', 'antipasto', 'Striped Bass With Tomatoes, Corn, And Basil', 'serrano pepper', 'Halibut with Spicy Mint-Cilantro Chutney', 'cumin seeds', 'Fish Over A Bed Of Spinach', 'main dish', 'Glazed Salmon with Brussels Sprout Hash', 'onion', 'Turkey Ossobuco', 'main dish', 'Roasted Striped Bass With Chive And Sour Cream Sauce', 'dinner'], ['Anchovies Appetizer With Breadcrumbs & Scallions', 'appetizer', 'Pissaladière', 'starter', 'Steamed Fish With Ponzu', 'scallion', 'Green Goddess Salad', 'yogurt', 'Halibut with Spicy Mint-Cilantro Chutney', 'canola oil', 'Striped Bass With Sage And Red-wine Butter', 'red snapper fillets', 'Snapper Tacos with Chipotle Cream', 'lime rind', 'spicy tomato mussels', 'green onions'], ['Anchovies Appetizer With Breadcrumbs & Scallions', 'antipasti', 'spicy tomato mussels', 'coconut', 'Coconut Crusted Haddock', 'dinner', 'Pan-roasted Sea Bass With Citrus And Avocado Oil', 'lunch', 'Asparagus, Lox & Stilton Frittata', 'asparagus', 'Broiled Striped Bass with Ginger-Scallion Oil', 'soy sauce', 'Steamed Fish With Scallions And Ginger', 'soy sauce', 'Steamed Sea Bass With Ginger And Shiitakes', 'sea salt'], ['Anchovies Appetizer With Breadcrumbs & Scallions', 'starter', 'Anchoïade With Radishes, Fennel, Celery And Carrots', \"hor d'oeuvre\", 'Roast Sea Bass With Chilli & Lime Leaves', 'lemongrass', 'Super Simple Sea Bass', 'soy sauce', \"Yagihashi's Black Sea Bass with Somen and Vegetables\", 'basil', 'Seared Scallops with Basil, Anchovy and Sweet Corn Pudding', 'basil', 'Baked Stuffed Tomatoes', 'mascarpone', 'Baked Stuffed Tomatoes', 'basil'], ['Anchovies Appetizer With Breadcrumbs & Scallions', 'anchovies', 'Pepper Pasta', 'food dye', 'Sea Bass With Brown Shrimps & Couscous', 'chocolate easter eggs', 'Sea Bass With Brown Shrimps & Couscous', 'main course', 'Shiso Wrapped Bass Dumplings In Dashi', 'dinner', 'Salade Nicoise', 'green beans', 'Warm Tuna Salad Niçoise', 'green beans', 'Summer tray-baked salmon', 'sea salt'], ['Anchovies Appetizer With Breadcrumbs & Scallions', 'garlic clove', 'Lightened-up Chicken Caesar Platter', 'tomatoes', 'Cornmeal-Crusted Fish with Green-Tomato Tartar Sauce', 'main dish', 'Blackened Salmon with Blue Cheese Sauce', 'main course', 'Lemon Sole with Tomato-Olive Risotto', 'onion', 'Hearty Halibut Chowder', 'heavy cream', 'Blackened Striped Bass with Corn Spoon Bread and Greens', 'scallions', 'Gemelli With Cauliflower, Scallions & Green Olives', 'main course'], ['Anchovies Appetizer With Breadcrumbs & Scallions', 'bread', 'Steak, Tomato and Arugula Sandwiches', 'red wine vinegar', 'Slow-roasted Cherry Tomato Bruschetta', 'baguette', 'Pan Bagnat', 'anchovies', 'Ceasar Salad', 'baby corn', 'Myolchi Bokeum (sauteed Dried Baby Anchovies)', 'wakame', 'Myolchi Bokeum (sauteed Dried Baby Anchovies)', 'black beans', 'Grouper With Black Beans', 'seasoned salt'], ['Anchovies Appetizer With Breadcrumbs & Scallions', 'antipasti', 'Anchoïade With Radishes, Fennel, Celery And Carrots', 'carrots', 'Roasted Monkfish with Curried Lentils and Browned Butter Cauliflower', 'curry powder', 'Coconut Crusted Haddock', 'coconut', 'Pistachio Sea Bass with Crab Salad', 'scallions', 'Vegetable Market Salad', 'fennel', 'Bouillabaisse', 'leeks', 'The Cartoon Kitchen: Fish, Leeks, And Mushrooms', 'hawaiian rock cod'], ['Anchovies Appetizer With Breadcrumbs & Scallions', 'appetizer', 'Penne Puttanesca', 'snack', 'Garlic & Herb Seasoned Tilapia', 'starter', 'Sliced Baguette With Radishes And Anchovy Butter', 'antipasto', 'Steamed Fish With Ponzu', 'shaoxing wine', 'Steamed Fish With Ponzu', 'sea bass', 'Fish Baked In Salt', 'fresh thyme', 'Hazelnut-Crusted Halibut with Roasted Asparagus', 'main dish'], ['Anchovies Appetizer With Breadcrumbs & Scallions', 'starter', 'Fish Chowder', 'antipasti', 'Stuffed Flank Steak', 'oregano', 'Salt-baked Striped Bass with Herb Lemon Chile Sauce (Branzino Sotto Sale con Salmoriglio)', 'flat leaf parsley', 'Whole Roasted Megrim Sole With Caper Parsley Butter', 'main dish', 'Cumin-Crusted Chilean Sea Bass', 'salt', 'Oven-roasted Striped Bass with Peppers', 'pepper', \"Sea Bass all'Acqua Pazza\", 'garlic cloves'], ['Anchovies Appetizer With Breadcrumbs & Scallions', 'bread', 'Caesar Salad With Poached Eggs', 'romaine hearts', 'Romaine Lettuce dressed with Anchovy Puree, Crumbled Hard Boiled Egg and Toasted Whole Grain Bread Bites', 'lunch', 'Spring (?) Herb Cooking', 'mustard', 'Green Bean Salad With Anchovy Dressing', 'shallot', 'Poached Salmon with Basil Butter and Succotash', 'pepper', 'Chili Garlic Salmon (light Butter Recipe)', 'dinner', 'Bluefish (or Swordfish) With Preserved Lemons', 'preserved lemon'], ['Anchovies Appetizer With Breadcrumbs & Scallions', 'antipasti', 'Emerils Fish Provencal', 'red pepper flakes', 'Salmon with Orange Pan Sauce', 'rice wine vinegar', 'Sole with Grapefruit-Thyme Butter', 'sole', 'Sole with Tarragon-Butter Sauce', 'shallots', 'Roasted Cherry Tomato Puttanesca', 'red pepper flakes', 'Quinoa Puttanesca', 'side dish', 'Fig-Olive Tapenade', 'side dish'], ['Anchovies Appetizer With Breadcrumbs & Scallions', \"hor d'oeuvre\", 'Turkey Burgers With Caesar Spread', 'snack', 'Tuna, Tomato And Olive Sandwich (pan Bagnat)', 'red wine vinegar', 'Floribbean\" Grouper with Red Pepper-Papaya Jam', 'egg whites', 'Sesame-Crusted Fish Fillets with Garlic-Ginger Sauce', 'water', 'Fish Stew with Arepa Dumplings', 'dinner', 'Fish Stew', 'dinner', 'Porgy, Roman Style: Pagro alla Romana', 'fresh peas'], ['Anchovies Appetizer With Breadcrumbs & Scallions', 'starter', 'Pressed Summer Sandwich with Eggs and Anchovies', 'starter', 'French Onion Tart', 'antipasti', 'Salmon With Brown Butter And Almonds Recipe', 'appetizer', 'Queso Manchego con Aceitunas y Piquillos', 'fresh parsley', 'Fish Chowder', 'pepper', 'Tomato & Anchovies With Bread Crumbs, Basil & Red Onion   Recip', 'tomato', 'Grilled Sea Bass with Tropical Salsa', 'sea bass fillets'], ['Anchovies Appetizer With Breadcrumbs & Scallions', 'snack', 'Roasted Sea Bass With Fennel, Blood Oranges & Olives', \"hor d'oeuvre\", 'Blue Fish With Tomato, Garlic And Onions', 'milk', 'Grilled Cod With Pancetta And Pea Mash', 'butter', 'Dinner Tonight: Cod with Tarragon-Anchovy Breadcrumbs', 'cod', 'Sautéed Cod With Textures Of Jerusalem Artichokes', 'extra virgin olive oil', 'Avocado & Marinated Anchovy Bruschetta', 'pepper', 'Lime Caesar Salad', 'salad'], ['Anchovies Appetizer With Breadcrumbs & Scallions', 'snack', 'Garlic Herb Tilapia', 'appetizer', 'Striped Bass Plaki', 'fresh rosemary', 'Pan-roasted Halibut With Herbed Lentils And Breadcrumbs', 'lemon', 'Roasted Bagna Cauda Broccoli', 'butter', 'Pecan-crusted Halibut with Dijon Cream Sauce', 'black pepper', 'Herb and Lemon Roasted Striped Bass', 'oregano', 'Grilled Fish Tacos', 'olive oil'], ['Anchovies Appetizer With Breadcrumbs & Scallions', 'bread', 'Bouillabaisse', 'main course', \"Bluefish as the Fisherman's Flag: Bandiera alla Marinara\", 'chile flakes', 'Roast Fish With Cauliflower, Olives & Piquillo Peppers', 'olives', 'Anchovy and Roasted-Pepper Salad with Goat Cheese', 'yellow bell peppers', 'Marinated Vegetables: Verdure in Scapece', 'oregano', 'Neapolitan Toasts (Crostini Napoletani)', 'olive oil', 'Linguine Aglio E Olio Con Acciuga', 'parmesan cheese'], ['Anchovies Appetizer With Breadcrumbs & Scallions', 'antipasto', 'Broccoli Rabe Saute With Chicken Sausage', 'starter', 'Steamed Fish With Ponzu', 'ginger', 'Steamed Sea Bass with Tamarind Sauce', 'salt and pepper', \"Baketard.com - Blog - Giorgio Locatelli's Branzino alla Vernaccia in Crosta Di Pomodoro (Sea Bass with Tomato Crust and Vernaccia Wine)\", 'juice of lemon', 'Broiled Tilapia With Parmesan', 'unsalted butter', 'Poached Halibut with Green Beans and Red Potatoes', 'kosher salt', 'Roasted Cauliflower With Anchovy Bread Crumbs', 'extra virgin olive oil'], ['Anchovies Appetizer With Breadcrumbs & Scallions', 'garlic clove', 'Pan-roasted Swordfish Steaks With Mixed-peppercorn Butter', 'dinner', 'Romaine Lettuce dressed with Anchovy Puree, Crumbled Hard Boiled Egg and Toasted Whole Grain Bread Bites', 'dinner', 'Smoked Black Bass', 'sea bass', 'Grilled Blackened Sea Bass', 'butter', 'Pan-Seared Salmon with Cherry Tomatoâ€“Ginger Sauce', 'fresh cilantro', 'Sea Bass Crusted with Moroccan Spices', 'lemon juice', 'Caesar Salad with Anchovy Wrapped Garlic and Savory Lemon Sabayon', 'oil packed anchovies'], ['Anchovies Appetizer With Breadcrumbs & Scallions', 'antipasti', 'Four-Herb Green Goddess Dressing', 'worcestershire sauce', 'Chicken Caesar Pita Pizza', 'chicken', \"Hunter's Chicken Stew\", 'fresh rosemary', 'Grilled Trout with White Beans and Caper Vinaigrette', 'main course', 'Black Bass With Chickpeas, Clams, And Chorizo', 'dinner', 'Steamed Sea Bass in Napa Cabbage', 'finger chile', 'Steamed Sea Bass in Napa Cabbage', 'light soy sauce'], ['Anchovies Appetizer With Breadcrumbs & Scallions', 'starter', 'Broccoli Rabe With Garlic & Anchovies', 'broccoli rabe', 'Broccoli Rabe With Garlic & Anchovies', 'starter', 'Crostini With Tapenade', 'garlic cloves', 'Stuffed Flank Steak', 'snack', 'Whole Striped Bass With Fennel And Tomato', 'basil leaves', 'Bluefish (or Swordfish) With Preserved Lemons', 'swordfish', 'Pan-roasted Swordfish Steaks With Mixed-peppercorn Butter', 'lunch'], ['Anchovies Appetizer With Breadcrumbs & Scallions', 'appetizer', 'Toasted Parmesan And Garlic Oil Caesar Salad', 'worcestershire sauce', \"Jacques-Imos' Blackened Gulf Fish\", 'paprika', 'Garlic Parmesan Orange Roughy', 'dijon mustard', 'Beef Tenderloin Cobb Salad', 'buttermilk', 'Fried Oysters with Spicy Rémoulade', 'paprika', 'Roasted Monkfish with Curried Lentils and Browned Butter Cauliflower', 'lunch', 'Penne Rigate with Spicy Braised Swordfish', 'parsley'], ['Anchovies Appetizer With Breadcrumbs & Scallions', 'antipasti', 'Spaghetti Puttanesca', \"hor d'oeuvre\", 'Queso Manchego con Aceitunas y Piquillos', \"hor d'oeuvre\", 'Glazed Salmon', 'antipasti', 'Fish With Olives, Pine Nuts, Basil And Wine', 'basil leaves', 'Grill-steamed Mediterranean Halibut', 'carrot', 'Serious Ragu', 'yellow onion', 'Spice-Baked Sea Bass and Red Lentils', 'dried green lentils'], ['Anchovies Appetizer With Breadcrumbs & Scallions', 'snack', 'Fish Chowder', 'antipasti', 'Salmon With Pepita-lime Butter', 'chili powder', 'Creole Striped Bass', 'garlic powder', 'Blackened Redfish', 'black pepper', 'Bean Sprout Beef Rice Bowl', 'short grain rice', 'Bean Sprout Beef Rice Bowl', 'bean sprouts', 'Bean Sprout Soup (kongnamul Guk)', 'water'], ['Anchovies Appetizer With Breadcrumbs & Scallions', 'bread', 'Tarragon Tuna Melt', 'black pepper', 'Pan-roasted Sea Bass with Citrus-Heirloom Tomato Vinaigrette', 'lunch', 'Burn-Your-Fingers Chicken Wings', 'soy sauce', 'Steamed Sea Bass Recipe (thai-style)', 'lunch', 'Baked Dijon Salmon', 'pecans', 'Sauteed Halibut with Pecan Shallot Topping', 'fresh flat leaf parsley', 'Crostini With Beef Tartare And White Truffle Oil', 'garlic cloves'], ['Anchovies Appetizer With Breadcrumbs & Scallions', 'anchovies', 'Sautéed Squid Salad With Salsa Verde', 'olive oil', 'Marinated Fresh Anchovies: Alici Marinate', 'parsley', \"The (not Barefoot) Contessa's Fish Pasta\", 'capers', 'Bruschetta With Rustic Green Olive Tapenade', 'capers', 'Grilled Tuna And Provolone Sandwiches With Salsa Verde', 'dinner', 'Wild Rocket & Chilli Spaghetti Recipe', 'lunch', 'Ceviche with Crispy Plantains', 'if'], ['Anchovies Appetizer With Breadcrumbs & Scallions', 'bread', 'Mozzarella En Carozza', 'main dish', 'Grilled Fish Sandwich With Cabbage Slaw', 'vegetable oil', 'Pistachio Sea Bass with Crab Salad', 'pistachios', 'Pistachio Crusted Salmon with Lemon Cream Sauce', 'pistachios', 'Sauteed Striped Bass with Mint Pesto and Spiced Carrots', 'lemon juice', 'Easy Lemon-Pepper Blackened Salmon', 'fresh parsley', 'Grilled Rib-Eye Steaks with Roasted Peppers', 'dinner'], ['Anchovies Appetizer With Breadcrumbs & Scallions', 'garlic clove', 'J&G Steak Sauce', 'vegetable oil', 'Halibut Veracruz', 'yellow onion', 'Turbot Fish in Tomato Sauce (Breaded Fish )', 'sauce', 'Puttanesca Sauce', 'salt and pepper', 'Sautéed Bass with Lemongrass', 'tomato', 'Tomato & Anchovies With Bread Crumbs, Basil & Red Onion   Recip', 'bread crumbs', 'Swordfish with Cilantro-Lime Cream', 'main course'], ['Anchovies Appetizer With Breadcrumbs & Scallions', \"hor d'oeuvre\", 'Fish Chowder', 'appetizer', 'Grilled Halibut With Salt-and-vinegar Potatoes', \"hor d'oeuvre\", 'Hard-Cooked Eggs with Crisp Anchovy Crumbs', \"hor d'oeuvre\", 'Italian Tomato Spaghetti', 'black olives', 'Lemon And Chilli Bread Salad', 'sea salt', 'Cook the Book: Quick-Cured Salmon', 'main dish', \"Chef Tyson Cole's Ceviche\", 'water'], ['Anchovies Appetizer With Breadcrumbs & Scallions', 'antipasti', 'Chicken And Radish Salad With Creamy Avocado Dressing', 'appetizer', 'Deviled Eggs', 'lemon juice', 'Grouper Picatta', 'flour', 'Fried Eel', 'main course', 'Port-Marinated Pork with Prunes and Anchovies', 'lemon zest', 'Lightly Fried Tilapia With Caper Brown Butter And Lemon-shallot', 'white wine', 'Tagliolino Allo Scoglio', 'red pepper flakes'], ['Anchovies Appetizer With Breadcrumbs & Scallions', 'bread', 'Escarole Salad With Salt Cod, Anchovies And Olives', 'blanched almonds', 'Escarole Salad With Salt Cod, Anchovies And Olives', 'chilies', 'Burrata Salad', 'whole black pepper', 'Pan-roasted Swordfish Steaks With Mixed-peppercorn Butter', 'whole black pepper', 'Pan-roasted Swordfish Steaks With Mixed-peppercorn Butter', 'dinner', 'Sea Bass Stuffed With Fennel And Olives', 'pimento stuffed olives', 'Halibut with Anchovy-Stuffed Olives, Red Peppers and Oregano', 'lunch'], ['Anchovies Appetizer With Breadcrumbs & Scallions', 'bread', 'Sardines On Toast', 'scallions', 'Radish Salad Lugano', 'olive oil', 'Chili-braised Fish With Tomatoes And Potatoes', 'new potatoes', 'Vegetable Market Salad', 'juice of lemon', 'Baked Fish Packets With Broccoli And Squash', 'broccoli florets', 'Black Sea Bass With Moroccan Vegetables and Chile Sauce', 'lunch', 'French In A Flash: Pissaladière Pasta', 'dinner'], ['Anchovies Appetizer With Breadcrumbs & Scallions', 'olive oil', 'Asparagus, Lox & Stilton Frittata', 'main course', 'Lemon-Stuffed Grilled Branzino', 'bay leaves', 'Oven-Roasted Whole Fish', 'dinner', 'Bluefish En Papillote', 'olive oil', 'Lemon-Stuffed Grilled Branzino', 'lemons', 'Glazed Salmon', 'antipasti', 'Grilled Branzino With Rosemary Vinaigrette', 'branzino'], ['Anchovies Appetizer With Breadcrumbs & Scallions', 'bread', 'Bread, Butter And Anchovies', 'bread', 'Slow-roasted Cauliflower With Pounded Anchovies', 'main course', 'Wheat Noodles with Anchovy Sauce: Bigoli en Salsa', 'parsley', 'Slow-roasted Cauliflower With Pounded Anchovies', 'garlic', 'Salmon With Anchovy Olive Tapenade', 'side dish', 'Roasted Cauliflower With Anchovy Vinaigrette', 'olive oil', \"Hunter's Chicken Stew\", 'main dish'], ['Anchovies Appetizer With Breadcrumbs & Scallions', 'garlic clove', 'Bruschetta With Goat Cheese And Olive Tapenade', 'main dish', 'Fish With Summer Squash', 'lemon zest', 'Emerils Fish Provencal', 'sweet onion', 'Crispy Trout With Lemony Roasted Asparagus', 'lunch', 'Seared Ahi Tuna Steaks', 'main course', 'Romaine Lettuce dressed with Anchovy Puree, Crumbled Hard Boiled Egg and Toasted Whole Grain Bread Bites', 'garlic cloves', \"Fisherman's Stew\", 'lunch'], ['Anchovies Appetizer With Breadcrumbs & Scallions', 'scallions', 'Radish Salad Lugano', 'salt and pepper', 'Grilled Salmon with Dill Pickle Butter', 'main dish', 'Chickpea Puttanesca', 'chickpeas', 'Omega 3 Fishballs  (with Swordfish, Cod, Anchovies And Chickpeas)', 'bell pepper', 'Sauteed Ling Cod With Leeks & Anchovy Butter', 'dinner', 'Cauliflower Cannelloni', 'anchovies', 'Griddled Courgette Salad With Anchovies & Capers', 'capers'], ['Anchovies Appetizer With Breadcrumbs & Scallions', 'snack', 'Pissaladiere', 'snack', 'Baked Ling Cod With Lemon-garlic Butter Sauce', 'appetizer', 'Acqua Pazza (fish Simmered In Tomato-garlic Broth)', 'antipasti', 'Crispeddi Semolina Flour Fritters', 'antipasto', 'Garlic Herb Tilapia', 'tilapia fillets', \"Natalie's Cajun-Seasoned Pan-Fried Tilapia\", 'butter', 'Chef Race: Cornmeal-Crusted Catfish with Tomato-Zucchini Rice and Radish Slaw', 'main course'], ['Anchovies Appetizer With Breadcrumbs & Scallions', 'garlic clove', 'Seared Mahi Mahi with Zesty Basil Butter', 'fresh basil leaves', 'Whole Fish With Mint', 'lunch', 'Coconut Crusted Haddock', 'cod fillets', 'Roasted Cod on Large Garlic Croutons', 'main dish', \"Hunter's Chicken Stew\", 'dinner', 'Grappa-Cured Striped Bass', 'baguette', 'Tapenade Crostini', 'anchovy fillets'], ['Anchovies Appetizer With Breadcrumbs & Scallions', 'bread', 'Caesar Soup', 'chicken broth', 'Bean Salad Nicoise', 'lemon juice', 'Grilled Trout Fillets with Crunchy Pine-nut Lemon Topping', 'panko', 'Ginger-Miso Striped Bass in Shiitake Mushroom Broth', 'panko', 'Crispy Monkfish with Capers', 'dinner', 'Blackened Yellowtail Snapper with Mango Salsa', 'lunch', 'Anchovy and White Bean Pizza', 'canned anchovies'], ['Anchovies Appetizer With Breadcrumbs & Scallions', \"hor d'oeuvre\", 'Broccoli Rabe With Garlic & Anchovies', 'crushed red pepper', 'Sea Bass with Fennel, Tomato and Orange', 'saffron threads', 'Fish Stew', 'salt and pepper', 'Down And Dirty Pasta E Cecci', 'main course', 'Pan-roasted Sablefish with Mushrooms and Sour Cream', 'garlic', 'Broccoli & Burrata', 'lemon', 'Sea Bass With Mediterranean Sauce', 'plum tomato'], ['Anchovies Appetizer With Breadcrumbs & Scallions', 'appetizer', 'Pressed Summer Sandwich with Eggs and Anchovies', 'black olives', 'Red Mullet With Tomatoes, Olives & Anchovies', 'black olives', 'Radish Salad Lugano', 'radishes', 'Bagna Cauda Panini', 'dinner', 'Sea Bass with Moroccan Salsa', 'fresh mint', 'Green Goddess Dip', 'fresh chives', 'Toasted Parmesan And Garlic Oil Caesar Salad', 'salt'], ['Anchovies Appetizer With Breadcrumbs & Scallions', 'antipasto', 'Chicken And Radish Salad With Creamy Avocado Dressing', 'snack', 'Balsamic, Caper, And Anchovy Marinade', 'starter', 'Orange, Parsley, And Walnut Salad', 'antipasto', 'Steamed Fish With Ponzu', 'antipasti', 'Oven-roasted Trout With Potatoes', 'olive oil', 'Striped Bass with Sweet Carrots and Cider Glaze', 'carrots', 'Sauteed Striped Bass with Mint Pesto and Spiced Carrots', 'lunch'], ['Anchovies Appetizer With Breadcrumbs & Scallions', 'garlic clove', 'Crudités And Shrimp With Green Goddess Dip', 'olive oil', 'Beef Tenderloin Cobb Salad', 'kosher salt', 'Butter And Herb Cracker Crusted Baked Cod Fish', 'juice of lemon', 'Salmon Club With Avocado Butter', 'unsalted butter', 'Sliced Baguette With Radishes And Anchovy Butter', 'chives', 'Sautéed Snapper on Wilted Spinach with Mulled Zinfandel Butter', 'main dish', 'Summer Squash Gratin with Salsa Verde and Gruyere', 'oregano leaves'], ['Anchovies Appetizer With Breadcrumbs & Scallions', 'anchovies', 'Caesar Wrap With Tofu Croutons And Broccoli', 'bell pepper', 'Kale & Lentils', 'thyme sprigs', 'Greek-Style Braised Lamb Shanks', 'onion', 'Mussels with Tomatoes, Wine, and Anise', 'dinner', 'Plaice With Brown Shrimp Butter', 'shrimps', 'French in a Flash: Chilean Sea Bass with Bouillabaisse Broth', 'baguette', 'Dinner Tonight: Grilled Caesar Salad', 'main dish'], ['Anchovies Appetizer With Breadcrumbs & Scallions', 'appetizer', 'Whole Striped Bass With Fennel And Tomato', 'flat leaf parsley leaves', 'Vermicelli with Sauce alla Sofia', 'rice vermicelli', 'Vermicelli with Sauce alla Sofia', 'capers', 'Home', 'vine ripened tomatoes', 'Home', 'side dish', 'Pissaladiere', 'anchovy', 'Prosciutto, Fried Egg, and Parmesan on Country Bread', 'lemon juice'], ['Anchovies Appetizer With Breadcrumbs & Scallions', 'bread', 'Sicilian Stuffed Swordfish with Cherry Tomato Sauce', 'dry white wine', 'Chicken with Green Olives', 'dry white wine', 'Whole Roasted Salmon With Orange Butter Glaze', 'unsalted butter', 'Garam Masala Seared Salmon with Coconut-Curry Butter', 'coconut milk', 'Macadamia Nut Crusted Mahi Mahi', 'side dish', 'Fish Fusilli', 'extra virgin olive oil', 'Macadamia-crusted Sea Bass With Mango Cream Sauce', 'olive oil'], ['Anchovies Appetizer With Breadcrumbs & Scallions', 'snack', 'Tagliatelle With Purple Sprouting Broccoli, Anchovies And Pecorino', 'garlic clove', 'Sautéed Bass With Mint Pesto And Spiced Carrots', 'main dish', 'Salmon with Shiitake and Red Wine Sauce', 'unsalted butter', 'Striped Bass With Lime Butter', 'appetizer', 'Striped Bass With Olive-almond Relish Recipe', 'snack', 'Tilapia With Caper-parsley Sauce', 'antipasti', 'Fish With Olives, Pine Nuts, Basil And Wine', 'fish'], ['Anchovies Appetizer With Breadcrumbs & Scallions', 'anchovies', 'Acciugata Di Renato', 'water', 'Onion Confit Pizza (Pissaladière)', 'fresh bay leaves', 'Onion Confit Pizza (Pissaladière)', 'thyme sprigs', 'Catfish Pecan With Lemon-Thyme-Pecan Butter', 'thyme', 'Southwest Blackened Salmon', 'side dish', 'Anchovy Crostini With Onion-and-raisin Relish', 'radicchio', 'Poached Beef With Green Sauce', 'alcohol'], ['Anchovies Appetizer With Breadcrumbs & Scallions', 'olive oil', 'Pork Tenderloin with Red and Yellow Peppers', 'lean pork tenderloin', 'Pork Tenderloin with Red and Yellow Peppers', 'balsamic vinegar', 'Green Bean and Tomato Salad', 'garlic', 'Radish Salad Lugano', 'apple cider vinegar', 'Cook the Book: Deviled Egg Salad with Anchovies, Hot Smoked Paprika, and Tomato', 'eggs', 'Deep-fried Bacon And Eggs With Lemon-egg Vinaigrette', 'main course', 'Pan-Roasted Fish with Mediterranean Tomato Sauce', 'butter'], ['Anchovies Appetizer With Breadcrumbs & Scallions', \"hor d'oeuvre\", 'Kiss (keeping It Super Simple) Fried Fish', 'fish fillets', \"Dad's Fish Stew\", 'bell pepper', 'Origami Sea Bass', 'goji berries', 'Origami Sea Bass', 'bbq sauce', 'Caesar Salad', 'sea salt', 'Steamed Sea Bass With Ginger And Shiitakes', 'main course', 'Puttanesca Baked Cod', 'cod'], ['Anchovies Appetizer With Breadcrumbs & Scallions', 'bread', 'Double-whammy Arrabiata', 'olive oil', 'Sauteed Cod with Lentils', 'dinner', 'Baked Sea Bass With Ginger Ponzu Sauce', 'sake', 'Sake-steamed Sockeye Salmon With Sake Butter', 'star anise', 'Sea Salt-Crusted Pink Snapper with Ice Wine Nage', 'unsalted butter', 'Tilapia With Caper-parsley Sauce', \"hor d'oeuvre\", 'Pissaladiere', \"hor d'oeuvre\"], ['Anchovies Appetizer With Breadcrumbs & Scallions', \"hor d'oeuvre\", 'Mushroom Ravioli with Lemon-Caper Mayonnaise', 'dry sherry', 'Seafood Stoup Fra Diavolo', 'main course', 'Grilled Tuna Steaks With Onion Dill Butter', 'dinner', 'Chicken Caesar Pita Pizza', 'roma tomatoes', 'Broiled Walleye With Dill Tabbouleh', 'vinegar', 'Anchoïade', 'main dish', 'Fried Stuffed Zucchini Flowers (fiori Di Zucca Fritti)', 'squash blossoms'], ['Anchovies Appetizer With Breadcrumbs & Scallions', 'antipasti', 'Hard-Cooked Eggs with Crisp Anchovy Crumbs', 'antipasti', 'Oven-roasted Trout With Potatoes', 'snack', 'Chicken-Liver Crostini', \"hor d'oeuvre\", 'Striped Bass With Tomatoes, Corn, And Basil', 'starter', 'Blue Fish With Tomato, Garlic And Onions', 'antipasti', 'Whole Striped Bass With Fennel And Tomato', 'lemon', 'Finnan Haddie with Spinach and Pancetta', 'onion'], ['Anchovies Appetizer With Breadcrumbs & Scallions', 'snack', 'Baked Ling Cod With Lemon-garlic Butter Sauce', 'antipasti', 'Chicken-Liver Crostini', 'unsalted butter', 'Wild Striped Bass en Papillote', 'lemon wedges', 'Dinner Tonight: Cornmeal-Crusted Pan-Fried Trout', 'butter', 'Sea Bass Wrapped In Sea Lettuce With Potato Cream', 'butter', 'Grilled Blackened Sea Bass', 'black pepper', 'Pan-roasted Sea Bass with Citrus-Heirloom Tomato Vinaigrette', 'parsley'], ['Anchovies Appetizer With Breadcrumbs & Scallions', 'scallions', 'Steamed Striped Bass With Ginger And Scallions', 'main course', 'Sea Bass With Shiitake Mushroom Butter', 'shiitake mushrooms', 'Salmon with Shiitake and Red Wine Sauce', 'onion', 'Catalan Roasted Sea Bass', 'main dish', 'Spaghetti Alla Puttanesca', 'garlic', 'Halibut Veracruz', 'olives', 'Tuna, Tomato And Olive Sandwich (pan Bagnat)', 'starter'], ['Anchovies Appetizer With Breadcrumbs & Scallions', \"hor d'oeuvre\", 'Toasted Parmesan And Garlic Oil Caesar Salad', 'lemon juice', 'Nut-crusted Salmon With Garlicky Greens And Walnuts', 'main course', 'Seared Sea Bass With Fennel Seeds & Roasted Sweet Potatoes', 'celery stick', 'Seared Sea Bass With Fennel Seeds & Roasted Sweet Potatoes', 'dinner', 'Portuguese Fish Stew', 'sea salt', 'Whole Grilled Fiesta Fish', 'agave', 'Whole Grilled Fiesta Fish', 'agave'], ['Anchovies Appetizer With Breadcrumbs & Scallions', 'starter', 'Baked Ling Cod With Lemon-garlic Butter Sauce', 'unsalted butter', 'Trout Grenobloise', 'unsalted butter', 'Salmon Chowder With Tarragon', 'unsalted butter', 'Smoked-bluefish Pate With Roasted Tomatoes On Crackers', 'crackers', 'Smoked-bluefish Pate With Roasted Tomatoes On Crackers', 'cream cheese', 'Smoked-bluefish Pate With Roasted Tomatoes On Crackers', 'bluefish', 'Grilled Whole Mackerel with Lemon, Oregano, and Olives', 'oregano'], ['Anchovies Appetizer With Breadcrumbs & Scallions', 'olive oil', 'Oven-roasted Trout With Potatoes', \"hor d'oeuvre\", 'Roast Sea Bass With Chilli & Lime Leaves', 'lemongrass', 'Java Chicken in Coconut Sauce', 'blanched almonds', 'Trout Amandine, Steamed Asparagus And New Potatoes', 'lemon', 'Rachael Ray\\'s \"now You\\'ll Be Living A Lot Longer\" Spaghetti', 'extra virgin olive oil', 'Halibut With Barbecue Tomato Sauce And Honey-mustard Polenta', 'dinner', 'Lake Trout with Fingerling Potatoes and Bacon', 'trout fillets'], ['Anchovies Appetizer With Breadcrumbs & Scallions', 'bread', 'Roasted Cauliflower with Capers and Bread Crumbs', 'chili flakes', 'Pilsner Urquell And Spicy Linguini', 'capers', 'Trout With Olives And Brown Butter', 'trout fillets', 'Speckled Trout with Crab-stuffed Piquillos, Edamame, and Truffle Vinaigrette', 'main dish', 'Basa Fillet With Cajun Veggies', 'cod fillets', 'Cod With Artichokes And Chickpeas', 'main dish', 'Salmon In A Bag', 'olive oil'], ['Anchovies Appetizer With Breadcrumbs & Scallions', 'appetizer', 'Lemon Herb Fish', 'starter', 'Mediterranean Fish Fillets', 'olive oil', 'Favas, Green Beans, Peas And Zucchini Ribbons', 'peas', 'Favas, Green Beans, Peas And Zucchini Ribbons', \"hor d'oeuvre\", 'Tuna, Tomato And Olive Sandwich (pan Bagnat)', 'olive oil', 'Lemon-Pepper Salmon', 'couscous', 'Fish Stew With Saffron Couscous', 'flat leaf parsley'], ['Anchovies Appetizer With Breadcrumbs & Scallions', 'anchovies', 'Swiss Chard With Poached Egg Salad', 'anchovies', 'Cook the Book: Deviled Egg Salad with Anchovies, Hot Smoked Paprika, and Tomato', 'bread', 'Panzanella With Anchovy And Mint', 'cucumber', 'Salmon With Dijon Dill Sauce', 'white wine', 'Potato And Shrimp Salad With Green Goddess Dressing', 'salt', 'Fish Soup with Bread and Rouille', 'dry white wine', 'Chickpea and Octopus Bruschetta', 'octopus'], ['Anchovies Appetizer With Breadcrumbs & Scallions', 'garlic clove', 'Tapenade Crostini', 'olive oil', 'Salmon With Noodles', 'salmon fillet', 'Salmon Club with Avocado Butter', 'arugula leaves', 'Salmon Club with Avocado Butter', 'unsalted butter', 'Pan-Seared Sea Bass in Tomato Fennel Broth', 'lunch', 'Cod with Cockles and White Wine', 'flour', 'Fish Fry', 'whitebait'], ['Anchovies Appetizer With Breadcrumbs & Scallions', 'snack', \"Dad's Fish Stew\", 'tomato', 'Emerils Fish Provencal', 'red pepper flakes', 'Dinner Tonight: Pasta Alla Puttanesca', 'dinner', 'Sole with Grapefruit-Thyme Butter', 'bell pepper', 'Shallow-Poached Fish Fillets', 'kumquats', 'Roasted Snapper With Sweet And Sour Citrus Reduction', 'salt and pepper', 'Foil-Baked Sea Bass with Spinach', 'unsalted butter'], ['Anchovies Appetizer With Breadcrumbs & Scallions', 'garlic clove', 'Steamed Sea Bass with Tamarind Sauce', 'pearl onions', 'Salt and Pepper Salmon', 'salmon fillet', 'Slow-Roasted Salmon with Cherry Tomatoes and Couscous', 'lemon zest', 'Pan-fried Catfish', 'lemon zest', 'Sauteed Halibut with Pecan Shallot Topping', 'olive oil', \"The (not Barefoot) Contessa's Fish Pasta\", 'capers', 'French Tuna Burger With Green Bean Salad', 'canned anchovy fillets'], ['Anchovies Appetizer With Breadcrumbs & Scallions', 'snack', 'Salmon With Dijon Dill Sauce', \"hor d'oeuvre\", 'Pissaladière', 'oregano', 'Marinated Fresh Anchovies: Alici Marinate', 'dinner', 'Sea Bass with Tomato and Black Olive Salsa', 'basil', 'Grilled Monkfish Recipe (with Sweet Runner Bean Stew)', 'lemon', 'Cedar Plank Grilled Loup De Mer (sea Bass)', 'kitchen twine', 'Cedar Plank Grilled Loup De Mer (sea Bass)', 'lemon'], ['Anchovies Appetizer With Breadcrumbs & Scallions', 'garlic clove', 'Chargrilled Tuna & Green Beans With Salsa Verde', 'capers', 'Spiedini Alla Romana', 'garlic', 'Grilled Salmon With Dill Butter Recipe', 'garlic', 'Italian Tomato Spaghetti', 'fresh parsley', 'Baked Ling Cod With Lemon-garlic Butter Sauce', 'garlic', 'Roasted Striped Bass', 'saffron threads', 'Saffron Shrimp and Stuffed Cherry Peppers', 'shrimp'], ['Anchovies Appetizer With Breadcrumbs & Scallions', 'scallions', 'Halibut With Barbecue Tomato Sauce And Honey-mustard Polenta', 'garlic', 'Saucy Fish Tacos', 'red bell peppers', 'Roasted Peppers with Boquerones', 'red bell peppers', 'Roasted Red Pepper Sandwiches with Tapenade and Basil', 'olive', 'Anchovy and olive bruschetta', 'lamb rack', 'Anchovy and olive bruschetta', 'main dish', \"Chef Tyson Cole's Ceviche\", 'water'], ['Anchovies Appetizer With Breadcrumbs & Scallions', 'garlic clove', 'Caesar Salad Spears', 'lemon zest', 'Radicchio & Halloumi Salad With Lemon Anchovy Dressing', 'bread', 'Montbrun Melange: Olive Bread With Basil, Marinated Tomatoes, A', 'bread', 'Quick tomato macaroni cheese', 'extra virgin olive oil', 'Queso Manchego con Aceitunas y Piquillos', 'piquillo peppers', 'Piquillo-Pepper Num Pangs', 'cilantro', 'Chilean Sea Bass With Grilled Mango Salsa', 'mangoes'], ['Anchovies Appetizer With Breadcrumbs & Scallions', 'starter', 'Mediterranean Fish Fillets', 'white wine', 'Flounder With Spring Artichoke Hearts & Capers', 'capers', 'Pasta Puttanesca', 'main dish', 'Baked Gefilte Fish', 'matzo meal', 'Red Snapper Gefilte Fish', 'garlic', 'Crab Stuffed Haddock', 'haddock fillets', 'Crab Stuffed Haddock', 'lunch'], ['Anchovies Appetizer With Breadcrumbs & Scallions', 'appetizer', 'Lemon Baked Cod', \"hor d'oeuvre\", 'Stuffed Flank Steak', 'garlic cloves', 'Grilled Fish Tacos', 'avocados', 'Halibut Veracruz', 'main course', 'Fish Tacos with Pickled Onions and Chilies', 'fresh cilantro', 'Summer Ceviche', 'salt and pepper', 'Crispy Trout With Lemony Roasted Asparagus', 'main course'], ['Anchovies Appetizer With Breadcrumbs & Scallions', 'starter', 'Roasted Sea Bass With Fennel, Blood Oranges & Olives', 'snack', 'Stilton Cheese Puffs', 'antipasto', \"Dad's Fish Stew\", 'bell pepper', 'Caesar Salad', 'flat leaf parsley leaves', 'Green Goddess Salad', 'scallion', 'Lightened Green Goddess Dressing', 'coarse salt', 'San Fran-Caesar with Sour Dough Croutons', 'garlic'], ['Anchovies Appetizer With Breadcrumbs & Scallions', 'olive oil', 'Scallop Salad With Sweet Vanilla Chili Dressing', 'sugar', 'Grilled Tuna with Basil Butter and Fresh Tomato Sauce', 'black pepper', 'Pecan-crusted Halibut with Dijon Cream Sauce', 'flour', 'Baked Ling Cod With Lemon-garlic Butter Sauce', 'whole milk', 'Cook the Book: Smoked Trout Chowder', 'lunch', 'Breaded\" Redfish with Shrimp, Fennel, and Orange Salad', 'orange juice', 'Mojo Bass', 'bottled garlic'], ['Anchovies Appetizer With Breadcrumbs & Scallions', 'scallions', 'Spaghettini with Tomatoes, Anchovies and Almonds', 'capers', 'Dinner Tonight: Pasta Alla Puttanesca', 'lunch', 'Hake With Wild Mushrooms', 'flat leaf parsley', 'Grilled Wahoo with Tomato Sauce', 'oregano leaves', 'Chilean Sea Bass', 'sea bass', 'Whole Black Bass with Ginger and Scallions', 'fresh ginger', 'Grilled Salmon with Blackberry-Cabernet Coulis', 'butter'], ['Anchovies Appetizer With Breadcrumbs & Scallions', 'appetizer', 'Pasta Con Sarde', 'snack', 'Crispeddi Semolina Flour Fritters', 'light olive oil', \"Symon's Herb-Crusted Walleye with Lobster Pierogi\", 'main course', 'Anchovy and White Bean Pizza', 'lemon juice', 'Mushroom Ravioli with Lemon-Caper Mayonnaise', 'parmesan cheese', \"dragon's Breath' Caesar Salad\", 'mayonnaise', 'Hard-Cooked Eggs with Crisp Anchovy Crumbs', 'mayonnaise'], ['Anchovies Appetizer With Breadcrumbs & Scallions', \"hor d'oeuvre\", 'Fish Chowder', 'milk', 'Deep Fried Sea Bass', 'milk', 'Halibut With Barbecue Tomato Sauce And Honey-mustard Polenta', 'quick cooking oats', 'Halibut With Barbecue Tomato Sauce And Honey-mustard Polenta', 'halibut steaks', 'Seared Halibut With Lemon Caper Sauce', 'fresh parsley', 'Roasted Red Pepper Bagna Cauda', 'kosher salt', 'Crisp Striped Bass With Preserved Lemon, Chickpeas, And Couscous', 'main dish'], ['Anchovies Appetizer With Breadcrumbs & Scallions', 'appetizer', 'Pissaladiere', 'plum tomatoes', \"Fisherman's Soup\", 'celery', 'Fish Chowder', 'chile pepper', 'Branzino With Florida Amazu Sauce', 'bbq sauce', 'Grilled Striped Bass', 'striped bass', 'Baked Striped Bass With Fennel And Pernod', 'fennel bulb', 'White Anchovy, Parmesan & Grilled Bread Salad', 'white wine vinegar'], ['Anchovies Appetizer With Breadcrumbs & Scallions', 'antipasto', 'Broccoli Rabe With Garlic & Anchovies', 'garlic', 'Minted Lamb Chops With White Beans', 'plum tomatoes', 'Polenta Puttanesca', 'olive oil', 'Grilled Sea Bass with Miso-Mustard Sauce', 'mirin', 'Faux-nagi', 'drink', 'Poached Beef With Green Sauce', 'radish', 'Poached Beef With Green Sauce', 'salad mix'], ['Anchovies Appetizer With Breadcrumbs & Scallions', 'snack', 'Anchovy Fennel Toasts with Roasted Red Peppers', 'baguette', 'Bouillabaisse', 'new potatoes', 'Grilled Tuna Steaks With Onion Dill Butter', 'main dish', 'Tilapia With Arugula, Capers, And Tomatoes', 'cherry tomatoes', 'Tarragon-tomato Fish', 'extra virgin olive oil', 'Caesar Soup', 'worcestershire sauce', 'Grilled Swordfish With Tangy Compound Butter', 'steak'], ['Anchovies Appetizer With Breadcrumbs & Scallions', 'antipasto', 'Sliced Baguette With Radishes And Anchovy Butter', 'chives', 'Salmon In Sorrel Sauce', 'sorrel', 'Tart Green Salad with Avocado Dressing', 'lemon juice', 'Herb Stuffed Sole', 'main dish', 'Gemelli with Broccoli Rabe and Anchovies', 'broccoli rabe', 'Gemelli with Broccoli Rabe and Anchovies', 'olive oil', 'Crostini With Tapenade', 'capers'], ['Anchovies Appetizer With Breadcrumbs & Scallions', 'starter', 'Mixed Olive Tapenade', \"hor d'oeuvre\", 'Fish Chowder', 'pepper', 'Oven-roasted Striped Bass with Peppers', 'yellow bell peppers', 'Bagna Cauda', 'butter', 'Lemon-horseradish Sole', 'lunch', 'Indian-Spiced Halibut with Yogurt', 'ginger', 'Sake Sea Bass in Parchment', 'soy sauce'], ['Anchovies Appetizer With Breadcrumbs & Scallions', 'scallions', 'Steamed Wild Striped Bass with Ginger and Scallions', 'main course', 'Saucy Catfish', 'ketchup', 'Beer Braised BBQ Pork Butt', 'whole grain dijon mustard', 'Beer Braised BBQ Pork Butt', 'pepper', 'Anchoïade', 'lemon zest', 'Salmon with Leek and Rice Stuffing', 'lemon', 'Whole Roasted Megrim Sole With Caper Parsley Butter', 'main course'], ['Anchovies Appetizer With Breadcrumbs & Scallions', 'anchovies', 'Cook the Book: Deviled Egg Salad with Anchovies, Hot Smoked Paprika, and Tomato', 'apple cider vinegar', 'Saucy Catfish', 'apple cider vinegar', 'Paleo Buffalo Greek Caesar Salad', \"don't have it\", 'Paleo Buffalo Greek Caesar Salad', 'roasted red peppers', 'Halibut with Anchovy-Stuffed Olives, Red Peppers and Oregano', 'roasted red peppers', 'What’s your sodium style', 'peas', 'Smoked Haddock With Chive, Pea & Potato Crush', 'smoked haddock'], ['Anchovies Appetizer With Breadcrumbs & Scallions', \"hor d'oeuvre\", 'Pasta With Cauliflower', 'olive oil', 'Salsa Verde', 'biscuits', 'Sea Bass With Brown Shrimps & Couscous', 'low fat mayo', 'Sea Bass With Brown Shrimps & Couscous', 'couscous', 'Arctic Char with Tangerine-Habanero Glaze and Meyer Lemon Couscous Broth', 'unsalted butter', 'Hake With Wild Mushrooms', 'cod fillets', \"Trishie's Cedar Plank Cod\", 'dried rosemary'], ['Anchovies Appetizer With Breadcrumbs & Scallions', 'antipasto', 'Hearty Halibut Chowder', 'carrots', 'Cod with Artichokes and Chickpeas', 'carrots', 'Black-and-Tan Pork With Spicy Ale Slaw', 'dark brown sugar', 'Red Tea Smoked Sea Bass With Cinnamon Caramelized Plums', 'cinnamon sticks', 'Greek-Style Braised Lamb Shanks', 'cinnamon sticks', 'Red Tea Smoked Sea Bass With Cinnamon Caramelized Plums', 'tea', 'Red Tea Smoked Sea Bass With Cinnamon Caramelized Plums', 'cinnamon sticks'], ['Anchovies Appetizer With Breadcrumbs & Scallions', 'starter', 'Creole Striped Bass', 'black pepper', 'Sea Bass with Tomatoes and Olives', 'black pepper', 'Classic Caesar Salad', 'worcestershire sauce', 'Lightened-up Chicken Caesar Platter', 'hearts of romaine', 'Romaine Salad with Anchovy Dressing and Parmesan', 'olive oil', 'Roasted Halibut with Wine-Braised Fennel', 'water', \"Bluefish as the Fisherman's Flag: Bandiera alla Marinara\", 'plum tomatoes'], ['Anchovies Appetizer With Breadcrumbs & Scallions', 'anchovies', 'Balsamic Caesar Salad', 'mayonnaise', 'Deviled Eggs', 'coarse salt', 'Striped Bass With Tomatoes, Corn, And Basil', 'garlic cloves', 'Skirt Steak with Salsa Verde and Ricotta Salata', 'ground cumin', 'Mojo Bass', 'lunch', 'Dinner Tonight: Pasta Alla Puttanesca', 'lunch', \"Curto's Grilled Salmon with Bacon and Potato Hash\", 'clam juice'], ['Anchovies Appetizer With Breadcrumbs & Scallions', 'antipasto', 'Pesto-Marinated Striped Bass with Warm Tomatoes', 'white wine', 'Halibut With Lemon, Butter, Caper And Dill Sauce', 'main course', 'Herb and Lemon Roasted Striped Bass', 'oregano', 'Marinated Vegetables: Verdure in Scapece', 'salt packed anchovy', 'Caponata Di Melanzane', 'eggplant', 'Marinated Vegetables', 'oregano', 'Fish Soup with Bread and Rouille', 'garlic cloves'], ['Anchovies Appetizer With Breadcrumbs & Scallions', 'olive oil', 'Pan-Roasted Fish with Mediterranean Tomato Sauce', 'plum tomato', 'Pan-Roasted Fish with Mediterranean Tomato Sauce', 'snapper fillets', 'Roasted Mushroom-Stuffed Striped Bass', 'olive oil', 'Pasta With Broccoli', 'main dish', 'Parmesan Chicken With Caesar Roasted Romaine', 'asiago cheese', 'Winter Greens, Asiago, and Anchovy Pizza', 'raisins', 'Zakary Pelaccio’s Pasta Con Sarde', 'flat leaf parsley'], ['Anchovies Appetizer With Breadcrumbs & Scallions', 'starter', 'Roasted Sea Bass With Fennel, Blood Oranges & Olives', 'wine', 'Fabulous fish stew', 'extra virgin olive oil', 'Spring Fish In Parchment', 'sea bass', 'Porgy, Roman Style: Pagro alla Romana', 'main course', 'Ceviche Perlita', 'lemon juice', 'Baked Garlic Lemon Tilapia', 'garlic', 'Red Clam Chowder', 'clam juice'], ['Anchovies Appetizer With Breadcrumbs & Scallions', 'antipasto', 'Roasted Sea Bass With Fennel, Blood Oranges & Olives', 'blood oranges', 'Roasted Pompano With Blood Orange Avacado Salsa, Cilantro Butte', 'juice of lime', 'Pescado Almendrado', 'chiles', 'Chinese-style Steamed Bass', 'salt', 'Lemon Herbed Salmon', 'butter', 'Cod With Parma Ham & Asparagus', 'asparagus', 'Asparagus With Anchovies & Garlic', 'olive oil'], ['Anchovies Appetizer With Breadcrumbs & Scallions', 'scallions', 'Gingered Salmon And Carrot Sauce', 'juice of lemon', 'Kalamata Olive Tapenade With Shallots', 'pine nuts', 'Sea Bass with Saffron, Sherry and Pine Nuts', 'sherry', 'Roasted Trout With Dill And Lemon', 'feta cheese', 'Grilled Stuffed Eggplant', 'anchovy', 'Lamb Chops with Fennel Relish', 'olive oil', 'Old School\" Chicken Cacciatore', 'anchovies'], ['Anchovies Appetizer With Breadcrumbs & Scallions', 'appetizer', 'Asparagus With Anchovies & Garlic', 'garlic', 'Pasta With Anchovy Bread Crumb Topping', 'dinner', 'Bruschetta With Goat Cheese And Olive Tapenade', 'olives', 'Whole Roasted Sea Bass with Potatoes and Olives', 'baking potatoes', 'Crisp Roasted Fish Strips, Squash And Potatoes', 'cod fish fillet', 'Lemon Baked Cod', \"hor d'oeuvre\", 'Broccoli Rabe With Garlic & Anchovies', 'starter'], ['Anchovies Appetizer With Breadcrumbs & Scallions', 'garlic clove', 'Seared Tuna with Spinach and Root Vegetables', 'main course', 'Salmon With Green Goddess Sauce', 'dinner', 'Roasted Salmon with Oyster Mushrooms in Red Wine', 'shallot', 'Striped Bass With Lime Butter', 'kosher salt', 'Bold Winter Greens Salad', 'pepper', 'Grouper Picatta', 'olive oil', 'Cedar-Planked Salmon with Crab and Citrus Beurre Blanc', 'olive oil'], ['Anchovies Appetizer With Breadcrumbs & Scallions', 'anchovies', 'Sunny Side Up Eggs', 'coarse sea salt', 'Grilled Striped Bass with Orange-Saffron Butter', 'oranges', 'Grilled Striped Bass with Orange-Saffron Butter', 'white wine vinegar', 'Grilled Baby Artichokes with Caper-Mint Sauce', 'side dish', 'Grilling Whole Fish', 'thyme sprigs', 'Greek-Style Braised Lamb Shanks', 'ground nutmeg', 'Chili Garlic Salmon (light Butter Recipe)', 'lunch'], ['Anchovies Appetizer With Breadcrumbs & Scallions', 'scallions', 'Niçoise Tuna Sandwich (Pan Bagnat)', 'lunch', 'Double Bacon Caesar', 'egg yolk', 'Caesar Salad', 'tabasco', 'Garlicky Caesar Salad', 'hearts of romaine', 'Garlicky Caesar Salad', 'tabasco', 'Caesar Salad', 'olive oil', \"Noah Rosen's Wild Alaskan Black Cod With Fresh Garbanzo Hummus\", 'main course'], ['Anchovies Appetizer With Breadcrumbs & Scallions', 'garlic clove', 'Baked Peppers With Onion And Tomato', 'olive oil', 'Sautéed Bass with Lemongrass', 'tomato', 'Emerils Fish Provencal', 'appetizer', 'Anchovy Fennel Toasts with Roasted Red Peppers', 'fennel seeds', 'Pan-Seared Halibut with Tomato Vinaigrette', 'main course', 'Bap Story: Stir Fried Anchovies (Myulchi Bokkeum)', 'cooking oil', 'Potato Leek And Salmon Frittata', 'salmon'], ['Anchovies Appetizer With Breadcrumbs & Scallions', 'garlic clove', \"Bin189's Red And Green Caesar Salad\", 'side dish', 'Stuffed Baked Red Peppers', 'bell pepper', 'Boston Bluefish & Faux Taters/cauliflower', 'main course', 'Roast Monkfish in Sake Broth', 'miso', 'Roast Monkfish in Sake Broth', 'water', 'Broiled Fish With Israeli Couscous Pilaf & Corn', 'dinner', 'Boston Bluefish & Faux Taters/cauliflower', 'butter'], ['Anchovies Appetizer With Breadcrumbs & Scallions', 'snack', 'Lemon Baked Cod', 'antipasto', 'Grilled Branzino With Rosemary Vinaigrette', 'snack', 'Tilapia With Caper-parsley Sauce', 'new potatoes', 'Summer tray-baked salmon', 'basil', 'Puttanesca Sauce', 'anchovy', 'Spaghetti with tuna and cherry tomatoes', 'dinner', 'Sea Bass With Asparagus', 'fish'], ['Anchovies Appetizer With Breadcrumbs & Scallions', 'bread', 'Slow-roasted Cauliflower With Pounded Anchovies', 'lunch', 'the pleasure of wild foods: a for pan-fried trout with chanterelles', 'ghee butter', 'the pleasure of wild foods: a for pan-fried trout with chanterelles', 'fresh flat leaf parsley', 'Farmers’ Pasta', 'dried bay leaves', 'Salad Capricciosa', 'white wine vinegar', 'Chicken And Radish Salad With Creamy Avocado Dressing', 'tabasco sauce', 'Striped Bass with Cilantro-Onion Salad', 'striped bass'], ['Anchovies Appetizer With Breadcrumbs & Scallions', 'garlic clove', 'Sake Steamed Sea Bass', 'sesame oil', 'Steamed Striped Bass', 'bell pepper', 'Best Basic Caesar Salad', 'juice of lemon', 'Pan Fried Hake With Polenta And Wilted Baby Spinach Recipe', 'baby spinach', 'The Secret Ingredient (anchovy): Green Caesar Salad', 'lemon juice', 'Chicken Confit', 'shallots', 'Striped Sea Bass With Blood Oranges And Olives', 'blood oranges'], ['Anchovies Appetizer With Breadcrumbs & Scallions', 'antipasto', 'Anchovies Appetizer With Breadcrumbs & Scallions', \"hor d'oeuvre\", 'Sauteed Flounder With Orange-shallot Sauce', 'orange juice', 'Mojo Bass', 'bottled garlic', 'Sautéed Bass with Shiitake Mushroom Sauce', 'low sodium soy sauce', 'Bean Sprout Beef Rice Bowl', 'low sodium soy sauce', 'Seared Tuna with Spinach and Root Vegetables', 'onion', 'Red Snapper Puttanesca', 'lunch'], ['Anchovies Appetizer With Breadcrumbs & Scallions', 'anchovies', 'Roasted Red Pepper Pasta Sauce', 'sage', 'Roasted Red Pepper Pasta Sauce', 'smoked paprika', 'Anchovy & Italian Parsley Deviled Eggs', 'dijon mustard', 'Spicy Mustard Swordfish and Artichoke Kabobs', 'red pepper flakes', 'Dinner Tonight: Pasta Alla Puttanesca', 'black olives', 'Halibut with Mustard-Nut Crust', 'thyme', 'LONG ISLAND BOUILLABAISSE', 'jalapeno pepper'], ['Anchovies Appetizer With Breadcrumbs & Scallions', 'olive oil', 'Baked Flounder With Parsnips And Carrots Recipe', \"hor d'oeuvre\", 'Deviled Eggs', 'mustard', 'Green Bean Salad With Anchovy Dressing', 'salad', 'Niçoise Salad Sandwiches', 'dijon mustard', 'Smoked-bluefish Pate With Roasted Tomatoes On Crackers', 'shallot', 'Avocado And Prawn Open Lasagna With Anchovy Butter', 'dinner', 'Ginger Sea Bass over Wilted Greens', 'garlic'], ['Anchovies Appetizer With Breadcrumbs & Scallions', 'antipasto', 'Breadcrumbs Stuffed Green Peppers', 'breadcrumbs', 'Pecan-crusted Halibut with Dijon Cream Sauce', 'black pepper', 'Sauteed Cod with Lentils', 'lunch', 'Braised Hoisin Beer Short Ribs With Rosemary White-bean Purée', 'lunch', 'Cod With Chorizo And Almond-green Bean Rice', 'flat leaf parsley', 'Portuguese Fish Stew', 'dinner', 'Lake Trout with Fingerling Potatoes and Bacon', 'lunch'], ['Anchovies Appetizer With Breadcrumbs & Scallions', 'antipasti', 'Salmon Club with Avocado Butter', 'salmon fillet', 'Salmon with Lentils and Mustard-Herb Butter (Saumon aux Lentilles)', 'main dish', 'Pan-seared Crispy Salmon', 'unsalted butter', 'Pan-fried Trout With Polenta-spice Crust', 'main course', 'Bouillabaisse', 'tomatoes', \"The (not Barefoot) Contessa's Fish Pasta\", 'parsley', 'Herbed Fish Cakes with Green Horseradish Sauce', \"hor d'oeuvre\"], ['Anchovies Appetizer With Breadcrumbs & Scallions', \"hor d'oeuvre\", 'Lemon Baked Cod', 'paprika', 'Fish Chowder', 'pepper', 'Pan-seared Halibut With Sautéed Baby Vegetables', 'unsalted butter', 'Poached Sole With Blood Orange Beurre Blanc', 'sole', 'Sautéed Sole with Browned Butter and Capers', 'lemon juice', 'Broccoli Rabe Saute With Chicken Sausage', 'antipasti', 'Lemon Baked Cod', 'flour'], ['Anchovies Appetizer With Breadcrumbs & Scallions', 'olive oil', 'Sole Piccata With Brown Butter & Grapes', 'main dish', 'Poached Salmon with Corn and White Wine-Butter Sauce', 'basil leaves', 'Grilled Skirt Steak with Salsa Verde', 'main course', 'Lemon Sole with Lemon-Caper Sauce', 'garlic clove', 'Pork Shoulder with Salsa Verde', 'coarse kosher salt', 'Martini Mahimahi', 'low sodium chicken broth', 'Roasted Salmon with Oyster Mushrooms in Red Wine', 'dinner'], ['Anchovies Appetizer With Breadcrumbs & Scallions', 'anchovies', 'Carrots, Cauliflower And Anchovies', 'lunch', 'Salmon with Warm Passion-Fruit Vinaigrette', 'grainy mustard', 'Salmon Brochettes with Sliced Fennel Vinaigrette', 'fennel bulb', 'Whole Striped Bass With Fennel And Tomato', \"hor d'oeuvre\", 'Pissaladiere', \"hor d'oeuvre\", 'Tuna, Tomato And Olive Sandwich (pan Bagnat)', 'appetizer', 'Anchovies Appetizer With Breadcrumbs & Scallions', 'bread'], ['Anchovies Appetizer With Breadcrumbs & Scallions', \"hor d'oeuvre\", 'Chicken-Liver Crostini', 'appetizer', 'Baked Ling Cod With Lemon-garlic Butter Sauce', 'whole milk', 'Poached Cod with Parsley Sauce', 'lemon juice', 'Garlic Caesar Salad', 'peppercorn', 'Garlic Caesar Salad', 'parmesan cheese', 'Pasta Puttanesca', 'anchovy', 'Chicken Thighs with Snap Peas and Agliata', 'main course'], ['Anchovies Appetizer With Breadcrumbs & Scallions', 'bread', 'Anchovy and Piquillo Pepper Bruschetta', 'side dish', 'Roasted Peppers With Anchovies', 'fresh flat leaf parsley', 'Pizza Recipe With Mozzarella, Anchovies, Chilli, Capers & Parsley', 'sea salt', 'Christmas Pizza', 'main course', 'Cod And Fish Stew With Garlic Bread Recipe', 'lunch', 'Escarole-Stuffed Seared Trout', 'lunch', 'Pan-Seared Tarragon Trout', 'main course'], ['Anchovies Appetizer With Breadcrumbs & Scallions', 'antipasti', 'Roasted Cod And Scallions With Spiced Potatoes', 'lemon', 'Whole Roasted Megrim Sole With Caper Parsley Butter', 'main dish', 'Ceviche Perlita', 'avocado', 'Avocado And Prawn Open Lasagna With Anchovy Butter', 'avocado', 'Roasted Pompano with Citrus Avocado Salsa, Cilantro Butter & Spicy Plantains', 'red bell pepper', 'Panzanella', 'side dish', 'Acciugata Di Renato', 'side dish'], ['Anchovies Appetizer With Breadcrumbs & Scallions', 'garlic clove', 'Prosciutto, Fried Egg, and Parmesan on Country Bread', 'unsalted butter', 'Veal Scaloppine with Wilted Parsley, Lemon and Sesame', 'veal', 'Veal Cutlets With Lemon Caper Sauce', 'veal', 'Veal Cutlets With Lemon Caper Sauce', 'juice of lemon', 'Bluefish Hash With Mustard And Lemon Thyme', 'olive oil', 'Red Bell Pepper and Eggplant Tian with Anchovies', 'eggplants', 'Eggplant Stuffed With Savory Beef', 'main dish'], ['Anchovies Appetizer With Breadcrumbs & Scallions', 'scallions', 'Sautéed Shrimp with Green Olives, Scallions and Anchovies', 'anchovy fillets', 'Anchovy and Olive Bruschette', 'ciabatta', 'Red Pepper & Caper Bruschetta', 'lunch', 'Lamb Chops With Olive Orange Anchovy Sauce Recipe', 'lemon zest', 'Pan Fried Striped Bass', 'striped bass', 'Asian Marinated Striped Bass', 'fresh cilantro', 'Beer-Battered Fish Tacos', 'mayonnaise'], ['Anchovies Appetizer With Breadcrumbs & Scallions', \"hor d'oeuvre\", 'Baked Sole With Asparagus', 'salt and pepper', 'Striped Bass with Sweet Carrots and Cider Glaze', 'garlic cloves', 'Salade Nicoise', 'anchovy', 'Crispy Potato Salad With Chimichurri Sauce', 'celery leaves', 'Cook the Book: Quick-Cured Salmon', 'celery leaves', 'Pork Shoulder with Salsa Verde', 'olive oil', 'Buttermilk Bagna Cauda', 'side dish'], ['Anchovies Appetizer With Breadcrumbs & Scallions', 'garlic clove', 'Chicken Liver Crostini', 'dry white wine', 'Shallow-Poached Fish Fillets', 'unsalted butter', 'Salmon With Agrodolce Sauce', 'sugar', 'Bean Sprout Beef Rice Bowl', 'green chili', 'Bean Sprout Beef Rice Bowl', 'main course', 'Striped Bass with Toasted-Shallot Vinaigrette and Spinach', 'striped bass', 'Grappa-Cured Striped Bass', 'sugar'], ['Anchovies Appetizer With Breadcrumbs & Scallions', 'starter', 'Toasted Parmesan And Garlic Oil Caesar Salad', 'snack', 'Fish With Olives, Pine Nuts, Basil And Wine', 'kosher salt', 'Balsamic Portabella Salad With Goat Cheese', 'shallots', 'Seared Wild Salmon With New Potatoes And Dijon Broth', 'main course', 'Grilled Grouper with Browned Butter-Orange Couscous', 'slivered almonds', 'Pan-Grilled New York Strip Steaks with Green Olive Tapenade', 'oil cured black olives', 'Clam And Calamari Seafood Stew With Salsa Verde', 'fennel bulb'], ['Anchovies Appetizer With Breadcrumbs & Scallions', 'anchovies', 'Lamb Verde', 'chives', 'Warm Scallop Salad with Mushrooms and Zucchini', 'chives', 'Cod with Artichokes and Chickpeas', 'garlic cloves', 'Twin Pissaladières', 'active yeast', 'Cook the Book: Sicilian Pizza', 'dinner', 'Grilled Fish With Recado', 'red onion', 'Braised Veal Shank with Marjoram: Stinco di Vitello', 'anchovy'], ['Anchovies Appetizer With Breadcrumbs & Scallions', 'antipasto', 'Acqua Pazza (fish Simmered In Tomato-garlic Broth)', 'flour', 'Crockpot Halibut In White Sauce With Broccolini', 'gluten free flour', 'Crockpot Halibut In White Sauce With Broccolini', 'gluten free flour', 'Skinny Tuna Noodle Casserole', 'onion', 'Mussels with Tomatoes, Wine, and Anise', 'onion', 'Cod, Potato & Spring Onion Stew Recipe', 'fresh flat leaf parsley', 'Tapenade Crostini', 'antipasti'], ['Anchovies Appetizer With Breadcrumbs & Scallions', 'antipasto', 'Spiced Cod With Broccoli-quinoa Pilaf', 'snack', 'Pressed Summer Sandwich with Eggs and Anchovies', 'olive oil', 'Caesar Salad', 'parmesan cheese', 'My Caesar Salad. Part 2', 'juice of lemon', 'Baked Fish Packets With Broccoli And Squash', 'garlic', 'Whole Mackerel With Orange Butter', 'onion', 'Caponata Di Melanzane', 'garlic cloves'], ['Anchovies Appetizer With Breadcrumbs & Scallions', 'bread', 'Anchovies Appetizer With Breadcrumbs & Scallions', 'antipasti', 'Tapenade Crostini', 'cognac', 'Smoked Bluefish Pate', 'lemon juice', 'Striped Bass with Caramelized Brussels Sprouts', 'main dish', 'Black Truffle Pasta', 'butter', 'Coconut Crusted Haddock', 'main dish', 'Grilled Salmon With Dill Butter Recipe', 'black pepper'], ['Anchovies Appetizer With Breadcrumbs & Scallions', 'scallions', 'Soy-marinated Chinese-style Tilapia With Fresh Ginger And Scall', 'flour', 'Fried Anchovies with Sage', 'main course', 'Salmon With Agrodolce Sauce', 'lunch', 'Chicken Cacciatore', 'garlic', 'Spicy Mustard Swordfish and Artichoke Kabobs', 'dijon mustard', 'Red Leaf Caesar Salad with Grilled Parmesan Croutons', 'olive oil', 'Fish Soup with Bread and Rouille', 'fish fillets'], ['Anchovies Appetizer With Breadcrumbs & Scallions', \"hor d'oeuvre\", 'Acqua Pazza (fish Simmered In Tomato-garlic Broth)', 'fresh basil', 'Healthy & Delicious: Baked Rotelle Puttanesca', 'canned tomatoes', 'Sicilian Stuffed Swordfish with Cherry Tomato Sauce', 'main course', 'Halibut with Pepitas, Capers, Cherry Tomatoes, and Basil', 'dry white wine', 'Dinner Tonight: Shallow-Poached Salmon', 'parsley', 'Bluefish with Grape Leaves', 'anchovy', 'Vermicelli with Sauce alla Sofia', 'olive oil'], ['Anchovies Appetizer With Breadcrumbs & Scallions', 'appetizer', 'Broccoli Rabe With Garlic & Anchovies', \"hor d'oeuvre\", 'Asparagus With Anchovies & Garlic', 'crushed red pepper', 'Roasted Red Pepper Bagna Cauda', 'garlic', 'Grilled Wahoo with Tomato Sauce', 'cherry tomatoes', 'Farro & Tomato Salad With Basil & Anchovies', 'salad', 'Caesar Salad With Heart Croutons', 'dijon mustard', 'Escarole Salad with Anchovy Dressing', 'kosher salt'], ['Anchovies Appetizer With Breadcrumbs & Scallions', 'appetizer', 'Grilled Sausage Appetizer With Gremolata', 'anchovy', 'Grilled Butterflied Leg of Lamb with Tomato-Fennel Vinaigrette', 'fresh basil', 'Slow-roasted Cherry Tomato Bruschetta', 'garlic', 'Ginger Steamed Fish With Troy S Hana Style Sauce Recipe', 'low sodium soy sauce', 'Sea Bass With Asparagus', 'shiitake mushrooms', 'Salmon with Shiitake and Red Wine Sauce', 'thyme sprigs', 'Lemon-Stuffed Grilled Branzino', 'main dish'], ['Anchovies Appetizer With Breadcrumbs & Scallions', 'garlic clove', 'Tilapia With Balsamic Butter Sauce, Thyme Mashed Potatoes, And', 'olive oil', 'Sea Bass with Marinated Vegetables', 'coarse sea salt', 'Whole Baked Fish In Sea Salt With Parsley Gremolata', 'whole fish', 'Bouillabaisse', 'fish stock', 'Fish Stew With Saffron Couscous', 'saffron threads', 'Bouillabaisse', 'fennel bulbs', 'Roasted Sea Bass With Fennel, Blood Oranges & Olives', 'salt and pepper'], ['Anchovies Appetizer With Breadcrumbs & Scallions', \"hor d'oeuvre\", 'Tagliatelle With Purple Sprouting Broccoli, Anchovies And Pecorino', 'broccoli', 'Mediterranean Pasta with Broccoli', 'olive oil', 'Crab Salad and Buttermilk Caesar Dressing', 'buttermilk', 'Celery -Root Rémoulade', 'side dish', 'Kalamata Olive Tapenade With Shallots', 'garlic', 'Dinner Tonight: Spaghetti with Garlic, Anchovies, and Chili', 'red chilis', 'Dinner Tonight: Spaghetti with Garlic, Anchovies, and Chili', 'olive oil'], ['Anchovies Appetizer With Breadcrumbs & Scallions', 'starter', 'Roasted Halibut With Pickled Beets (stegte Helleflynder Med Rød', 'lemon juice', 'Grilled Halibut With Salt-and-vinegar Potatoes', 'kosher salt', 'Grilled Fish In A Spicy Citrus Marinade', 'pepper', 'Tomato And Boquerones Salad With Garlicky Breadcrumbs', 'extra virgin olive oil', 'Easy to Make Dinner Combo', 'february 25', 'Easy to Make Dinner Combo', 'kosher salt', 'Quick Chicken Sauté With Tomatoes, Black Olives & Basil', 'garlic'], ['Anchovies Appetizer With Breadcrumbs & Scallions', 'olive oil', 'Salt and Pepper Salmon', 'sugar', 'Piquillo-Pepper Num Pangs', 'side dish', 'Spanish Anchovy, Fennel, and Preserved Lemon Salad', 'side dish', 'Fish Cooked In Banana Leaves With Tomatillos And Guajillo Chilis', 'lime zest', 'Arctic Char With Asian Braised Fennel And Citrus Emulsion', 'canola oil', 'Thai Roasted Green Fish', 'fish sauce', 'Seared Sea Bass with Spicy Lemongrass Crust', 'granulated sugar'], ['Anchovies Appetizer With Breadcrumbs & Scallions', 'starter', 'Garlic & Herb Seasoned Tilapia', 'lemon juice', 'Turkey Tonnato With Potatoes And Green Beans', 'haricots verts', 'Cavatappi Niçoise', 'balsamic vinegar', 'My Caesar Salad. Part 2', 'bell pepper', 'Steamed Striped Bass', 'main dish', 'Matcha & Pistachio-crusted Halibut', 'unsalted butter', 'Find the book', 'baking powder'], ['Anchovies Appetizer With Breadcrumbs & Scallions', 'scallions', 'Sardines On Toast', 'side dish', 'Fried Smelt Recipe', 'chili pepper', 'Ramp Kimchi & Ramp Confit', 'side dish', 'Fish Cooked In Banana Leaves With Tomatillos And Guajillo Chilis', 'lime zest', 'Salmon With Waffle Glaze', 'fish', 'Salmon With Waffle Glaze', 'soy sauce', 'Cod with Cashews Baked in Foil Envelopes', 'garlic'], ['Anchovies Appetizer With Breadcrumbs & Scallions', 'appetizer', \"Ginger-steamed Fish With Troy's Hana-style Sauce\", 'antipasto', 'Cioppino', 'dungeness crab', 'Home', 'anchovy paste', 'Caesar-roasted Asparagus', 'olive oil', 'Tarragon Chicken with Anchovy Cream', 'crème fraîche', 'Basil-Steamed Halibut with Lemon Crème Sauce', 'garlic clove', 'Spicy Sautéed Mushrooms With Anchovy', 'butter'], ['Anchovies Appetizer With Breadcrumbs & Scallions', 'appetizer', 'Sliced Baguette With Radishes And Anchovy Butter', 'starter', \"Katie Lee's Sole Meunière Recipe\", 'sole', 'Petrale Sole with Lemon-Shallot Brussels Sprouts', 'brussels sprouts', 'Glazed Salmon with Brussels Sprout Hash', 'applejack', 'Glazed Salmon with Brussels Sprout Hash', 'yukon gold potatoes', 'Young Green Bean, Anchovy and Potato Salad', 'side dish', 'Halibut With Caper Beurre Blanc & Crushed Jersey Royals', 'butter'], ['Anchovies Appetizer With Breadcrumbs & Scallions', 'olive oil', 'Old School\" Chicken Cacciatore', 'dry red wine', 'Leg of Lamb with Garlic Sauce', 'lunch', 'Cook the Book: Steak with Anchovy Butter', 'butter', 'Sake-Steamed Halibut with Dilled Carrots', 'lunch', 'Poached Salmon With Corn And White Wine–butter Sauce', 'salt', 'Grouper with Corn \"Pudding\" and Collard Greens', 'chile', 'Black Bass With Chickpeas, Clams, And Chorizo', 'escarole'], ['Anchovies Appetizer With Breadcrumbs & Scallions', 'snack', 'Crispeddi Semolina Flour Fritters', 'antipasti', 'Favas, Green Beans, Peas And Zucchini Ribbons', 'anchovy', 'Lamb Chops With Olive Orange Anchovy Sauce Recipe', 'cauliflower', 'Pan Roasted Filet Mignon with Asparagus Sea Bass with Roasted Cauliflower Puree', 'brown sugar', 'Glazed Salmon with Braised Fennel', 'butter', 'Pimientos Piquillos Rellenos De Bacalao', 'onion', 'Pissaladière Tartlets', 'olive oil'], ['Anchovies Appetizer With Breadcrumbs & Scallions', 'antipasto', 'Cedar-planked Salmon With Seasoned Lemon Butter', 'lemon', 'Pan-Seared Lemon Sole', 'lunch', 'Dinner Tonight: Marinated Chickpea Salad', 'canned chickpeas', 'Cod with Artichokes and Chickpeas', 'chives', 'Cod with Artichokes and Chickpeas', 'dinner', 'Mixed Seafood Risotto', 'onion', 'Salmon Chowder', 'green bell pepper'], ['Anchovies Appetizer With Breadcrumbs & Scallions', 'olive oil', 'Caesar Salad', 'salad', 'Farro & Tomato Salad With Basil & Anchovies', 'cherry tomatoes', 'Striped Bass With Tomatoes, Corn, And Basil', 'olive oil', 'Tilapia with Purple Potato Crust and Chive Rosemary Oil', 'fresh chives', 'Poached Halibut with Green Beans and Red Potatoes', 'dry white wine', 'Chesapeake Bay Seafood Stew', 'butter', 'Stir-fried Shiitake And Broccoli Slaw', 'fish sauce'], ['Anchovies Appetizer With Breadcrumbs & Scallions', 'scallions', 'Chinese Steamed Fish With Scallions', 'sesame oil', 'Grilled Fish (saengsun Gui)', 'lunch', 'Winter Greens, Asiago, and Anchovy Pizza', 'main dish', 'Blackened Tilapia With Cilantro-lime Slaw', 'lime', 'Roast Sea Bass With Chilli & Lime Leaves', 'fennel bulbs', 'Red Snapper With Chick Peas, Fennel And White Wine', 'fish', 'Grilled Fish with Sauce au Chien', 'vegetable oil'], ['Anchovies Appetizer With Breadcrumbs & Scallions', 'bread', 'Sea Bass Puttanesca In A Foil Pouch', 'capers', 'Fresh Anchovies Marinated In Salsa Verde', 'garlic', 'Coconut-guajillo Poached Seafood Taco With Yucatan Salsa', 'corn tortillas', 'Saucy Fish Tacos', 'corn tortillas', 'Grilled Fish Tacos', 'white onion', 'Niçoise Tuna Sandwich (Pan Bagnat)', 'lettuce leaves', 'Niçoise Tuna Sandwich (Pan Bagnat)', 'main course'], ['Anchovies Appetizer With Breadcrumbs & Scallions', 'bread', 'Tarragon Tuna Melt', 'dijon mustard', 'Crispy Baked Fish', 'parmesan', 'Bacon Caesar Salad', 'olive oil', 'Cioppino', 'tomato juice', 'Cioppino', 'halibut', 'Sauteed Ling Cod With Leeks & Anchovy Butter', 'leeks', 'Butternut Squash Tart With Anchovy Vinaigrette', 'salt & pepper'], ['Anchovies Appetizer With Breadcrumbs & Scallions', 'anchovies', 'Escarole Salad with Anchovy Dressing', 'red wine vinegar', 'Cavatappi Niçoise', 'anchovy', 'Chicken Breasts Provençal', 'dinner', 'Snapper Tacos with Chipotle Cream', 'lunch', 'Tilapia With Arugula, Capers, And Tomatoes', 'main course', 'Fabulous fish stew', 'dinner', 'Miso And Soy Chilean Sea Bass', 'sake'], ['Anchovies Appetizer With Breadcrumbs & Scallions', 'snack', 'Pissaladiere', 'appetizer', 'Garlic & Herb Seasoned Tilapia', 'appetizer', 'Vegetable Stew With Halibut', 'starter', 'Baked Flounder With Parsnips And Carrots Recipe', 'appetizer', 'Mushroom Ravioli with Lemon-Caper Mayonnaise', 'garlic cloves', 'Manhattan-Style Fish Chowder', 'thyme', 'LONG ISLAND BOUILLABAISSE', 'salt and pepper'], ['Anchovies Appetizer With Breadcrumbs & Scallions', 'appetizer', 'Pasta With Cauliflower', 'starter', 'Turkey Burgers With Caesar Spread', 'ground turkey', 'Turkey Burgers With Caesar Spread', 'lemon juice', 'Croutons with Tapenade', 'kalamata olives', 'Muffuletta', 'extra virgin olive oil', 'Fish Fusilli', 'feta cheese', 'Striped Bass en Papillote', 'olive oil'], ['Anchovies Appetizer With Breadcrumbs & Scallions', 'anchovies', 'Korean Miso Soup With Manilla Clams', 'miso soybean paste', 'Miso-marinated Sea Bass', 'miso soybean paste', 'Miso-glazed Sea Bass', 'soy sauce', 'Steamed Fish With Scallions And Ginger', 'soy sauce', 'Ginger Sea Bass over Wilted Greens', 'marsala wine', 'Mixed Grill with Sicilian Lemon Salad and Almond Mint Salsa', 'main dish', 'Herb Stuffed Sole', 'sole'], ['Anchovies Appetizer With Breadcrumbs & Scallions', 'scallions', 'Grouper with Jicama and Black Bean Sauce', 'red snapper fillets', 'Snapper With Succotash', 'unsalted butter', 'Trout Grenobloise', 'white bread', 'Caesar Salad With Heart Croutons', 'lemon juice', 'Grilled Sablefish With Thyme-lemon Salsa Verde', 'olive oil', 'Orford-landed Seabass With Crispy Potatoes, Bacon And Sea Purslane', 'sunflower oil', 'Sautéed Cod With Textures Of Jerusalem Artichokes', 'extra virgin olive oil'], ['Anchovies Appetizer With Breadcrumbs & Scallions', 'antipasti', 'Pappardelle With Spicy Meat Sauce', 'dry white wine', 'Salmon with Leek and Rice Stuffing', 'lemon zest', 'Tilapia With Lemon And Dill', 'tilapia', 'Pan Sauteed Tilapia With Lemon And Jalapeno', 'jalapeno pepper', 'Whole Fish With Mint', 'main course', 'Roasted Salmon With Olive-mustard Butter And Orzo', 'butter', 'Sautéed Tilapia with Lemon-Peppercorn Pan Sauce', 'fat free less sodium chicken broth'], ['Anchovies Appetizer With Breadcrumbs & Scallions', 'garlic clove', 'Steamed Sea Bass with Tamarind Sauce', 'cumin seeds', 'Halibut with Spicy Mint-Cilantro Chutney', 'fresh ginger', 'Sake-steamed Sockeye Salmon With Sake Butter', 'lemongrass', 'Sautéed Bass with Lemongrass', 'sea bass fillets', 'Sautéed Bass with Shiitake Mushroom Sauce', 'shiitake mushroom caps', 'Mushroom Ravioli with Lemon-Caper Mayonnaise', 'black pepper', 'Branzino En Papillote With Roasted Peppers, Black Olives And Fe', 'roasted red peppers'], ['Anchovies Appetizer With Breadcrumbs & Scallions', 'bread', 'Turkey Sandwich With Tapenade And Fontina', 'garlic clove', 'Sauteed Striped Bass with Mint Pesto and Spiced Carrots', 'red pepper', 'Sauteed Striped Bass with Mint Pesto and Spiced Carrots', 'fresh mint', 'Whole Branzino In Grape Leaves With Zucchini, Olives, And Mint', 'branzino', 'Stuffed Branzino', 'capers', 'Vegetable Market Salad', 'scallions', 'Succotash with Three Steamed Fish', 'corn'], ['Anchovies Appetizer With Breadcrumbs & Scallions', 'anchovies', 'Linguine With Broccoli & Roasted Peppers', 'roasted red peppers', 'Roasted Red Pepper Pasta Sauce', 'sauce', 'Crockpot Halibut In White Sauce With Broccolini', 'white sugar', 'Myolchi Bokeum (sauteed Dried Baby Anchovies)', 'chilli', 'Myolchi Bokeum (sauteed Dried Baby Anchovies)', 'water', 'Pissaladiere', 'onions', 'Pissaladiere – a piece of France', 'bell pepper'], ['Anchovies Appetizer With Breadcrumbs & Scallions', 'garlic clove', 'Radish Salad With Anchovy Sauce', 'garlic clove', 'Anchovy and Roasted-Pepper Salad with Goat Cheese', 'oil packed tuna', 'Olives Stuffed with Almonds, Anchovies and Peppers', 'piquillo peppers', 'Turnips and Turnip Greens with Mustard Butter', 'oil packed tuna', 'Polpette di Vitello, Tonnato Style', 'dinner', 'Cod, Potato & Spring Onion Stew Recipe', 'onion', 'Lamb and Artichoke Daube', 'frozen artichoke hearts'], ['Anchovies Appetizer With Breadcrumbs & Scallions', 'starter', 'Crispeddi Semolina Flour Fritters', 'bell pepper', 'Salt-Baked Sea Bass with Warm Tomato Vinaigrette', 'lemon', 'Steamed Artichokes With Salsa Verde', 'red pepper', 'Paella', 'shrimp', 'Grilled Caesar Salad with Shrimp', 'bell pepper', 'Wild Striped Bass en Papillote', 'lemon wedges', 'Kedgeree', 'vegetable stock'], ['Anchovies Appetizer With Breadcrumbs & Scallions', 'anchovies', 'Cauliflower, Anchovies and Tomatoes', 'chives', 'Chicken Salad with Green Goddess Dressing', 'hass avocado', 'Green Goddess Dip With Endive', 'spread', 'Salmon Rillettes/salmon Spread', 'salt', 'Bouillabaisse', 'garlic cloves', 'Grilled Pork Chops with Anchovies and Swiss Chard', 'crushed red pepper', 'Roasted Red Pepper Bagna Cauda', 'canned anchovy fillets'], ['Anchovies Appetizer With Breadcrumbs & Scallions', 'garlic clove', 'Pan-roasted Swordfish Steaks With Mixed-peppercorn Butter', 'main course', 'Seared Salmon with Indian-Inspired Cream Sauce', 'dried porcini mushrooms', 'Tuscan Chicken Liver Crostini', 'egg yolk', 'Caesar Salad With Heart Croutons', 'lemon juice', 'Caesar Salad with Crispy Tofu Croutons', 'silken tofu', 'Caesar Salad with Crispy Tofu Croutons', 'silken tofu', 'Caesar Salad with Crispy Tofu Croutons', 'oil packed tuna'], ['Anchovies Appetizer With Breadcrumbs & Scallions', 'anchovies', 'Acciugata Di Renato', 'kosher salt', 'Spiced Cod With Broccoli-quinoa Pilaf', 'olive oil', 'Lemon-Stuffed Grilled Branzino', 'lemons', 'Grilled Cod With Pancetta And Pea Mash', 'rocket', 'Carrots, Cauliflower And Anchovies', 'lemon juice', 'Roasted Red Peppers with Tonnato Sauce', 'crusty bread', 'Pressed Summer Sandwich with Eggs and Anchovies', 'cherry tomatoes'], ['Anchovies Appetizer With Breadcrumbs & Scallions', 'snack', \"Katie Lee's Sole Meunière Recipe\", 'flour', 'Christmas Pizza', 'shredded mozzarella cheese', 'Crab Crusted Grouper', 'butter', 'Parmesan & Parsley-crusted Salmon', 'breadcrumbs', 'Broccolini With Anchovies, Currants &toasted Breadcrumbs', 'garlic', 'Lemon And Chilli Bread Salad', 'main course', 'Pan-Sautéed Trout with Capers', 'capers'], ['Anchovies Appetizer With Breadcrumbs & Scallions', 'garlic clove', 'Seared Tuna with Spinach and Root Vegetables', 'parsnip', 'Home', 'clams', 'Halibut, Clams, and Pancetta with Escarole', 'low sodium chicken broth', 'Seafood Stew', 'fennel bulb', 'Arctic Char And Smoked Salmon Rillettes', 'arctic char', 'Arctic Char And Smoked Salmon Rillettes', 'crème fraîche', 'Artichoke Fritters with Green Goddess Dipping Sauce', 'salt'], ['Anchovies Appetizer With Breadcrumbs & Scallions', 'starter', 'Roasted Sea Bass With Fennel, Blood Oranges & Olives', 'black olives', 'Grilled Eggplant with Olive, Orange & Anchovy Vinaigrette', 'black olives', 'Fig-Olive Tapenade', 'garlic clove', 'Grilled Salmon with Fennel and Creole Mustard Spaetzle', 'creole mustard', 'Broiled Grouper with Creamy Crab and Shrimp Sauce', 'cajun seasoning', 'Grilled Cajun Salmon With Vegetable Mostaccioli', 'parmesan cheese', 'Crisp Roasted Fish Strips, Squash And Potatoes', 'main dish'], ['Anchovies Appetizer With Breadcrumbs & Scallions', 'snack', 'Blue Fish With Tomato, Garlic And Onions', 'yellow onion', 'Salmon with Leek and Rice Stuffing', 'dry white wine', 'Salad Capricciosa', 'whipping cream', 'Roasted Black Bass with Apple Cider-Kale Sauce', 'sea bass fillets', 'Herb-roasted Sea Bass With Salsa Verde', 'main course', 'Tilapia With Balsamic Butter Sauce, Thyme Mashed Potatoes, And', 'balsamic vinegar', 'My Caesar Salad. Part 2', 'crusty bread'], ['Anchovies Appetizer With Breadcrumbs & Scallions', 'scallions', 'Cook the Book: Quick-Cured Salmon', 'main dish', 'Lemon Cream Roast Salmon With Whipped Parsnips', 'sour cream', 'Crudités And Shrimp With Green Goddess Dip', 'egg', 'Crab Stuffed Haddock', 'butter', \"Baketard.com - Blog - Giorgio Locatelli's Branzino alla Vernaccia in Crosta Di Pomodoro (Sea Bass with Tomato Crust and Vernaccia Wine)\", 'bread crumbs', 'Lemon Herbed Salmon', 'main dish', 'Hooked On Halibut', 'paprika'], ['Anchovies Appetizer With Breadcrumbs & Scallions', 'anchovies', 'Roasted Red Pepper Pasta Sauce', 'tomato paste', 'Baccala', 'pine nuts', 'Easy to Make Dinner Combo', 'salad mix', 'Cauliflower, Anchovies and Tomatoes', 'balsamic vinegar', 'Balsamic Portabella Salad With Goat Cheese', 'portabella mushrooms', 'Bagna Cauda', 'olive oil', 'Radicchio Slaw With Green Beans And Cauliflower', 'radicchio'], ['Anchovies Appetizer With Breadcrumbs & Scallions', 'antipasto', 'Fish Chowder', 'bay leaf', \"Tom Valenti's Lamb Shanks\", 'anchovy', 'Roasted Cod on Large Garlic Croutons', 'olive oil', 'Pasta Puttanesca', 'parmigiano reggiano cheese', 'Stuffed Flank Steak', 'starter', 'Pissaladiere', 'starter', 'spicy tomato mussels', 'mussels'], ['Anchovies Appetizer With Breadcrumbs & Scallions', 'antipasto', 'Fried Anchovies', 'eggs', 'Baked Gefilte Fish', 'bell pepper', 'Fresh Anchovies Marinated In Salsa Verde', 'garlic', 'Spicy Mustard Swordfish and Artichoke Kabobs', 'anchovy', 'Stuffed Dry-braised Okra', 'anchovy', 'Stuffed Summer Squash di Alici', 'skim milk ricotta cheese', 'Stuffed Summer Squash di Alici', 'salt and pepper'], ['Anchovies Appetizer With Breadcrumbs & Scallions', 'anchovies', 'Anchovy Mayonnaise', 'mayonnaise', 'Fresh Tuna Salad with Avocado', 'oil cured black olives', 'Striped Bass Puttanesca with Seared Fingerling Potatoes', 'sugar', 'Puttanesca Sauce', 'sauce', 'Sautéed Petrale Sole In Herb Butter Sauce', 'shallots', 'Sautéed Sole with Browned Butter and Capers', 'salt', 'Salmon Steaks with Red-Wine Butter', 'olive oil'], ['Anchovies Appetizer With Breadcrumbs & Scallions', 'antipasti', 'Striped Bass With Lime Butter', 'red snapper fillets', 'Snapper With Succotash', 'coarse salt', 'Vegetable Market Salad', 'fennel', 'Tuscan Braised Short Ribs', 'paprika', 'Fried Red Fish', 'dinner', 'Grilled Salmon With Zucchini Relish', 'pepper', 'Fish And Chips', 'russet potatoes'], ['Anchovies Appetizer With Breadcrumbs & Scallions', 'scallions', 'Green Goddess Slaw', 'fresh tarragon', 'Potato Leek And Salmon Frittata', 'olive oil', 'Linguine with Puttanesca Sauce', 'fresh basil', 'Grilled Salmon With Basil Aioli', 'egg yolks', 'Poached Salmon with Hollandaise Sauce', 'main dish', 'Cook the Book Party Planner: Pasta with Sardines', 'olive oil', 'Bruschetta With Fig & Walnut Anchoiade', 'kosher salt'], ['Anchovies Appetizer With Breadcrumbs & Scallions', 'anchovies', 'The Chicken-fried Pork Belly Caesar', 'flour', 'Salmon Cannelloni with Lemon Cream Sauce', 'dinner', 'Fish With Olives And Herbes De Provence (poissons Aux Olives Et', 'lunch', 'Grappa-Cured Striped Bass', 'striped bass', 'Roasted Cod And Scallions With Spiced Potatoes', 'chili powder', 'Chili-Rubbed Salmon', 'salmon fillet', 'Salmon with Creamy Dill Sauce', 'ground pepper'], ['Anchovies Appetizer With Breadcrumbs & Scallions', 'antipasto', 'Baked Flounder With Parsnips And Carrots Recipe', 'lemon zest', 'Fish With Couscous Salad Recipe (omega 3 And Couscous)', 'natural yoghurt', 'Fish With Couscous Salad Recipe (omega 3 And Couscous)', 'dinner', 'Grilled Sirloin with Anchovy-Lemon Butter and Broccoli Rabe', 'broccoli rabe', 'Pinot-Braised Duck with Spicy Greens', 'shallots', 'Cavatappi Niçoise', 'shallots', 'Onion And Anchovy Tartlets', 'olive oil'], ['Anchovies Appetizer With Breadcrumbs & Scallions', 'snack', 'Grilled Branzino With Rosemary Vinaigrette', 'garlic clove', 'Striped Bass with Caramelized Brussels Sprouts', 'mayonnaise', 'Tarragon Tuna Melt', 'butter', 'Salmon With Pepita-lime Butter', 'salt', 'Spiced Brown Sugar Salmon With Peach-kiwi Salsa', 'ground cinnamon', 'Coconut Crusted Haddock', 'canola oil', 'Roasted Pompano with Citrus Avocado Salsa, Cilantro Butter & Spicy Plantains', 'red onion'], ['Anchovies Appetizer With Breadcrumbs & Scallions', 'olive oil', 'Seared Scallops with Basil, Anchovy and Sweet Corn Pudding', 'water', 'Roasted Halibut with Wine-Braised Fennel', 'lunch', 'Sea Bass with Moroccan Salsa', 'golden raisins', 'Sea Bass with Saffron, Sherry and Pine Nuts', 'water', 'Bass in Artichoke and Tomato Broth', 'water', \"Chef Tyson Cole's Ceviche\", 'juice of lemon', 'Sautéed Cod With Textures Of Jerusalem Artichokes', 'sugar'], ['Anchovies Appetizer With Breadcrumbs & Scallions', 'antipasti', 'Hard-Cooked Eggs with Crisp Anchovy Crumbs', 'eggs', 'Salade NiÃ§oise with Fresh Tuna Confit', 'lunch', 'Catalan Roasted Sea Bass', 'sea bass', 'Whole Striped Bass With Fennel And Tomato', \"hor d'oeuvre\", 'Striped Bass With Lime Butter', 'heavy cream', 'Poached Salmon with Basil Butter and Succotash', 'salmon fillets', 'Seared Wild Salmon With New Potatoes And Dijon Broth', 'new potatoes'], ['Anchovies Appetizer With Breadcrumbs & Scallions', 'scallions', 'Sea Bass Puttanesca In A Foil Pouch', 'bread', 'Montbrun Melange: Olive Bread With Basil, Marinated Tomatoes, A', 'bread', 'Turkey Sandwich With Tapenade And Fontina', 'lemon juice', 'Puff Pastry Salmon with Creamy Pesto', 'milk', 'Tart With Caramelized Onions, Olives And Anchovy', 'onions', 'Baccala', 'chicken wings', 'Burn-Your-Fingers Chicken Wings', 'black pepper'], ['Anchovies Appetizer With Breadcrumbs & Scallions', 'snack', 'Breadcrumbs Stuffed Green Peppers', 'antipasto', 'Salmon With Dijon Dill Sauce', 'antipasti', 'Asparagus With Anchovies & Garlic', 'antipasto', 'Pasta With Cauliflower', 'red pepper flakes', 'Puttanesca Sauce', 'garlic', 'Anchovy and Olive Bruschette', 'herbs', 'Savory Slow Roasted Tomatoes with Filet of Anchovy', 'lunch'], ['Anchovies Appetizer With Breadcrumbs & Scallions', 'antipasto', 'Striped Bass With Tomatoes, Corn, And Basil', 'striped bass', 'Emerils Fish Provencal', 'anise seed', 'Emerils Fish Provencal', 'antipasto', 'Cioppino', 'broth', 'Ligurian Seafood Stew', 'water', 'Pan Fried Catfish With Buttered Rice & Pickled Pepper Relish', 'onion powder', 'Grilled Halibut with BBQ Butter', 'sugar'], ['Anchovies Appetizer With Breadcrumbs & Scallions', 'antipasto', 'Pissaladiere', 'sugar', 'Bean Sprout Beef Rice Bowl', 'pear', 'Easy Baked Parmesan Tilapia', 'salt and pepper', 'Peruvian Fish Ceviche', 'main dish', 'Grilled Salmon With Basil Lemon Butter', 'salmon', 'Salmon Rillettes/salmon Spread', 'salt', 'Bagna Cauda (piedmontese Warm Garlic-anchovy Dip)', 'bell pepper'], ['Anchovies Appetizer With Breadcrumbs & Scallions', 'snack', 'Pissaladiere', 'onions', 'Seared Salmon with Indian-Inspired Cream Sauce', 'salmon fillets', 'Salmon with Shiitake and Red Wine Sauce', 'unsalted butter', 'Halibut, Spinach, And Tomatoes In Foil Packets', 'onion', 'Secret Ingredient Beef Stew', 'dinner', 'Baked Dijon Salmon', 'pecans', 'Brook Trout with Pecans, Lemon, and Parsley Brown Butter', 'italian seasoned bread crumbs'], ['Anchovies Appetizer With Breadcrumbs & Scallions', 'scallions', 'Blackened Striped Bass with Corn Spoon Bread and Greens', 'mixed greens', 'Salmon with Warm Passion-Fruit Vinaigrette', 'dry white wine', 'Chicken Breasts Provençal', 'low sodium chicken broth', 'Braised Hoisin Beer Short Ribs With Rosemary White-bean Purée', 'snow peas', 'Steamed Fish With Ginger', 'main course', 'Tilapia With Arugula, Capers, And Tomatoes', 'capers', 'Pasta Puttanesca', 'canned tomatoes'], ['Anchovies Appetizer With Breadcrumbs & Scallions', 'snack', \"Dad's Fish Stew\", 'clam juice', 'Red Clam Chowder', 'anchovy', \"Tom Valenti's Lamb Shanks\", 'bay leaf', 'Salmon, Sweet Potato, and Broccoli Chowder', 'bay leaf', 'Fish Chowder', 'yellow onions', 'Fish Chowder', 'clam juice', 'Seafood Stew with Anchovy Aioli', 'garlic cloves'], ['Anchovies Appetizer With Breadcrumbs & Scallions', 'snack', 'Garlic & Herb Seasoned Tilapia', 'appetizer', 'Deviled Eggs', 'antipasti', 'Chicken-Liver Crostini', 'snack', 'Grilled Sausage Appetizer With Gremolata', 'salt', 'Avocado & Marinated Anchovy Bruschetta', 'scallions', 'Steamed Whole Fish with Scallions and Ginger', 'scallions', 'Sautéed Bass with Lemongrass', 'olive oil'], ['Anchovies Appetizer With Breadcrumbs & Scallions', 'bread', 'Bread, Butter And Anchovies', 'unsalted butter', 'Roasted Halibut with Green Olive Sauce', 'olive oil', 'Classic Caesar Salad', 'ground cayenne pepper', 'Classic Caesar Salad', 'black pepper', 'Pecan-crusted Trout with Peach-Habanero Chile Sauce', 'main dish', 'Saucy Fish Tacos', 'peach', 'Poached Beef With Green Sauce', 'chuck roast'], ['Anchovies Appetizer With Breadcrumbs & Scallions', \"hor d'oeuvre\", 'Striped Bass Plaki', 'coarse salt', 'Shallow-Poached Fish Fillets', 'cod fillets', 'Cod with Crushed Potatoes and Anchovy-Olive Oil Emulsion', 'shallots', 'Spring (?) Herb Cooking', 'mustard', 'Bass With Glaze', 'thyme leaves', 'Marinated Fish with Salmoriglio Sauce', 'dinner', 'Paper Wrapped Anniversary Salmon', 'salmon fillets'], ['Anchovies Appetizer With Breadcrumbs & Scallions', 'scallions', 'Gingered Salmon And Carrot Sauce', 'juice of lemon', 'Mixed Green Salad with Lemon, Olives and Anchovies', 'anchovies', 'Anchovy and Piquillo Pepper Bruschetta', 'caperberries', 'Anchovy and Piquillo Pepper Bruschetta', 'olive oil', 'Radish And Escarole Salad With Anchovy Vinaigrette', 'red wine vinegar', 'Grilled Salmon With Basil Aioli', 'salmon fillet', 'Crispy Skin Salmon', 'dijon mustard'], ['Anchovies Appetizer With Breadcrumbs & Scallions', 'olive oil', 'Bay Wolf Caesar', 'garlic cloves', 'Tuscan Bread Salad', 'cucumber', 'Piquillo-Pepper Num Pangs', 'carrots', 'Carrots, Cauliflower And Anchovies', 'extra virgin olive oil', 'Easy to Make Dinner Combo', 'worcestershire sauce', \"dragon's Breath' Caesar Salad\", 'anchovies', 'Down And Dirty Pasta E Cecci', 'olive oil'], ['Anchovies Appetizer With Breadcrumbs & Scallions', \"hor d'oeuvre\", 'Baked Flounder With Parsnips And Carrots Recipe', 'fresh thyme leaves', '\"Toni\\'s Marinated Olives\"', 'lemon juice', 'Mustard butter, live', 'mustard seed', 'Beer Braised BBQ Pork Butt', 'dark brown sugar', 'Indian-Spiced Halibut with Yogurt', 'dark brown sugar', 'Beer Braised BBQ Pork Butt', 'ale', 'Stilton Cheese Puffs', 'salt'], ['Anchovies Appetizer With Breadcrumbs & Scallions', 'olive oil', 'Roasted Striped Bass', 'mussels', 'Bouillabaisse', 'shrimp', 'Poached Beef With Green Sauce', 'zucchini', 'Black Sea Bass with Moroccan Vegetables and Chile Sauce', 'celery stalks', 'Sicilian-style Fish Stew', 'main dish', 'Sea Bass Crusted with Moroccan Spices', 'sea bass fillets', 'Sea Bass With Shiitake Mushroom Butter', 'lunch'], ['Anchovies Appetizer With Breadcrumbs & Scallions', 'scallions', 'Snapper With Succotash', 'water', 'Roasted Garlic And Caramelized Onion Tart', 'pie dough round', 'Roasted Garlic And Caramelized Onion Tart', 'egg white', 'Crab Stuffed Flounder', 'paprika', 'Grilled Sea Bass', 'butter', 'Grilled Grouper with Browned Butter-Orange Couscous', 'orange sections', 'Grilled Grouper with Browned Butter-Orange Couscous', 'fresh parsley'], ['Anchovies Appetizer With Breadcrumbs & Scallions', \"hor d'oeuvre\", 'Slow-roasted Cherry Tomato Bruschetta', \"hor d'oeuvre\", 'Lemon Herb Fish', 'appetizer', 'Fried Anchovies', 'crusty bread', 'Bagna Cauda', 'portabella mushrooms', 'Balsamic Portabella Salad With Goat Cheese', 'cherry tomatoes', 'Roasted Cherry Tomato Puttanesca', 'capers', 'Pasta Puttanesca', 'capers'], ['Anchovies Appetizer With Breadcrumbs & Scallions', 'snack', 'Asparagus With Anchovies & Garlic', 'antipasto', 'Roasted Halibut With Pickled Beets (stegte Helleflynder Med Rød', 'starter', 'Toasted Parmesan And Garlic Oil Caesar Salad', 'snack', 'Balsamic, Caper, And Anchovy Marinade', 'fresh flat leaf parsley', 'Balsamic, Caper, And Anchovy Marinade', 'coarse salt', 'Spaghetti With Green Olive Sauce', 'dinner', 'Corvina Traditional', 'elk fillet'], ['Anchovies Appetizer With Breadcrumbs & Scallions', 'garlic clove', 'Sautéed Bass with Lemongrass', 'sea bass fillets', \"Symon's Herb-Crusted Walleye with Lobster Pierogi\", 'chicken stock', 'Creamy Tuna With Tarragon And Egg Noodles', 'peas', 'Creamy Tuna With Tarragon And Egg Noodles', 'chicken stock', 'Braised Monkfish with Wild Mushrooms and Cipollini Onions', 'dinner', 'Sea Bass Crudo With Peruvian Tiradito Sauce', 'corn kernels', 'Salmon Chowder', 'celery'], ['Anchovies Appetizer With Breadcrumbs & Scallions', 'olive oil', 'Niçoise Salad Sandwiches', 'ahi tuna', 'Nori Ahi with Soy-Mustard-Port Sauce', 'dinner', 'Anchovy and Rosemary Roasted Lamb', 'salt', 'Fish Soup with Bread and Rouille', 'garlic cloves', 'Panzanella', 'red chiles', 'NYC Vodka Arrabbiata', 'canned tomatoes', 'Tuscan Braised Short Ribs', 'dry red wine'], ['Anchovies Appetizer With Breadcrumbs & Scallions', 'snack', 'Hard-Cooked Eggs with Crisp Anchovy Crumbs', 'brioche', 'Breaded\" Redfish with Shrimp, Fennel, and Orange Salad', 'unsalted butter', 'Roasted Salmon with Oyster Mushrooms in Red Wine', 'main course', 'Fish Chowder', 'evaporated milk', 'Fish Chowder', 'salt pork', 'Fish Chowder', 'fresh parsley', 'New England Fish Chowder', 'chicken'], ['Anchovies Appetizer With Breadcrumbs & Scallions', 'antipasto', 'Striped Bass Plaki', 'coarse salt', 'Sole With Lemon-butter Sauce', 'butter', 'Pescado Almendrado', 'queso dip', 'Pescado Almendrado', 'parmesan cheese', 'Wild Rocket & Chilli Spaghetti Recipe', 'red chilli', 'Pan-cooked Asparagus & Fish Recipe', 'main dish', 'Burn-Your-Fingers Chicken Wings', 'chicken wings'], ['Anchovies Appetizer With Breadcrumbs & Scallions', 'antipasto', \"Dad's Fish Stew\", 'clam juice', 'Manhattan-Style Fish Chowder', 'tomato paste', 'Pork Ribs with Orange and Tomato Glaze', 'dinner', \"Glasser's Greek Marlin\", 'main course', 'Fried Stuffed Britches: Cazuncielli', 'dried currants', 'Pasta with Anchovies, Currants, Fennel, and Pine Nuts', 'pine nuts', 'Easy to Make Dinner Combo', 'pasta salad mix'], ['Anchovies Appetizer With Breadcrumbs & Scallions', 'appetizer', 'Spiced Cod With Broccoli-quinoa Pilaf', 'scallions', 'Vegetable Market Salad', 'capers', 'Smoked Haddock With Puy Lentils', 'butter', 'Grilled Fish With Seville Orange & Rosemary Butter', 'couscous', 'Anchovies, Tomatoes And Green Beans Couscous', 'salad mix', 'Pistachio-crusted Petrale Sole With Grapefruit-avocado Salad', 'avocado', 'Crudités And Shrimp With Green Goddess Dip', 'sugar snap peas'], ['Anchovies Appetizer With Breadcrumbs & Scallions', 'starter', 'Emerils Fish Provencal', 'antipasti', 'Stuffed Cherry Peppers', 'cherry', 'Stuffed Cherry Peppers', \"hor d'oeuvre\", 'Spaghetti Puttanesca', 'spaghetti', 'Spaghetti with Anchovies and Bread Crumbs (Spaghetti con Acciughe e Mollica)', 'flat leaf parsley', 'Acciughe Con Salsa Verde (anchovies In Green Sauce)', 'vinegar', 'Salsa Verde Recipe', 'dijon mustard'], ['Anchovies Appetizer With Breadcrumbs & Scallions', 'bread', 'Anchovy and Piquillo Pepper Bruschetta', 'anchovies', 'Balsamic, Caper, And Anchovy Marinade', 'lemon juice', 'Salmon Brochettes with Sliced Fennel Vinaigrette', 'lemon juice', 'Bacon Caesar Salad', 'red wine vinegar', 'Floribbean\" Grouper with Red Pepper-Papaya Jam', 'lime juice', 'Grilled Sea Bass with Thai Chili Sauce', 'sea bass fillets', 'Pan-Seared Sea Bass in Tomato Fennel Broth', 'white wine'], ['Anchovies Appetizer With Breadcrumbs & Scallions', 'bread', 'Turkey Sandwich With Tapenade And Fontina', 'turkey', 'Turkey Sandwich With Tapenade And Fontina', 'capers', 'Roasted Cherry Tomato Puttanesca', 'shallots', 'Smoked Bluefish Rillettes', 'saffron', 'Sea Bass with Saffron, Sherry and Pine Nuts', 'dinner', 'Baked Gefilte Fish', 'main course', 'Grilled Fish (saengsun Gui)', 'sesame oil'], ['Anchovies Appetizer With Breadcrumbs & Scallions', 'antipasti', 'Roast Sea Bass With Chilli & Lime Leaves', 'red onion', 'Sea Bass With Mediterranean Sauce', 'lunch', 'Zakary Pelaccio’s Pasta Con Sarde', 'tomatoes', 'Roasted Fish Bruschetta', 'anchovy', 'Roasted Cauliflower With Anchovy Vinaigrette', 'parsley', 'Muffuletta', 'mortadella', 'Muffuletta', 'provolone'], ['Anchovies Appetizer With Breadcrumbs & Scallions', 'antipasto', 'Deviled Eggs', 'mayonnaise', \"Carrie S. Forbes - Gingerlemongirl.com: Cafe Atlantic's Baked Parmesan Flounder and Kate's Corn and Quinoa Salad\", 'parmesan', 'Turkey Burgers With Caesar Spread', 'dijon mustard', 'Pasta With Tonnato And Tomato', 'salt', 'Smoked Black Bass', 'olive oil', 'Balsamic, Caper, And Anchovy Marinade', 'lemon zest', 'Fresh Anchovies Marinated In Salsa Verde', 'cornichons'], ['Anchovies Appetizer With Breadcrumbs & Scallions', 'garlic clove', 'Crudités And Shrimp With Green Goddess Dip', 'shrimp', 'Breaded\" Redfish with Shrimp, Fennel, and Orange Salad', 'lunch', 'Stuffed Cornuto Peppers', 'olive oil', 'Grilled Salmon With Basil Aioli', 'salmon fillet', 'Salmon with Creamy Dill Sauce', 'lemon juice', \"Domestic Diva's Pan Seared Sea Bass With Tarragon Pesto & Chick\", 'garlic cloves', 'Cook the Book: Sicilian Pizza', 'main course'], ['Anchovies Appetizer With Breadcrumbs & Scallions', \"hor d'oeuvre\", 'Striped Bass With Olive-almond Relish Recipe', 'lemon zest', 'Skate, Chicory, and Anchovy', 'white wine', 'Salmon With Dijon Dill Sauce', 'fresh dill', 'Seared Salmon With Mustard-caper Butter', 'lemon zest', 'Slow-Roasted Salmon with Cherry Tomatoes and Couscous', 'dinner', \"Pan-Seared Striped Bass All'amatriciana\", 'cherry tomatoes', 'Smoked-bluefish Pate With Roasted Tomatoes On Crackers', 'lemon juice'], ['Anchovies Appetizer With Breadcrumbs & Scallions', 'scallions', 'Chinese Steamed Fish With Scallions', 'main course', 'Tarragon-tomato Fish', 'crusty bread', 'Seafood Stew', 'main dish', 'Hazelnut-Crusted Halibut with Roasted Asparagus', 'black pepper', 'Spice-Baked Sea Bass and Red Lentils', 'olive oil', 'Tuna, Tomato And Olive Sandwich (pan Bagnat)', 'olive oil', \"Foshee's Striped Bass with Caramelized Onion Sauce\", 'lunch'], ['Anchovies Appetizer With Breadcrumbs & Scallions', 'snack', 'Stuffed Cherry Peppers', 'antipasto', 'Red Tea Smoked Sea Bass With Cinnamon Caramelized Plums', 'cinnamon sticks', 'Red Tea Smoked Sea Bass With Cinnamon Caramelized Plums', 'starter', 'Mediterranean Fish Fillets', 'basil leaves', 'Montbrun Melange: Olive Bread With Basil, Marinated Tomatoes, A', 'unsalted butter', 'Steamed Black Bass With Sicilian-style Pesto', 'oregano', 'Chesapeake Bay Seafood Stew', 'olive oil'], ['Anchovies Appetizer With Breadcrumbs & Scallions', 'scallions', 'Grouper with Jicama and Black Bean Sauce', 'lunch', 'Fish Stew with Clams', 'onion', 'Cod, Potato & Spring Onion Stew Recipe', 'stock', 'Cioppino', 'dungeness crab', 'Cioppino', 'little neck clams', 'Fish Stew', 'dinner', 'Adriatic Fish Broth', 'salt and pepper'], ['Anchovies Appetizer With Breadcrumbs & Scallions', 'anchovies', 'Cauliflower Cannelloni', 'cream', 'Mushroom-wine Fish Fillet En Papillote', 'salt and pepper', 'Peruvian Fish Ceviche', 'salt and pepper', 'Poached Salmon with Hollandaise Sauce', 'main course', 'Grouper with Jicama and Black Bean Sauce', 'salt and pepper', 'Paper Wrapped Anniversary Salmon', 'cooked black beans', 'Paper Wrapped Anniversary Salmon', 'zucchini'], ['Anchovies Appetizer With Breadcrumbs & Scallions', 'antipasto', \"Katie Lee's Sole Meunière Recipe\", 'antipasto', 'Herbed Fish Cakes with Green Horseradish Sauce', 'horseradish sauce', 'Herbed Fish Cakes with Green Horseradish Sauce', 'antipasto', 'Striped Bass With Lime Butter', \"hor d'oeuvre\", 'Anchovies Appetizer With Breadcrumbs & Scallions', 'anchovies', 'Chicken With Garlic & Olives', 'dry white wine', 'Cod with Red Pepper-Chorizo Ragout', 'flour'], ['Anchovies Appetizer With Breadcrumbs & Scallions', 'scallions', 'Steamed Wild Striped Bass with Ginger and Scallions', 'sesame oil', 'Steamed White Fish With Julienned Carrots And Spinach With Lemo', 'side dish', 'Caesar Wrap With Tofu Croutons And Broccoli', 'bell pepper', 'Crispeddi Semolina Flour Fritters', 'fennel', 'The Secret Ingredient (pastis): Pastis-glazed Fish With Fennel', 'juice of lemon', \"Chef Tyson Cole's Ceviche\", 'water', 'Sautéed Cod With Textures Of Jerusalem Artichokes', 'mustard'], ['Anchovies Appetizer With Breadcrumbs & Scallions', 'bread', 'Tarragon Tuna Melt', 'lunch', 'Whole Mackerel With Orange Butter', 'dinner', 'Baked Striped Bass With Fennel And Pernod', 'coarse salt', 'Striped Bass Plaki', 'lemons', 'Open-Faced Tuna Nicoise Sandwich', 'ahi tuna steaks', 'Baconized Tuna With Lemon Butter', 'bacon', 'Broiled Bacon-Basted Salmon with Mushroom-Oyster Sauce', 'garlic'], ['Anchovies Appetizer With Breadcrumbs & Scallions', 'snack', 'Balsamic, Caper, And Anchovy Marinade', \"hor d'oeuvre\", 'Hearty Halibut Chowder', 'shredded cheddar cheese', 'Hearty Halibut Chowder', 'unsalted butter', 'Poached Sole With Blood Orange Beurre Blanc', 'blood orange juice', 'Poached Sole With Blood Orange Beurre Blanc', 'lunch', 'Minted Lamb Chops With White Beans', 'mint', 'Mixed Grill with Sicilian Lemon Salad and Almond Mint Salsa', 'portobello mushrooms'], ['Anchovies Appetizer With Breadcrumbs & Scallions', 'antipasto', 'Seafood Stew', 'antipasto', 'Pappardelle With Spicy Meat Sauce', \"hor d'oeuvre\", 'Grilled Halibut With Salt-and-vinegar Potatoes', 'starter', 'Striped Bass With Tomatoes, Corn, And Basil', 'appetizer', 'Tapenade Crostini', 'snack', 'Pan-fried Cod With Mustard-caper Sauce', 'antipasti', 'Roast Sea Bass With Chilli & Lime Leaves', 'sunflower oil'], ['Anchovies Appetizer With Breadcrumbs & Scallions', 'bread', 'Dinner Tonight: Cod with Tarragon-Anchovy Breadcrumbs', 'tarragon', 'Fried Oysters with Spicy Rémoulade', 'sherry vinegar', 'Artichokes with Anchoïade', 'lemon', 'Whole Branzino Roasted in Salt', 'oil cured black olives', \"Another of My Friend Vicky's Creations: Cauliflower with Red, Green and Black Confetti\", 'garlic', 'Burrata Salad', 'olive oil', 'Seared Mahi Mahi with Zesty Basil Butter', 'unsalted butter'], ['Anchovies Appetizer With Breadcrumbs & Scallions', 'bread', 'Avocado & Marinated Anchovy Bruschetta', 'boquerones', 'Avocado & Marinated Anchovy Bruschetta', 'vinegar', 'Orange Teriyaki Salmon', 'brown sugar', 'Caribbean Fish Soup', 'canned tomatoes', 'Penne Avvocato', 'dry white wine', 'Pancetta-Wrapped Roast Leg of Lamb', 'onion', 'Creamy Tuna With Tarragon And Egg Noodles', 'salt'], ['Anchovies Appetizer With Breadcrumbs & Scallions', 'garlic clove', 'Sake Steamed Sea Bass', 'main dish', 'Grilled Apple-Smoked Striped Bass', 'salt', 'Grouper with Corn \"Pudding\" and Collard Greens', 'dinner', 'Cashew And Rosemary Encrusted Salmon With Lime Hibiscus Sauce', 'shallots', 'Sautéed Petrale Sole In Herb Butter Sauce', 'salt', 'Caesar Salad', 'salt', \"Trishie's Cedar Plank Cod\", 'honey'], ['Anchovies Appetizer With Breadcrumbs & Scallions', 'garlic clove', 'The Crisper Whisperer: Jar Of Caesar', 'pepper', 'Green Bean Caesar Salad with Baby Romaine Lettuces', 'dijon mustard', 'Niçoise Salad with Salmon', 'green beans', 'Salade Nicoise', 'olive oil', 'Pan-Roasted Halibut with Prosciutto, Lemon, White Wine, and Capers', 'butter', 'Hake Fillet with Jasmine Rice', 'fresh dill', 'Poached Salmon With Dill & Capers', 'salt and pepper'], ['Anchovies Appetizer With Breadcrumbs & Scallions', 'scallions', 'Vegetable Market Salad', 'new potatoes', 'Steamed Sea Bass with Vanilla, Baby Vegetables and Cappuccino Sauce', 'semi skimmed milk', 'Steamed Sea Bass with Vanilla, Baby Vegetables and Cappuccino Sauce', 'baby leeks', 'Steamed Sea Bass with Vanilla, Baby Vegetables and Cappuccino Sauce', 'main dish', 'Black Truffle Pasta', 'dinner', 'Sea Bass Stuffed With Fennel And Olives', 'pimento stuffed olives', 'Muffuletta', 'provolone'], ['Anchovies Appetizer With Breadcrumbs & Scallions', \"hor d'oeuvre\", 'Toasted Parmesan And Garlic Oil Caesar Salad', 'egg yolk', 'Caesar Salad With Heart Croutons', 'white bread', 'Pissaladière Tartlets', 'salt', 'Fried Anchovies with Sage', 'lunch', 'Baked Dijon Salmon', 'dinner', 'Baccala', 'main course', 'Halibut with Mustard-Nut Crust', 'main dish'], ['Anchovies Appetizer With Breadcrumbs & Scallions', 'garlic clove', 'Broiled Striped Bass with Ginger-Scallion Oil', 'striped bass', \"Rick's Seviche 101\", 'tomatoes', 'Tuna, Tomato And Olive Sandwich (pan Bagnat)', 'butter lettuce leaves', 'Tuna, Tomato And Olive Sandwich (pan Bagnat)', 'appetizer', 'Lemon Baked Cod', \"hor d'oeuvre\", 'Pissaladière', 'pizza crust', 'Anchovy and White Bean Pizza', 'pepper'], ['Anchovies Appetizer With Breadcrumbs & Scallions', \"hor d'oeuvre\", 'French Onion Tart', 'antipasti', 'Red Tea Smoked Sea Bass With Cinnamon Caramelized Plums', 'appetizer', \"Ginger-steamed Fish With Troy's Hana-style Sauce\", 'scallions', 'Gemelli With Cauliflower, Scallions & Green Olives', 'main course', 'Salmon With Cucumber-sour Cream Sauce', 'margarine', 'Salmon With Cucumber-sour Cream Sauce', 'main dish', 'Crispy Basa Fish & Shrimp', 'basa'], ['Anchovies Appetizer With Breadcrumbs & Scallions', 'scallions', 'Vegetable Market Salad', 'anchovy', 'Red Leaf Caesar Salad with Grilled Parmesan Croutons', 'olive oil', 'Tuna Tonnato with Eggplant Salad', 'anchovy fillet', 'Sage-rubbed Pork Tenderloins with Sage Butter', 'black pepper', 'Whole Striped Bass', 'main dish', 'Cod With Chorizo And Almond-green Bean Rice', 'dinner', 'Halibut With Lemon, Butter, Caper And Dill Sauce', 'dill'], ['Anchovies Appetizer With Breadcrumbs & Scallions', 'starter', 'Roasted Cod And Scallions With Spiced Potatoes', 'antipasti', 'Four-Herb Green Goddess Dressing', 'low fat mayonnaise', 'Fabulous fish stew', 'mussels', 'Fabulous fish stew', 'olive oil', 'Grilled Lettuces with Manchego', 'manchego cheese', 'Queso Manchego con Aceitunas y Piquillos', \"hor d'oeuvre\", 'Baked Ling Cod With Lemon-garlic Butter Sauce', 'garlic'], ['Anchovies Appetizer With Breadcrumbs & Scallions', 'bread', 'Roasted Cod on Large Garlic Croutons', 'anchovy', 'Lamb Chops with Fennel Relish', 'calamata olives', 'Celery and Olive Antipasto with Ricotta Salata', 'lemon juice', 'Sautéed Bass with Lemongrass', 'lunch', 'Sea Bass Wrapped In Sea Lettuce With Potato Cream', 'lettuce', 'Sea Bass Wrapped In Sea Lettuce With Potato Cream', 'cream', 'Grown-up Cauliflower And Cheese', 'burrata'], ['Anchovies Appetizer With Breadcrumbs & Scallions', 'antipasti', 'Striped Bass Plaki', 'fresh thyme', 'Herb-roasted Sea Bass With Salsa Verde', 'main dish', 'Sautéed Sole with Browned Butter and Capers', 'capers', 'Salsa Verde', 'garlic', 'Grilled Cajun Salmon With Vegetable Mostaccioli', 'salmon fillet', 'Roasted Salmon With White-wine Sauce', 'coarse salt', 'Trout With Olives And Brown Butter', 'lemon'], ['Anchovies Appetizer With Breadcrumbs & Scallions', 'snack', 'Roasted Sea Bass With Fennel, Blood Oranges & Olives', 'appetizer', 'Italian Tomato Spaghetti', 'appetizer', 'Red Tea Smoked Sea Bass With Cinnamon Caramelized Plums', 'water', 'Springtime Dip', 'ground pepper', 'Cheesy Catfish Chowder', 'chicken broth', 'Caribbean Fish Soup', 'caribbean jerk seasoning', 'Caribbean Fish Soup', 'brown sugar'], ['Anchovies Appetizer With Breadcrumbs & Scallions', 'scallions', 'Green Goddess Slaw', 'salt and pepper', 'Spicy Butter-Steamed Bass', 'lunch', 'Sea Bass With Mediterranean Sauce', 'kalamata olives', 'Spaghetti with puttanesca', 'extra virgin olive oil', 'Striped Bass Puttanesca with Seared Fingerling Potatoes', 'lunch', 'Roasted Cod on Large Garlic Croutons', 'fresh basil leaves', 'Panzanella', 'parsley'], ['Anchovies Appetizer With Breadcrumbs & Scallions', 'olive oil', 'Salmon with Salsify and Celery Root Puree', 'celery root', 'Celery -Root Rémoulade', 'capers', 'Seared Salmon With Mustard-caper Butter', 'salmon fillets', 'Salmon with Salsify and Celery Root Puree', 'main dish', 'Crab Stuffed Haddock', 'ground pepper', 'Shrimp and Crab Stuffed Flounder', 'main dish', 'Sea Bass with Tomato and Black Olive Salsa', 'dill'], ['Anchovies Appetizer With Breadcrumbs & Scallions', \"hor d'oeuvre\", 'Tilapia With Caper-parsley Sauce', 'unsalted butter', 'Seared Tuna With Fennel Seeds & Caper Brown Butter', 'main dish', 'Pan-Seared Black Cod with Grape Salsa', 'sriracha sauce', 'Pan-Seared Black Cod with Grape Salsa', 'scallions', 'Cook the Book: Quick-Cured Salmon', 'olive oil', 'Sautéed Shrimp with Green Olives, Scallions and Anchovies', 'garlic cloves', 'Gemelli with Broccoli Rabe and Anchovies', 'red pepper flakes'], ['Anchovies Appetizer With Breadcrumbs & Scallions', 'appetizer', 'Hard-Cooked Eggs with Crisp Anchovy Crumbs', 'snack', \"Dad's Fish Stew\", 'thyme', 'Summer Vegetable and Potato Salad with Anchovy Dressing', 'garlic cloves', 'Artichokes with Anchoïade', 'lemon', 'Salt and Pepper Salmon', 'fresh dill', 'Broiled Walleye With Dill Tabbouleh', 'green onions', 'Cajun Shrimp and Catfish', 'butter'], ['Anchovies Appetizer With Breadcrumbs & Scallions', 'antipasto', 'Hake Fillet With Jasmine Rice And Cabbage', 'starter', 'Balsamic, Caper, And Anchovy Marinade', 'balsamic vinegar', 'Balsamic Caesar Salad', 'anchovies', 'Burrata Salad', 'chilies', 'Burrata Salad', 'thyme', 'Corn And Clam Chowder Sauce', 'main course', 'Oven Puttanesca', 'kosher salt'], ['Anchovies Appetizer With Breadcrumbs & Scallions', 'anchovies', 'Bay Wolf Caesar', 'olive oil', 'Oven-Roasted Whole Fish', 'sea bass', 'Sea Bass With Mediterranean Sauce', 'main course', \"Symon's Herb-Crusted Walleye with Lobster Pierogi\", 'sea bass fillets', 'Seared Sea Bass with Spicy Lemongrass Crust', 'unsweetened coconut milk', 'Steamed Sea Bass with Tamarind Sauce', 'cumin seeds', 'Halibut with Spicy Mint-Cilantro Chutney', 'fresh mint'], ['Anchovies Appetizer With Breadcrumbs & Scallions', 'anchovies', 'Anchovies Appetizer With Breadcrumbs & Scallions', 'garlic clove', 'Seared Tuna with Spinach and Root Vegetables', 'carrot', \"Canal House Cooking's Serious Ragù\", 'main course', 'Seared Wild Salmon With New Potatoes And Dijon Broth', 'salmon fillets', 'Salmon With Fennel And Pernod', 'pernod', 'Baked Plaice With Pernod And Tomatoes', 'sea salt', 'Mixed Grill with Sicilian Lemon Salad and Almond Mint Salsa', 'sea salt'], ['Anchovies Appetizer With Breadcrumbs & Scallions', 'anchovies', 'Pasta With Tonnato And Tomato', 'lemon juice', 'Fig-Olive Tapenade', 'whole grain mustard', 'Pan-fried Cod With Mustard-caper Sauce', 'fresh tarragon', 'Sole with Tarragon-Butter Sauce', 'shallots', 'Pan-Seared Halibut with Tomato Vinaigrette', 'flat leaf parsley', 'Sea Bass with Fennel, Tomato and Orange', 'onion', 'Stuffed Fish in Puff Pastry', 'egg yolks'], ['Anchovies Appetizer With Breadcrumbs & Scallions', 'olive oil', \"Another of My Friend Vicky's Creations: Cauliflower with Red, Green and Black Confetti\", 'garlic', 'Adriatic Fish Broth', 'dinner', 'Spaghetti Puttanesca', 'lunch', 'Cajun Shrimp and Catfish', 'dinner', 'Fabulous fish stew', 'dinner', 'Cedar-Planked Monkfish with Fire-Roasted and Puttanesca Relish', 'sweet onion', 'Emerils Fish Provencal', 'main course'], ['Anchovies Appetizer With Breadcrumbs & Scallions', 'garlic clove', 'Pork Shoulder with Salsa Verde', 'garlic cloves', 'Pissaladiere', 'side dish', 'Marinated Cod Fillet And Corn Pudding', 'fresh cilantro leaves', 'Tomato Feta Dip', 'dip', 'Bagna Cauda (piedmontese Warm Garlic-anchovy Dip)', 'blanched almonds', 'Trout Amandine, Steamed Asparagus And New Potatoes', 'rainbow trout fillets', 'Roasted Trout With Lemon & Walnut-browned Butter', 'kosher salt'], ['Anchovies Appetizer With Breadcrumbs & Scallions', 'olive oil', 'Niçoise Salad with Salmon', 'olive oil', 'Maruja’s Fish Fillets Layered with Tomatoes, Capers, Bread Crumbs, and Cheese', 'bell pepper', 'Sautéed Broccoli Raab With Balsamic Vinegar', 'garlic', 'Tuscan Kale With Lemon, Parmesan & White Anchovies', 'red pepper flakes', 'Best Basic Caesar Salad', 'jalapeno chili', 'Fish and Vegetable Soup with Lime, Ginger, and Cilantro', 'tomatoes', 'Anchovies, Tomatoes And Green Beans Couscous', 'bell pepper'], ['Anchovies Appetizer With Breadcrumbs & Scallions', 'antipasto', 'Emerils Fish Provencal', 'tomato', 'Burrata Salad', 'chilies', 'Escarole Salad With Salt Cod, Anchovies And Olives', 'chilies', 'Burrata Salad', 'olive oil', 'Piquillo-Pepper Num Pangs', 'sub rolls', 'Niçoise Tuna Sandwich (Pan Bagnat)', 'red wine vinegar', 'Spaghetti with tuna and cherry tomatoes', 'main dish'], ['Anchovies Appetizer With Breadcrumbs & Scallions', 'antipasto', 'Salmon With Dijon Dill Sauce', 'white wine', 'Potato And Shrimp Salad With Green Goddess Dressing', 'dinner', 'Grilled Skirt Steak with Salsa Verde', 'basil leaves', 'Turbot Fish in Tomato Sauce (Breaded Fish )', 'flour', \"Seabass Ravioli from Ischia---Ravioli All' Ischitana\", 'onion', 'Bluefish Chowder', 'ears of corn', 'Halibut with Corn Pops and Basil Broth', 'salt'], ['Anchovies Appetizer With Breadcrumbs & Scallions', 'appetizer', 'Fish With Olives, Pine Nuts, Basil And Wine', 'olives', 'French In A Flash: Pissaladière Pasta', 'main course', 'Fish Fillets In Parchment With Asparagus And Orange', 'lunch', 'Pan-roasted Sea Bass With Citrus And Avocado Oil', 'kosher salt', 'Vegetable Stew With Halibut', 'cherry tomatoes', 'Tagliolino Allo Scoglio', 'salt and pepper', 'Salmon with Tomatoes', 'garlic oil'], ['Anchovies Appetizer With Breadcrumbs & Scallions', 'scallions', 'Gemelli With Cauliflower, Scallions & Green Olives', 'scallions', 'Ginger Steamed Fish With Troy S Hana Style Sauce Recipe', 'garlic', 'Farfalle With Cauliflower And Toasted Breadcrumbs', 'olive oil', 'Orecchiette (almost) Alla Pugliese', 'main course', 'Sage-rubbed Pork Tenderloins with Sage Butter', 'fresh sage leaves', 'Roasted Cauliflower With Anchovy Bread Crumbs', 'cauliflower', 'Ojai Tapenade', 'dried thyme'], ['Anchovies Appetizer With Breadcrumbs & Scallions', 'snack', 'Acqua Pazza (fish Simmered In Tomato-garlic Broth)', 'appetizer', 'Tagliatelle With Purple Sprouting Broccoli, Anchovies And Pecorino', 'snack', 'Pressed Summer Sandwich with Eggs and Anchovies', 'black pepper', 'Fish Chowder', 'starter', 'Bagna Cauda', 'anchovy', 'Mustard butter, live', 'mustard seed', 'Beer Braised BBQ Pork Butt', 'lunch'], ['Anchovies Appetizer With Breadcrumbs & Scallions', 'garlic clove', 'Baked Cod With Olives', 'olive oil', 'Mediterranean Pasta with Broccoli', 'main dish', 'Bagna Cauda Panini', 'main course', 'Skinny Tuna Noodle Casserole', 'main dish', 'Baccala', 'flour', 'Almond Coated Basa', 'cod fillets', 'Grilled Fish Tacos', 'orange juice'], ['Anchovies Appetizer With Breadcrumbs & Scallions', 'antipasti', 'Miniature Onion Tartlets', 'starter', 'Pappardelle With Spicy Meat Sauce', 'pappardelle', 'Pappardelle With Spicy Meat Sauce', 'garlic', 'Spaghetti Alla Puttanesca', 'dinner', 'Pasta With Strong Tomato Sauce', 'anchovies', 'Bagna Cauda', 'portabella mushrooms', 'Bagna Cauda', 'portabella mushrooms'], ['Anchovies Appetizer With Breadcrumbs & Scallions', 'appetizer', 'Anchoïade With Radishes, Fennel, Celery And Carrots', 'antipasti', 'Deviled Eggs', 'snack', 'Roast Sea Bass With Chilli & Lime Leaves', 'lime', 'Blackened Tilapia With Cilantro-lime Slaw', 'ground cumin', 'Mustard butter, live', 'fish sauce', 'Mustard butter, live', 'lemon juice', 'Heavenly Halibut', 'mayonnaise'], ['Anchovies Appetizer With Breadcrumbs & Scallions', 'olive oil', 'Herbed Fish Cakes with Green Horseradish Sauce', 'coarse kosher salt', 'Sautéed Bass With Mint Pesto And Spiced Carrots', 'cumin seeds', 'Steamed Sea Bass with Tamarind Sauce', 'tamarind pulp', 'Steamed Sea Bass with Tamarind Sauce', 'main dish', 'Fish and Vegetable Soup with Lime, Ginger, and Cilantro', 'main course', 'Hazelnut-Crusted Halibut with Roasted Asparagus', 'hazelnuts', 'Hazelnut-Crusted Halibut with Roasted Asparagus', 'egg white'], ['Anchovies Appetizer With Breadcrumbs & Scallions', 'appetizer', 'Creole Striped Bass', 'starter', 'Salmon With Pepita-lime Butter', 'chili powder', 'Salmon With Pepita-lime Butter', 'snack', 'Hake Fillet With Jasmine Rice And Cabbage', 'green cabbage', 'Crunchy Cabbage Salad', 'red cabbage', 'Crunchy Cabbage Salad', 'salad', 'Mixed Green Salad with Lemon, Olives and Anchovies', 'fresh chives'], ['Anchovies Appetizer With Breadcrumbs & Scallions', \"hor d'oeuvre\", 'Red Tea Smoked Sea Bass With Cinnamon Caramelized Plums', \"hor d'oeuvre\", 'Whole Striped Bass With Fennel And Tomato', 'appetizer', 'Lemon Baked Cod', \"hor d'oeuvre\", 'Salmon With Dijon Dill Sauce', 'appetizer', 'Clam And Calamari Seafood Stew With Salsa Verde', 'fresh thyme', 'California Artichokes With Anchovy Mayonnaise', 'dijon mustard', 'The Secret Ingredient (anchovy): Green Caesar Salad', 'romano cheese'], ['Anchovies Appetizer With Breadcrumbs & Scallions', 'anchovies', 'Mozzarella Skewers with Anchovy Sauce (Spiedini di Mozzarella)', 'main dish', 'Gingered Salmon And Carrot Sauce', 'main dish', 'Black Cod with Chanterelle Ragout', 'breadcrumbs', 'Pasta with Anchovies, Currants, Fennel, and Pine Nuts', 'saffron threads', 'Seafood Stew with Saffron Zabaglione', 'squid', \"Fisherman's Soup\", 'orange roughy', 'Baked Orange Roughy With Veggies', 'orange juice'], ['Anchovies Appetizer With Breadcrumbs & Scallions', 'snack', 'Seafood Stew', 'canned tomatoes', 'Fish Fusilli', 'feta cheese', 'Greek Salad With Cherry Tomatoes', 'oregano', 'Greek Salad With Cherry Tomatoes', 'red onions', 'Salmon with Agrodolce Sauce', 'red onions', 'Roast Sea Bass With Chilli & Lime Leaves', 'fresh coriander', 'Cornish Sea Bass With Frizzled Chillies, Ginger & Spring Onions', 'garlic cloves'], ['Anchovies Appetizer With Breadcrumbs & Scallions', 'olive oil', 'Anchovy and White Bean Pizza', 'canned great northern beans', 'Anchovy and White Bean Pizza', 'pizza crust', 'Pissaladière', \"hor d'oeuvre\", 'Miniature Onion Tartlets', 'onion', 'Lamb and Artichoke Daube', 'garlic', 'Black-and-Tan Pork With Spicy Ale Slaw', 'india pale ale', 'Steak and Ale', 'nutmeg'], ['Anchovies Appetizer With Breadcrumbs & Scallions', 'garlic clove', 'Green Goddess Salad With Romaine, Cucumbers, And Avocado', 'romaine lettuce', 'Green Goddess Salad With Romaine, Cucumbers, And Avocado', 'chives', 'Chicken Salad with Green Goddess Dressing', 'champagne vinegar', 'Little Gem Lettuce With House Caesar Dressing', 'parmesan cheese', 'Caesar Salad with Meatballs', 'grape tomatoes', 'Roasted Black Sea Bass with Tomato and Olive Salad', 'main course', 'Steamed Sea Bass with Tamarind Sauce', 'tamarind pulp'], ['Anchovies Appetizer With Breadcrumbs & Scallions', 'scallions', 'Sea Bass and Cucumbers in Champagne Sauce', 'sea bass fillets', 'Sea Bass With Herb Butter And Frisee Salad', 'crusty bread', 'My Caesar Salad. Part 2', 'crusty bread', 'Mahi Mahi Escabeche', 'fresh corn kernels', 'Foil-Packet Fish With Corn Relish', 'main dish', 'Pan-Seared Tilapia with Chile Lime Butter', 'main dish', 'Black Bass with Sicilian-Style Pesto', 'scallions'], ['Anchovies Appetizer With Breadcrumbs & Scallions', 'olive oil', 'Broiled Fish With Israeli Couscous Pilaf & Corn', 'main dish', 'Ribeye Steaks and Mushrooms with a Herb, Citrus, and Anchovy Butter', 'orange zest', 'Lamb Chops With Olive Orange Anchovy Sauce Recipe', 'lemon juice', 'Poached Sole With Blood Orange Beurre Blanc', 'dinner', 'Hazelnut-Crusted Halibut with Roasted Asparagus', 'halibut fillets', 'Grilled Halibut with Smashed Fingerlings and Tomato Butter', 'lunch', 'Seared Wild Striped Bass with Sauteed Spring Vegetables', 'salt'], ['Anchovies Appetizer With Breadcrumbs & Scallions', 'snack', 'Four-Herb Green Goddess Dressing', \"hor d'oeuvre\", 'Baked Sole With Asparagus', 'asparagus', 'Red Snapper With Asparagus In White Wine Butter Sauce', 'fish', 'Sea Bass With Asparagus', 'main dish', 'Salt-baked Striped Bass With Herbs And Lemon', 'coarse salt', \"Faith Hill's Greek Salad\", 'red onion', 'Whole Roasted Salmon With Orange Butter Glaze', 'salt'], ['Anchovies Appetizer With Breadcrumbs & Scallions', 'anchovies', 'Tagliatelle With Purple Sprouting Broccoli, Anchovies And Pecorino', 'snack', 'Pasta Con Sarde', 'appetizer', 'Roasted Cod And Scallions With Spiced Potatoes', 'scallions', 'Pan-Seared Black Cod with Grape Salsa', 'cilantro', 'Grilled Sablefish With Thyme-lemon Salsa Verde', 'yellow bell peppers', 'Bagna Cauda', 'radicchio', 'Sautéed Radicchio', 'garlic'], ['Anchovies Appetizer With Breadcrumbs & Scallions', 'starter', 'Chicken And Radish Salad With Creamy Avocado Dressing', 'crème fraîche', 'Rib Roast Of Beef With Beets, Potatoes, And Horseradish', 'sea salt', 'Egg and Anchovy Crostini', 'flat leaf parsley', 'Salt-Baked Sea Bass with Warm Tomato Vinaigrette', 'cherry tomatoes', 'Chicken Puttanesca', 'garlic', 'Broiled Walleye With Dill Tabbouleh', 'roma tomatoes', 'Prosciutto-wrapped Salmon With Warm Corn-mushroom Salsa', 'salt and pepper'], ['Anchovies Appetizer With Breadcrumbs & Scallions', 'bread', 'Crab Stuffed Haddock', 'lump crabmeat', \"Brian's Easy Stuffed Flounder\", 'celery', 'Stuffed Fish in Puff Pastry', 'puff pastry sheets', 'Stuffed Fish in Puff Pastry', 'ground pepper', 'Pinot-Braised Duck with Spicy Greens', 'fresh thyme', 'Sea Bass in Papillote', 'salt', 'Striped Bass en Papillote', 'salt'], ['Anchovies Appetizer With Breadcrumbs & Scallions', 'starter', 'Pasta Con Sarde', 'snack', 'Spaghetti Puttanesca', 'red pepper flakes', 'Linguine Puttanesca With Chickpeas', 'fresh parsley', 'Grilled Grouper with Browned Butter-Orange Couscous', 'fat free less sodium chicken broth', 'Sole with Tarragon-Butter Sauce', 'main dish', 'Steamed Fish With Ginger', 'snow peas', 'Braised Hoisin Beer Short Ribs With Rosemary White-bean Purée', 'beef short ribs'], ['Anchovies Appetizer With Breadcrumbs & Scallions', 'antipasto', 'Deviled Eggs', 'mustard', 'Smoky-Spicy Bass', 'cayenne pepper', 'Grouper with Corn \"Pudding\" and Collard Greens', 'scallion', 'Steamed Fish With Ponzu', 'dried shiitake mushrooms', 'Steamed Fish With Ponzu', 'scallion', 'Green Goddess Salad', 'fine grain sea salt', 'Green Goddess Salad', 'romaine lettuce'], ['Anchovies Appetizer With Breadcrumbs & Scallions', 'antipasto', 'Baked Flounder With Parsnips And Carrots Recipe', 'antipasti', 'Whole Striped Bass With Fennel And Tomato', 'appetizer', 'Broccoli Rabe Saute With Chicken Sausage', \"hor d'oeuvre\", 'Roast Sea Bass With Chilli & Lime Leaves', \"hor d'oeuvre\", 'Seafood Stew', 'canned tomatoes', \"Fisherman's Stew\", 'shrimp', 'Roasted Striped Bass', 'main course'], ['Anchovies Appetizer With Breadcrumbs & Scallions', 'appetizer', 'Polenta Puttanesca', 'starter', 'Pappardelle With Spicy Meat Sauce', 'garlic', 'Broccoli With Burrata, Pine Nuts And Warm Anchovy Vinaigrette', 'shallot', 'Sauteed Flounder With Orange-shallot Sauce', \"hor d'oeuvre\", 'Stilton Cheese Puffs', 'flour', 'Pecan-crusted Trout with Peach-Habanero Chile Sauce', 'main dish', 'Fish Tacos with Pickled Onions and Chilies', 'main course'], ['Anchovies Appetizer With Breadcrumbs & Scallions', 'starter', 'Orange, Parsley, And Walnut Salad', 'walnuts', 'Poached Beef With Green Sauce', 'fried bacon', 'Poached Beef With Green Sauce', 'white wine', \"Jacques-Imos' Blackened Gulf Fish\", 'paprika', 'Spiced Cod With Broccoli-quinoa Pilaf', 'olive oil', '‘sort Of’ Puttanesca', 'olive oil', 'Pan-Seared Halibut with Tomato Vinaigrette', 'white balsamic vinegar'], ['Anchovies Appetizer With Breadcrumbs & Scallions', 'anchovies', 'Chicken And Radish Salad With Creamy Avocado Dressing', 'radishes', 'Sliced Baguette With Radishes And Anchovy Butter', 'unsalted butter', 'Lemon Sole, Chicory And Cockles', 'lunch', 'Black Bass with Sicilian-Style Pesto', 'orange zest', 'J&G Steak Sauce', 'sugar', 'Bean Sprout Beef Rice Bowl', 'dinner', 'Mozzarella En Carozza', 'bread'], ['Anchovies Appetizer With Breadcrumbs & Scallions', \"hor d'oeuvre\", 'Miniature Onion Tartlets', 'starter', 'Baked Ling Cod With Lemon-garlic Butter Sauce', 'starter', 'Anchovies Appetizer With Breadcrumbs & Scallions', 'appetizer', 'Pissaladiere', 'onions', 'Leek And Smoked Haddock Chowder', 'chives', \"Symon's Herb-Crusted Walleye with Lobster Pierogi\", 'dinner', 'Oven-roasted Striped Bass with Peppers', 'olive oil'], ['Anchovies Appetizer With Breadcrumbs & Scallions', 'starter', 'Broccoli Rabe Saute With Chicken Sausage', 'coarse salt', 'Braised Monkfish with Wild Mushrooms and Cipollini Onions', 'red wine', 'Fried Stuffed Britches: Cazuncielli', 'salt', 'Minted Lamb Chops With White Beans', 'mint', 'Salmon Salsa Verde', 'main dish', \"Trishie's Cedar Plank Cod\", 'garlic salt', 'Salmon with Creamy Dill Sauce', 'garlic salt'], ['Anchovies Appetizer With Breadcrumbs & Scallions', 'garlic clove', 'Steamed Fish With Ginger & Orange', 'fresh coriander', 'Steamed Fish With Ginger & Orange', 'main course', 'Creamy Tuna With Tarragon And Egg Noodles', 'onion', 'Braised Monkfish with Wild Mushrooms and Cipollini Onions', 'garlic', 'Grilled Wahoo with Tomato Sauce', 'kalamata olives', 'Kalamata Olive Tapenade With Shallots', 'anchovy', 'Shelling Bean, Haricots Verts & Zucchini Salad With Anchovies', 'cranberry beans'], ['Anchovies Appetizer With Breadcrumbs & Scallions', 'appetizer', 'French Onion Tart', 'parmesan', 'Down And Dirty Pasta E Cecci', 'garlic', 'Fried Eel', 'onion', \"Seabass Ravioli from Ischia---Ravioli All' Ischitana\", 'garlic', 'Adriatic Fish Broth', 'fish', 'Broiled Fish With Israeli Couscous Pilaf & Corn', 'israeli couscous', 'Slow-Roasted Salmon with Cherry Tomatoes and Couscous', 'plain greek yogurt'], ['Anchovies Appetizer With Breadcrumbs & Scallions', 'antipasto', 'Baked Flounder With Parsnips And Carrots Recipe', 'appetizer', 'Spiced Cod With Broccoli-quinoa Pilaf', 'raisins', 'Zakary Pelaccio’s Pasta Con Sarde', 'main dish', 'Myolchi Bokeum (sauteed Dried Baby Anchovies)', 'sesame seeds', 'Veal Scaloppine with Wilted Parsley, Lemon and Sesame', 'flat leaf parsley', 'Pasta With Anchovy-walnut Sauce', 'main course', 'Pan-Seared Halibut with Tomato Vinaigrette', 'heirloom tomatoes'], ['Anchovies Appetizer With Breadcrumbs & Scallions', 'anchovies', 'Southern Thai Rice Salad', 'mango', 'Corny Mango Salmon', 'main course', 'Poached Brisket of Beef with Salsa Verde', 'lunch', 'Cooking For Others: Fall Farmers’ Market', 'saffron threads', 'What’s your sodium style', 'garlic', 'Grilled Mahimahi With Red Pepper Sauce', 'snapper fillets', 'Pan-cooked Asparagus & Fish Recipe', 'fennel'], ['Anchovies Appetizer With Breadcrumbs & Scallions', 'starter', 'Hard-Cooked Eggs with Crisp Anchovy Crumbs', 'mayonnaise', 'Herb-Broiled Fish with Lemon Aioli', 'main dish', 'Black Sea Bass with Moroccan Vegetables and Chile Sauce', 'fresh dill', 'Slow-Roasted Salmon with Cherry Tomatoes and Couscous', 'main dish', 'Whole Branzino Roasted in Salt', 'lemon', 'Easy Baked Parmesan Tilapia', 'butter', 'Gulf Fish en Papillote', 'salt'], ['Anchovies Appetizer With Breadcrumbs & Scallions', 'garlic clove', 'Salsa Verde', 'garlic clove', 'Baked Peppers With Onion And Tomato', 'red onion', 'Lemon Sole With Flageolet Beans', 'dinner', 'Pasta With Broccoli', 'olive oil', 'Wild Striped Bass with Scallions and Herb Salad', 'olive oil', 'Greek Salad Skewers with Anchovy Aioli', 'garlic clove', 'Turkey Sandwich With Tapenade And Fontina', 'bell pepper'], ['Anchovies Appetizer With Breadcrumbs & Scallions', 'appetizer', 'Anchovies Appetizer With Breadcrumbs & Scallions', 'appetizer', 'Turkey Burgers With Caesar Spread', 'parmesan', 'Fish Fusilli', 'spinach', 'Fusilli with Feta & Lemon-Caper Pesto', 'olive oil', 'Black Sea Bass With Moroccan Vegetables and Chile Sauce', 'carrots', 'Red Clam Chowder', 'garlic', 'Slow-roasted Cherry Tomato Bruschetta', 'olive oil'], ['Anchovies Appetizer With Breadcrumbs & Scallions', \"hor d'oeuvre\", 'Vegetable Stew With Halibut', 'starter', 'Deviled Eggs', 'antipasto', 'Mushroom Ravioli with Lemon-Caper Mayonnaise', 'sour cream', 'Smoked Bluefish Rillettes', 'smoked* local bluefish; picked; skinned; and blood line removed', 'Smoked Bluefish Rillettes', 'fennel bulb', 'Sea Bass with Marinated Vegetables', 'striped bass', 'Tagliolino Allo Scoglio', 'baby shrimp'], ['Anchovies Appetizer With Breadcrumbs & Scallions', 'bread', 'Arctic Char And Smoked Salmon Rillettes', 'juice of lime', 'Roasted Pompano With Blood Orange Avacado Salsa, Cilantro Butte', 'main course', 'New England Fish Chowder', 'shrimp', 'Mustard Greens, Shrimp, And Anchovy Pasta', 'shrimp', 'Spicy Shrimp And Spaghetti Aglio Olio (garlic And Oil)', 'main dish', 'Baked Halibut À La Wolfgang Puck', 'main course', 'Crispy Baked Fish', 'main course'], ['Anchovies Appetizer With Breadcrumbs & Scallions', 'bread', 'Caesar Salad Bites', 'extra virgin olive oil', 'Steak With Piquant Italian Salsa Verde', 'basil leaves', 'Crispy Halibut With Lemony Basil Sauce', 'roma tomatoes', 'Grilled Cajun Salmon With Vegetable Mostaccioli', 'cajun seasoning', 'Cajun-Baked Catfish', 'butter', 'Crockpot Halibut In White Sauce With Broccolini', 'fat free milk', 'Crockpot Halibut In White Sauce With Broccolini', 'flour'], ['Anchovies Appetizer With Breadcrumbs & Scallions', 'scallions', 'Pasta with Smothered Broccoli Rabe and Olives', 'salt and pepper', 'Ceviche de Pescado: Two Ways', 'share tweet pin it', 'Ceviche de Pescado: Two Ways', 'january 13', 'Ceviche de Pescado: Two Ways', 'beef', 'Serious Ragu', 'main dish', 'Boston Bluefish With Spinach And Soup', 'condensed cream of celery soup', 'Boston Bluefish With Spinach And Soup', 'cheddar cheese'], ['Anchovies Appetizer With Breadcrumbs & Scallions', 'garlic clove', 'Baked Sea Bass With Herbs And Lime', 'fresh dill', 'Lemon-Dill Tilapia', 'lunch', 'Cod with Artichokes and Chickpeas', 'garlic', 'Spicy Mustard Swordfish and Artichoke Kabobs', 'garlic', 'Striped Bass With Sage And Red-wine Butter', 'red snapper fillets', 'Red Snapper Puttanesca', 'dinner', 'Chilean Sea Bass', 'garlic'], ['Anchovies Appetizer With Breadcrumbs & Scallions', 'appetizer', 'Spaghetti Puttanesca', \"hor d'oeuvre\", 'spicy tomato mussels', 'starter', 'Baked Ling Cod With Lemon-garlic Butter Sauce', 'snack', 'Salmon With Dijon Dill Sauce', 'cucumber', 'Greek Salad Skewers with Anchovy Aioli', 'cucumber', 'Greek Salad Skewers with Anchovy Aioli', 'feta cheese', 'Grilled Stuffed Eggplant', 'eggplants'], ['Anchovies Appetizer With Breadcrumbs & Scallions', 'scallions', 'Halibut With Barbecue Tomato Sauce And Honey-mustard Polenta', 'quick cooking oats', 'Halibut With Barbecue Tomato Sauce And Honey-mustard Polenta', 'onion', 'Biftekia Gemista (feta Stuffed Burgers)', 'parsley', 'Beans And Salsa Verde', 'soak', 'Beans And Salsa Verde', 'main course', 'Open-Faced Tuna Nicoise Sandwich', 'dinner', 'Whole Roasted Sea Bass with Potatoes and Olives', 'thyme sprigs'], ['Anchovies Appetizer With Breadcrumbs & Scallions', 'scallions', 'Catfish Classique', 'salt', 'Sautéed Petrale Sole In Herb Butter Sauce', 'lemon wedges', 'Caponata-stuffed Zucchini', 'eggplant', 'Tuna Tonnato with Eggplant Salad', 'garlic', 'Grilled Halibut Salad Niçoise', 'grape tomatoes', 'Pesto-Marinated Striped Bass with Warm Tomatoes', 'striped bass', 'Sea Bass with Marinated Vegetables', 'saffron'], ['Anchovies Appetizer With Breadcrumbs & Scallions', \"hor d'oeuvre\", 'Tilapia With Caper-parsley Sauce', 'unsalted butter', 'Poached Halibut With Eberhard', 'vegetable broth', 'Cauliflower Mushroom Leek Soup With Butter Fish', 'parsley', 'Grilled Halibut with Smashed Fingerlings and Tomato Butter', 'salt', 'Cod with Red Pepper-Chorizo Ragout', 'red peppers', 'Cod with Red Pepper-Chorizo Ragout', 'lunch', 'Spring Fish In Parchment', 'red onion'], ['Anchovies Appetizer With Breadcrumbs & Scallions', 'antipasti', 'Seafood Chowder With Crispy Bread Crumbs', 'littleneck clams', 'Cod And Fish Stew With Garlic Bread Recipe', 'thyme', 'Roasted Poussins with Anchovy-Mustard Pan Sauce', 'anchovy', '\"Toni\\'s Marinated Olives\"', 'onion', 'Mussels with Tomatoes, Wine, and Anise', 'lunch', 'Summer tray-baked salmon', 'main course', 'Cod With Chorizo And Almond-green Bean Rice', 'flat leaf parsley'], ['Anchovies Appetizer With Breadcrumbs & Scallions', 'appetizer', 'Balsamic, Caper, And Anchovy Marinade', 'coarse salt', 'Swiss Chard With Poached Egg Salad', 'eggs', 'Polpette di Vitello, Tonnato Style', 'ground veal', 'Polpette di Vitello, Tonnato Style', 'sea salt', 'Portuguese Fish Stew', 'bay leaves', 'Summer Vegetable and Potato Salad with Anchovy Dressing', 'parsley', 'Salmon Salsa Verde', 'dinner'], ['Anchovies Appetizer With Breadcrumbs & Scallions', \"hor d'oeuvre\", 'Salmon With Pepita-lime Butter', 'lime juice', 'Grilled Salmon with Habanero-Lime Butter', 'vegetable oil', 'Panfried Red Snapper With Chipotle Butter', 'dinner', 'Grilled Striped Bass with Lemon and Fennel', 'lemon juice', 'Salmon With Green Goddess Sauce', 'sour cream', 'Salmon With Green Goddess Sauce', 'garlic', 'Caesar Soup', 'canned anchovy'], ['Anchovies Appetizer With Breadcrumbs & Scallions', 'anchovies', 'Anchovies, Tomatoes And Green Beans Couscous', 'basil', 'Green Goddess Slaw', 'lemon zest', 'Salmon Fillets with Herbed Leeks', 'olive oil', 'Sea Bass with Tomato and Black Olive Salsa', 'kalamata olives', 'Paleo Buffalo Greek Caesar Salad', 'foc', 'Paleo Buffalo Greek Caesar Salad', 'hot sauce', 'Pecan-Crusted Tilapia', 'main course'], ['Anchovies Appetizer With Breadcrumbs & Scallions', 'antipasto', 'Herbed Fish Cakes with Green Horseradish Sauce', 'antipasto', 'Pesto-Marinated Striped Bass with Warm Tomatoes', 'pesto', 'Sea Bass with Red Pepper and Olive Tapenade', 'pesto', 'Anchovy- Tomato Toast', 'dinner', 'Cornmeal-Fried Trout with Grapefruit and Fried Sage', 'dinner', 'Grilled Striped Bass', 'pepper', 'Fish And Chips', 'russet potatoes'], ['Anchovies Appetizer With Breadcrumbs & Scallions', 'antipasto', 'Seafood Stew', 'snack', 'Pan-fried Cod With Mustard-caper Sauce', 'olive oil', 'White Anchovy, Parmesan & Grilled Bread Salad', 'white wine vinegar', 'Niçoise on a Roll', 'red onion', 'Braised Veal Shank with Marjoram: Stinco di Vitello', 'canned whole tomatoes', 'Secret Ingredient Beef Stew', 'garlic', 'Chicken Liver Crostini', 'capers'], ['Anchovies Appetizer With Breadcrumbs & Scallions', \"hor d'oeuvre\", \"Katie Lee's Sole Meunière Recipe\", 'antipasto', 'Anchoïade With Radishes, Fennel, Celery And Carrots', 'antipasti', 'Stilton Cheese Puffs', 'starter', 'Pan-fried Cod With Mustard-caper Sauce', 'capers', 'Greek Salad With Cherry Tomatoes', 'pepper', 'The Secret Ingredient (anchovy): Green Caesar Salad', 'garlic', 'Roasted Cauliflower With Lemon And Anchovies', 'cauliflower'], ['Anchovies Appetizer With Breadcrumbs & Scallions', \"hor d'oeuvre\", 'Pasta Con Sarde', 'chicken', 'Fricasseed Chicken with Black Olives', 'salt', 'Black Bass with Sicilian-Style Pesto', 'white wine', 'French in a Flash: Chilean Sea Bass with Bouillabaisse Broth', 'main dish', 'Salmon Brochettes with Sliced Fennel Vinaigrette', 'shallots', 'Sole with Tarragon-Butter Sauce', 'main dish', 'Sake-Steamed Sea Bass with Ginger and Green Onions', 'clam juice'], ['Anchovies Appetizer With Breadcrumbs & Scallions', 'garlic clove', 'Green Goddess Salad With Romaine, Cucumbers, And Avocado', 'juice of lemon', 'Sautéed Cod With Textures Of Jerusalem Artichokes', 'sugar', 'Steamed White Fish With Julienned Carrots And Spinach With Lemo', 'canola oil', 'Pfb: Ancho-seared Swordfish With Ginger-sweet Potato Mash, Sear', 'ginger', 'Steamed Fish With Ginger', 'soy sauce', 'Grilled Fish With Orange-fennel Salsa', 'main dish', 'Bagna Cauda Panini', 'unsalted butter'], ['Anchovies Appetizer With Breadcrumbs & Scallions', 'garlic clove', 'Red Leaf Caesar Salad with Grilled Parmesan Croutons', 'olive oil', 'Halibut, Clams, and Pancetta with Escarole', 'main course', 'Pasta With Cauliflower', 'lunch', 'Sea Bass Fillets with Parsley Sauce', 'main course', 'Sautéed Bass With Mint Pesto And Spiced Carrots', 'carrots', 'Poached Beef With Green Sauce', 'red pepper flakes', 'Chicken Liver Bruschetta', 'salt and pepper'], ['Anchovies Appetizer With Breadcrumbs & Scallions', 'garlic clove', 'Deb’s Caesar Salad Dressing', 'salad', 'Warm Seafood Salad with Pistachio and Capers', 'unsalted pistachios', 'Pistachio-crusted Petrale Sole With Grapefruit-avocado Salad', 'walnut oil', 'Wild Striped Bass with Scallions and Herb Salad', 'crushed red pepper', \"Fisherman's Stew\", 'dry white wine', 'Braised Chicken Thighs With Tomato, Capers, Anchovies & Olives', 'oregano', 'Black Sea Bass with Moroccan Vegetables and Chile Sauce', 'carrots'], ['Anchovies Appetizer With Breadcrumbs & Scallions', 'garlic clove', 'Chicken Caesar Salad', 'salad', 'Vegetable Market Salad', 'scallions', 'Sea Bass and Cucumbers in Champagne Sauce', 'salt', 'Caesar Salad', 'extra virgin olive oil', 'Tomato & Anchovies With Bread Crumbs, Basil & Red Onion   Recip', 'red onion', 'Herbed Fish Cakes with Green Horseradish Sauce', \"hor d'oeuvre\", 'Miniature Onion Tartlets', 'fresh thyme'], ['Anchovies Appetizer With Breadcrumbs & Scallions', 'olive oil', 'Green-Olive-and-Lemon Crusted Leg of Lamb', 'dinner', 'Miso-glazed Black Cod in Coconut Broth', 'main course', 'Spaghettini with Tomatoes, Anchovies and Almonds', 'salt and pepper', 'Halibut, Spinach, And Tomatoes In Foil Packets', 'spinach leaves', 'Halibut, Spinach, And Tomatoes In Foil Packets', 'dinner', 'Halibut With Wasabi Butter', 'butter', 'Crispy Oven-Baked Tilapia with Lemon-Tomato Fettuccine', 'spinach fettuccine'], ['Anchovies Appetizer With Breadcrumbs & Scallions', 'garlic clove', 'Peanut Sauce', 'shallots', 'Roast Cod with Garlic Butter', 'bell pepper', 'Shallow-Poached Fish Fillets', 'cod fillets', 'Miso-roasted Fish On Cedar Plank', 'plum', 'Bap Story: Stir Fried Anchovies (Myulchi Bokkeum)', 'cooking oil', 'Fried Smelt Recipe', 'chili pepper', 'Ramp Kimchi & Ramp Confit', 'myeolchi aegjeot'], ['Anchovies Appetizer With Breadcrumbs & Scallions', 'olive oil', 'Celery -Root Rémoulade', 'fresh tarragon', 'Braised Monkfish with Wild Mushrooms and Cipollini Onions', 'bay leaf', 'Anchovy Crostini With Onion-and-raisin Relish', 'olive oil', 'Salad with Parmigiano-Reggiano and anchovy dressing', 'food dye', 'Pan Fried Catfish With Buttered Rice & Pickled Pepper Relish', 'canola oil', 'Roasted Halibut With Pickled Beets (stegte Helleflynder Med Rød', 'lemon juice', 'Tapenade Crostini', 'fresh flat leaf parsley'], ['Anchovies Appetizer With Breadcrumbs & Scallions', 'antipasto', 'spicy tomato mussels', 'red chilli', 'Tagliatelle With Purple Sprouting Broccoli, Anchovies And Pecorino', 'snack', 'Pasta With Cauliflower', 'olive oil', 'Mediterranean Salad Platter', 'balsamic vinegar', 'Paleo Buffalo Greek Caesar Salad', 'hot sauce', \"McDevitt's Miso-Marinated Sea Bass\", 'fresh ginger', 'Steamed Fish with Scallions and Ginger', 'fish'], ['Anchovies Appetizer With Breadcrumbs & Scallions', 'olive oil', 'Salmon with Dijon Dill Sauce', 'white wine', 'Old Bay® Butter Sauce On Fish', 'tarragon leaves', 'Seared Wild Salmon With New Potatoes And Dijon Broth', 'low salt chicken broth', 'Seared Wild Salmon With New Potatoes And Dijon Broth', 'lunch', 'Chicken with Green Olives', 'dinner', 'Fusilli with Broccoli Rabe', 'crushed red pepper', 'Sea Bass with Fennel, Tomato and Orange', 'onion'], ['Anchovies Appetizer With Breadcrumbs & Scallions', 'antipasto', 'Striped Bass With Tomatoes, Corn, And Basil', 'onion', 'Bouillabaisse', 'baguette', 'Seafood Stew with Saffron Zabaglione', 'olive oil', 'Bouillabaisse', 'bread', 'Scrambled Eggs With Salmon And Herbs', 'milk', 'Trout Amandine, Steamed Asparagus And New Potatoes', 'main course', 'Grilled Salmon with Dill Pickle Butter', 'unsalted butter'], ['Anchovies Appetizer With Breadcrumbs & Scallions', 'antipasti', 'Asparagus With Anchovies & Garlic', 'olive oil', 'Grilled Fish With Orange-fennel Salsa', 'sugar', 'Grilled Miso-glazed Sea Bass With Japanese Cucumber Salad', 'starter', 'Striped Bass With Olive-almond Relish Recipe', 'antipasto', 'Tilapia With Caper-parsley Sauce', 'new potatoes', 'Sicilian Fisherman Stew', 'main dish', 'Roast Lamb With Anchovies', 'dinner'], ['Anchovies Appetizer With Breadcrumbs & Scallions', \"hor d'oeuvre\", 'Whole Branzino In Grape Leaves With Zucchini, Olives, And Mint', 'lemons', 'Whole Branzino In Grape Leaves With Zucchini, Olives, And Mint', 'lemons', 'Kale Caesar', 'lunch', 'Italian Tomato And Bread Salad', 'tomatoes', 'Savory Slow Roasted Tomatoes with Filet of Anchovy', 'main course', 'Blue Corn Crusted Black Bass', 'lunch', 'Portuguese Fish Stew', 'chicken broth'], ['Anchovies Appetizer With Breadcrumbs & Scallions', 'starter', 'Pasta Con Sarde', 'spaghetti', 'Spaghetti Puttanesca', 'coarse salt', \"Rick's Seviche 101\", 'jalapenos', 'Penne Rigate with Spicy Braised Swordfish', 'garlic cloves', 'Bluefish Chowder', 'basil', 'Anchovies, Tomatoes And Green Beans Couscous', 'green beans', 'Salade Nicoise', 'lunch'], ['Anchovies Appetizer With Breadcrumbs & Scallions', 'antipasti', 'Creole Striped Bass', 'garlic powder', 'Citrus Swordfish With Cilantro Butter', 'limes', 'Southern Thai Rice Salad', 'cooked rice', 'Faux-nagi', 'cooked rice', 'Southern Thai Rice Salad', 'arugula', 'Veal Scaloppine With Egg & Parmesan', 'veal', 'Osso bucco', 'onion'], ['Anchovies Appetizer With Breadcrumbs & Scallions', 'olive oil', 'Roasted Bass with Potatoes, Onions and Fennel', 'salt and pepper', 'Veal Scaloppine with Wilted Parsley, Lemon and Sesame', 'olive oil', 'Chickpea and Pasta Soup', 'rosemary', 'Herb Roasted Striped Bass', 'striped bass', 'Roasted Cod And Scallions With Spiced Potatoes', 'scallions', 'Lime Seviche', 'main dish', 'Baked Cod With Olives', 'kalamata olives'], ['Anchovies Appetizer With Breadcrumbs & Scallions', 'garlic clove', 'Basil-Steamed Halibut with Lemon Crème Sauce', 'fresh basil leaves', 'Farmers’ Pasta', 'olive oil', 'Salmon with Warm Passion-Fruit Vinaigrette', 'white wine vinegar', \"Tom Valenti's Lamb Shanks\", 'fresh thyme', 'Pissaladiere', 'water', 'Farro & Tomato Salad With Basil & Anchovies', 'water', 'Ginger-Miso Striped Bass in Shiitake Mushroom Broth', 'main dish'], ['Anchovies Appetizer With Breadcrumbs & Scallions', \"hor d'oeuvre\", 'Pan-fried Cod With Mustard-caper Sauce', 'antipasto', 'Seafood Chowder With Crispy Bread Crumbs', 'starter', 'Salmon Club with Avocado Butter', 'salmon fillet', 'Salmon with Creamy Dill Sauce', 'dry white wine', \"Sea Bass all'Acqua Pazza\", 'dry white wine', 'Poached Salmon With Dill & Capers', 'dinner', 'Roasted Brussels Sprouts With Capers, Walnuts And Anchovies', 'main dish'], ['Anchovies Appetizer With Breadcrumbs & Scallions', 'antipasto', 'Italian Tomato Spaghetti', 'starter', 'Toasted Parmesan And Garlic Oil Caesar Salad', 'bread', 'Scrambled Eggs With Salmon And Herbs', 'bread', 'Clam And Calamari Seafood Stew With Salsa Verde', 'tomato paste', 'Puttanesca Sauce', 'kalamata olives', 'Pan Fried Hake With Polenta And Wilted Baby Spinach Recipe', 'salt', 'Grilled Salmon with Mustard-Wine Sauce', 'olive oil'], ['Anchovies Appetizer With Breadcrumbs & Scallions', 'antipasti', 'Oven-roasted Trout With Potatoes', 'snack', 'Vegetable Stew With Halibut', 'chicken broth', 'Cheesy Catfish Chowder', 'baby carrots', 'Crudités And Shrimp With Green Goddess Dip', 'fresh tarragon', 'Green Goddess Slaw', 'anchovy', 'Grilled Tuna And Provolone Sandwiches With Salsa Verde', 'main dish', 'Snapper With Succotash', 'main dish'], ['Anchovies Appetizer With Breadcrumbs & Scallions', 'olive oil', 'Pan-Seared Mahi-Mahi with Oranges and Olives', 'fresh chives', 'Four-Herb Green Goddess Dressing', 'appetizer', 'Salmon With Brown Butter And Almonds Recipe', 'snack', 'Tilapia With Caper-parsley Sauce', 'new potatoes', 'Slashed Sea Bass with Red Onions, Mushrooms, and New Potatoes', 'chervil', 'Salmon In Sorrel Sauce', 'chives', \"Foshee's Striped Bass with Caramelized Onion Sauce\", 'olive oil'], ['Anchovies Appetizer With Breadcrumbs & Scallions', 'garlic clove', 'Pan-Seared Tarragon Trout', 'dried tarragon', 'Broiled Tilapia With Parmesan', 'parmesan cheese', 'Kale and Radicchio Salad with Broken Caesar Dressing', 'kosher salt', 'Grilled Halibut With Salt-and-vinegar Potatoes', 'appetizer', 'Italian Tomato Spaghetti', 'fresh parsley', 'Broiled Grouper with Creamy Crab and Shrimp Sauce', 'grouper fillets', 'Grouper Picatta', 'capers'], ['Anchovies Appetizer With Breadcrumbs & Scallions', 'snack', 'Salmon With Brown Butter And Almonds Recipe', 'kosher salt', 'Grilled Mozzarella Sandwich With Anchovy-olive Tapenade', 'dinner', 'Roasted Sea Bass with Summer Squash', 'dill', 'salmon with fennel and lemon risotto', 'dinner', 'Fish Fumet', 'leek', 'Fish Soup with Bread and Rouille', 'olive oil', 'Caesar Salad with Meatballs', 'ground sirloin'], ['Anchovies Appetizer With Breadcrumbs & Scallions', 'garlic clove', 'Grilled Branzino With Rosemary Vinaigrette', 'appetizer', 'French Onion Tart', 'antipasti', 'Grilled Branzino With Rosemary Vinaigrette', 'garlic clove', 'Salsa Verde', 'parsley leaves', 'Labneh With Chilli And Anchovy', 'bell pepper', 'Creamy Tuna With Tarragon And Egg Noodles', 'bell pepper', 'Grilled Trout Fillets with Crunchy Pine-nut Lemon Topping', 'tofu skin'], ['Anchovies Appetizer With Breadcrumbs & Scallions', 'antipasto', 'Lemon Herb Fish', 'snack', 'Pasta With Cauliflower', 'red pepper flakes', 'Macadamia-crusted Sea Bass With Mango Cream Sauce', 'mango', 'Corny Mango Salmon', 'cornmeal', 'Cornmeal Crusted Cod with Pecans and Coconut', 'hungarian paprika', 'Cornmeal Crusted Cod with Pecans and Coconut', 'cod filets', 'Cornmeal Crusted Cod with Pecans and Coconut', 'cod filets'], ['Anchovies Appetizer With Breadcrumbs & Scallions', 'starter', 'Mushroom Ravioli with Lemon-Caper Mayonnaise', 'antipasto', 'Chicken-Liver Crostini', 'olive oil', 'White Anchovy, Parmesan & Grilled Bread Salad', 'parmigiano reggiano cheese', 'White Anchovy, Parmesan & Grilled Bread Salad', 'juice of lemon', 'Fish Piccata', 'white fish fillets', 'Fish Piccata', 'capers', 'Broccoli With Anchovies, Capers & Chilli', 'ciabatta'], ['Anchovies Appetizer With Breadcrumbs & Scallions', 'olive oil', 'Grilled Pork Chops with Anchovies and Swiss Chard', 'kosher salt', 'Whole Striped Bass', 'lunch', 'Paella', 'green peas', 'Paella', 'turmeric', \"McDevitt's Miso-Marinated Sea Bass\", 'red onion', 'Herbed Fish Cakes with Green Horseradish Sauce', \"hor d'oeuvre\", 'Hearty Halibut Chowder', 'heavy cream'], ['Anchovies Appetizer With Breadcrumbs & Scallions', 'snack', 'Spaghetti Puttanesca', 'olive oil', 'Artichokes with Bagna Cauda', 'anchovy fillets', 'Tapenade', 'anchovy fillets', 'Pasta Puttanesca', 'olive oil', 'Steamed Black Bass With Sicilian-style Pesto', 'olive oil', 'Roasted Striped Bass', 'pancetta', 'Red Clam Chowder', 'salt and pepper'], ['Anchovies Appetizer With Breadcrumbs & Scallions', 'antipasto', \"Ginger-steamed Fish With Troy's Hana-style Sauce\", 'low sodium soy sauce', 'Sea Bass With Asparagus', 'salt and pepper', 'Salsa Verde', 'fresh mint leaves', 'Springtime Dip', 'part skim ricotta cheese', 'Springtime Dip', 'fresh parsley leaves', 'Rib Roast Of Beef With Beets, Potatoes, And Horseradish', 'beets', 'Poached Beef With Green Sauce', 'figs'], ['Anchovies Appetizer With Breadcrumbs & Scallions', 'scallions', 'Steamed Fish With Ginger', 'vegetable oil', 'Pecan-Crusted Tilapia', 'main course', \"Baketard.com - Blog - Giorgio Locatelli's Branzino alla Vernaccia in Crosta Di Pomodoro (Sea Bass with Tomato Crust and Vernaccia Wine)\", 'tomatoes', 'Butter Poached Salmon With Warm Tomato Relish', 'butter', 'Broiled Red Snapper with Ginger-Lime Butter', 'salt', 'Cauliflower, Anchovies and Tomatoes', 'cherry tomatoes', 'Lemons Cooked In The Oven', 'salt & pepper'], ['Anchovies Appetizer With Breadcrumbs & Scallions', 'starter', 'Steamed Fish With Ponzu', 'sesame oil', 'Steamed Fish With Ginger', 'sesame oil', 'Bean Sprout Beef Rice Bowl', 'sesame seeds', 'Sake Steamed Sea Bass', 'soy sauce', 'Sake Sea Bass in Parchment', 'sake', 'Miso Glazed Black Cod', 'rice vinegar', 'Breaded\" Redfish with Shrimp, Fennel, and Orange Salad', 'egg yolks'], ['Anchovies Appetizer With Breadcrumbs & Scallions', \"hor d'oeuvre\", 'Fish With Olives, Pine Nuts, Basil And Wine', 'dry white wine', 'Grilled Tuna with Basil Butter and Fresh Tomato Sauce', 'lunch', 'Grilled Butterflied Trout with Lemon-Parsley Butter', 'lemon wedges', 'Hazelnut-Crusted Halibut with Roasted Asparagus', 'potatoes', 'Niçoise Salad with Salmon', 'bell pepper', 'Pizza', 'bell pepper', 'Glazed Salmon', 'salt'], ['Anchovies Appetizer With Breadcrumbs & Scallions', 'appetizer', 'Turkey Burgers With Caesar Spread', 'antipasti', 'Stuffed Cherry Peppers', \"hor d'oeuvre\", 'Pissaladiere', 'sugar', 'Grilled Sea Bass with Miso-Mustard Sauce', 'dijon mustard', 'Orange, Parsley, And Walnut Salad', 'walnuts', 'Pumpkin Pasta', 'anchovies', 'Pommes Frites With Two Dipping Sauces', 'side dish'], ['Anchovies Appetizer With Breadcrumbs & Scallions', 'starter', \"Katie Lee's Sole Meunière Recipe\", 'black pepper', 'Pork Tenderloin with Red and Yellow Peppers', 'yellow bell pepper', 'Pork Tenderloin with Red and Yellow Peppers', 'fresh rosemary', 'Chickpea and Pasta Soup', 'pepper', 'Cajun-Baked Catfish', 'cornmeal', 'Dinner Tonight: Cornmeal-Crusted Pan-Fried Trout', 'flour', 'Crispy Baked Basa', 'cod fillets'], ['Anchovies Appetizer With Breadcrumbs & Scallions', 'garlic clove', 'Caesar Salad', 'croutons', 'Easy to Make Dinner Combo', 'garlic infused oil', 'Easy to Make Dinner Combo', 'macaroni dinner', 'Easy to Make Dinner Combo', 'anchovy', 'Braised Chicken Thighs With Tomato, Capers, Anchovies & Olives', 'main dish', 'Baked Cod with Boursin Herb Cheese', 'ground pepper', 'Cajun Style Blackened Snapper', 'onion powder'], ['Anchovies Appetizer With Breadcrumbs & Scallions', 'bread', 'Radicchio & Halloumi Salad With Lemon Anchovy Dressing', 'radicchio', 'Kale and Radicchio Salad with Broken Caesar Dressing', 'garlic clove', \"Curto's Grilled Salmon with Bacon and Potato Hash\", 'applewood smoked bacon', \"Curto's Grilled Salmon with Bacon and Potato Hash\", 'fresh dill', 'Salt-baked Striped Bass With Herbs And Lemon', 'dinner', 'Broiled Walleye With Dill Tabbouleh', 'red bell pepper', 'Cod with Cashews Baked in Foil Envelopes', 'soy sauce'], ['Anchovies Appetizer With Breadcrumbs & Scallions', 'snack', 'Salmon With Brown Butter And Almonds Recipe', 'appetizer', 'Orange, Parsley, And Walnut Salad', \"hor d'oeuvre\", 'Stuffed Flank Steak', 'salami', 'Stuffed Flank Steak', 'starter', 'Orange, Parsley, And Walnut Salad', 'olive oil', \"Canal House Cooking's Serious Ragù\", 'nutmeg', 'Cooking For Others: Fall Farmers’ Market', 'sweet potatoes'], ['Anchovies Appetizer With Breadcrumbs & Scallions', 'garlic clove', 'Roast Cod with Garlic Butter', 'garlic clove', 'Treviso Caesar Salad', 'parmigiano reggiano cheese', 'Stuffed Flank Steak', 'parmigiano reggiano cheese', 'Hearts of Romaine Caesar Salad with Grilled Chicken', 'kosher salt', 'Plank-Grilled Salmon with Grape Relish', 'salmon fillets', 'Grilled Salmon with Dill Pickle Butter', 'salt and pepper', 'Sicilian Stuffed Swordfish with Cherry Tomato Sauce', 'salt and pepper'], ['Anchovies Appetizer With Breadcrumbs & Scallions', 'appetizer', 'Blue Fish With Tomato, Garlic And Onions', 'olive oil', 'Pasta With Anchovy-walnut Sauce', 'black pepper', 'Fish with Curried Cucumber Tomato Water and Tomato Herb Salad', 'white fish fillets', 'Steamed Fish With Ginger', 'scallions', 'Porgy, Roman Style: Pagro alla Romana', 'extra virgin olive oil', 'Striped Bass Puttanesca with Seared Fingerling Potatoes', 'fingerling potatoes', 'Grilled Halibut with Smashed Fingerlings and Tomato Butter', 'unsalted butter'], ['Anchovies Appetizer With Breadcrumbs & Scallions', 'antipasti', 'Miniature Onion Tartlets', 'black pepper', 'Sole with Tarragon-Butter Sauce', 'dinner', 'Shallow-Poached Fish Fillets', 'main course', 'Leg of Lamb with Garlic Sauce', 'main dish', 'Italian Salsa Verde', 'parsley leaves', 'Thyme-Crusted Buttery Halibut with Parsley Sauce', 'salt and pepper', 'Garlic-Rubbed Tri-Tip with Mint Caper Salsa', 'mint'], ['Anchovies Appetizer With Breadcrumbs & Scallions', 'antipasti', 'Anchovies Appetizer With Breadcrumbs & Scallions', 'olive oil', 'Tart With Caramelized Onions, Olives And Anchovy', 'oregano', 'Chesapeake Bay Seafood Stew', 'main dish', 'Black Truffle Pasta', 'anchovies', 'Warm Scallop Salad with Mushrooms and Zucchini', 'boston lettuce', 'Warm Scallop Salad with Mushrooms and Zucchini', 'oyster mushrooms', 'Salmon with Mushroom Sauce', 'orange juice'], ['Anchovies Appetizer With Breadcrumbs & Scallions', 'anchovies', 'Spaghetti With Anchovy, Chilli & Breadcrumbs', 'red chilli', 'Grilled Monkfish Recipe (with Sweet Runner Bean Stew)', 'monkfish', 'Bouillabaisse', 'fennel bulbs', 'Red Snapper With Chick Peas, Fennel And White Wine', 'dinner', 'Old School\" Chicken Cacciatore', 'anchovies', 'Crab Salad with Caesar Vinaigrette', 'dijon mustard', 'Avocado & Marinated Anchovy Bruschetta', 'olive oil'], ['Anchovies Appetizer With Breadcrumbs & Scallions', 'appetizer', 'Salmon With Brown Butter And Almonds Recipe', 'starter', 'Red Tea Smoked Sea Bass With Cinnamon Caramelized Plums', \"hor d'oeuvre\", 'Penne Puttanesca', 'red pepper flakes', 'Healthy & Delicious: Baked Rotelle Puttanesca', 'lunch', 'Pistachio Sea Bass with Crab Salad', 'lump crabmeat', 'Crab Salad and Buttermilk Caesar Dressing', 'olive oil', 'Salmon Fillets with Herbed Leeks', 'dinner'], ['Anchovies Appetizer With Breadcrumbs & Scallions', 'appetizer', 'Pasta Con Sarde', 'antipasti', 'Seafood Stew', 'mussels', 'Adriatic Fish Broth', 'main dish', 'Poached Salmon with Basil Butter and Succotash', 'unsalted butter', 'Salmon With Brown Butter And Almonds Recipe', 'antipasti', 'Mediterranean Fish Fillets', 'appetizer', 'Queso Manchego con Aceitunas y Piquillos', 'starter'], ['Anchovies Appetizer With Breadcrumbs & Scallions', 'scallions', 'Niçoise Tuna Sandwich (Pan Bagnat)', 'olives', 'Pissaladiere', 'snack', 'Seafood Stew', 'canned tomatoes', 'Caribbean Fish Soup', 'sea bass fillets', 'Sea Bass and Spicy Tomato Sauce Over Braised Fennel', 'sea bass fillets', 'Caribbean Fish Soup', 'soup', 'Caribbean Fish Soup', 'caribbean jerk seasoning'], ['Anchovies Appetizer With Breadcrumbs & Scallions', 'snack', 'French Onion Tart', 'parmesan', 'Finnan Haddie with Spinach and Pancetta', 'finnan haddie', 'Finnan Haddie with Spinach and Pancetta', 'parmesan', 'Broiled Halibut with Bechamel Sauce', 'water', \"The Lady's Bouillabaisse\", 'saffron', \"The Lady's Bouillabaisse\", 'crab', \"The Lady's Bouillabaisse\", 'water'], ['Anchovies Appetizer With Breadcrumbs & Scallions', 'garlic clove', 'Peanut Sauce', 'shallots', 'Pancetta-Wrapped Salmon with Red Wine Butter', 'dinner', 'Grilled Mackerel With Spicy Tomato Jam', 'tomatoes', 'Panzanella', 'red wine vinegar', 'Sautéed Radicchio', 'radicchio', 'Poached Beef With Green Sauce', 'bay leaf', 'Bouillabaisse', 'red snapper'], ['Anchovies Appetizer With Breadcrumbs & Scallions', \"hor d'oeuvre\", 'Broccoli Rabe With Garlic & Anchovies', \"hor d'oeuvre\", 'Oven-roasted Trout With Potatoes', 'rosemary', 'Poached Beef With Green Sauce', 'spinach', 'Sole Florentine', 'bread crumbs', 'Swordfish with Cilantro-Lime Cream', 'butter', 'Dinner Tonight: Orecchiette With Broccoli, Anchovies, And Chiles', 'dinner', 'Pan Fried Catfish With Buttered Rice & Pickled Pepper Relish', 'wondra flour'], ['Anchovies Appetizer With Breadcrumbs & Scallions', 'antipasti', 'Mixed Olive Tapenade', 'lemon rind', 'Chunky Tapenade', 'capers', 'Pissaladiere', 'unsalted butter', 'Stilton Cheese Puffs', 'eggs', 'Parmesan-crusted Veal With Salsa Verde', 'parsley', 'Pasta With Cauliflower', 'snack', 'Hake Fillet With Jasmine Rice And Cabbage', 'appetizer'], ['Anchovies Appetizer With Breadcrumbs & Scallions', \"hor d'oeuvre\", 'Striped Bass With Tomatoes, Corn, And Basil', 'starter', 'Tilapia With Caper-parsley Sauce', 'kosher salt', 'Pork Tenderloin with Red and Yellow Peppers', 'balsamic vinegar', 'Mixed Grill with Sicilian Lemon Salad and Almond Mint Salsa', 'main dish', 'Pan-roasted Sea Bass With Citrus And Avocado Oil', 'avocado', 'Chicken And Radish Salad With Creamy Avocado Dressing', 'fresh mixed herbs', 'Chicken And Radish Salad With Creamy Avocado Dressing', 'lemon juice'], ['Anchovies Appetizer With Breadcrumbs & Scallions', 'bread', 'Sea Bass with Red Pepper and Olive Tapenade', 'kalamata olives', 'Seared Black Bass with Bitter Greens, Grapefruit and Feta Salad', 'kalamata olives', \"Faith Hill's Greek Salad\", 'tomatoes', 'Chopped Greek Salad', 'lemon zest', 'Springtime Asparagus Pizza', 'chili flakes', 'Pilsner Urquell And Spicy Linguini', 'salt packed anchovies', 'Chicken Thighs With Snap Peas And Agliata', 'skinless boneless chicken thighs'], ['Anchovies Appetizer With Breadcrumbs & Scallions', 'scallions', 'Garlic And Oil Spaghetti With Greens', 'nutmeg', 'Sicilian Stuffed Swordfish with Cherry Tomato Sauce', 'pine nuts', 'Grilled Sausage Appetizer With Gremolata', 'olive oil', 'Pan-Roasted Fish with Mediterranean Tomato Sauce', 'fresh tarragon', 'Celery -Root Rémoulade', 'buttermilk', 'Beef Tenderloin Cobb Salad', 'garlic cloves', 'Salt-Baked Sea Bass with Warm Tomato Vinaigrette', 'lunch'], ['Anchovies Appetizer With Breadcrumbs & Scallions', 'bread', 'Pasta With Fried Chile Peppers And Bread Crumbs', 'pasillas', 'Pasta With Fried Chile Peppers And Bread Crumbs', 'chiles', 'Grilled Apple-Smoked Striped Bass', 'vegetable oil', 'Halibut With Wasabi Butter', 'lunch', 'Striped Bass with Caramelized Brussels Sprouts', 'mayonnaise', 'Blackened Tilapia With Cilantro-lime Slaw', 'lunch', 'Baked Halibut À La Wolfgang Puck', 'main dish'], ['Anchovies Appetizer With Breadcrumbs & Scallions', 'olive oil', 'No-knead Fennel & Anchovy Pizza', 'pepper', 'Mediterranean Salad Platter', 'zucchini', 'Shelling Bean, Haricots Verts & Zucchini Salad With Anchovies', 'black pepper', 'Grilled Jicama, Radishes, Scallions, and Chicken with Asian-Style \"Chimichurri', 'canned anchovy', 'Pasta With Anchovy-walnut Sauce', 'spaghetti pasta', 'Pasta With Anchovy-walnut Sauce', 'lunch', 'Tarragon Tuna Melt', 'dijon mustard'], ['Anchovies Appetizer With Breadcrumbs & Scallions', 'scallions', \"Ginger-steamed Fish With Troy's Hana-style Sauce\", 'sesame oil', 'Thai Roasted Green Fish', 'sesame oil', 'Steamed Fish with Scallions and Ginger', 'side dish', 'Mustard butter, live', 'mustard seed', 'Mustard butter, live', 'tumeric', 'Mustard butter, live', 'mustard seed', 'Beer Braised BBQ Pork Butt', 'whole grain dijon mustard'], ['Anchovies Appetizer With Breadcrumbs & Scallions', 'anchovies', 'Pizza', 'lunch', 'Ceviche de Pescado: Two Ways', 'lemon juice', 'Pan-roasted Sea Bass with Citrus-Heirloom Tomato Vinaigrette', 'lemon rind', 'Sautéed Halibut with Lemon-Pesto Butter', 'halibut fillets', 'Roasted Halibut with Walnut Crust', 'main dish', 'Roasted Halibut With Bacon On Mashed Potatoes With Cabbage Recipe', 'main course', \"DiSpirito's Seared Salmon with Onions and Rhubarb\", 'sherry'], ['Anchovies Appetizer With Breadcrumbs & Scallions', 'appetizer', 'Stilton Cheese Puffs', 'antipasto', 'Mixed Olive Tapenade', 'fresh thyme', 'Grilled Sablefish With Thyme-lemon Salsa Verde', 'lemon juice', \"Katie Lee's Sole Meunière Recipe\", 'antipasto', 'Striped Bass Plaki', \"hor d'oeuvre\", 'Roasted Halibut With Pickled Beets (stegte Helleflynder Med Rød', 'antipasti', 'Whole Striped Bass With Fennel And Tomato', 'garlic cloves'], ['Anchovies Appetizer With Breadcrumbs & Scallions', 'antipasto', 'Anchoïade With Radishes, Fennel, Celery And Carrots', 'antipasto', 'Pressed Summer Sandwich with Eggs and Anchovies', 'crusty bread', 'Tarragon-tomato Fish', 'main course', 'Seared Salmon with Indian-Inspired Cream Sauce', 'onions', 'Pissaladiere', 'olives', 'Olives Stuffed with Almonds, Anchovies and Peppers', 'piquillo peppers', 'Anchovy and Piquillo Pepper Bruschetta', 'garlic clove'], ['Anchovies Appetizer With Breadcrumbs & Scallions', \"hor d'oeuvre\", 'Chicken-Liver Crostini', 'olive oil', 'Chicken Liver Bruschetta', 'salt and pepper', 'Grilled Calamari on a Bed of White Beans', 'squid', 'Sautéed Squid Salad With Salsa Verde', 'parsley', 'Smoked Bluefish Pâté', 'chives', 'Arctic Char And Smoked Salmon Rillettes', 'chives', 'Salmon In Sorrel Sauce', 'salmon'], ['Anchovies Appetizer With Breadcrumbs & Scallions', 'appetizer', 'Penne Puttanesca', 'salt and pepper', 'Port-Marinated Pork with Prunes and Anchovies', 'main dish', 'Lemon Sole With Flageolet Beans', 'lunch', 'Swordfish and Pasta with Sun-dried Tomato Basil Sauce', 'main dish', 'Ceviche with Crispy Plantains', 'plantains', 'Roasted Pompano With Blood Orange Avacado Salsa, Cilantro Butte', 'cayenne pepper', 'Blackened Fish', 'salt'], ['Anchovies Appetizer With Breadcrumbs & Scallions', 'antipasto', 'Seafood Stew', 'antipasti', 'Striped Bass With Olive-almond Relish Recipe', 'snack', 'Salmon With Brown Butter And Almonds Recipe', 'kosher salt', 'Black Bass With Chickpeas, Clams, And Chorizo', 'sea bass filets', 'The Secret Ingredient (pastis): Pastis-glazed Fish With Fennel', 'olive oil', 'Tuna Steak With Chilli Butter', 'broccoli', 'Escarole and Roasted Broccoli Salad with Anchovy Dressing', 'side dish'], ['Anchovies Appetizer With Breadcrumbs & Scallions', 'appetizer', 'Tuna, Tomato And Olive Sandwich (pan Bagnat)', 'olives', 'Cavatappi Niçoise', 'main dish', 'Pancetta-Wrapped Roast Leg of Lamb', 'orange zest', 'Ribeye Steaks and Mushrooms with a Herb, Citrus, and Anchovy Butter', 'anchovy filets', 'Tuscan Bread Salad', 'bell peppers', 'Tuscan Bread Salad', 'fresh basil leaves', 'Salade Nicoise', 'anchovy'], ['Anchovies Appetizer With Breadcrumbs & Scallions', 'antipasto', 'Broccoli Rabe Saute With Chicken Sausage', 'starter', 'Sauteed Flounder With Orange-shallot Sauce', 'dry white wine', 'Roasted Halibut with Green Olive Sauce', 'lunch', 'French In A Flash: Pissaladière Pasta', 'bay leaf', 'New England Fish Chowder', 'fish', 'Wine Dinner: Salmon with Miso Butter, Snap Peas & a Fried Egg paired with a 2007 Deux Amis Zinfandel', 'ready to use piecrust', 'Red Snapper With Chick Peas, Fennel And White Wine', 'fish'], ['Anchovies Appetizer With Breadcrumbs & Scallions', 'antipasti', 'Glazed Salmon', 'salmon fillets', 'Seared Salmon With Mustard-caper Butter', 'capers', 'Cod with Crushed Potatoes and Anchovy-Olive Oil Emulsion', 'cod fillets', 'Baked Cod with Boursin Herb Cheese', 'ground pepper', 'Seriously Asian: The Passing Through Technique', 'chicken stock', 'Swordfish with Tomatoes and Capers', 'lunch', 'Baked Dijon Salmon', 'salt and pepper'], ['Anchovies Appetizer With Breadcrumbs & Scallions', \"hor d'oeuvre\", 'Fish With Olives, Pine Nuts, Basil And Wine', 'dry white wine', 'Sea Bass with Tomatoes and Olives', 'yellow cherry tomatoes', 'Sea Bass with Tomatoes and Olives', 'lemon peel', 'Grill-Roasted Clam Linguine', 'main course', 'Striped Bass With Salsa Verde And Mediterranean Roasted Vegetables', 'dinner', 'Fried Eel', 'eel', 'Fried Eel', 'eel'], ['Anchovies Appetizer With Breadcrumbs & Scallions', 'appetizer', 'Salmon Club with Avocado Butter', 'juice of lemon', 'Marinated Boquerones', 'garlic cloves', 'Ligurian Seafood Stew', 'sea bass fillets', 'Seared Sea Bass with Spicy Lemongrass Crust', 'unsweetened coconut milk', 'Faux Peanut Sauce', 'fish sauce', 'Red Snapper With Asparagus In White Wine Butter Sauce', 'salt and pepper', 'Pancetta-Wrapped Roast Leg of Lamb', 'rosemary leaves'], ['Anchovies Appetizer With Breadcrumbs & Scallions', 'garlic clove', 'Tagliatelle With Purple Sprouting Broccoli, Anchovies And Pecorino', 'starter', 'Pasta With Cauliflower', 'breadcrumbs', 'Chilean Sea Bass With Mustard', 'butter', 'Tilapia with Purple Potato Crust and Chive Rosemary Oil', 'salt', 'Hazelnut-Crusted Halibut with Roasted Asparagus', 'black pepper', 'Grilled Salmon With Dill Butter Recipe', 'main dish', 'Ceviche with Crispy Plantains', 'jalapeno pepper'], ['Anchovies Appetizer With Breadcrumbs & Scallions', 'antipasti', 'Lemon Baked Cod', \"hor d'oeuvre\", 'Mushroom Ravioli with Lemon-Caper Mayonnaise', 'parmesan cheese', 'Lime Caesar Salad', 'pepper', 'Salade Nicoise', 'white wine vinegar', 'Crunchy Cabbage Salad', 'white wine vinegar', 'Swiss Chard With Poached Egg Salad', 'side dish', 'Fried Green Tomatoes with Anchovy and Lemon', 'kosher salt'], ['Anchovies Appetizer With Breadcrumbs & Scallions', 'scallions', 'Roasted Cod And Scallions With Spiced Potatoes', 'kosher salt', 'Roasted Potatoes And Haddock Puttanesca', 'halibut fillets', 'Heavenly Halibut', 'green onions', 'Caribbean Fish Soup', 'brown sugar', 'Christmas Pizza', 'yellow onions', 'Onion Tartlets', 'salt and pepper', 'Orecchiette with Cauliflower, Anchovies and Pistachios', 'main course'], ['Anchovies Appetizer With Breadcrumbs & Scallions', 'olive oil', 'Grilled Fish with Sauce au Chien', 'white rice', 'Grilled Fish with Sauce au Chien', 'chives', 'Cauliflower, Anchovies and Tomatoes', 'anchovies', 'Anchovy and Piquillo Pepper Bruschetta', 'bread', 'Grilled Mozzarella Sandwich With Anchovy-olive Tapenade', 'fresh mozzarella', 'Grilled Mozzarella Sandwich With Anchovy-olive Tapenade', 'main dish', 'Slashed Sea Bass with Red Onions, Mushrooms, and New Potatoes', 'new potatoes'], ['Anchovies Appetizer With Breadcrumbs & Scallions', 'appetizer', 'Steamed Asian Sea Bass In The Bag', 'kaffir lime leaves', 'Java Chicken in Coconut Sauce', 'skinless boneless chicken breast halves', 'Fusilli Salad with Grilled Chicken and Zucchini', 'lemon juice', \"Jacques-Imos' Blackened Gulf Fish\", 'worcestershire sauce', 'Caesar Salad', 'romano cheese', 'The Secret Ingredient (anchovy): Green Caesar Salad', 'egg yolk', 'Double Bacon Caesar', 'anchovy paste'], ['Anchovies Appetizer With Breadcrumbs & Scallions', 'antipasto', 'Broccoli Rabe With Garlic & Anchovies', 'anchovy', 'Egg and Anchovy Crostini', 'sea salt', 'Grilled Sea Bass', 'dinner', 'Pan-Grilled New York Strip Steaks with Green Olive Tapenade', 'dinner', 'Mahimahi with Onion, Capers, and Lemon', 'salt', 'Salade Nicoise', 'anchovy', 'Green Goddess Dressing', 'side dish'], ['Anchovies Appetizer With Breadcrumbs & Scallions', 'garlic clove', 'Bacon Caesar Salad', 'lemon juice', 'Tuna Tonnato with Eggplant Salad', 'grape tomatoes', 'Potato And Shrimp Salad With Green Goddess Dressing', 'white wine', \"Jacques-Imos' Blackened Gulf Fish\", 'lunch', 'Sole With Summer Vegetable Salsa', 'main course', 'Gulf Fish en Papillote', 'main dish', 'Salmon With Green Goddess Sauce', 'butter'], ['Anchovies Appetizer With Breadcrumbs & Scallions', 'garlic clove', 'Caesar-Style Dressing', 'oil packed anchovies', 'Caesar Salad with Anchovy Wrapped Garlic and Savory Lemon Sabayon', 'safflower oil', 'Caesar Wrap With Tofu Croutons And Broccoli', 'side dish', 'Fresh Anchovies Marinated In Salsa Verde', 'cornichons', 'Crispy Tuna with Tuna-Caper Sauce', 'cornichons', 'Green Olive Sauce', 'anchovy', 'Piquillo-Pepper Num Pangs', 'sugar'], ['Anchovies Appetizer With Breadcrumbs & Scallions', 'antipasti', 'Slow-roasted Cherry Tomato Bruschetta', 'red wine vinegar', 'Cavatappi Niçoise', 'salt', 'Dinner Tonight: Caesar Salad', 'lunch', 'Lemon And Chilli Bread Salad', 'sea salt', 'Christmas Pizza', 'shredded mozzarella cheese', 'Christmas Pizza', 'cup cake', 'Christmas Pizza', 'main course'], ['Anchovies Appetizer With Breadcrumbs & Scallions', 'garlic clove', 'Spaghettini with Tomatoes, Anchovies and Almonds', 'basil leaves', 'Montbrun Melange: Olive Bread With Basil, Marinated Tomatoes, A', 'garlic', 'Chickpea Puttanesca', 'lunch', \"Curto's Grilled Salmon with Bacon and Potato Hash\", 'main dish', 'Lemon-Stuffed Grilled Branzino', 'dinner', 'Salmon Chowder', 'celery', \"Fisherman's Soup\", 'fresh rosemary'], ['Anchovies Appetizer With Breadcrumbs & Scallions', \"hor d'oeuvre\", 'Spaghetti Puttanesca', 'anchovy fillet', 'Sage-rubbed Pork Tenderloins with Sage Butter', 'main course', 'Black Cod with Chanterelle Ragout', 'main dish', 'Baked Dijon Salmon', 'salt and pepper', 'Mediterranean Pasta with Broccoli', 'dinner', 'Sea Bass with Red Pepper and Olive Tapenade', 'kalamata olives', 'Bass in Artichoke and Tomato Broth', 'orange zest'], ['Anchovies Appetizer With Breadcrumbs & Scallions', \"hor d'oeuvre\", 'Broccoli Rabe Saute With Chicken Sausage', 'coarse salt', 'Bagna Cauda Panini', 'main course', 'Surf and Turf in Herbed Red Wine Sauce with Buttery Mushrooms and Creamy Leeks', 'lunch', 'Pork Shoulder with Salsa Verde', 'garlic clove', 'Pan-fried Trout With Pecans', 'shallot', 'Steamed White Fish With Julienned Carrots And Spinach With Lemo', 'side dish', 'Anchovy, Little Gem, And Tomato Salad', 'kosher salt'], ['Anchovies Appetizer With Breadcrumbs & Scallions', 'starter', 'Striped Bass With Olive-almond Relish Recipe', 'flat leaf parsley leaves', \"Symon's Herb-Crusted Walleye with Lobster Pierogi\", 'sea bass fillets', 'Sea Bass with Tomato and Black Olive Salsa', 'red chile', 'Pan-Seared Black Cod with Grape Salsa', 'garlic cloves', 'Chickpea Panelle with Goat Cheese and Salsa Rustica', 'chickpea flour', 'Chickpea Panelle with Goat Cheese and Salsa Rustica', 'goat cheese', 'Balsamic Portabella Salad With Goat Cheese', 'shallots'], ['Anchovies Appetizer With Breadcrumbs & Scallions', 'snack', \"Ginger-steamed Fish With Troy's Hana-style Sauce\", 'starter', 'Glazed Salmon', 'bell pepper', 'Caesar Salad With Toasty Garlic Croutons', 'romaine', 'Triple Citrus Caesar Salad', 'red grapefruit', 'Cornmeal-Fried Trout with Grapefruit and Fried Sage', 'yellow cornmeal', 'Fish And Chips', 'olive oil', 'Bagna Cauda', 'garlic'], ['Anchovies Appetizer With Breadcrumbs & Scallions', 'appetizer', 'Striped Bass With Lime Butter', 'antipasto', 'Garlic Herb Tilapia', 'tilapia fillets', 'Crispy Oven-Baked Tilapia with Lemon-Tomato Fettuccine', 'salt', 'Salmon Cannelloni with Lemon Cream Sauce', 'dinner', 'Lamb Chops with Fennel Relish', 'sherry vinegar', 'Bold Winter Greens Salad', 'salad', 'Crunchy Cabbage Salad', 'white wine vinegar'], ['Anchovies Appetizer With Breadcrumbs & Scallions', 'snack', 'Pissaladiere', 'coarse salt', 'Roasted Salmon With Spicy Cauliflower', 'salmon fillets', 'Smoky Maple-glazed Salmon Supper', 'main dish', 'Bluefish Chowder', 'dinner', 'Baked Sea Bass With Ginger Ponzu Sauce', 'lunch', 'Grilled Salmon With Basil Lemon Butter', 'lemon basil', 'Grilled Salmon With Basil Lemon Butter', 'salmon fillets'], ['Anchovies Appetizer With Breadcrumbs & Scallions', 'anchovies', 'Roasted Pepper Antipasto', 'parlsley', 'Roasted Pepper Antipasto', 'fresh basil', \"Glasser's Greek Marlin\", 'swordfish steaks', 'Grilled Swordfish', 'teriyaki sauce', 'Orange Teriyaki Salmon', 'bbq sauce', 'Origami Sea Bass', 'bell pepper', 'Baked Striped Bass With Fennel And Pernod', 'olive oil'], ['Anchovies Appetizer With Breadcrumbs & Scallions', \"hor d'oeuvre\", 'Salmon With Brown Butter And Almonds Recipe', 'capers', 'Fish Piccata', 'flour', 'Sautéed Snapper on Wilted Spinach with Mulled Zinfandel Butter', 'olive oil', 'Cod And Fish Stew With Garlic Bread Recipe', 'parsley', 'Green Goddess Dressing', 'tarragon vinegar', 'Green Goddess Dressing', 'chicory', 'Green Goddess Dressing', 'chives'], ['Anchovies Appetizer With Breadcrumbs & Scallions', 'antipasti', 'Hard-Cooked Eggs with Crisp Anchovy Crumbs', 'starter', 'Stuffed Flank Steak', 'olive oil', 'Ojai Tapenade', 'oil packed tuna', 'Spaghetti With Caramelized Onions, Anchovies, And Toasted-garli', 'parmigiano reggiano cheese', 'Brussels Sprout Leaf, Jerusalem Artichoke & Castelvetrano Olive', 'anchovies', 'Bagna Cauda', 'red belgian endive', 'Bagna Cauda', 'side dish'], ['Anchovies Appetizer With Breadcrumbs & Scallions', 'snack', 'Deviled Eggs', 'mustard', 'Home', 'pepper', 'Taku Lodge Basted Grilled Salmon', 'salt', 'Salmon with Orange Pan Sauce', 'red pepper flakes', 'Seared Sea Bass with Spicy Lemongrass Crust', 'low salt chicken broth', 'Pan-Seared Salmon with Cherry Tomatoâ€“Ginger Sauce', 'lunch', \"Carrie S. Forbes - Gingerlemongirl.com: Cafe Atlantic's Baked Parmesan Flounder and Kate's Corn and Quinoa Salad\", 'mayonnaise'], ['Anchovies Appetizer With Breadcrumbs & Scallions', 'antipasti', 'Pasta With Cauliflower', 'snack', 'Stuffed Flank Steak', 'oregano', 'Whole Roast Fish With Salmoriglio', 'salt and pepper', 'Rio Grande Trout with Riesling', 'dry riesling', 'Rio Grande Trout with Riesling', 'thyme', 'Glazed Salmon with Braised Fennel', 'fennel bulbs', 'Roasted Wild Striped Bass', 'coarse salt'], ['Anchovies Appetizer With Breadcrumbs & Scallions', 'antipasti', 'Roast Sea Bass With Chilli & Lime Leaves', 'garlic cloves', 'Pan Sautéed Chilean Sea Bass', 'dinner', 'Nova Lox Benedict', 'main dish', 'Manhattan-Style Fish Chowder', 'tomato paste', 'Secret Ingredient Beef Stew', 'celery', 'Baccala', 'parsley', 'Biftekia Gemista (feta Stuffed Burgers)', 'garlic'], ['Anchovies Appetizer With Breadcrumbs & Scallions', 'antipasti', \"Katie Lee's Sole Meunière Recipe\", \"hor d'oeuvre\", 'Chicken And Radish Salad With Creamy Avocado Dressing', 'antipasti', 'Hake Fillet With Jasmine Rice And Cabbage', 'butter', 'Citrus Swordfish With Cilantro Butter', 'limes', 'Beer-Battered Fish Tacos', 'pickled beets', 'Roasted Halibut With Pickled Beets Stegte Helleflynder Med Rodb', 'salt', 'Lemon Baked Cod', 'cod fish fillet'], ['Anchovies Appetizer With Breadcrumbs & Scallions', 'antipasto', 'Polenta Puttanesca', 'starter', 'Stuffed Cherry Peppers', \"hor d'oeuvre\", 'Pan-fried Cod With Mustard-caper Sauce', \"hor d'oeuvre\", 'Baked Ling Cod With Lemon-garlic Butter Sauce', 'unsalted butter', 'Swordfish with Orzo, Pistachios and Olives', 'swordfish steaks', 'Grilled Swordfish', 'main course', 'Crisp Roasted Fish Strips, Squash And Potatoes', 'salt'], ['Anchovies Appetizer With Breadcrumbs & Scallions', 'bread', 'Roasted Cod on Large Garlic Croutons', 'dinner', 'Dinner Tonight: Orecchiette With Broccoli, Anchovies, And Chiles', 'parmesan', 'The Ultimate Caesar Salad', 'french baguette', 'Anchovy- Tomato Toast', 'french baguette', 'The Ultimate Caesar Salad', 'salad', 'Green Bean Salad With Anchovy Dressing', 'bell pepper', 'Pan-roasted Sea Bass with Citrus-Heirloom Tomato Vinaigrette', 'dinner'], ['Anchovies Appetizer With Breadcrumbs & Scallions', 'bread', 'Panzanella', 'bread', 'Kale Caesar', 'lunch', 'Pancetta-Wrapped Roast Leg of Lamb', 'carrot', 'Rio Grande Trout with Riesling', 'garlic clove', 'Lemon Sole with Lemon-Caper Sauce', 'butter', 'Grilled Salmon with Mustard-Wine Sauce', 'black pepper', 'Black Sea Bass with Moroccan Vegetables and Chile Sauce', 'fresh dill'], ['Anchovies Appetizer With Breadcrumbs & Scallions', \"hor d'oeuvre\", 'Garlic & Herb Seasoned Tilapia', \"hor d'oeuvre\", 'Anchovy Fennel Toasts with Roasted Red Peppers', 'appetizer', 'Anchovies Appetizer With Breadcrumbs & Scallions', 'bread', 'Tarragon Tuna Melt', 'mayonnaise', 'Saucy Catfish', 'lemon', 'Beef Carpaccio with Anchovies, Capers, and Parmesan', 'beef tenderloin', 'Crostini With Beef Tartare And White Truffle Oil', 'shallots'], ['Anchovies Appetizer With Breadcrumbs & Scallions', 'anchovies', 'Bagna Cauda', 'red belgian endive', 'Bagna Cauda', 'side dish', 'Sunny Side Up Eggs', 'olive oil', 'Whole Roast Fish With Salmoriglio', 'oregano', 'Fish Soup with Bread and Rouille', 'unsalted butter', 'Steamed Sea Bass with Tamarind Sauce', 'lime juice', 'Fish Taco Platter', 'tomatillos'], ['Anchovies Appetizer With Breadcrumbs & Scallions', 'snack', 'French Onion Tart', \"hor d'oeuvre\", 'Pressed Summer Sandwich with Eggs and Anchovies', 'olive oil', 'Chicken with Green Olives', 'green olives', 'Salmon with Andouille Sausage and Green Olives', 'dinner', 'Macadamia-crusted Sea Bass With Mango Cream Sauce', 'ground pepper', 'the pleasure of wild foods: a for pan-fried trout with chanterelles', 'main dish', 'New England Fish Chowder', 'yukon gold potatoes'], ['Anchovies Appetizer With Breadcrumbs & Scallions', 'starter', \"Dad's Fish Stew\", 'thyme', 'French Tapenade', 'garlic clove', 'Seafood Stew', 'lunch', 'Poached Salmon with Corn and White Wine-Butter Sauce', 'zucchini', 'Mediterranean Salad Platter', 'feta cheese', \"Faith Hill's Greek Salad\", 'balsamic vinegar', 'Balsamic, Caper, And Anchovy Marinade', 'anchovies'], ['Anchovies Appetizer With Breadcrumbs & Scallions', 'snack', 'Acqua Pazza (fish Simmered In Tomato-garlic Broth)', 'water', 'Grilled Swordfish With Tangy Compound Butter', 'lemon zest', 'Petrale Sole With Meyer Lemon Beurre Blanc', 'sea salt', 'Egg and Anchovy Crostini', 'chive', 'Egg and Anchovy Crostini', 'chive', 'Roasted Striped Bass With Chive And Sour Cream Sauce', 'dinner', 'Sautéed Cod With Textures Of Jerusalem Artichokes', 'main course'], ['Anchovies Appetizer With Breadcrumbs & Scallions', 'antipasti', 'French Onion Tart', 'appetizer', 'Grilled Miso-glazed Sea Bass With Japanese Cucumber Salad', 'mirin', 'Bittermelon With Pork And Blackbean Sauce', 'lunch', 'Bouillabaisse', 'saffron threads', 'Sea Salt-Crusted Pink Snapper with Ice Wine Nage', 'lemon zest', 'Steamed Black Bass With Sicilian-style Pesto', 'olive oil', '\"Toni\\'s Marinated Olives\"', 'dried basil'], ['Anchovies Appetizer With Breadcrumbs & Scallions', 'starter', 'spicy tomato mussels', 'antipasti', \"Ginger-steamed Fish With Troy's Hana-style Sauce\", 'canola oil', 'Easy to Make Dinner Combo', 'lunch', 'Gemelli with Broccoli Rabe and Anchovies', 'gemelli', 'Gemelli with Broccoli Rabe and Anchovies', 'red pepper flakes', 'Sautéed Broccoli Raab With Balsamic Vinegar', 'kosher salt', 'Home', 'stewed tomatoes'], ['Anchovies Appetizer With Breadcrumbs & Scallions', 'antipasti', 'Fried Anchovies', 'crusty bread', 'My Caesar Salad. Part 2', 'salt', 'Hooked On Halibut', 'salt', 'Crispy Baked Fish', 'milk', 'Deep Fried Sea Bass', 'main course', 'Whole Roasted Megrim Sole With Caper Parsley Butter', 'main course', 'Fish Stew', 'lunch'], ['Anchovies Appetizer With Breadcrumbs & Scallions', 'antipasti', 'Oven-roasted Trout With Potatoes', 'salt and pepper', 'Roasted Bass with Potatoes, Onions and Fennel', 'olive oil', 'Wild Striped Bass with Scallions and Herb Salad', 'striped bass', 'Sautéed Striped Bass with Summer Vegetables', 'squash', 'Sautéed Striped Bass with Summer Vegetables', 'lunch', 'Cod With Parma Ham & Asparagus', 'butter', 'Tarragon Tuna Melt', 'lemon zest'], ['Anchovies Appetizer With Breadcrumbs & Scallions', 'starter', 'Sliced Baguette With Radishes And Anchovy Butter', 'appetizer', 'Lemon Herb Fish', 'white wine', 'Red Snapper With Chick Peas, Fennel And White Wine', 'wine', \"The (not Barefoot) Contessa's Fish Pasta\", 'dinner', 'Sautéed Snapper on Wilted Spinach with Mulled Zinfandel Butter', 'canola oil', 'Crispy Halibut With Lemony Basil Sauce', 'shallot', 'Grouper with Corn \"Pudding\" and Collard Greens', 'radishes'], ['Anchovies Appetizer With Breadcrumbs & Scallions', 'appetizer', 'Asparagus With Anchovies & Garlic', 'asparagus', 'Grilled Halibut with BBQ Butter', 'butter', 'Bagna Cauda', 'olive oil', 'Super Summer Grilled Bluefish', 'orange juice', 'Fish Fillets in Parchment with Asparagus and Orange', 'butter', 'Cedar-Planked Salmon with Crab and Citrus Beurre Blanc', 'salmon fillet', 'Maple-Soy Glazed Salmon', 'soy sauce'], ['Anchovies Appetizer With Breadcrumbs & Scallions', \"hor d'oeuvre\", 'Grilled Branzino With Rosemary Vinaigrette', 'garlic clove', 'Sablefish with Sun-dried Tomato Tapenade', 'lunch', 'Poached Cod with Parsley Sauce', 'vegetable stock', 'Salmon with Mushroom Sauce', 'dinner', 'Oven-roasted Chilean Seabass', 'chilean seabass', 'Oven-roasted Chilean Seabass', 'dinner', 'Gingered Salmon And Carrot Sauce', 'main course'], ['Anchovies Appetizer With Breadcrumbs & Scallions', \"hor d'oeuvre\", 'Red Tea Smoked Sea Bass With Cinnamon Caramelized Plums', 'jam', 'Red Tea Smoked Sea Bass With Cinnamon Caramelized Plums', 'tea', 'Red Tea Smoked Sea Bass With Cinnamon Caramelized Plums', 'water', 'Caramel Pork', 'ground ginger', 'Sautéed Bass with Shiitake Mushroom Sauce', 'bottled garlic', 'Mojo Bass', 'striped bass', 'Salt-baked Striped Bass with Herb Lemon Chile Sauce (Branzino Sotto Sale con Salmoriglio)', 'red chiles'], ['Anchovies Appetizer With Breadcrumbs & Scallions', \"hor d'oeuvre\", 'Hake Fillet With Jasmine Rice And Cabbage', 'fresh dill', 'Sake-Steamed Halibut with Dilled Carrots', 'carrots', 'Guinea Hen with Vinegar: Faraona al Aceto', 'dinner', 'Pecan-Crusted Tilapia', 'flour', 'Almond Coated Basa', 'dried parsley', 'Caesar Salad With Toasty Garlic Croutons', 'mayonnaise', 'Grilled Potatoes With Green Goddess Dressing', 'yukon gold potatoes'], ['Anchovies Appetizer With Breadcrumbs & Scallions', 'antipasto', 'Deviled Eggs', 'starter', 'Broccoli Rabe With Garlic & Anchovies', 'antipasto', \"Katie Lee's Sole Meunière Recipe\", \"hor d'oeuvre\", 'Tilapia With Caper-parsley Sauce', 'fresh flat leaf parsley', 'the pleasure of wild foods: a for pan-fried trout with chanterelles', 'ghee butter', 'the pleasure of wild foods: a for pan-fried trout with chanterelles', 'main dish', 'Spaghetti With Romano Peppers', 'anchovies'], ['Anchovies Appetizer With Breadcrumbs & Scallions', 'scallions', 'Salmon With Green Goddess Sauce', 'mayonnaise', 'Green Goddess Dip', 'dip', 'Super Simple Roasted Red Pepper Spread', 'anchovy fillets', 'French Tapenade', 'garlic clove', 'Caesar Salad with Crispy Tofu Croutons', 'salad', 'Greek Salad Skewers with Anchovy Aioli', 'garlic clove', 'Seared Mahi Mahi with Zesty Basil Butter', 'salt'], ['Anchovies Appetizer With Breadcrumbs & Scallions', 'starter', 'Baked Ling Cod With Lemon-garlic Butter Sauce', 'shallots', 'Pan-Seared Halibut with Tomato Vinaigrette', 'white balsamic vinegar', 'White Anchovy and Crisp Pita Bread Salad', 'olive oil', 'Striped Bass With Salsa Verde And Mediterranean Roasted Vegetables', 'lunch', \"Canal House Cooking's Serious Ragù\", 'garlic', 'LONG ISLAND BOUILLABAISSE', 'canned tomatoes', \"Canal House Cooking's Serious Ragù\", 'tomato sauce'], ['Anchovies Appetizer With Breadcrumbs & Scallions', 'anchovies', 'Salsa Verde', 'capers', 'Salmon Salsa Verde', 'dinner', 'Steamed Sea Bass with Tamarind Sauce', 'mint leaves', 'Wild Striped Bass with Scallions and Herb Salad', 'orange juice', 'Quick-Cured Sake Salmon with Quinoa', 'carrot', 'Sautéed Striped Bass with Summer Vegetables', 'dinner', 'Mustard-roasted Salmon With Ligonberry Sauce', 'preserves'], ['Anchovies Appetizer With Breadcrumbs & Scallions', 'appetizer', 'French Onion Tart', 'starter', 'Pasta Con Sarde', 'chicken', 'Fricasseed Chicken with Black Olives', 'vinegar', 'Fricasseed Chicken with Black Olives', 'lunch', 'Sautéed Shrimp with Green Olives, Scallions and Anchovies', 'dry white wine', 'Penne Avvocato', 'dinner', 'Salade Nicoise', 'vinaigrette'], ['Anchovies Appetizer With Breadcrumbs & Scallions', 'bread', 'Cook the Book: Deviled Egg Salad with Anchovies, Hot Smoked Paprika, and Tomato', 'apple cider vinegar', 'Radish Salad Lugano', 'fresh tarragon', 'Green Goddess Dip', 'fresh tarragon', 'Sea Bass With Herb Butter And Frisee Salad', 'shallot', 'Sea Bass With Herb Butter And Frisee Salad', 'crusty bread', 'Grilled Sausage Appetizer With Gremolata', 'anchovy', 'Shelling Bean, Haricots Verts & Zucchini Salad With Anchovies', 'salad'], ['Anchovies Appetizer With Breadcrumbs & Scallions', 'antipasto', 'Hearty Halibut Chowder', 'garlic', 'Anchiode-tipped Romaine', 'coarse salt', 'Whole Branzino In Grape Leaves With Zucchini, Olives, And Mint', 'branzino', 'Branzino With Florida Amazu Sauce', 'vodka', 'NYC Vodka Arrabbiata', 'olive oil', 'Best Basic Caesar Salad', 'cilantro', 'Scallop Salad With Sweet Vanilla Chili Dressing', 'vanilla pod'], ['Anchovies Appetizer With Breadcrumbs & Scallions', 'starter', 'Spaghetti Puttanesca', 'yellow onion', 'Serious Ragu', 'main dish', 'Salmon with Tomatoes', 'dinner', 'Grilled Mahimahi With Red Pepper Sauce', 'garlic', \"Another of My Friend Vicky's Creations: Cauliflower with Red, Green and Black Confetti\", 'olive oil', 'Fish with Tomatoes, Olives and Capers', 'red pepper', 'Sauteed Striped Bass with Mint Pesto and Spiced Carrots', 'fresh mint leaves'], ['Anchovies Appetizer With Breadcrumbs & Scallions', 'snack', 'Risotto With Sea Bass And Fennel', 'dry white wine', 'Cat Cora’s Red Snapper With Pepitas, Capers, Cherry Tomatoes An', 'black pepper', 'Pasta with Anchovy-Walnut Sauce', 'side dish', 'Balsamic, Caper, And Anchovy Marinade', 'balsamic vinegar', 'Grilled Radicchio And Romaine Chopped Salad', 'from donna deane', 'Grilled Radicchio And Romaine Chopped Salad', 'garlic', 'Italian Bread And Cabbage Soup With Sage Butter', 'garlic'], ['Anchovies Appetizer With Breadcrumbs & Scallions', 'scallions', 'Spiced Cod With Broccoli-quinoa Pilaf', 'antipasti', 'Penne Puttanesca', 'penne pasta', 'Penne Avvocato', 'crushed red pepper', 'Spaghetti Alla Puttanesca', 'garlic', 'Roasted Red Pepper Bagna Cauda', 'side dish', 'Grilled Salmon With Tarragon Butter', 'salmon steaks', 'Grilled Salmon with Habanero-Lime Butter', 'tequila'], ['Anchovies Appetizer With Breadcrumbs & Scallions', 'anchovies', 'Bagna Cauda', 'portabella mushrooms', 'Bagna Cauda', 'butter', 'Lightly Fried Tilapia With Caper Brown Butter And Lemon-shallot', 'lemon zest', 'Osso bucco', 'salt and pepper', 'Dinner Tonight: Marinated Chickpea Salad', 'lunch', 'Oven-Roasted Sea Bass with Couscous and Warm Tomato Vinaigrette', 'main dish', 'Seared Sea Bass With Fennel Seeds & Roasted Sweet Potatoes', 'celery stick'], ['Anchovies Appetizer With Breadcrumbs & Scallions', 'anchovies', 'Chicken Cacciatora With Pan Roasted Potatoes', 'potatoes', 'New England Fish Chowder', 'pasta', 'Poached Beef With Green Sauce', 'rosemary', 'Roasted Red Pepper Sandwiches with Tapenade and Basil', 'thyme', 'Roasted Salmon with Oyster Mushrooms in Red Wine', 'low sodium chicken broth', 'Turkey Ossobuco', 'olive oil', 'Broccoli & Burrata', 'olive oil'], ['Anchovies Appetizer With Breadcrumbs & Scallions', 'scallions', 'Steamed Striped Bass', 'main course', 'Grilled Tilapia with Lemon Butter, Capers and Orzo', 'heavy cream', 'Corn And Clam Chowder Sauce', 'bell pepper', 'Fresh Anchovies Marinated In Salsa Verde', 'lemon zest', 'Grilled Wahoo with Tomato Sauce', 'garlic', 'Montbrun Melange: Olive Bread With Basil, Marinated Tomatoes, A', 'unsalted butter', \"John Besh's Louisiana Speckled Trout Amandine\", 'main dish'], ['Anchovies Appetizer With Breadcrumbs & Scallions', 'garlic clove', 'Caesar Salad Spears', 'diced bread', 'Caesar Salad Spears', 'mayonnaise', 'Pasta With Tonnato And Tomato', 'heirloom tomatoes', 'Fresh Bloody Mary', 'sea salt', 'Smoked Bluefish Rillettes', 'bay leaf', 'LONG ISLAND BOUILLABAISSE', 'potato', 'Fish Chowder', 'main dish'], ['Anchovies Appetizer With Breadcrumbs & Scallions', 'scallions', 'Green Goddess Slaw', 'shallot', 'Salt-Baked Sea Bass with Warm Tomato Vinaigrette', 'sea bass', 'Quick Oven Roasted Ginger Scallion Lime Sea Bass', 'green onion', 'Bass With Glaze', 'thyme leaves', 'Thyme-Crusted Buttery Halibut with Parsley Sauce', 'olive oil', \"Hunter's Chicken Stew\", 'chianti', \"Hunter's Chicken Stew\", 'lunch'], ['Anchovies Appetizer With Breadcrumbs & Scallions', 'garlic clove', \"Curto's Grilled Salmon with Bacon and Potato Hash\", 'red wine vinegar', 'Roast Pork Loin, Turnips, Garlic and Anchovies', 'anchovies', 'The Chicken-fried Pork Belly Caesar', 'parmigiano reggiano', 'Beef Carpaccio with Anchovies, Capers, and Parmesan', 'lemon', 'Tarragon-tomato Fish', 'main dish', 'Grilled Fish Sandwich With Cabbage Slaw', 'dinner', 'Ceviche de Pescado: Two Ways', 'april 4'], ['Anchovies Appetizer With Breadcrumbs & Scallions', 'appetizer', 'Orange, Parsley, And Walnut Salad', 'dijon mustard', 'Turkey Burgers With Caesar Spread', 'mayonnaise', 'Grilled Potatoes With Green Goddess Dressing', 'kosher salt', 'Boiled Asparagus With Salsa Verde', 'shallot', 'Grilled Boneless Salmon Steaks with Horseradish Dill Butter', 'unsalted butter', 'Salmon With Brown Butter And Almonds Recipe', 'capers', 'Roasted Cherry Tomato Puttanesca', 'olive oil'], ['Anchovies Appetizer With Breadcrumbs & Scallions', 'scallions', 'Niçoise Tuna Sandwich (Pan Bagnat)', 'olives', 'Red Snapper Puttanesca', 'lemon juice', 'Bagna Cauda Salad', 'olive oil', 'Hake With Wild Mushrooms', 'main course', 'Pasta With Green Puttanesca', 'sea salt', 'Orford-landed Seabass With Crispy Potatoes, Bacon And Sea Purslane', 'bacon rashers', 'Roasted Asparagus With Rosemary And Anchovies Wrapped In Pancetta', 'lemon'], ['Anchovies Appetizer With Breadcrumbs & Scallions', 'bread', 'Tuscan Chicken Liver Crostini', 'garlic cloves', 'Oven-Roasted Sea Bass with Couscous and Warm Tomato Vinaigrette', 'sherry vinegar', 'Endive, Fennel And Parmesan With Anchovy Date Dressing', 'side dish', 'Broccoli With Bagna Cauda', 'anchovy', 'Seared Scallops with Basil, Anchovy and Sweet Corn Pudding', 'heavy cream', 'Blackened Striped Bass with Corn Spoon Bread and Greens', 'scallions', 'Sea Bass and Cucumbers in Champagne Sauce', 'salt'], ['Anchovies Appetizer With Breadcrumbs & Scallions', \"hor d'oeuvre\", 'Chicken And Radish Salad With Creamy Avocado Dressing', 'snack', 'Grilled Miso-glazed Sea Bass With Japanese Cucumber Salad', 'sea bass', 'Quick Oven Roasted Ginger Scallion Lime Sea Bass', 'green onion', 'Bean Sprout Beef Rice Bowl', 'sesame oil', 'Ginger Sea Bass over Wilted Greens', 'fresh ginger', 'Burrata Salad', 'chilies', 'Escarole Salad With Salt Cod, Anchovies And Olives', 'oil packed tuna'], ['Anchovies Appetizer With Breadcrumbs & Scallions', 'garlic clove', 'Spicy Butter-Steamed Bass', 'juice of lime', 'Steamed Sea Bass Recipe (thai-style)', 'juice of lime', 'Salmon With Waffle Glaze', 'brown sugar', 'Orange Teriyaki Salmon', 'garlic', 'Seared Halibut With Lemon Caper Sauce', 'butter', 'Grilled Striped Bass with Orange-Saffron Butter', 'oranges', 'Poached Beef With Green Sauce', 'raisin'], ['Anchovies Appetizer With Breadcrumbs & Scallions', 'scallions', 'Catfish Classique', 'lemon juice', 'Salmon with Tomatoes', 'butter', 'Salmon With Lime Butter Slow Cooker Recipe', 'fish', 'Southern Thai Rice Salad', 'chile powder', 'Grilling: Striped Bass with Roasted Salsa', 'main course', 'Broccoli With Burrata, Pine Nuts And Warm Anchovy Vinaigrette', 'parsley leaves', 'Grilled Skirt Steak with Salsa Verde', 'olive oil'], ['Anchovies Appetizer With Breadcrumbs & Scallions', 'anchovies', 'Sea Bass Puttanesca In A Foil Pouch', 'scallions', 'Vegetable Market Salad', 'garlic cloves', 'Bouillabaisse', 'red chili', 'Grilled Calamari on a Bed of White Beans', 'oil packed tuna', 'Roasted Red Peppers with Tonnato Sauce', 'red bell peppers', 'Oven-roasted Striped Bass with Peppers', 'lunch', 'Linguine Aglio E Olio Con Acciuga', 'red pepper flakes'], ['Anchovies Appetizer With Breadcrumbs & Scallions', \"hor d'oeuvre\", 'Hard-Cooked Eggs with Crisp Anchovy Crumbs', 'starter', 'Asparagus With Anchovies & Garlic', 'water', 'Pan-Fried Skate with Brown Butter and Parsnip Puree', 'unsalted butter', 'Roasted Halibut with Green Olive Sauce', 'dry white wine', 'Grilled Salmon with Mustard-Wine Sauce', 'main dish', 'Smoked haddock with flageolets in a creamy mustard sauce (or Nigel Slater does WTSIM)', 'wholegrain mustard', 'Smoked haddock with flageolets in a creamy mustard sauce (or Nigel Slater does WTSIM)', 'real bacon recipe pieces'], ['Anchovies Appetizer With Breadcrumbs & Scallions', 'scallions', 'Blackened Striped Bass with Corn Spoon Bread and Greens', 'striped bass', 'Spiced Cod With Broccoli-quinoa Pilaf', 'kosher salt', 'Quick Chicken Sauté With Tomatoes, Black Olives & Basil', 'garlic', 'Pan-roasted Halibut With Herbed Lentils And Breadcrumbs', 'fresh rosemary', 'Leg of Lamb with Garlic Sauce', 'leg of lamb', 'Grilled Butterflied Leg of Lamb with Tomato-Fennel Vinaigrette', 'fresh basil', 'Baked Halibut À La Wolfgang Puck', 'main dish'], ['Anchovies Appetizer With Breadcrumbs & Scallions', 'bread', 'Dinner Tonight: Caesar Salad', 'salt', 'Chicken Thighs with Garlicky Crumbs and Snap Peas', 'sugar snap peas', 'Wine Dinner: Salmon with Miso Butter, Snap Peas & a Fried Egg paired with a 2007 Deux Amis Zinfandel', 'deep dish pie crust', 'Poached Beef With Green Sauce', 'pancetta', 'Roasted Striped Bass', 'shrimp', 'Breaded\" Redfish with Shrimp, Fennel, and Orange Salad', 'orange juice', 'Pan-Seared Sea Bass in Tomato Fennel Broth', 'onion'], ['Anchovies Appetizer With Breadcrumbs & Scallions', \"hor d'oeuvre\", 'Polenta Puttanesca', 'antipasti', 'Queso Manchego con Aceitunas y Piquillos', 'piquillo peppers', 'Piquillo-Pepper Num Pangs', 'carrots', 'Black-and-Tan Pork With Spicy Ale Slaw', 'lunch', 'Pan Roasted Filet Mignon with Asparagus Sea Bass with Roasted Cauliflower Puree', 'filet mignon', 'Pan Roasted Filet Mignon with Asparagus Sea Bass with Roasted Cauliflower Puree', 'balsamic vinegar', 'Chicken Liver Bruschetta', 'anchovies'], ['Anchovies Appetizer With Breadcrumbs & Scallions', 'appetizer', 'Lemon Herb Fish', 'antipasto', 'Baked Sole With Asparagus', 'salt and pepper', 'Sablefish with Sun-dried Tomato Tapenade', 'main dish', 'Pan-Seared Tilapia with Chile Lime Butter', 'lime juice', 'Mojo Bass', 'main dish', 'Labneh With Chilli And Anchovy', 'bell pepper', 'Pizza', 'mozzarella cheese'], ['Anchovies Appetizer With Breadcrumbs & Scallions', 'olive oil', 'Fish And Chips', 'pepper', 'Chickpea and Pasta Soup', 'canned tomatoes', 'Sea Bass with Fennel, Tomato and Orange', 'sea salt', 'Basil-Steamed Halibut with Lemon Crème Sauce', 'lunch', 'Seared Bass with Cauliflower Duo', 'top blade steak', 'Seared Bass with Cauliflower Duo', 'mahi mahi', 'Mahi Mahi Escabeche', 'main course'], ['Anchovies Appetizer With Breadcrumbs & Scallions', 'antipasti', 'Roasted Sea Bass With Fennel, Blood Oranges & Olives', 'antipasti', 'Penne Puttanesca', 'fresh flat leaf parsley', 'Cook the Book: Steak with Anchovy Butter', 'butter', 'Sizzling Flounder', 'parmesan cheese', 'Maruja’s Fish Fillets Layered with Tomatoes, Capers, Bread Crumbs, and Cheese', 'dinner', 'Chicken Cacciatore', 'bell pepper', 'Fish With Miso Sauce & Creamy Ponzu Salad', 'salt and pepper'], ['Anchovies Appetizer With Breadcrumbs & Scallions', 'scallions', 'Steamed Striped Bass With Ginger And Scallions', 'main course', 'Roasted Salmon With Spicy Cauliflower', 'lunch', 'Dinner Tonight: Grilled Caesar Salad', 'egg', 'Hearts of Romaine Caesar Salad with Grilled Chicken', 'canned anchovy', 'Lime Caesar Salad', 'garlic cloves', 'Marinated Boquerones', 'chillies', 'Marinated Boquerones', 'sherry vinegar'], ['Anchovies Appetizer With Breadcrumbs & Scallions', 'garlic clove', 'Grilled Skirt Steak with Salsa Verde', 'olive oil', 'Grilled Tuna with Basil Butter and Fresh Tomato Sauce', 'garlic cloves', 'Tuscan Chicken Liver Crostini', 'main dish', 'Stuffed Artichokes', 'olive oil', 'Bruschetta With Fig & Walnut Anchoiade', 'dried figs', 'Bruschetta With Fig & Walnut Anchoiade', 'walnut halves', 'Bruschetta With Fig & Walnut Anchoiade', 'garlic'], ['Anchovies Appetizer With Breadcrumbs & Scallions', 'appetizer', 'Fish With Olives, Pine Nuts, Basil And Wine', 'olives', 'Turkey Sandwich With Tapenade And Fontina', 'fontina cheese', 'Chicken Caesar Pita Pizza', 'pita bread', 'Chicken Caesar Pita Pizza', 'dinner', 'Roasted Trout With Lemon & Walnut-browned Butter', 'fresh parsley', 'Fish Roll-Ups', 'side dish', 'Fresh Bloody Mary', 'celery'], ['Anchovies Appetizer With Breadcrumbs & Scallions', \"hor d'oeuvre\", 'Bagna Cauda', 'unsalted butter', 'Poached Sole With Blood Orange Beurre Blanc', 'main dish', 'Cod With Pesto And Tomato', 'lunch', 'Roast Leg Of Lamb With Salsa Verde', 'olive oil', 'Smoky Red Pepper Soup', 'paprika', 'Tuscan Braised Short Ribs', 'dry red wine', 'Roasted Salmon with Oyster Mushrooms in Red Wine', 'shallot'], ['Anchovies Appetizer With Breadcrumbs & Scallions', 'antipasto', 'Fish With Olives, Pine Nuts, Basil And Wine', 'garlic', 'Cod with Cashews Baked in Foil Envelopes', 'lunch', 'Sauteed Cod with Lentils', 'lemon juice', 'Pan-roasted Striped Bass With \"ratatouille', 'yellow summer squash', 'Pan-roasted Striped Bass With \"ratatouille', 'main dish', 'Baked Dijon Salmon', 'dijon mustard', 'Smoked Fish Cakes With Corn Tartar Sauce', 'fresh chives'], ['Anchovies Appetizer With Breadcrumbs & Scallions', 'antipasti', 'Anchoïade With Radishes, Fennel, Celery And Carrots', 'anchovy fillets', 'Grilled Salmon with Basil Aïoli', 'main dish', 'Sea Bass with Saffron, Sherry and Pine Nuts', 'sherry', 'Sesame-Crusted Fish Fillets with Garlic-Ginger Sauce', 'garlic', \"Dad's Caesar Salad\", 'italian bread', 'Roasted Halibut with Fennel and Croutons', 'dinner', 'Orecchiette With Broccoli Rabe', 'dinner'], ['Anchovies Appetizer With Breadcrumbs & Scallions', \"hor d'oeuvre\", 'Favas, Green Beans, Peas And Zucchini Ribbons', 'olive oil', 'Escarole Salad with Chopped Egg and Anchovy Vinaigrette', 'hard cooked eggs', 'Escarole Salad with Chopped Egg and Anchovy Vinaigrette', 'anchovy', 'Panzanella With Mint And Anchovy', 'sea salt', 'A French Twist in the Medina: Pan Tunisienne Lunch Pail', 'mint', 'Minted Lamb Chops With White Beans', 'main course', 'Grilled Striped Bass', 'striped bass'], ['Anchovies Appetizer With Breadcrumbs & Scallions', 'snack', 'Pasta Con Sarde', 'antipasto', 'Baked Ling Cod With Lemon-garlic Butter Sauce', 'flour', 'Baccala', 'butter', 'Salmon And Zucchini Baked In Parchment', 'butter', 'Swordfish and Pasta with Sun-dried Tomato Basil Sauce', 'pasta', 'Tagliolino Allo Scoglio', 'lunch', 'Fried Stuffed Britches: Cazuncielli', 'anchovies in salt'], ['Anchovies Appetizer With Breadcrumbs & Scallions', 'olive oil', 'Broiled Walleye With Dill Tabbouleh', 'fresh dill', 'Hake Fillet With Jasmine Rice And Cabbage', 'appetizer', 'Broccoli Rabe Saute With Chicken Sausage', 'anchovy', 'Fresh Bloody Mary', 'heirloom tomatoes', 'Pan-Seared Halibut with Tomato Vinaigrette', 'main dish', 'Fish Piccata', 'capers', 'Fried Oysters with Spicy Rémoulade', 'shallot'], ['Anchovies Appetizer With Breadcrumbs & Scallions', 'antipasto', \"Dad's Fish Stew\", 'garlic cloves', 'Cod with Cockles and White Wine', 'flat leaf parsley', 'Redfish on the Half Shell', 'crushed red pepper', 'Broccoli Rabe Saute With Chicken Sausage', 'coarse salt', \"Tom Valenti's Lamb Shanks\", 'fresh thyme', 'Croutons with Tapenade', 'anchovy', 'Summer Squash Gratin with Salsa Verde and Gruyere', 'unsalted butter'], ['Anchovies Appetizer With Breadcrumbs & Scallions', 'garlic clove', 'Steamed Fish With Ginger & Orange', 'fresh coriander', 'Roast Sea Bass With Chilli & Lime Leaves', 'lemongrass', 'Super Simple Sea Bass', 'soy sauce', 'Baked Sea Bass With Ginger Ponzu Sauce', 'soy sauce', 'Super Simple Sea Bass', 'fresh ginger', 'Schezuan Pear Broth With Mackerel Dumplings', 'lunch', 'Grilled Salmon With Ginger- Soy Butter', 'fresh ginger'], ['Anchovies Appetizer With Breadcrumbs & Scallions', 'scallions', 'Steamed Striped Bass', 'scallions', 'Porgy, Roman Style: Pagro alla Romana', 'lunch', 'Butternut Squash Tart With Anchovy Vinaigrette', 'sugar', 'Halibut with Spicy Mint-Cilantro Chutney', 'fresh mint', 'Minted Salmon', 'main dish', 'Fish Stew', 'onion', 'Finnan Haddie with Spinach and Pancetta', 'main dish'], ['Anchovies Appetizer With Breadcrumbs & Scallions', 'antipasto', 'Glazed Salmon', 'salt and pepper', 'Hanger Steak with Herb-Nut Salsa', 'shallot', 'Pan-seared Crispy Salmon', 'garlic', 'Grilled Sea Bass With A Portuguese Sauce', 'fresh basil', 'Orange Roughy With Lemon, Garlic And Basil', 'cloves garlic', 'Salmon With Lime Butter Slow Cooker Recipe', 'cloves garlic', 'Chopped Greek Salad', 'ground pepper'], ['Anchovies Appetizer With Breadcrumbs & Scallions', 'antipasto', 'Orange, Parsley, And Walnut Salad', 'fish', 'Salmon With Lime Butter Slow Cooker Recipe', 'lunch', 'Stuffed Artichokes', 'lunch', 'Miso And Soy Chilean Sea Bass', 'lunch', 'Chickpea and Pasta Soup', 'dinner', 'Seared Halibut with Yellow-Pepper Sauce', 'fish', 'Grilled Fish with Sauce au Chien', 'lime juice'], ['Anchovies Appetizer With Breadcrumbs & Scallions', 'scallions', 'Grouper With Black Beans', 'lunch', 'Big City Salmon with Martini Sauce', 'gin', 'Martini Mahimahi', 'vermouth', 'Pan Fried Sea Bass', 'saffron', 'Smoked Bluefish Rillettes', 'shallots', 'Grilled Trout with White Beans and Caper Vinaigrette', 'fresh rosemary', 'Roasted Asparagus With Rosemary And Anchovies Wrapped In Pancetta', 'lunch'], ['Anchovies Appetizer With Breadcrumbs & Scallions', 'olive oil', 'Striped Bass with Sweet Carrots and Cider Glaze', 'parsley', 'Pan- Seared Tilapia', 'lunch', 'Salade Nicoise', 'juice of lemon', 'Pan-fried Trout With Pecans', 'mat beans', 'Lemon Sole With Flageolet Beans', 'lemon', 'Sole With Lemon-butter Sauce', 'sole', 'Sautéed Petrale Sole In Herb Butter Sauce', 'fresh chives'], ['Anchovies Appetizer With Breadcrumbs & Scallions', 'antipasto', 'spicy tomato mussels', 'cherry tomatoes', 'Panzanella With Mint And Anchovy', 'sea salt', 'Panzanella With Anchovy And Mint', 'mint', 'A French Twist in the Medina: Pan Tunisienne Lunch Pail', 'dry couscous', 'A French Twist in the Medina: Pan Tunisienne Lunch Pail', 'harissa', 'Preserved Lemon Dip', 'spread', 'Tuna Caper Dip', 'condiment'], ['Anchovies Appetizer With Breadcrumbs & Scallions', 'appetizer', 'Creole Striped Bass', 'black pepper', 'Cheddar Beer Soup', 'carrots', 'Tuscan Braised Short Ribs', 'beef short ribs', 'Braised Hoisin Beer Short Ribs With Rosemary White-bean Purée', 'dinner', 'Sauteed Striped Bass with Mint Pesto and Spiced Carrots', 'garlic clove', 'Pan-Seared Tarragon Trout', 'black pepper', \"Katie Lee's Sole Meunière Recipe\", 'flat leaf parsley'], ['Anchovies Appetizer With Breadcrumbs & Scallions', 'snack', 'Chicken And Radish Salad With Creamy Avocado Dressing', 'radishes', 'Sardines On Toast', 'shallots', 'Turnips and Turnip Greens with Mustard Butter', 'whole grain dijon mustard', 'Beer Braised BBQ Pork Butt', 'ale', 'Cheddar Beer Soup', 'salt', 'Anchovy and Rosemary Roasted Lamb', 'anchovy', 'Serious Ragu', 'olive oil'], ['Anchovies Appetizer With Breadcrumbs & Scallions', 'antipasto', 'Baked Ling Cod With Lemon-garlic Butter Sauce', 'antipasti', 'Red Tea Smoked Sea Bass With Cinnamon Caramelized Plums', 'white rice', 'Salmon with Leek and Rice Stuffing', 'fresh flat leaf parsley', 'Old School\" Chicken Cacciatore', 'lunch', 'Double-whammy Arrabiata', 'chillies', 'Double-whammy Arrabiata', 'tomatoes', 'Puttanesca Baked Cod', 'main dish'], ['Anchovies Appetizer With Breadcrumbs & Scallions', 'antipasto', 'Cedar-planked Salmon With Seasoned Lemon Butter', 'snack', 'Pasta Con Sarde', 'whole wheat breadcrumbs', 'Pasta Con Sarde', 'onion', 'Pasta Puttanesca', 'parmesan cheese', 'Beet Greens With Anchovies', 'olive oil', 'Broccoflower with Anchovies and Garlic', 'golden raisins', 'Roasted Halibut with Wine-Braised Fennel', 'bay leaves'], ['Anchovies Appetizer With Breadcrumbs & Scallions', 'snack', 'Pasta Con Sarde', 'spaghetti', 'Spaghetti with Anchovies and Breadcrumbs', 'fat free less sodium chicken broth', 'Brazilian Fish Stew (Moqueca de Peixe)', 'fresh cilantro', 'Corvina Traditional', 'cilantro leaves', 'Halibut Veracruz', 'avocados', 'Green Goddess Salad With Romaine, Cucumbers, And Avocado', 'tarragon leaves', 'Seared Wild Salmon With New Potatoes And Dijon Broth', 'apple cider vinegar'], ['Anchovies Appetizer With Breadcrumbs & Scallions', 'antipasti', \"Ginger-steamed Fish With Troy's Hana-style Sauce\", 'fresh ginger', 'Chinese-style Steamed Bass', 'sea bass', 'Blue Fish With Tomato, Garlic And Onions', 'kalamata olives', 'Croutons with Tapenade', 'capers', 'Tilapia With Caper-parsley Sauce', 'olive oil', 'Artichoke Fritters with Green Goddess Dipping Sauce', 'anchovy', 'Chicken-Liver Crostini', 'salt and pepper'], ['Anchovies Appetizer With Breadcrumbs & Scallions', 'anchovies', 'Warm Scallop Salad with Mushrooms and Zucchini', 'tarragon', 'Poached Halibut With Eberhard', 'celery', 'Grilled Stuffed Red Snapper', 'green onions', 'Grilled Miso-glazed Sea Bass With Japanese Cucumber Salad', 'appetizer', \"Katie Lee's Sole Meunière Recipe\", \"hor d'oeuvre\", 'Broccoli Rabe With Garlic & Anchovies', 'olive oil', 'Pan Fried Striped Bass', 'fish sauce'], ['Anchovies Appetizer With Breadcrumbs & Scallions', 'antipasto', 'Pasta Con Sarde', 'chicken', \"Hunter's Chicken Stew\", 'garlic', 'Super Simple Roasted Red Pepper Spread', 'anchovy fillets', 'Pickled Pepper, Anchovy & Egg Sandwich On Rye', 'fresh parsley', 'Tuscan Braised Short Ribs', 'onions', 'Rib Roast Of Beef With Beets, Potatoes, And Horseradish', 'fresh rosemary leaves', 'Grilled Salmon with Mustard-Wine Sauce', 'fresh basil leaves'], ['Anchovies Appetizer With Breadcrumbs & Scallions', 'garlic clove', 'Sablefish with Sun-dried Tomato Tapenade', 'main dish', 'Crispy Skin Salmon', 'main course', 'Grilled Stuffed Red Snapper', 'salt', 'Cooking For Others: Fall Farmers’ Market', 'main course', 'Wheat Noodles with Anchovy Sauce: Bigoli en Salsa', 'lunch', 'Salt-Baked Sea Bass with Warm Tomato Vinaigrette', 'main dish', 'Steamed Cod with Crisp Vegetables', 'dinner'], ['Anchovies Appetizer With Breadcrumbs & Scallions', 'garlic clove', 'Grilled Tuna Steak', 'main dish', 'Oven-Baked Salmon with Picholine Olive Sauce', 'fish stock', 'Bouillabaisse', 'onion', 'Skate, Chicory, and Anchovy', 'black peppercorns', 'Pan-fried Trout With Polenta-spice Crust', 'main course', 'Roasted Halibut with Wine-Braised Fennel', 'fennel bulbs', 'Bouillabaisse', 'whole garlic'], ['Anchovies Appetizer With Breadcrumbs & Scallions', 'bread', 'Roasted Cauliflower with Capers and Bread Crumbs', 'capers', 'French Tapenade', 'bell pepper', 'Fricasseed Chicken with Black Olives', 'olives', 'Tapenade', 'lunch', 'Caponata-Style Escarole and Cod', 'flat leaf parsley leaves', 'Sole Meuniere', 'lemon juice', 'Easy to Make Dinner Combo', 'salad mix'], ['Anchovies Appetizer With Breadcrumbs & Scallions', 'scallions', 'Grouper With Black Beans', 'black beans', 'Grouper with Jicama and Black Bean Sauce', 'cilantro leaves', \"Chef Tyson Cole's Ceviche\", 'garlic', 'Roasted Green Beans With Bagna Cauda', 'smoked paprika', 'Grilled Skirt Steak with Salsa Verde', 'smoked paprika', 'Roasted Red Pepper Pasta Sauce', 'onion', 'Biftekia Gemista (feta Stuffed Burgers)', 'salt and pepper'], ['Anchovies Appetizer With Breadcrumbs & Scallions', \"hor d'oeuvre\", 'Pan-fried Cod With Mustard-caper Sauce', 'fresh tarragon', 'Crudités And Shrimp With Green Goddess Dip', 'parsley', 'Grill-Roasted Clam Linguine', 'clams', 'Sauteed Fish Stew', 'fennel', 'Cook the Book Party Planner: Pasta with Sardines', 'raisins', 'Zakary Pelaccio’s Pasta Con Sarde', 'tomatoes', 'Foil-Packet Fish With Corn Relish', 'vegetable oil'], ['Anchovies Appetizer With Breadcrumbs & Scallions', 'scallions', 'Smoked Black Bass', 'main dish', 'Portuguese Fish Stew', 'garlic cloves', 'Pasta Puttanesca', 'parmesan cheese', 'Roasted Garlic And Caramelized Onion Tart', 'goat cheese', 'Balsamic Portabella Salad With Goat Cheese', 'shallots', 'Avocado & Marinated Anchovy Bruschetta', 'vinegar', 'Orange Teriyaki Salmon', 'liquid smoke'], ['Anchovies Appetizer With Breadcrumbs & Scallions', 'antipasto', 'Tuna, Tomato And Olive Sandwich (pan Bagnat)', 'green bell pepper', 'Origami Sea Bass', 'mushrooms', 'Braised Monkfish with Wild Mushrooms and Cipollini Onions', 'onion', 'Chicken With Garlic & Olives', 'anchovies', 'Sunny Side Up Eggs', 'eggs', 'Wine Dinner: Salmon with Miso Butter, Snap Peas & a Fried Egg paired with a 2007 Deux Amis Zinfandel', 'lotus root', 'Wine Dinner: Salmon with Miso Butter, Snap Peas & a Fried Egg paired with a 2007 Deux Amis Zinfandel', 'tweet'], ['Anchovies Appetizer With Breadcrumbs & Scallions', 'antipasto', \"Dad's Fish Stew\", 'tabasco sauce', \"Dad's Fish Stew\", 'fresh parsley', 'Pasta With Tonnato And Tomato', 'capers', 'Salsa Verde', 'capers', 'Braised Chicken Thighs With Tomato, Capers, Anchovies & Olives', 'anchovy', 'Caesar Salad with Meatballs', 'salt and pepper', 'Pan Roasted Halibut W/ Creamy Lemon And Spinach Farro W/ Toaste', 'lunch'], ['Anchovies Appetizer With Breadcrumbs & Scallions', 'garlic clove', 'Tilapia With Balsamic Butter Sauce, Thyme Mashed Potatoes, And', 'olive oil', 'Pancetta-Wrapped Roast Leg of Lamb', 'leg of lamb', 'Grilled Butterflied Leg of Lamb with Tomato-Fennel Vinaigrette', 'garlic cloves', 'Fusilli Salad with Grilled Chicken and Zucchini', 'salt and pepper', 'Capers and Halibut', 'halibut steaks', 'Baked Halibut À La Wolfgang Puck', 'salt & pepper', 'Local Amberjack with Pea Tendrils & Roasted Butternut Squash Mash', 'amberjack'], ['Anchovies Appetizer With Breadcrumbs & Scallions', 'antipasti', 'Pasta Con Sarde', 'whole wheat breadcrumbs', 'Pasta Con Sarde', 'pam', 'Pasta Con Sarde', 'chicken', 'New England Fish Chowder', 'fresh thyme', 'Pan Roasted Filet Mignon with Asparagus Sea Bass with Roasted Cauliflower Puree', 'brown sugar', 'Orange Teriyaki Salmon', 'onion', \"Seabass Ravioli from Ischia---Ravioli All' Ischitana\", 'main course'], ['Anchovies Appetizer With Breadcrumbs & Scallions', 'appetizer', 'Deviled Eggs', \"hor d'oeuvre\", 'Clam And Calamari Seafood Stew With Salsa Verde', 'parsley', 'Radish Salad Lugano', 'garlic', 'Nut-crusted Salmon With Garlicky Greens And Walnuts', 'walnuts', 'Roasted Halibut with Walnut Crust', 'fresh chives', 'Broiled Bluefish with Tomato and Herbs', 'spanish mackerel fillets', 'Broiled Bluefish with Tomato and Herbs', 'dinner'], ['Anchovies Appetizer With Breadcrumbs & Scallions', 'anchovies', 'Grilled Fish With Seville Orange & Rosemary Butter', 'rosemary', 'Grilled Broccoli with Anchovy Dressing', 'olive oil', 'Lemon And Chilli Bread Salad', 'black olives', 'Fig-Olive Tapenade', 'figs', 'Fig-Olive Tapenade', 'lemon juice', 'Minted Salmon', 'main dish', 'Pasta With Anchovy Bread Crumb Topping', 'fresh parsley'], ['Anchovies Appetizer With Breadcrumbs & Scallions', 'garlic clove', 'Red Leaf Caesar Salad with Grilled Parmesan Croutons', 'lemon juice', 'Thyme-Crusted Buttery Halibut with Parsley Sauce', 'shallot', 'Celery -Root Rémoulade', 'cayenne', 'Stuffed Bluefish with Sweet and Spicy Masala', 'garlic', 'Sole with Tarragon-Butter Sauce', 'sole', 'Sole with Grapefruit-Thyme Butter', 'olive oil', 'Broccoli Rabe Saute With Chicken Sausage', 'antipasto'], ['Anchovies Appetizer With Breadcrumbs & Scallions', 'bread', 'Sicilian Stuffed Swordfish with Cherry Tomato Sauce', 'dinner', 'Saucy Catfish', 'unsalted butter', 'Spring Vegetable Bagna Cauda', 'hard cooked eggs', 'Pressed Summer Sandwich with Eggs and Anchovies', 'fresh parsley leaves', 'Baked Seabass with Homemade Garlic Butter and Herb Bread Crumb Topping', 'fresh parsley leaves', 'Tuna Caper Dip', 'coarse salt', 'Salt-baked Striped Bass With Herbs And Lemon', 'fresh flat leaf parsley'], ['Anchovies Appetizer With Breadcrumbs & Scallions', \"hor d'oeuvre\", 'Pappardelle With Spicy Meat Sauce', 'pappardelle', 'Pappardelle With Spicy Meat Sauce', 'antipasto', 'Seafood Stew', \"hor d'oeuvre\", 'Tilapia With Caper-parsley Sauce', 'new potatoes', 'Grilled Tuna Steaks With Onion Dill Butter', 'lunch', 'Fried Stuffed Britches: Cazuncielli', 'olives', 'Roast Fish With Cauliflower, Olives & Piquillo Peppers', 'dinner'], ['Anchovies Appetizer With Breadcrumbs & Scallions', 'anchovies', 'Ceasar Salad', 'water', 'Shrimp and Crab Stuffed Flounder', 'lunch', 'Salmon with Shiitake and Red Wine Sauce', 'wild rice', 'Salmon with Shiitake and Red Wine Sauce', 'dry red wine', 'Tuscan Braised Short Ribs', 'onions', 'Anchovy And Onion Tart', 'flour', 'Onion Anchovy Galette', 'flour'], ['Anchovies Appetizer With Breadcrumbs & Scallions', 'olive oil', 'Dinner Tonight: Tomato Sauce with Mushrooms and Anchovy', 'lunch', 'Stuffed Bluefish with Sweet and Spicy Masala', 'turmeric', 'Marinated Fish Skewers', 'cilantro', 'Fish Baked In Foil With Fennel And Lime', 'lime', 'Grilled Halibut with Cilantro Garlic Butter', 'halibut fillets', 'Halibut with Spicy Mint-Cilantro Chutney', 'main dish', 'Yellowfin Tuna with Scallions and Ginger', 'balsamic vinegar'], ['Anchovies Appetizer With Breadcrumbs & Scallions', 'starter', 'Pissaladière', 'pizza crust', 'Pissaladière', 'thyme sprigs', 'Kale & Lentils', 'yellow onion', 'Risotto With Sea Bass And Fennel', 'starter', 'Striped Bass With Olive-almond Relish Recipe', 'pimento stuffed olives', 'Puttanesca Sauce', 'oil cured black olives', 'Salad Nicoise', 'salad mix'], ['Anchovies Appetizer With Breadcrumbs & Scallions', 'antipasti', 'Spiced Cod With Broccoli-quinoa Pilaf', 'olive oil', 'Easy Caesar Salad', 'french bread', 'Pan Bagnat a Gribiche', 'extra virgin olive oil', 'Pizza Recipe With Mozzarella, Anchovies, Chilli, Capers & Parsley', 'main dish', 'Leek And Smoked Haddock Chowder', 'lunch', 'Grilled Sea Bass With A Portuguese Sauce', 'olive oil', 'Egg and Anchovy Crostini', 'chive'], ['Anchovies Appetizer With Breadcrumbs & Scallions', 'scallions', 'Whole Fish With Mint', 'main dish', 'Turkey Tonnato With Potatoes And Green Beans', 'lunch', 'Boston Bluefish & Faux Taters/cauliflower', 'lemon juice', 'Tilapia With Arugula, Capers, And Tomatoes', 'cherry tomatoes', 'Grilled Halibut with Smashed Fingerlings and Tomato Butter', 'olive oil', 'Roasted Bass with Potatoes, Onions and Fennel', 'olive oil', 'Spaghetti Puttanesca', 'crushed red pepper'], ['Anchovies Appetizer With Breadcrumbs & Scallions', 'appetizer', 'Stuffed Cherry Peppers', 'snack', 'Mushroom Ravioli with Lemon-Caper Mayonnaise', 'low fat mayonnaise', 'Crispy Baked Cod', 'dinner', 'Bluefish Chowder', 'bluefish fillets', 'Super Summer Grilled Bluefish', 'kosher salt', 'Wild Striped Bass with Scallions and Herb Salad', 'mint leaves', 'Steamed Sea Bass with Tamarind Sauce', 'lunch'], ['Anchovies Appetizer With Breadcrumbs & Scallions', 'appetizer', 'Anchoïade With Radishes, Fennel, Celery And Carrots', 'olive oil', \"Curto's Grilled Salmon with Bacon and Potato Hash\", 'main course', 'the pleasure of wild foods: a for pan-fried trout with chanterelles', 'main course', 'Grilled Skirt Steak with Salsa Verde', 'garlic clove', 'Sauteed Striped Bass with Mint Pesto and Spiced Carrots', 'striped bass', 'Grilling: Striped Bass with Roasted Salsa', 'garlic cloves', 'Salmon Wellington', 'dry white wine'], ['Anchovies Appetizer With Breadcrumbs & Scallions', 'anchovies', 'Salmon Salsa Verde', 'anchovies', 'Tuna Caper Dip', 'dip', 'Green Goddess Dip With Endive', 'white wine vinegar', 'Swiss Chard With Poached Egg Salad', 'swiss chard', 'Grilled Pork Chops with Anchovies and Swiss Chard', 'crushed red pepper', 'Pasta Puttanesca', 'anchovy', 'Corn Risotto Garnished with Bacon & Anchovy Sage Leaf Bite', 'lunch'], ['Anchovies Appetizer With Breadcrumbs & Scallions', 'antipasto', 'Fried Anchovies', 'extra virgin olive oil', 'The Crisper Whisperer: Jar Of Caesar', 'anchovy', 'Muffuletta', 'garlic', 'Lemon-Pepper Salmon', 'lunch', 'Salmon With Lime Butter Slow Cooker Recipe', 'dinner', 'Dinner Tonight: Caesar Salad', 'bread', 'Mozzarella Skewers with Anchovy Sauce (Spiedini di Mozzarella)', 'olive oil'], ['Anchovies Appetizer With Breadcrumbs & Scallions', 'antipasto', 'Whole Striped Bass With Fennel And Tomato', 'appetizer', 'Salmon With Dijon Dill Sauce', 'snack', 'Lemon Herb Fish', 'lemon pepper seasoning', 'Lemon Herb Fish', \"hor d'oeuvre\", 'Salmon With Pepita-lime Butter', 'antipasto', 'Pressed Summer Sandwich with Eggs and Anchovies', 'fresh parsley leaves', 'Pressed Summer Sandwich with Eggs and Anchovies', 'garlic'], ['Anchovies Appetizer With Breadcrumbs & Scallions', 'antipasti', 'Whole Striped Bass With Fennel And Tomato', 'fennel bulb', 'Whole Baked Fish In Sea Salt With Parsley Gremolata', 'garlic clove', 'Broiled Sea Bass with Pineapple-Chili-Basil Glaze', 'dinner', 'Bass With Glaze', 'mustard', 'Caesar-roasted Asparagus', 'anchovy paste', 'Tuscan Kale Salad', 'pine nuts', 'Grilled Trout Fillets with Crunchy Pine-nut Lemon Topping', 'salt'], ['Anchovies Appetizer With Breadcrumbs & Scallions', 'antipasto', 'Pressed Summer Sandwich with Eggs and Anchovies', 'hard cooked eggs', 'Bruschetta With Rustic Green Olive Tapenade', 'salt packed anchovies', 'Green Olive & Almond Tapenade', 'side dish', 'Onion Anchovy Galette', 'unsalted butter', 'Pan-Seared Tilapia with Chile Lime Butter', 'lunch', 'Spaghetti With Green Olive Sauce', 'red pepper flakes', 'Spaghetti With Green Olive Sauce', 'coarse salt'], ['Anchovies Appetizer With Breadcrumbs & Scallions', 'snack', 'Grilled Halibut With Salt-and-vinegar Potatoes', 'striped bass', 'Wild Striped Bass with Tomato Fondue', 'lunch', 'Breaded Fish In A Flash', 'parmesan cheese', 'Green Bean Caesar Salad with Baby Romaine Lettuces', 'garlic clove', 'Sautéed Bass with Lemongrass', 'thyme', 'Leek And Smoked Haddock Chowder', 'onions', 'Poached Beef With Green Sauce', 'summer squash'], ['Anchovies Appetizer With Breadcrumbs & Scallions', 'scallions', \"Ginger-steamed Fish With Troy's Hana-style Sauce\", 'sesame seeds', 'Roasted Bass with Potatoes, Onions and Fennel', 'water', 'The Secret Ingredient (pastis): Pastis-glazed Fish With Fennel', 'juice of lemon', 'Broccolini With Anchovies, Currants &toasted Breadcrumbs', 'broccolini', 'Broccolini With Anchovies, Currants &toasted Breadcrumbs', 'main course', 'Roast Leg Of Lamb With Salsa Verde', 'dinner', 'Pan-Fried Snapper with Buttery Parsnip Puree', 'parsnips'], ['Anchovies Appetizer With Breadcrumbs & Scallions', 'antipasti', 'Grilled Miso-glazed Sea Bass With Japanese Cucumber Salad', 'starter', 'Anchovies Appetizer With Breadcrumbs & Scallions', 'anchovies', 'Pasta With Broccoli', 'anchovies', 'Bean Sprout Soup (kongnamul Guk)', 'daikon', 'Ramp Kimchi & Ramp Confit', 'ramps', 'Ramp Kimchi & Ramp Confit', 'ground pepper', 'Sole with Almond and Wine Sauce', 'almonds'], ['Anchovies Appetizer With Breadcrumbs & Scallions', 'garlic clove', 'Olives Stuffed with Almonds, Anchovies and Peppers', 'oil packed tuna', 'Roasted Red Peppers with Tonnato Sauce', 'salt and pepper', 'Sautéed Shrimp with Green Olives, Scallions and Anchovies', 'garlic cloves', \"Seabass Ravioli from Ischia: Ravioli all' Ischitana\", 'flour', 'Baccala', 'bread crumbs', 'Tomato & Anchovies With Bread Crumbs, Basil & Red Onion   Recip', 'basil leaves', 'Ligurian Seafood Stew', 'littleneck clams'], ['Anchovies Appetizer With Breadcrumbs & Scallions', 'antipasti', 'Mixed Olive Tapenade', 'green olives', 'Chicken with Green Olives', 'water', 'Scallop Salad With Sweet Vanilla Chili Dressing', 'salad greens', 'Scallop Salad With Sweet Vanilla Chili Dressing', 'cilantro', \"Yagihashi's Black Sea Bass with Somen and Vegetables\", 'onion', 'Chesapeake Bay Seafood Stew', 'orange zest', 'Steamed Striped Bass', 'ground coriander'], ['Anchovies Appetizer With Breadcrumbs & Scallions', 'anchovies', 'Southern Thai Rice Salad', 'galangal', 'Southern Thai Rice Salad', 'belgian endive', 'Crudités And Shrimp With Green Goddess Dip', 'garlic clove', 'Caesar-Style Dressing', 'capers', 'Sea Bass with Marinated Vegetables', 'onion', 'Salmon Chowder', 'canned salmon', 'Salmon Chowder', 'garlic'], ['Anchovies Appetizer With Breadcrumbs & Scallions', 'olive oil', 'Baked Fish With Tomatoes And Tomatillos In Foil Packets', 'main course', 'Baked Bass with Romano Cheese', 'bread crumbs', 'Crispy Pan-Fried Sole', 'main dish', 'Striped Bass en Papillote', 'red onion', 'Salade Nicoise', 'potatoes', 'Chesapeake Bay Seafood Stew', 'tomatoes', 'Escarole Salad With Salt Cod, Anchovies And Olives', 'escarole'], ['Anchovies Appetizer With Breadcrumbs & Scallions', 'starter', 'Deviled Eggs', 'cayenne pepper', 'Fried Oysters with Spicy Rémoulade', 'cornmeal', 'Cook the Book: Cornmeal-Crusted Pan-Fried Trout', 'lemon wedges', 'Pan-fried Trout With Polenta-spice Crust', 'unsalted butter', 'Pan-seared Crispy Salmon', 'salmon filets', 'Salmon With Honey Mustard Pan Sauce', 'whole grain dijon mustard', 'Beer Braised BBQ Pork Butt', 'worcestershire sauce'], ['Anchovies Appetizer With Breadcrumbs & Scallions', 'garlic clove', 'Pasta with Smothered Broccoli Rabe and Olives', 'dry red wine', 'Nori Ahi with Soy-Mustard-Port Sauce', 'dijon mustard', 'Salt Cod Brandade', 'lunch', 'Broccoli With Burrata, Pine Nuts And Warm Anchovy Vinaigrette', 'pine nuts', 'Ligurian-Style Sea Bass', 'sea bass', 'Chilean Sea Bass', 'main course', 'Grilled Sea Bass With A Portuguese Sauce', 'fish'], ['Anchovies Appetizer With Breadcrumbs & Scallions', \"hor d'oeuvre\", 'Anchovies Appetizer With Breadcrumbs & Scallions', 'olive oil', 'Chicken Caesar Salad With Anchovy-caesar Vinaigrette And Garlic', 'worcestershire sauce', 'Deb’s Caesar Salad Dressing', 'olive oil', 'Pan-Grilled New York Strip Steaks with Green Olive Tapenade', 'main course', 'Fish Stew with Clams', 'dinner', 'Grilled Salmon With Basil Aioli', 'egg yolks', 'Caesar Salad with Anchovy Wrapped Garlic and Savory Lemon Sabayon', 'bread crumbs'], ['Anchovies Appetizer With Breadcrumbs & Scallions', 'scallions', 'Sea Bass and Cucumbers in Champagne Sauce', 'main dish', 'Grilled Swordfish With Fresh Vegetable Salsa', 'pepper', 'Grilled Butterflied Leg of Lamb with Tomato-Fennel Vinaigrette', 'coarse kosher salt', 'Grilled Fish Tacos', 'salsa verde', 'Sautéed Squid Salad With Salsa Verde', 'mint', 'Whole Striped Bass with Lemon and Mint', 'lunch', 'Pan-roasted Sablefish with Mushrooms and Sour Cream', 'main dish'], ['Anchovies Appetizer With Breadcrumbs & Scallions', 'anchovies', 'Grissini With Anchovy Dip', 'butter', 'Tempura Sardines with Tonnatto Sauce', 'squash', 'Paper Wrapped Anniversary Salmon', 'lunch', 'Pan-Seared Black Sea Bass with Endives and Grapes', 'lunch', 'Ginger-Miso Striped Bass in Shiitake Mushroom Broth', 'lunch', 'Broiled Bluefish with Tomato and Herbs', 'lemon juice', 'Tapenade Crostini', 'anchovy fillets'], ['Anchovies Appetizer With Breadcrumbs & Scallions', 'scallions', 'Pistachio Sea Bass with Crab Salad', 'scallions', 'Roasted Cod And Scallions With Spiced Potatoes', 'striped bass', 'Broiled Caribbean Sea Bass', 'garlic cloves', 'Vegetable Market Salad', 'new potatoes', \"Curto's Grilled Salmon with Bacon and Potato Hash\", 'canola oil', 'Pastor Ryan’s Bronzed Sea Bass With Lemon Shallot Butter', 'kosher salt', 'Sole With Summer Vegetable Salsa', 'main course'], ['Anchovies Appetizer With Breadcrumbs & Scallions', 'scallions', 'Sardines On Toast', 'yellow bell pepper', 'Crab Crusted Grouper', 'grouper fillets', 'Crab Crusted Grouper', 'dinner', 'Pancetta-Wrapped Roast Leg of Lamb', 'main dish', 'Broccoli With Burrata, Pine Nuts And Warm Anchovy Vinaigrette', 'shallot', 'Salsa Verde', 'low fat mayo', 'Sea Bass With Brown Shrimps & Couscous', 'cooking oil'], ['Anchovies Appetizer With Breadcrumbs & Scallions', 'starter', 'Chicken-Liver Crostini', 'baguette', 'Anchovy Fennel Toasts with Roasted Red Peppers', 'lemon juice', 'Fricasseed Chicken with Black Olives', 'main dish', 'Grilled Fish with Sauce au Chien', 'chives', 'Poached Sea Bass with Lemon Butter', 'lemon juice', 'Green Goddess Slaw', 'lemon zest', 'Cod with Crushed Potatoes and Anchovy-Olive Oil Emulsion', 'anchovy'], ['Anchovies Appetizer With Breadcrumbs & Scallions', 'snack', 'Deviled Eggs', 'coarse salt', 'Pan Seared Trout With Pecan Browned Butter', 'salt and pepper', 'Coconut Lime Crusted Fish', 'tilapia', 'Baked Garlic Lemon Tilapia', 'salt and pepper', 'Fish With Miso Sauce & Creamy Ponzu Salad', 'sugar', 'Bap Story: Stir Fried Anchovies (Myulchi Bokkeum)', 'main course', 'Bouillabaisse', 'salt and pepper'], ['Anchovies Appetizer With Breadcrumbs & Scallions', 'antipasto', 'Roasted Halibut With Pickled Beets (stegte Helleflynder Med Rød', \"hor d'oeuvre\", 'Penne Puttanesca', 'white onion', 'Adriatic Fish Broth', 'celery', 'Sea Bass with Fennel, Tomato and Orange', 'olive oil', 'Parmesan Sole', 'sole', 'Sole With Summer Vegetable Salsa', 'extra virgin olive oil', 'Orford-landed Seabass With Crispy Potatoes, Bacon And Sea Purslane', 'radishes'], ['Anchovies Appetizer With Breadcrumbs & Scallions', 'antipasto', 'Turkey Burgers With Caesar Spread', 'dijon mustard', 'Grilled Sea Bass with Miso-Mustard Sauce', 'sea bass fillets', \"Symon's Herb-Crusted Walleye with Lobster Pierogi\", 'main dish', 'Seared Salmon with Indian-Inspired Cream Sauce', 'salmon fillets', 'Seared Wild Salmon With New Potatoes And Dijon Broth', 'dinner', 'Braised Hoisin Beer Short Ribs With Rosemary White-bean Purée', 'creamy peanut butter', 'Braised Hoisin Beer Short Ribs With Rosemary White-bean Purée', 'rosemary'], ['Anchovies Appetizer With Breadcrumbs & Scallions', 'anchovies', 'Mixed Grill with Sicilian Lemon Salad and Almond Mint Salsa', 'portobello mushrooms', 'Seared Salmon with Indian-Inspired Cream Sauce', 'butter', 'Cook the Book: Smoked Trout Chowder', 'smoked trout', 'Smoked-bluefish Pâté', 'side dish', 'Steamed Artichokes With Salsa Verde', 'shallot', 'Hanger Steak with Herb-Nut Salsa', 'chives', 'Pappardelle with Zucchini, Anchovies and Mint', 'pappardelle'], ['Anchovies Appetizer With Breadcrumbs & Scallions', 'antipasto', 'Cioppino', 'stock', 'Cod, Potato & Spring Onion Stew Recipe', 'salt and pepper', 'Kittencal’s Famous Creamy Caesar Salad Dressing', 'anchovy', 'Multilayered Anchovy Bread', 'hungarian paprika', 'Cornmeal Crusted Cod with Pecans and Coconut', 'stock', 'Osso bucco', 'rye meal', 'Osso bucco', 'tomato paste'], ['Anchovies Appetizer With Breadcrumbs & Scallions', 'olive oil', 'Whole Striped Bass With Fennel And Tomato', 'garlic cloves', 'Vegetable Market Salad', 'salad', 'Garden Caesar Salad', 'lemon juice', 'Seared Tuna With Fennel Seeds & Caper Brown Butter', 'main course', 'Grilled Salmon with Dill Pickle Butter', 'dijon mustard', 'Pann Bagnat', 'main dish', 'Broiled Bacon-Basted Salmon with Mushroom-Oyster Sauce', 'bacon'], ['Anchovies Appetizer With Breadcrumbs & Scallions', 'olive oil', 'Crispy Tuna with Tuna-Caper Sauce', 'salt and pepper', 'Wine Dinner: Salmon with Miso Butter, Snap Peas & a Fried Egg paired with a 2007 Deux Amis Zinfandel', 'corn', 'Succotash with Three Steamed Fish', 'lima beans', 'Sautéed Squid Salad With Salsa Verde', 'olive oil', 'Tamarind Glazed Swordfish with Lime, Cilantro and Tamarind Sauce', 'main dish', 'Spaghetti with Anchovy Carbonara', 'main course', 'Lime Seviche', 'lunch'], ['Anchovies Appetizer With Breadcrumbs & Scallions', 'starter', 'Mediterranean Fish Fillets', \"hor d'oeuvre\", 'Grilled Halibut With Salt-and-vinegar Potatoes', 'starter', 'Whole Branzino In Grape Leaves With Zucchini, Olives, And Mint', 'starter', 'Steamed Asian Sea Bass In The Bag', 'ginger', 'Kedgeree', 'vegetable oil', 'Sole With Orange Brown Butter', 'unsalted butter', 'Cod With Mushrooms, Garlic & Vermouth', 'lunch'], ['Anchovies Appetizer With Breadcrumbs & Scallions', 'bread', 'Portuguese Fish Stew', 'garlic cloves', 'Roasted Potatoes And Haddock Puttanesca', 'oil cured black olives', 'Tapenade Crostini', 'lemon juice', 'Grilled Radicchio And Romaine Chopped Salad', 'bell pepper', 'Kalamata Olive Tapenade With Shallots', 'kalamata olives', 'Acqua Pazza (fish Simmered In Tomato-garlic Broth)', 'appetizer', 'Roast Sea Bass With Chilli & Lime Leaves', 'sunflower oil'], ['Anchovies Appetizer With Breadcrumbs & Scallions', 'bread', 'Mozzarella Skewers with Anchovy Sauce (Spiedini di Mozzarella)', 'dinner', 'Bap Story: Stir Fried Anchovies (Myulchi Bokkeum)', 'cooking oil', 'Salad with Parmigiano-Reggiano and anchovy dressing', 'don bartletti / los angeles times', 'Salad with Parmigiano-Reggiano and anchovy dressing', 'kosher salt', 'Quick-Cured Sake Salmon with Quinoa', 'main course', 'Pecan-Crusted Tilapia', 'main dish', 'Halibut, Clams, and Pancetta with Escarole', 'dried bay leaf'], ['Anchovies Appetizer With Breadcrumbs & Scallions', 'garlic clove', 'Sea Bass with Marinated Vegetables', 'green olives', 'Roasted Halibut with Green Olive Sauce', 'main course', 'Salmon With Noodles', 'lemon zest', 'Whole Roast Fish With Salmoriglio', 'oregano leaves', 'Grilled Tuna Steak', 'main course', 'Halibut with Anchovy-Stuffed Olives, Red Peppers and Oregano', 'salt and pepper', 'Halibut With Barbecue Tomato Sauce And Honey-mustard Polenta', 'lime peel'], ['Anchovies Appetizer With Breadcrumbs & Scallions', 'starter', 'Tapenade Crostini', 'starter', 'Tagliatelle With Purple Sprouting Broccoli, Anchovies And Pecorino', 'anchovies', 'Caesar Pasta Salad', 'salt', 'Sea Bass and Confetti Vegetables with Lemon-Butter Sauce', 'plum tomato', 'Sea Bass and Confetti Vegetables with Lemon-Butter Sauce', 'dry white wine', 'Sole With Lemon-butter Sauce', 'coarse salt', 'Green Goddess Dip', 'garlic clove'], ['Anchovies Appetizer With Breadcrumbs & Scallions', 'scallions', 'Blackened Striped Bass with Corn Spoon Bread and Greens', 'kosher salt', 'Arctic Char with Tangerine-Habanero Glaze and Meyer Lemon Couscous Broth', 'habanero chile', 'Red Snapper Gefilte Fish', 'garlic', 'Kerala Fish Curry (meen Molee)', 'turmeric', 'Stuffed Bluefish with Sweet and Spicy Masala', 'salt', 'Tuna, potato and green bean salad', 'parsley', 'Smoked Bluefish Pâté', 'bluefish'], ['Anchovies Appetizer With Breadcrumbs & Scallions', 'anchovies', 'Pan-roasted East Coast Skate, Anchovy And Broccoli Pickle', 'green chilli', 'Pan-roasted East Coast Skate, Anchovy And Broccoli Pickle', 'capers', 'Striped Bass With Salsa Verde And Mediterranean Roasted Vegetables', 'red onion', 'Sautéed Striped Bass with Summer Vegetables', 'zucchini', 'Crispy Halibut With Lemony Basil Sauce', 'canola oil', 'Roast Cod with Garlic Butter', 'main course', 'Summer Squash Gratin with Salsa Verde and Gruyere', 'mint'], ['Anchovies Appetizer With Breadcrumbs & Scallions', 'antipasti', 'Anchovy Fennel Toasts with Roasted Red Peppers', 'antipasto', 'Risotto With Sea Bass And Fennel', 'antipasto', 'Oven-roasted Trout With Potatoes', 'antipasto', 'Anchovy Fennel Toasts with Roasted Red Peppers', 'baguette', 'Egg and Anchovy Crostini', 'flat leaf parsley', 'Lightly Fried Tilapia With Caper Brown Butter And Lemon-shallot', 'white wine', 'Guinea Hen with Vinegar: Faraona al Aceto', 'salt and pepper'], ['Anchovies Appetizer With Breadcrumbs & Scallions', \"hor d'oeuvre\", 'Salmon With Brown Butter And Almonds Recipe', 'kosher salt', 'Home', 'garlic', 'Tuscan Kale Salad', 'salad', 'Salad Capricciosa', 'leeks', 'Sautéed Monkfish with Leeks and Shiitakes', 'unbleached flour', 'Twin Pissaladières', 'olive oil', 'Favourite Winter Salad Recipe', 'anchovies'], ['Anchovies Appetizer With Breadcrumbs & Scallions', 'antipasti', \"Katie Lee's Sole Meunière Recipe\", 'lemon juice', 'Spaghetti With Romano Peppers', 'dinner', 'Sole Florentine', 'bread crumbs', 'Stuffed Baby Bell Peppers', 'onion', 'Mussels with Tomatoes, Wine, and Anise', 'anchovy', 'Bruschetta With Goat Cheese And Olive Tapenade', 'anchovy', 'Farmers’ Pasta', 'olive oil'], ['Anchovies Appetizer With Breadcrumbs & Scallions', 'appetizer', 'Stuffed Flank Steak', 'antipasto', 'Orange, Parsley, And Walnut Salad', \"hor d'oeuvre\", 'Sliced Baguette With Radishes And Anchovy Butter', 'baguette', 'Salade Niçoise Sandwich', 'red wine vinegar', 'Chopped Greek Salad', 'oil packed anchovies', 'Caesar-Style Dressing', 'kosher salt', 'Grilled Eggplant with Olive, Orange & Anchovy Vinaigrette', 'bell pepper'], ['Anchovies Appetizer With Breadcrumbs & Scallions', 'appetizer', 'Anchovies Appetizer With Breadcrumbs & Scallions', 'garlic clove', 'Lightened Green Goddess Dressing', 'coarse salt', 'Spiedini Alla Romana', 'coarse salt', 'Shallow-Poached Fish Fillets', 'shallot', 'Salmon with Red Wine-Balsamic Sauce', 'dinner', 'Bluefish Chowder', 'fish stock', 'French in a Flash: Chilean Sea Bass with Bouillabaisse Broth', 'dinner'], ['Anchovies Appetizer With Breadcrumbs & Scallions', 'anchovies', 'Bean Sprout Beef Rice Bowl', 'kelp', 'Bean Sprout Soup (kongnamul Guk)', 'korean chili powder', 'Bean Sprout Soup (kongnamul Guk)', 'daikon', 'Fish Cake Soup (odeng Tang)', 'anchovies', 'Burrata Salad', 'olive oil', 'Chunky Tapenade', 'fresh flat leaf parsley', 'Pan-Sautéed Trout with Capers', 'dry white wine'], ['Anchovies Appetizer With Breadcrumbs & Scallions', \"hor d'oeuvre\", 'Fish Chowder', 'fresh parsley', 'Fish Piccata', 'flour', 'Pan-Seared Lemon Sole', 'dinner', 'Crispy Skin Salmon', 'main course', 'Black Sea Bass with Moroccan Vegetables and Chile Sauce', 'broccoli florets', 'Black Sea Bass With Moroccan Vegetables and Chile Sauce', 'fresh dill', 'Hake Fillet With Jasmine Rice And Cabbage', 'kosher salt'], ['Anchovies Appetizer With Breadcrumbs & Scallions', 'olive oil', 'Dinner Tonight: Orecchiette With Broccoli, Anchovies, And Chiles', 'main course', 'Chickpea and Pasta Soup', 'parmesan cheese', 'Caesar Salad with Sourdough Croutons', 'red wine vinegar', 'Treviso Caesar Salad', 'radicchio', 'Bagna Cauda', 'portabella mushrooms', 'Balsamic Portabella Salad With Goat Cheese', 'shallots', 'Sole with Tarragon-Butter Sauce', 'salt'], ['Anchovies Appetizer With Breadcrumbs & Scallions', 'starter', 'Grilled Branzino With Rosemary Vinaigrette', 'fresh rosemary', 'Oven-roasted Striped Bass with Peppers', 'yellow bell peppers', 'Grilled Rib-Eye Steaks with Roasted Peppers', 'red bell peppers', 'Roasted Red Peppers with Tonnato Sauce', 'oil packed tuna', 'Summer Vegetable and Potato Salad with Anchovy Dressing', 'bay leaves', 'Fish Soup with Bread and Rouille', 'rouille', 'Fish Soup with Bread and Rouille', 'tomato puree'], ['Anchovies Appetizer With Breadcrumbs & Scallions', 'anchovies', 'Linguine Puttanesca With Chickpeas', 'canned tomatoes', 'Baked Fish with Roasted Potatoes, Tomatoes, and Salmoriglio Sauce', 'fennel seeds', 'Sea Bass With Swiss Chard & Beurre Blanc', 'fennel seeds', 'Braised Monkfish with Wild Mushrooms and Cipollini Onions', 'black peppercorns', 'Arctic Char With Asian Braised Fennel And Citrus Emulsion', 'orange zest', 'Grilled Salmon with Fennel and Creole Mustard Spaetzle', 'unsalted butter', 'Vegetable Stew With Halibut', 'kosher salt'], ['Anchovies Appetizer With Breadcrumbs & Scallions', 'scallions', 'Anchovies Appetizer With Breadcrumbs & Scallions', 'antipasti', 'Hearty Halibut Chowder', 'halibut', 'Halibut With Lemon, Butter, Caper And Dill Sauce', 'salt and pepper', 'Tagliatelle With Purple Sprouting Broccoli, Anchovies And Pecorino', 'garlic clove', 'Crab Salad with Caesar Vinaigrette', 'salad', 'Shrimp & Pomelo Salad', 'vegetable oil', 'Grilled Fish Sandwich With Cabbage Slaw', 'white sandwich bread'], ['Anchovies Appetizer With Breadcrumbs & Scallions', 'bread', 'Polpette di Vitello, Tonnato Style', 'salt', 'Farro & Tomato Salad With Basil & Anchovies', 'salt packed anchovy', 'Penne Rigate with Spicy Braised Swordfish', 'penne rigate', 'Farmers’ Pasta', 'penne rigate', 'Farmers’ Pasta', 'garlic', 'Korean Miso Soup With Manilla Clams', 'miso soybean paste', 'Korean Miso Soup With Manilla Clams', 'soup'], ['Anchovies Appetizer With Breadcrumbs & Scallions', 'garlic clove', 'Grilled Lamb Chops with Provençal Dressing', 'garlic clove', 'Anchovy and Roasted-Pepper Salad with Goat Cheese', 'olives', 'Stuffed Peppers with Lamb and Eggplant', 'rosemary', 'Oven-roasted Trout With Potatoes', 'new potatoes', 'Vegetable Market Salad', 'juice of lemon', 'Broccolini With Anchovies, Currants &toasted Breadcrumbs', 'main course', 'Bouillabaisse', 'main dish'], ['Anchovies Appetizer With Breadcrumbs & Scallions', 'garlic clove', 'Roasted Radicchio with Anchovy Vinaigrette, Preserved Lemon, and Breadcrumbs', 'lemon juice', 'Caesar Salad Spears', 'lemon zest', 'Artichokes with Anchoïade', 'thyme sprigs', 'Lemon-Stuffed Grilled Branzino', 'lemons', 'Grilled Branzino With Vegetables', 'belgian endives', 'Pan-Seared Black Sea Bass with Endives and Grapes', 'belgian endives', 'Caesar Salad Spears', 'lemon juice'], ['Anchovies Appetizer With Breadcrumbs & Scallions', 'bread', 'Tuscan Chicken Liver Crostini', 'lunch', 'Saffron Shrimp and Stuffed Cherry Peppers', 'water', 'Chicken with Green Olives', 'olive oil', 'Raw Mustard Greens Salad With Gruyère And Anchovy Croutons', 'garlic cloves', 'Roasted Pepper Antipasto', 'anchovies', 'Chicken And Radish Salad With Creamy Avocado Dressing', 'antipasto', 'Favas, Green Beans, Peas And Zucchini Ribbons', 'parmigiano reggiano cheese'], ['Anchovies Appetizer With Breadcrumbs & Scallions', 'snack', 'Striped Bass With Olive-almond Relish Recipe', 'appetizer', 'Steamed Asian Sea Bass In The Bag', 'sake', 'Roast Monkfish in Sake Broth', 'sake', 'Sake Steamed Sea Bass', 'lunch', 'Anchovy- Tomato Toast', 'low fat shredded mozzarella cheese', 'Anchovy- Tomato Toast', 'french baguette', 'Grilled Caesar Salad with Shrimp', 'olive oil'], ['Anchovies Appetizer With Breadcrumbs & Scallions', 'bread', 'White Anchovy, Parmesan & Grilled Bread Salad', 'olive oil', 'Sea Bass With Mediterranean Sauce', 'lunch', 'Parmesan Sole', 'wine', 'Cod, Potato & Spring Onion Stew Recipe', 'salt and pepper', 'Carrots, Cauliflower And Anchovies', 'anchovies', 'Linguine With Broccoli & Roasted Peppers', 'olive oil', 'Bacon Caesar Salad', 'parmesan'], ['Anchovies Appetizer With Breadcrumbs & Scallions', 'garlic clove', 'Baked Peppers With Onion And Tomato', 'side dish', 'Halibut Baked in Fresh Green Salsa', 'poblano chiles', 'Saucy Fish Tacos', 'poblano chiles', 'Saucy Fish Tacos', 'lime zest', 'Pan-Seared Tilapia with Chile Lime Butter', 'vegetable oil', 'Seared Salmon With Mustard-caper Butter', 'vegetable oil', 'Beer-Battered Sardines with Wasabi Mayonnaise', 'beer'], ['Anchovies Appetizer With Breadcrumbs & Scallions', 'starter', 'Spaghetti Puttanesca', 'fresh flat leaf parsley', 'Sea Bass With Brown Shrimps & Couscous', 'dinner', 'Pan-Roasted Striped Bass with Roasted Artichokes, Mushrooms, and Tomato Marmalade', 'fennel', 'Stuffed Seabass', 'lemon', 'Salmon with Leek and Rice Stuffing', 'olive oil', 'Caesar Salad with Crisp Shredded Pork', 'duck', 'Caesar Salad with Crisp Shredded Pork', 'salad'], ['Anchovies Appetizer With Breadcrumbs & Scallions', 'snack', 'Grilled Branzino With Rosemary Vinaigrette', 'antipasti', 'Blue Fish With Tomato, Garlic And Onions', \"hor d'oeuvre\", 'Spiced Cod With Broccoli-quinoa Pilaf', 'kosher salt', 'Sauteed Trout with Lemon Chive Butter', 'fresh chives', 'Sole with Tarragon-Butter Sauce', 'main course', 'Pan-Seared Tilapia with Chile Lime Butter', 'serrano chile', 'Hot Smoked Swordfish with White Clam-Garlic-Parsley Sauce', 'fresh flat leaf parsley'], ['Anchovies Appetizer With Breadcrumbs & Scallions', 'antipasti', 'Salmon With Brown Butter And Almonds Recipe', \"hor d'oeuvre\", 'Steamed Asian Sea Bass In The Bag', 'sake', 'Roasted Halibut with Miso-Glazed Sweet Potatoes', 'slaw mix', 'Roasted Halibut with Miso-Glazed Sweet Potatoes', 'dinner', 'Grilled Lamb Chops with Provençal Dressing', 'lamb rib chops', 'Grilled Lamb Chops with Provençal Dressing', 'thyme', 'Whole Roasted Mediterranean-style Fish', 'rosemary'], ['Anchovies Appetizer With Breadcrumbs & Scallions', 'olive oil', 'Pizza With Anchovies, Red Onion, And Oregano', 'main dish', 'Saucy Fish Tacos', 'green cabbage', 'Grilled Fish Sandwich With Cabbage Slaw', 'striped bass', 'Corn And Clam Chowder Sauce', 'celery', 'Smoked Bluefish Rillettes', 'sea salt', 'Orecchiette (almost) Alla Pugliese', 'anchovies', 'Pommes Frites With Two Dipping Sauces', 'bell pepper'], ['Anchovies Appetizer With Breadcrumbs & Scallions', 'bread', 'Bouillabaisse', 'red chili', 'Orecchiette (almost) Alla Pugliese', 'bell pepper', 'Pan-roasted Salmon With Purple Sprouting Broccoli And Anchovy-r', 'main course', 'Penne Rigate with Spicy Braised Swordfish', 'penne rigate', 'Penne Rigate with Spicy Braised Swordfish', 'salt and pepper', 'Baked Eggs With Anchovy Soldiers', 'side dish', 'Anchoïade', 'garlic'], ['Anchovies Appetizer With Breadcrumbs & Scallions', 'appetizer', 'Steamed Fish With Ponzu', 'scallion', 'Lightened Green Goddess Dressing', 'parsley leaves', 'Serious Ragu', 'main dish', 'Dinner Tonight: Marinated Chickpea Salad', 'olive oil', 'Whole Branzino In Grape Leaves With Zucchini, Olives, And Mint', 'green olives', 'Ligurian-Style Sea Bass', 'main dish', 'Cumin-Crusted Chilean Sea Bass', 'lunch'], ['Anchovies Appetizer With Breadcrumbs & Scallions', 'bread', 'Mozzarella En Carozza', 'extra virgin olive oil', 'Pan-roasted Salmon With Purple Sprouting Broccoli And Anchovy-r', 'dinner', 'King Salmon In Fig Leaves', 'main course', 'Trout Amandine, Steamed Asparagus And New Potatoes', 'blanched almonds', 'Pescado Almendrado', 'pepper', 'Grilled King Salmon with Asparagus, Morels, and Leeks', 'leek', 'Cod, Potato & Spring Onion Stew Recipe', 'main course'], ['Anchovies Appetizer With Breadcrumbs & Scallions', 'olive oil', 'Tuna Steak With Chilli Butter', 'lunch', 'Roasted Halibut with Green Olive Sauce', 'halibut fillets', 'Grilled Halibut with Cilantro Garlic Butter', 'main course', 'Corn And Clam Chowder Sauce', 'dinner', 'Tuna Patties', 'main course', 'Citrus Twist Sea-bass', 'mandarin orange', 'Citrus Twist Sea-bass', 'cumin'], ['Anchovies Appetizer With Breadcrumbs & Scallions', 'snack', 'Kiss (keeping It Super Simple) Fried Fish', 'starter', 'Orange, Parsley, And Walnut Salad', 'walnuts', 'Pasta with Anchovy-Walnut Sauce', 'spaghetti', 'Wild Rocket & Chilli Spaghetti Recipe', 'main dish', 'Tasty Tilapia', 'tilapia', 'Pan Sauteed Tilapia With Lemon And Jalapeno', 'white wine', 'Striped Bass Plaki', \"hor d'oeuvre\"], ['Anchovies Appetizer With Breadcrumbs & Scallions', 'scallions', 'Sea Bass Puttanesca In A Foil Pouch', 'bread', 'Soft-Boiled Eggs with Warm Croutons and Greens', 'greens', 'Pasta With Green Puttanesca', 'olives', 'Pissaladière', 'starter', 'Blue Fish With Tomato, Garlic And Onions', 'olive oil', 'Roasted Green Beans With Bagna Cauda', 'parsley', 'Potato Salad With Green Goddess Dressing', 'parsley'], ['Anchovies Appetizer With Breadcrumbs & Scallions', 'olive oil', 'Baked Flounder With Parsnips And Carrots Recipe', 'olive oil', 'Sole With Summer Vegetable Salsa', 'ear corn', 'Sole With Summer Vegetable Salsa', 'lemon zest', 'Artichokes with Anchoïade', 'side dish', 'Spaghetti Puttanesca', 'kalamata olives', 'Sea Bass with Moroccan Salsa', 'ground cinnamon', 'Snapper Tacos with Chipotle Cream', 'ground cumin'], ['Anchovies Appetizer With Breadcrumbs & Scallions', 'garlic clove', 'Whole Striped Bass with Lemon and Mint', 'garlic clove', 'Easy Baked Parmesan Tilapia', 'year three', 'Easy Baked Parmesan Tilapia', 'true story', 'Easy Baked Parmesan Tilapia', 'grated parmesan cheese', 'Easy Baked Parmesan Tilapia', 'tilapia', 'What’s your sodium style', 'tilapia', 'Baked Garlic Lemon Tilapia', 'dinner'], ['Anchovies Appetizer With Breadcrumbs & Scallions', 'appetizer', 'Miniature Onion Tartlets', 'anchovy', 'Favas, Green Beans, Peas And Zucchini Ribbons', 'garlic cloves', 'Pissaladiere', 'water', 'Faux-nagi', 'drink', 'Faux-nagi', 'sake', 'Sake-Steamed Sea Bass with Ginger and Green Onions', 'ginger', 'Sake Sea Bass in Parchment', 'scallions'], ['Anchovies Appetizer With Breadcrumbs & Scallions', 'anchovies', 'Spaghetti With Romano Peppers', 'romano', 'Baked Bass with Romano Cheese', 'trout fillets', 'Pan Seared Trout With Pecan Browned Butter', 'lemon wedges', 'Pan-Fried Bass', 'salt', 'Stuffed Pizza Pie with Escarole', 'side dish', 'Olive Tapenade', 'pepper', 'Halibut, Clams, and Pancetta with Escarole', 'clams'], ['Anchovies Appetizer With Breadcrumbs & Scallions', 'olive oil', 'Sautéed Bass with Lemongrass', 'garlic clove', 'Pan-Seared Halibut with Tomato Vinaigrette', 'olive oil', 'Thyme-Crusted Buttery Halibut with Parsley Sauce', 'main dish', 'Sole Piccata With Brown Butter & Grapes', 'sole', 'Sole With Lemon-butter Sauce', 'dinner', 'Salmon with Shiitake and Red Wine Sauce', 'lunch', 'Grill-steamed Mediterranean Halibut', 'lemon peel'], ['Anchovies Appetizer With Breadcrumbs & Scallions', 'antipasto', 'Toasted Parmesan And Garlic Oil Caesar Salad', 'garlic oil', 'Toasted Parmesan And Garlic Oil Caesar Salad', 'starter', 'Salmon Club with Avocado Butter', 'antipasti', 'Fish With Olives, Pine Nuts, Basil And Wine', 'snack', 'Herbed Fish Cakes with Green Horseradish Sauce', 'antipasto', 'Fish Chowder', \"hor d'oeuvre\", 'Glazed Salmon', 'salt and pepper'], ['Anchovies Appetizer With Breadcrumbs & Scallions', 'antipasti', 'Acqua Pazza (fish Simmered In Tomato-garlic Broth)', 'fresh flat leaf parsley', 'Flageolet Beans And Frisee Salad', 'side dish', 'Salmon With Waffle Glaze', 'soy sauce', 'Steamed Sea Bass With Ginger And Shiitakes', 'main dish', 'Grilled Blackened Sea Bass', 'thyme leaves', 'Pancetta-Wrapped Roast Leg of Lamb', 'pancetta', 'Striped Bass with Caramelized Brussels Sprouts', 'thyme sprigs'], ['Anchovies Appetizer With Breadcrumbs & Scallions', 'garlic clove', 'Cook the Book: Deviled Egg Salad with Anchovies, Hot Smoked Paprika, and Tomato', 'smoked paprika', 'Roasted Red Pepper Pasta Sauce', 'smoked paprika', 'Cook the Book: Deviled Egg Salad with Anchovies, Hot Smoked Paprika, and Tomato', 'salad', 'Farro & Tomato Salad With Basil & Anchovies', 'salt', 'Pasta With Anchovy-walnut Sauce', 'canned anchovy', 'Springtime Dip', 'ground pepper', 'the pleasure of wild foods: a for pan-fried trout with chanterelles', 'main dish'], ['Anchovies Appetizer With Breadcrumbs & Scallions', 'olive oil', 'Artichokes with Bagna Cauda', 'side dish', 'Fresh Bloody Mary', 'ground pepper', 'Red Snapper Puttanesca', 'ground pepper', 'Brazilian Fish Stew (Moqueca de Peixe)', 'clam juice', 'Sautéed Striped Bass with Lemon-Caper Sauce', 'capers', 'Crispy Monkfish with Capers', 'lemon wedges', 'Oven-Fried Catfish', 'hot sauce'], ['Anchovies Appetizer With Breadcrumbs & Scallions', 'bread', 'White Anchovy, Parmesan & Grilled Bread Salad', 'flat leaf parsley leaves', 'Wild Striped Bass with Scallions and Herb Salad', 'kosher salt', 'Salmon, Sweet Potato, and Broccoli Chowder', 'broccoli', 'Broccoli & Burrata', 'garlic', 'Citrus Twist Sea-bass', 'white wine', \"Tom Valenti's Lamb Shanks\", 'sugar', 'Grilled Salmon With Zucchini Relish', 'fresh basil leaves'], ['Anchovies Appetizer With Breadcrumbs & Scallions', 'anchovies', 'Caponata-Style Escarole and Cod', 'capers', 'Roasted Cherry Tomato Puttanesca', 'red pepper flakes', 'Roasted Tomato Spaghetti', 'dinner', 'Roasted Branzino with Lemons', 'main dish', 'Cod with Artichokes and Chickpeas', 'carrots', 'Salmon Chowder', 'main course', 'Whole Mackerel With Orange Butter', 'orange'], ['Anchovies Appetizer With Breadcrumbs & Scallions', \"hor d'oeuvre\", 'Italian Tomato Spaghetti', 'canned tomatoes', 'Penne Avvocato', 'dinner', 'Grilled Striped Bass with Plums and Potato-Mushroom Papillotes', 'balsamic vinegar', \"Pan-Seared Striped Bass All'amatriciana\", 'main dish', 'Baked Snapper with Chipotle Butter', 'dinner', 'Lightened-up Chicken Caesar Platter', 'fat free mayonnaise', 'Lightened-up Chicken Caesar Platter', 'juice of lemon'], ['Anchovies Appetizer With Breadcrumbs & Scallions', \"hor d'oeuvre\", 'Slow-roasted Cherry Tomato Bruschetta', 'red wine vinegar', 'Tuna, Tomato And Olive Sandwich (pan Bagnat)', 'oil packed tuna', 'Sardines On Toast', 'oil packed tuna', 'Mediterranean Salad Platter', 'pepper', 'Striped Bass With Lime Butter', 'red snapper fillets', 'Seafood Stew', 'crusty bread', 'Spicy Shrimp And Spaghetti Aglio Olio (garlic And Oil)', 'coarse salt'], ['Anchovies Appetizer With Breadcrumbs & Scallions', 'olive oil', 'Fusilli Salad with Grilled Chicken and Zucchini', 'garlic cloves', 'Caesar Salad with Sourdough Croutons', 'croutons', 'Tuscan Kale Salad', 'anchovy paste', 'Roasted Black Sea Bass with Tomato and Olive Salad', 'dinner', 'Pan-Fried River Trout with Corn Cakes and Red-Pepper Coulis', 'main dish', \"Seabass Ravioli from Ischia: Ravioli all' Ischitana\", 'fresh thyme leaves', 'Pissaladiere', \"hor d'oeuvre\"], ['Anchovies Appetizer With Breadcrumbs & Scallions', 'antipasti', 'Grilled Sausage Appetizer With Gremolata', 'garlic cloves', 'Oven-roasted Striped Bass with Peppers', 'pepper', 'Cod And Fish Stew With Garlic Bread Recipe', 'pepper', 'Grilled Halibut with Potato-Fennel Puree', 'main course', 'Salmon with Shiitake and Red Wine Sauce', 'wild rice', 'Salmon with Shiitake and Red Wine Sauce', 'thyme sprigs', 'Portuguese Fish Stew', 'garlic cloves'], ['Anchovies Appetizer With Breadcrumbs & Scallions', 'snack', 'Broccoli Rabe With Garlic & Anchovies', 'crushed red pepper', 'Sea Bass with Fennel, Tomato and Orange', 'onion', 'Broccoli & Burrata', 'salt', 'Springtime Dip', 'part skim ricotta cheese', 'Springtime Dip', 'canned anchovy', 'Hearts of Romaine Caesar Salad with Grilled Chicken', 'chicken breasts', 'Lightened-up Chicken Caesar Platter', 'dijon mustard'], ['Anchovies Appetizer With Breadcrumbs & Scallions', 'starter', 'Pasta With Cauliflower', 'olive oil', 'Bluefish with Grape Leaves', 'red onion', 'Burrata Salad', 'fresh ginger', 'Peanut Sauce', 'water', 'Shrimp and Crab Stuffed Flounder', 'shrimp', 'Shrimp & Pomelo Salad', 'tamarind juice', 'Shrimp & Pomelo Salad', 'garlic'], ['Anchovies Appetizer With Breadcrumbs & Scallions', 'starter', 'Pissaladiere', 'snack', 'Anchovies Appetizer With Breadcrumbs & Scallions', 'appetizer', 'Roast Sea Bass With Chilli & Lime Leaves', 'garlic cloves', 'Citrus Swordfish With Cilantro Butter', 'lemons', 'Cook the Book: Artichokes Basted with Anchovy Butter', 'artichokes', \"Baketard.com - Blog - Giorgio Locatelli's Branzino alla Vernaccia in Crosta Di Pomodoro (Sea Bass with Tomato Crust and Vernaccia Wine)\", 'white onion', 'Adriatic Fish Broth', 'lunch'], ['Anchovies Appetizer With Breadcrumbs & Scallions', 'anchovies', 'Dinner Tonight: Caesar Salad', 'main course', 'Spaghetti with puttanesca', 'capers', 'Grilled Fish and \"Chips', 'dinner', 'Spaghetti with tuna and cherry tomatoes', 'fennel seeds', 'Fish With Couscous Salad Recipe (omega 3 And Couscous)', 'sardines', 'Fish With Couscous Salad Recipe (omega 3 And Couscous)', 'mint', 'Shallow-Poached Fish Fillets', 'lunch'], ['Anchovies Appetizer With Breadcrumbs & Scallions', 'appetizer', 'Cedar-planked Salmon With Seasoned Lemon Butter', 'starter', 'Red Tea Smoked Sea Bass With Cinnamon Caramelized Plums', 'green onion', 'Bean Sprout Beef Rice Bowl', 'dinner', 'Salmon With Noodles', 'salmon fillet', 'Grilled Cajun Salmon With Vegetable Mostaccioli', 'mostaccioli', 'Grilled Cajun Salmon With Vegetable Mostaccioli', 'salmon fillet', 'Salmon with Lentils and Mustard-Herb Butter (Saumon aux Lentilles)', 'chives'], ['Anchovies Appetizer With Breadcrumbs & Scallions', 'antipasti', 'Pissaladiere', 'garlic cloves', 'Caesar Salad', 'roasted chicken breasts', 'Caesar Salad', 'lemon juice', 'Whole Striped Bass with Lemon and Mint', 'mint', 'A French Twist in the Medina: Pan Tunisienne Lunch Pail', 'main course', 'Blackened Fish', 'main dish', 'Pan-Roasted Fish with Mediterranean Tomato Sauce', 'fresh chives'], ['Anchovies Appetizer With Breadcrumbs & Scallions', 'snack', 'Mediterranean Fish Fillets', 'antipasti', 'Red Tea Smoked Sea Bass With Cinnamon Caramelized Plums', 'cinnamon sticks', 'Red Tea Smoked Sea Bass With Cinnamon Caramelized Plums', 'dark brown sugar', 'Red Tea Smoked Sea Bass With Cinnamon Caramelized Plums', 'garlic', 'Soft-Boiled Eggs with Warm Croutons and Greens', 'garlic', 'Pan-Seared Sea Bass in Tomato Fennel Broth', 'unsalted butter', 'Lemon Sole with Tomato-Olive Risotto', 'onion'], ['Anchovies Appetizer With Breadcrumbs & Scallions', 'scallions', 'Steamed Whole Fish with Scallions and Ginger', 'lunch', 'Nut-crusted Salmon With Garlicky Greens And Walnuts', 'lemon juice', 'Chicken Caesar Pita Pizza', 'hot sauce', \"Jacques-Imos' Blackened Gulf Fish\", 'redfish', \"Jacques-Imos' Blackened Gulf Fish\", 'egg yolks', 'Poached Salmon with Hollandaise Sauce', 'lemon juice', 'Broccoli Rabe Saute With Chicken Sausage', 'anchovy'], ['Anchovies Appetizer With Breadcrumbs & Scallions', 'starter', 'Steamed Asian Sea Bass In The Bag', 'kaffir lime leaves', 'Java Chicken in Coconut Sauce', 'water', 'Orford-landed Seabass With Crispy Potatoes, Bacon And Sea Purslane', 'seaweed', 'Peruvian Fish Ceviche', 'dinner', 'Olive Oil Poached Salmon with Chanterelles and Asparagus', 'main course', 'Sauteed Striped Bass with Mint Pesto and Spiced Carrots', 'dinner', 'Manhattan-Style Fish Chowder', 'onion'], ['Anchovies Appetizer With Breadcrumbs & Scallions', 'antipasti', 'Roasted Cod And Scallions With Spiced Potatoes', 'appetizer', 'Crispeddi Semolina Flour Fritters', 'semolina flour', 'Multilayered Anchovy Bread', 'active yeast', 'Cook the Book: Sicilian Pizza', 'onions', 'Tart With Caramelized Onions, Olives And Anchovy', 'milk', 'Salmon Chowder', 'green bell pepper', 'Cioppino', 'starter'], ['Anchovies Appetizer With Breadcrumbs & Scallions', 'anchovies', 'Pommes Frites With Two Dipping Sauces', 'parsley', 'Griddled Courgette Salad With Anchovies & Capers', 'capers', 'Puttanesca Sauce', 'oil cured black olives', 'White Anchovy, Parmesan & Grilled Bread Salad', 'olive oil', 'Baccala', 'flour', \"Seabass Ravioli from Ischia: Ravioli all' Ischitana\", 'sea bass', 'Nabe (Yosenabe/Japanese Hot Pot)', 'oyster mushrooms'], ['Anchovies Appetizer With Breadcrumbs & Scallions', 'olive oil', 'Green Olive Sauce', 'capers', 'Roast Leg Of Lamb With Salsa Verde', 'garlic', 'Shelling Bean, Haricots Verts & Zucchini Salad With Anchovies', 'anchovy', 'Spinach Caesar Salad', 'salt and pepper', 'Veal Scaloppine with Wilted Parsley, Lemon and Sesame', 'veal', 'Veal Cutlets With Lemon Caper Sauce', 'side dish', 'Fried Squash Blossoms', 'olive oil'], ['Anchovies Appetizer With Breadcrumbs & Scallions', 'garlic clove', 'Grilled Salmon with Fennel and Creole Mustard Spaetzle', 'main dish', 'Pan-Roasted Halibut with Prosciutto, Lemon, White Wine, and Capers', 'capers', 'More of the same: Tricolore Eggplant Bruschetta – A cooking blog - Kitchenist', 'adapted from plenty by yotam ottolenghi', 'More of the same: Tricolore Eggplant Bruschetta – A cooking blog - Kitchenist', 'sea salt', 'Ahi Tuna With Kale', 'fresh ginger', 'Steamed Sea Bass With Ginger And Shiitakes', 'dinner', 'Grilled Sea Bass with Tropical Salsa', 'jalapeno chili'], ['Anchovies Appetizer With Breadcrumbs & Scallions', 'scallions', 'Niçoise Tuna Sandwich (Pan Bagnat)', 'white onion', 'Cod With Artichokes And Chickpeas', 'canned chickpeas', 'Black Bass With Chickpeas, Clams, And Chorizo', 'garlic', 'Olive Tapenade', 'olives', 'Red Bell Pepper and Eggplant Tian with Anchovies', 'canned anchovy fillets', 'Pan-Seared Skirt Steak with Anchovies and Lime', 'steaks', 'Hanger Steak with Herb-Nut Salsa', 'dinner'], ['Anchovies Appetizer With Breadcrumbs & Scallions', 'appetizer', 'Clam And Calamari Seafood Stew With Salsa Verde', 'fennel bulb', 'Grilled Fish With Orange-fennel Salsa', 'red onion', 'Bluefish (or Swordfish) With Preserved Lemons', 'lunch', 'Dinner Tonight: Kale Caesar Salad with Anchovies', 'lunch', \"Yagihashi's Black Sea Bass with Somen and Vegetables\", 'water', 'Floribbean\" Grouper with Red Pepper-Papaya Jam', 'jalapeno pepper', 'Italian Basa (catfish)', 'cod fillets'], ['Anchovies Appetizer With Breadcrumbs & Scallions', \"hor d'oeuvre\", 'Grilled Halibut With Salt-and-vinegar Potatoes', 'striped bass', 'Grilled Halibut With Salt-and-vinegar Potatoes', 'snack', 'Deviled Eggs', 'mayonnaise', 'Garlic Caesar Salad', 'dijon mustard', 'The Cartoon Kitchen: Whitefish Soufflé', 'whitefish', 'The Cartoon Kitchen: Whitefish Soufflé', 'butter', 'Orange Teriyaki Salmon', 'pepper'], ['Anchovies Appetizer With Breadcrumbs & Scallions', 'snack', 'Turkey Burgers With Caesar Spread', 'mayonnaise', 'Broiled Fish On Toasted Sourdough', 'salt', 'Breadcrumbs Stuffed Green Peppers', 'capers', 'Roasted Red Peppers with Tonnato Sauce', 'flat leaf parsley', 'Pancetta-Wrapped Salmon with Red Wine Butter', 'dry red wine', 'Nori Ahi with Soy-Mustard-Port Sauce', 'lunch', 'Sea Bass with Marinated Vegetables', 'main course'], ['Anchovies Appetizer With Breadcrumbs & Scallions', 'antipasto', 'Crostini With Tapenade', 'baguette', 'Anchovy Fennel Toasts with Roasted Red Peppers', 'appetizer', 'Mediterranean Fish Fillets', \"hor d'oeuvre\", 'Tilapia With Caper-parsley Sauce', 'dry white wine', 'Corn And Clam Chowder Sauce', 'striped bass', 'Grilling: Striped Bass with Roasted Salsa', 'granulated garlic', 'Smoky-Spicy Bass', 'lemon wedges'], ['Anchovies Appetizer With Breadcrumbs & Scallions', 'starter', 'Red Tea Smoked Sea Bass With Cinnamon Caramelized Plums', 'green onion', 'Seriously Asian: The Passing Through Technique', 'rice wine', 'Steamed Fish With Ginger', 'dinner', 'Corned Beef In Broth With Salsa Verde', 'olive oil', 'Lemon And Chilli Bread Salad', 'lunch', 'Glazed Salmon with Braised Fennel', 'fennel bulbs', 'Bouillabaisse', 'olive oil'], ['Anchovies Appetizer With Breadcrumbs & Scallions', 'antipasti', 'Stuffed Cherry Peppers', 'antipasto', 'Salmon With Brown Butter And Almonds Recipe', 'snack', 'Clam And Calamari Seafood Stew With Salsa Verde', 'whole grain dijon mustard', 'Beer Braised BBQ Pork Butt', 'dark brown sugar', 'Black-and-Tan Pork With Spicy Ale Slaw', 'lunch', 'Grilled Salmon with Dill Pickle Butter', 'salt and pepper', 'Swordfish with Orzo, Pistachios and Olives', 'olives'], ['Anchovies Appetizer With Breadcrumbs & Scallions', 'garlic clove', 'Local Amberjack with Pea Tendrils & Roasted Butternut Squash Mash', 'salt & pepper', 'Caesar Salad With Poached Eggs', 'olive oil', 'Sea Bass in Papillote', 'lemon', 'Salmon with Creamy Dill Sauce', 'onion', 'Bouillabaisse', 'cook', 'Bouillabaisse', 'chicken stock', 'Glazed Salmon with Braised Fennel', 'main dish'], ['Anchovies Appetizer With Breadcrumbs & Scallions', 'anchovies', 'Crostini With Tapenade', 'anchovies', 'Chicken And Radish Salad With Creamy Avocado Dressing', 'crème fraîche', 'Chicken And Radish Salad With Creamy Avocado Dressing', 'appetizer', 'Whole Striped Bass With Fennel And Tomato', 'antipasto', 'Mushroom Ravioli with Lemon-Caper Mayonnaise', 'appetizer', 'Breadcrumbs Stuffed Green Peppers', 'pickles', 'Breadcrumbs Stuffed Green Peppers', 'capers'], ['Anchovies Appetizer With Breadcrumbs & Scallions', 'olive oil', 'Bouillabaisse', 'flour', 'Halibut Baked in Fresh Green Salsa', 'sour cream', 'Celery Root Rémoulade', 'side dish', '‘sort Of’ Puttanesca', 'olive oil', 'Sauteed Cod with Lentils', 'lemon juice', 'Escarole-Stuffed Seared Trout', 'escarole', 'Green Goddess Dressing', 'green onion'], ['Anchovies Appetizer With Breadcrumbs & Scallions', 'bread', 'Arctic Char And Smoked Salmon Rillettes', 'crème fraîche', 'Basil-Steamed Halibut with Lemon Crème Sauce', 'main course', 'Smoked Haddock Chowder', 'onion', 'Corn Risotto Garnished with Bacon & Anchovy Sage Leaf Bite', 'chardonney', 'Corn Risotto Garnished with Bacon & Anchovy Sage Leaf Bite', 'main dish', 'Flounder With Spring Artichoke Hearts & Capers', 'capers', 'Chunky Tapenade', 'side dish'], ['Anchovies Appetizer With Breadcrumbs & Scallions', 'garlic clove', 'Mixed Olive Tapenade', 'appetizer', 'Emerils Fish Provencal', 'zucchini', 'Roasted Sea Bass with Summer Squash', 'yellow squash', 'Roasted Sea Bass with Summer Squash', 'lemon juice', 'Flounder Piccata with Spinach', 'lunch', 'Sole Florentine', 'dinner', 'Sea Bass With Brown Shrimps & Couscous', 'chocolate easter eggs'], ['Anchovies Appetizer With Breadcrumbs & Scallions', 'appetizer', 'Mixed Olive Tapenade', 'capers', 'Lemon Butter Fish With Peperonata', 'side dish', 'Roasted Poussins with Anchovy-Mustard Pan Sauce', 'shallots', 'Old School\" Chicken Cacciatore', 'polenta', 'Pan Fried Hake With Polenta And Wilted Baby Spinach Recipe', 'sun dried tomatoes', 'Lemon Sole with Tomato-Olive Risotto', 'thyme leaves', 'Vegetable Stew With Halibut', 'halibut'], ['Anchovies Appetizer With Breadcrumbs & Scallions', 'starter', 'Roast Sea Bass With Chilli & Lime Leaves', 'garlic clove', 'Grilled Steak with Caper-Herb Sauce', 'capers', 'Pissaladiere', 'garlic cloves', 'Bagna Cauda Salad', 'olive oil', 'Roasted Asparagus With Rosemary And Anchovies Wrapped In Pancetta', 'bacon rashers', 'Orford-landed Seabass With Crispy Potatoes, Bacon And Sea Purslane', 'nori', 'Nori Ahi with Soy-Mustard-Port Sauce', 'nori'], ['Anchovies Appetizer With Breadcrumbs & Scallions', 'olive oil', \"Seabass Ravioli from Ischia: Ravioli all' Ischitana\", 'canned whole tomatoes', \"Seabass Ravioli from Ischia: Ravioli all' Ischitana\", 'flour', 'Roasted Poussins with Anchovy-Mustard Pan Sauce', 'shallots', 'Poached Beef With Green Sauce', 'ravioli', 'Poached Beef With Green Sauce', 'mat beans', 'Flageolet Beans And Frisee Salad', 'side dish', 'Chicken Liver Crostini', 'onion'], ['Anchovies Appetizer With Breadcrumbs & Scallions', 'antipasto', 'Glazed Salmon', 'apple cider', 'Glazed Salmon with Brussels Sprout Hash', 'dinner', 'Bap Story: Stir Fried Anchovies (Myulchi Bokkeum)', 'dinner', 'French in a Flash: Chilean Sea Bass with Bouillabaisse Broth', 'juice of lemon', 'Salmon with Lentils and Pink Horseradish Cream', 'butter', 'Krazy Garlic Trout', 'lunch', 'Sea Bream with Artichokes and Caper Dressing', 'capers'], ['Anchovies Appetizer With Breadcrumbs & Scallions', 'antipasti', 'Polenta Puttanesca', 'appetizer', 'Asparagus With Anchovies & Garlic', 'antipasti', 'Mushroom Ravioli with Lemon-Caper Mayonnaise', 'low fat mayonnaise', 'Crispy Baked Cod', 'dijon mustard', 'Grilled Branzino With Rosemary Vinaigrette', 'fresh rosemary', 'French Tuna Burger With Green Bean Salad', 'eggs', 'Grilled Sea Bass Donburi', 'dashi'], ['Anchovies Appetizer With Breadcrumbs & Scallions', 'starter', 'Anchovies Appetizer With Breadcrumbs & Scallions', 'appetizer', 'Spiced Cod With Broccoli-quinoa Pilaf', 'starter', 'Favas, Green Beans, Peas And Zucchini Ribbons', 'lemon juice', 'Caesar Salad with Sourdough Croutons', 'red wine vinegar', 'Escarole Salad with Anchovy Dressing', 'anchovies', 'Korean Miso Soup With Manilla Clams', 'anchovies', 'Roast Lamb With Anchovies', 'dinner'], ['Anchovies Appetizer With Breadcrumbs & Scallions', 'scallions', 'Pistachio Sea Bass with Crab Salad', 'pistachio oil', 'Pistachio Sea Bass with Crab Salad', 'pistachios', 'Pistachio Crusted Salmon with Lemon Cream Sauce', 'chicken broth', 'Salmon Chowder', 'dinner', 'Fish Stew', 'white wine', 'Fish Stew', 'lunch', \"Yagihashi's Black Sea Bass with Somen and Vegetables\", 'main course'], ['Anchovies Appetizer With Breadcrumbs & Scallions', 'olive oil', 'Hazelnut-Crusted Halibut with Roasted Asparagus', 'asparagus', 'Poached Beef With Green Sauce', 'guinea fowl', 'Guinea Hen with Vinegar: Faraona al Aceto', 'salt and pepper', 'Cod with Artichokes and Chickpeas', 'shiitake mushrooms', 'Sea Bass With Asparagus', 'fresh ginger', 'Broiled Striped Bass with Ginger-Scallion Oil', 'vegetable oil', 'Seared Tuna With Fennel Seeds & Caper Brown Butter', 'main course'], ['Anchovies Appetizer With Breadcrumbs & Scallions', 'garlic clove', 'Baked Sea Bass With Herbs And Lime', 'main course', 'Sea Bass and Confetti Vegetables with Lemon-Butter Sauce', 'butter', 'Grilled Halibut with BBQ Butter', 'lunch', 'Fried Anchovies with Sage', 'baking powder', 'Fried Squash Blossoms', 'olive oil', 'Roasted Black Sea Bass with Tomato and Olive Salad', 'garlic clove', 'Steamed Sea Bass with Tamarind Sauce', 'dinner'], ['Anchovies Appetizer With Breadcrumbs & Scallions', 'bread', 'Polpette di Vitello, Tonnato Style', 'shallots', 'Grilled Salmon with Blackberry-Cabernet Coulis', 'salt and pepper', 'Tomatoes With Anchovy Dressing', 'flat leaf parsley', 'Grilled Salmon with Fennel and Creole Mustard Spaetzle', 'unsalted butter', 'Broiled Bacon-Basted Salmon with Mushroom-Oyster Sauce', 'chives', 'Sliced Baguette With Radishes And Anchovy Butter', 'radishes', 'Grilled Jicama, Radishes, Scallions, and Chicken with Asian-Style \"Chimichurri', 'water'], ['Anchovies Appetizer With Breadcrumbs & Scallions', 'starter', 'Grilled Sausage Appetizer With Gremolata', 'long pasta', 'Sake Steamed Bass', 'main dish', 'Penne Avvocato', 'main course', 'Salade Nicoise', 'bay leaf', 'Roasted Halibut with Green Olive Sauce', 'flat leaf parsley', 'Spicy Shrimp And Spaghetti Aglio Olio (garlic And Oil)', 'red pepper flakes', 'Tuna Caper Dip', 'coarse salt'], ['Anchovies Appetizer With Breadcrumbs & Scallions', 'antipasti', 'Acqua Pazza (fish Simmered In Tomato-garlic Broth)', 'snack', 'Grilled Halibut With Salt-and-vinegar Potatoes', \"hor d'oeuvre\", \"Katie Lee's Sole Meunière Recipe\", 'starter', \"Ginger-steamed Fish With Troy's Hana-style Sauce\", 'snack', 'Vegetable Stew With Halibut', 'appetizer', 'spicy tomato mussels', 'antipasti', 'Pan-fried Cod With Mustard-caper Sauce', 'appetizer'], ['Anchovies Appetizer With Breadcrumbs & Scallions', 'snack', 'French Onion Tart', 'black olives', 'Stuffed Cornuto Peppers', 'basil', 'Seared Salmon With Quick Hollandaise', 'butter', 'Garlic Parmesan Orange Roughy', 'butter', 'New England Fish Chowder', 'heavy cream', 'Blackened Striped Bass with Corn Spoon Bread and Greens', 'dinner', 'Almond Coated Basa', 'egg'], ['Anchovies Appetizer With Breadcrumbs & Scallions', 'garlic clove', 'Mixed Olive Tapenade', 'appetizer', 'Whole Branzino In Grape Leaves With Zucchini, Olives, And Mint', 'fresh mint', 'Sea Bass with Moroccan Salsa', 'ground cinnamon', 'Spiced Brown Sugar Salmon With Peach-kiwi Salsa', 'ground nutmeg', 'Greek-Style Braised Lamb Shanks', 'lunch', 'Sea Bass in Papillote', 'lunch', 'Lamb Chops With Olive Orange Anchovy Sauce Recipe', 'kalamata olive'], ['Anchovies Appetizer With Breadcrumbs & Scallions', \"hor d'oeuvre\", 'Slow-roasted Cherry Tomato Bruschetta', 'olive oil', 'Beef Tenderloin Cobb Salad', 'beefsteak tomatoes', 'Baked Stuffed Tomatoes', 'lunch', 'Matcha & Pistachio-crusted Halibut', 'main dish', \"Pan-Seared Striped Bass All'amatriciana\", 'garlic cloves', 'Rachael Ray\\'s \"now You\\'ll Be Living A Lot Longer\" Spaghetti', 'main dish', 'Salmon Salsa Verde', 'salmon'], ['Anchovies Appetizer With Breadcrumbs & Scallions', 'antipasti', 'Blue Fish With Tomato, Garlic And Onions', 'appetizer', 'Pappardelle With Spicy Meat Sauce', 'pappardelle', 'Pappardelle With Spicy Meat Sauce', 'appetizer', 'Striped Bass Plaki', 'fresh thyme', 'Fish Chowder', 'butter', 'Lemon Baked Cod', 'snack', 'Fish Chowder', 'pepper'], ['Anchovies Appetizer With Breadcrumbs & Scallions', 'scallions', 'Spiced Cod With Broccoli-quinoa Pilaf', 'antipasti', 'Anchovy Fennel Toasts with Roasted Red Peppers', 'starter', 'Striped Bass With Olive-almond Relish Recipe', \"hor d'oeuvre\", 'Spiced Cod With Broccoli-quinoa Pilaf', 'onion', 'Flounder With Spring Artichoke Hearts & Capers', 'olive oil', 'Quick Oven Roasted Ginger Scallion Lime Sea Bass', 'tamari soy sauce', 'Quick Oven Roasted Ginger Scallion Lime Sea Bass', 'shallot'], ['Anchovies Appetizer With Breadcrumbs & Scallions', 'scallions', 'Steamed Black Bass With Sicilian-style Pesto', 'unsalted butter', 'Halibut, Clams, and Pancetta with Escarole', 'kosher salt', \"Katie Lee's Sole Meunière Recipe\", 'sole', 'Parmesan Sole', 'salt & pepper', 'Oriental Style Peppers', 'green bell pepper', 'Oven-roasted Striped Bass with Peppers', 'pepper', 'Pescado Almendrado', 'chiles'], ['Anchovies Appetizer With Breadcrumbs & Scallions', 'snack', 'Mediterranean Fish Fillets', 'orange roughy', 'Baked Orange Roughy With Veggies', 'main dish', 'Zakary Pelaccio’s Pasta Con Sarde', 'tomato paste', 'Baccala', 'baccala', 'Baccala', 'carrots', 'Pan-roasted Halibut With Herbed Lentils And Breadcrumbs', 'fresh rosemary', 'Italian Bread And Cabbage Soup With Sage Butter', 'garlic'], ['Anchovies Appetizer With Breadcrumbs & Scallions', 'olive oil', 'Striped Bass Puttanesca with Seared Fingerling Potatoes', 'extra virgin olive oil', 'Creamy Tuna With Tarragon And Egg Noodles', 'flour', 'Deep Fried Sea Bass', 'ground pepper', 'Grilled Stuffed Red Snapper', 'bread crumbs', 'Crispy Pan-Fried Sole', 'pepper', 'Sea Bass With Mediterranean Sauce', 'endive', 'Natural Factors’ Tropical Summer Caesar Salad', 'celery stalk'], ['Anchovies Appetizer With Breadcrumbs & Scallions', 'antipasti', 'Hard-Cooked Eggs with Crisp Anchovy Crumbs', \"hor d'oeuvre\", 'Garlic Herb Tilapia', 'antipasti', 'Roasted Sea Bass With Fennel, Blood Oranges & Olives', 'bay leaves', 'Roasted Branzino With A Salt Crust', 'salt and pepper', 'Cod With Artichokes And Chickpeas', 'canned chickpeas', 'Cod with Artichokes and Chickpeas', 'olive oil', 'Sea Bass alla Fiorentina', 'fresh parsley leaves'], ['Anchovies Appetizer With Breadcrumbs & Scallions', 'appetizer', \"Ginger-steamed Fish With Troy's Hana-style Sauce\", 'garlic', 'Salt Crusted Whole Fish', 'main course', 'Wild Striped Bass with Scallions and Herb Salad', 'chives', 'Grilled Salmon With Ginger- Soy Butter', 'main course', 'Puglia Lady Rethought For America', 'lunch', 'Dinner Tonight: Mackerel with Currants', 'main course', 'Smoky Maple-glazed Salmon Supper', 'carrots'], ['Anchovies Appetizer With Breadcrumbs & Scallions', 'snack', 'Mediterranean Fish Fillets', 'appetizer', 'Sauteed Flounder With Orange-shallot Sauce', 'shallot', 'Salmon with Dijon Dill Sauce', 'main course', 'Grilled Tuna And Provolone Sandwiches With Salsa Verde', 'capers', 'Simple Niçoise Salad Recipe', 'extra virgin olive oil', 'Oven-roasted Fish Stew', 'fresh flat leaf parsley', 'Sauteed Cod with Lentils', 'dinner'], ['Anchovies Appetizer With Breadcrumbs & Scallions', 'antipasto', 'Italian Tomato Spaghetti', 'antipasti', 'Risotto With Sea Bass And Fennel', 'appetizer', 'Salmon With Pepita-lime Butter', 'lime zest', 'Salmon With Waffle Glaze', 'side dish', 'Caramelized Onion And Fresh Anchovy Tart', 'thyme', 'Glazed Salmon with Braised Fennel', 'apple cider', 'Glazed Salmon', 'honey'], ['Anchovies Appetizer With Breadcrumbs & Scallions', 'scallions', 'Yellowfin Tuna with Scallions and Ginger', 'unsalted butter', 'Salmon with Red Wine-Balsamic Sauce', 'olive oil', 'Bagna Cauda', 'red belgian endive', 'Bagna Cauda', 'crusty bread', 'Roasted Red Peppers with Tonnato Sauce', 'tuna', 'Roasted Red Peppers with Tonnato Sauce', 'salt and pepper', 'Salmon with Warm Passion-Fruit Vinaigrette', 'shallot'], ['Anchovies Appetizer With Breadcrumbs & Scallions', 'appetizer', 'Emerils Fish Provencal', 'olive oil', 'Salmon with Andouille Sausage and Green Olives', 'green olives', 'Chicken with Green Olives', 'parsley', 'Halibut With Caper Beurre Blanc & Crushed Jersey Royals', 'side dish', 'Whole Roast Fish With Salmoriglio', 'lemon zest', 'Sea Salt-Crusted Pink Snapper with Ice Wine Nage', 'belgian endives', 'White Anchovy and Crisp Pita Bread Salad', 'shallot'], ['Anchovies Appetizer With Breadcrumbs & Scallions', 'starter', 'French Onion Tart', 'onions', 'Roast Pork Loin, Turnips, Garlic and Anchovies', 'red wine vinegar', 'Grilled Butterflied Leg of Lamb with Tomato-Fennel Vinaigrette', 'pepper', 'Chicken Puttanesca', 'cherry tomatoes', 'Cauliflower, Anchovies and Tomatoes', 'salad mix', 'Kale Caesar', 'croutons', 'Bouillabaisse', 'olive oil'], ['Anchovies Appetizer With Breadcrumbs & Scallions', \"hor d'oeuvre\", 'Fish With Olives, Pine Nuts, Basil And Wine', 'snack', 'Spaghetti Puttanesca', 'anchovy fillet', 'Sage-rubbed Pork Tenderloins with Sage Butter', 'pork tenderloins', 'Sage-rubbed Pork Tenderloins with Sage Butter', 'olive oil', 'Capers and Halibut', 'white wine', 'Skate, Chicory, and Anchovy', 'rocket', 'Anchovies, Beans And Rocket', 'main course'], ['Anchovies Appetizer With Breadcrumbs & Scallions', 'anchovies', 'Tuna Caper Dip', 'sour cream', 'Halibut Baked in Fresh Green Salsa', 'salmon', 'Salmon With Green Goddess Sauce', 'lemon juice', 'Whole Grilled Fiesta Fish', 'lemon zest', 'Roast Fore Rib Of Beef With Beetroot And Horseradish', 'fresh parsley leaves', 'Baked Seabass with Homemade Garlic Butter and Herb Bread Crumb Topping', 'lemon zest', 'Celery Root Rémoulade', 'cornichons'], ['Anchovies Appetizer With Breadcrumbs & Scallions', \"hor d'oeuvre\", 'Crostini With Tapenade', 'starter', 'Anchovies Appetizer With Breadcrumbs & Scallions', 'garlic clove', 'Bacon Caesar Salad', 'anchovy', 'Roasted Asparagus With Rosemary And Anchovies Wrapped In Pancetta', 'sea salt', 'Salmon with Lemon and Dill', 'salmon fillets', 'Big City Salmon with Martini Sauce', 'shallot', 'Salmon And Zucchini Baked In Parchment', 'lemon'], ['Anchovies Appetizer With Breadcrumbs & Scallions', 'bread', 'Toasted Parmesan And Garlic Oil Caesar Salad', 'starter', 'Hard-Cooked Eggs with Crisp Anchovy Crumbs', 'brioche', 'Breaded\" Redfish with Shrimp, Fennel, and Orange Salad', 'lunch', 'Seared Sea Bass With Fennel Seeds & Roasted Sweet Potatoes', 'sweet potato', 'Salmon, Sweet Potato, and Broccoli Chowder', 'lunch', 'Pan-Seared Mahi-Mahi with Oranges and Olives', 'main dish', 'Salmon Chowder', 'garlic powder'], ['Anchovies Appetizer With Breadcrumbs & Scallions', 'scallions', 'Cod with Cashews Baked in Foil Envelopes', 'unsalted butter', 'Classic Sole Meunière', 'unsalted butter', 'Poached Halibut With Eberhard', 'leek', 'Poached Beef With Green Sauce', 'apples', 'Poached Beef With Green Sauce', 'ravioli', 'Poached Beef With Green Sauce', 'raisin', 'Poached Beef With Green Sauce', 'tomatoes'], ['Anchovies Appetizer With Breadcrumbs & Scallions', 'antipasti', 'Salmon With Brown Butter And Almonds Recipe', 'antipasto', 'Chicken-Liver Crostini', 'white onion', 'Adriatic Fish Broth', 'celery', 'Chicken Liver Crostini', 'onion', 'Skate, Chicory, and Anchovy', 'celery', \"Brian's Easy Stuffed Flounder\", 'main course', 'French in a Flash: Chilean Sea Bass with Bouillabaisse Broth', 'canned tomatoes'], ['Anchovies Appetizer With Breadcrumbs & Scallions', 'bread', 'Caesar Salad With Toasty Garlic Croutons', 'juice of lemon', 'Rib Roast Of Beef With Beets, Potatoes, And Horseradish', 'beets', 'Poached Beef With Green Sauce', 'spinach', 'Fish Over A Bed Of Spinach', 'fresh thyme leaves', \"Seabass Ravioli from Ischia: Ravioli all' Ischitana\", 'main dish', 'Chilean Sea Bass With Grilled Mango Salsa', 'salsa', 'Salsa-baked Fish', 'cilantro'], ['Anchovies Appetizer With Breadcrumbs & Scallions', \"hor d'oeuvre\", 'Roasted Sea Bass With Fennel, Blood Oranges & Olives', 'black olives', 'Wood-Roasted Striped Bass with Meyer Lemon and Olive Relish', 'parsley', 'Wheat Noodles with Anchovy Sauce: Bigoli en Salsa', 'milk', 'Tart With Caramelized Onions, Olives And Anchovy', 'olives', 'Salade Nicoise', 'anchovy', 'Challenging Misconceptions: Potato Pizza – A cooking blog - Kitchenist', 'plain flour', 'Beer Batter Fish With Hasselback Potatoes', 'beer'], ['Anchovies Appetizer With Breadcrumbs & Scallions', 'bread', 'Bread, Butter And Anchovies', 'bread', 'Mozzarella Skewers with Anchovy Sauce (Spiedini di Mozzarella)', 'dinner', 'Striped Bass With Sage And Red-wine Butter', 'wondra flour', 'Roasted Pompano with Citrus Avocado Salsa, Cilantro Butter & Spicy Plantains', 'cilantro leaves', 'Peruvian Ceviche', 'lime juice', 'Broiled Caribbean Sea Bass', 'pepper sauce', 'Salmon with Tomatoes', 'main course'], ['Anchovies Appetizer With Breadcrumbs & Scallions', 'antipasto', 'Garlic Herb Tilapia', 'italian seasoning', 'Emerils Fish Provencal', 'italian seasoning', 'Emerils Fish Provencal', \"hor d'oeuvre\", 'Herbed Fish Cakes with Green Horseradish Sauce', 'appetizer', 'Seafood Stew', 'olive oil', 'Pan-fried Butterfish', 'red pepper flakes', 'Seared Sea Bass with Spicy Lemongrass Crust', 'green curry paste'], ['Anchovies Appetizer With Breadcrumbs & Scallions', 'scallions', 'Halibut With Barbecue Tomato Sauce And Honey-mustard Polenta', 'milk', 'Pimientos Piquillos Rellenos De Bacalao', 'butter', 'Rockfish Galettes', 'salt', 'Fried Anchovies with Sage', 'vegetable oil', 'Pan-Seared Black Cod with Grape Salsa', 'green chile', 'Pan-Seared Black Cod with Grape Salsa', 'dinner', 'Herb-Broiled Fish with Lemon Aioli', 'salt and pepper'], ['Anchovies Appetizer With Breadcrumbs & Scallions', 'antipasto', 'Pasta With Cauliflower', 'salt and pepper', 'Radish And Escarole Salad With Anchovy Vinaigrette', 'anchovies', 'Mool Gooksu (korean Mixed Noodles In Anchovy Broth)', 'zucchini', 'Tender Zucchini Fritters with Green Goddess Dressing', 'mâche', 'Tender Zucchini Fritters with Green Goddess Dressing', 'white distilled vinegar', 'Tender Zucchini Fritters with Green Goddess Dressing', 'olive oil', 'Roasted Sea Bass with Summer Squash', 'yellow squash'], ['Anchovies Appetizer With Breadcrumbs & Scallions', 'anchovies', 'Potato, Caramelised Onion And Anchovy Bake', 'salt and pepper', 'Grilled Lamb Chops with Provençal Dressing', 'main course', 'Baconized Tuna With Lemon Butter', 'main dish', 'Whole Black Bass with Ginger and Scallions', 'fresh ginger', 'Sake-steamed Sockeye Salmon With Sake Butter', 'star anise', 'Sake-steamed Sockeye Salmon With Sake Butter', 'fresh ginger', 'Sole with Grapefruit-Thyme Butter', 'lunch'], ['Anchovies Appetizer With Breadcrumbs & Scallions', 'antipasti', 'Pissaladière', 'pizza crust', 'Anchovy and White Bean Pizza', 'pepper', 'Pan Fried Catfish With Buttered Rice & Pickled Pepper Relish', 'dinner', 'Parmesan Chicken With Caesar Roasted Romaine', 'main course', 'Grilled Swordfish With Fresh Vegetable Salsa', 'celery', 'Baked Gefilte Fish', 'main dish', 'Caramel Pork', 'short grain rice'], ['Anchovies Appetizer With Breadcrumbs & Scallions', 'snack', 'Stuffed Cherry Peppers', 'wine vinegar', 'Greek Salad With Cherry Tomatoes', 'salt', 'Linguine Aglio E Olio Con Acciuga', 'linguine', 'Linguine with Garlic and Soy', 'olive oil', 'Bass in Artichoke and Tomato Broth', 'dinner', 'Steamed Fish With Ginger', 'white fish fillets', 'Steamed Fish With Ginger', 'sesame oil'], ['Anchovies Appetizer With Breadcrumbs & Scallions', \"hor d'oeuvre\", 'Glazed Salmon', 'lemon', 'Grilled Fish With Pesto Sauce', 'lemon', 'Artichokes with Anchoïade', 'artichokes', 'Cook the Book: Artichokes Basted with Anchovy Butter', 'ground pepper', 'Herbed Fish Cakes with Green Horseradish Sauce', 'striped bass', 'Grilled Fish and \"Chips', 'main course', 'Beer-Battered Fish Tacos', 'mustard'], ['Anchovies Appetizer With Breadcrumbs & Scallions', 'scallions', 'Spaghettini with Tomatoes, Anchovies and Almonds', 'crushed red pepper', 'Piquillo-Pepper Num Pangs', 'salt and pepper', 'Beans And Salsa Verde', 'dried beans', 'Beans And Salsa Verde', 'parsley', 'Maruja’s Fish Fillets Layered with Tomatoes, Capers, Bread Crumbs, and Cheese', 'capers', 'Bruschetta With Goat Cheese And Olive Tapenade', 'fresh basil leaves', 'Farmers’ Pasta', 'anchovy'], ['Anchovies Appetizer With Breadcrumbs & Scallions', 'olive oil', 'Fish Stew', 'salt and pepper', 'Fish With Miso Sauce & Creamy Ponzu Salad', 'sugar', 'Pan-fried Trout With Pecans', 'butter', 'Garlic, Thyme And Anchovy Baked Potatoes', 'garlic cloves', 'Grilled Rib-Eye Steaks with Roasted Peppers', 'yellow bell peppers', 'Grilled Sablefish With Thyme-lemon Salsa Verde', 'lemon juice', 'Spring Vegetable Bagna Cauda', 'watercress'], ['Anchovies Appetizer With Breadcrumbs & Scallions', 'scallions', 'Steamed Striped Bass With Ginger And Scallions', 'soy sauce', 'Yellowfin Tuna with Scallions and Ginger', 'unsalted butter', 'Striped Bass with Sweet Carrots and Cider Glaze', 'apple cider', 'Glazed Salmon with Braised Fennel', 'apple cider', 'Striped Bass with Sweet Carrots and Cider Glaze', 'vegetable oil', 'Chili-Cumin Fried Fish', 'main course', 'Baked Cod With Mustard Crumbs', 'cod fillets'], ['Anchovies Appetizer With Breadcrumbs & Scallions', 'antipasti', 'Salmon With Brown Butter And Almonds Recipe', 'starter', \"Dad's Fish Stew\", \"hor d'oeuvre\", 'Deviled Eggs', 'antipasto', 'Grilled Branzino With Rosemary Vinaigrette', 'olive oil', 'Spaghetti Alla Puttanesca', 'lunch', 'Sole with Tarragon-Butter Sauce', 'black pepper', 'Tempura Sardines with Tonnatto Sauce', 'zucchini'], ['Anchovies Appetizer With Breadcrumbs & Scallions', 'garlic clove', 'Bacon Caesar Salad', 'lemon juice', 'Pan-seared Fish Fillets With Browned Butter, Lemon & Malt Vinegar', 'dinner', 'Fish With Olives And Herbes De Provence (poissons Aux Olives Et', 'sea bass', 'Salt-Baked Branzino with Citrus, Fennel and Herbs', 'sea bass', 'Chinese Steamed Fish With Scallions', 'dinner', 'Crispy Trout With Lemony Roasted Asparagus', 'olive oil', 'Kale and Radicchio Salad with Broken Caesar Dressing', 'kale'], ['Anchovies Appetizer With Breadcrumbs & Scallions', 'olive oil', 'Crispy Potato Salad With Chimichurri Sauce', 'celery leaves', 'Cook the Book: Quick-Cured Salmon', 'pumpernickel', 'Cook the Book: Quick-Cured Salmon', 'main dish', 'Lemon Sole with Tomato-Olive Risotto', 'chicken stock', 'Surf and Turf in Herbed Red Wine Sauce with Buttery Mushrooms and Creamy Leeks', 'shallot', 'Steamed Artichokes With Salsa Verde', 'olive oil', 'Minted Salmon', 'butter'], ['Anchovies Appetizer With Breadcrumbs & Scallions', 'starter', 'Sliced Baguette With Radishes And Anchovy Butter', 'radishes', 'Sliced Baguette With Radishes And Anchovy Butter', 'anchovy', 'Fried Squash Blossoms With Salsa Verde', 'flour', 'Fried Green Tomatoes with Anchovy and Lemon', 'kosher salt', 'Grilled Mozzarella Sandwich With Anchovy-olive Tapenade', 'kosher salt', 'Bruschetta With Rustic Green Olive Tapenade', 'green olives', 'Sea Bass with Marinated Vegetables', 'olive oil'], ['Anchovies Appetizer With Breadcrumbs & Scallions', 'garlic clove', 'Pasta with Smothered Broccoli Rabe and Olives', 'side dish', 'Pissaladiere Strips', 'flour', 'Grilled Fish with Sauce au Chien', 'salt and pepper', 'Arctic Char with Tangerine-Habanero Glaze and Meyer Lemon Couscous Broth', 'kosher salt', 'Salmon With Blackberry Brandy Sauce', 'cooking oil', 'Fried Eel', 'main course', 'Crunchy Baked Flounder', 'parmesan'], ['Anchovies Appetizer With Breadcrumbs & Scallions', 'anchovies', 'Dinner Tonight: Kale Caesar Salad with Anchovies', 'salt and pepper', 'Tarragon-tomato Fish', 'main course', 'Fried Stuffed Zucchini Flowers (fiori Di Zucca Fritti)', 'main dish', 'Fish Soup with Bread and Rouille', 'fish fillets', 'Pan-Fried Snapper with Buttery Parsnip Puree', 'lunch', 'Bruschetta With Goat Cheese And Olive Tapenade', 'garlic clove', 'Green Goddess Chicken Wraps', 'capers'], ['Anchovies Appetizer With Breadcrumbs & Scallions', 'starter', 'Pissaladière', 'thyme sprigs', 'Slow-Roasted Salmon with Cherry Tomatoes and Couscous', 'flat leaf parsley', 'Hake With Wild Mushrooms', 'fresh mushrooms', 'Baked Orange Roughy With Veggies', 'main course', 'Pan Fried Sea Bass', 'olive oil', 'Seared Bass with Cauliflower Duo', 'main dish', 'Broiled Halibut with Bechamel Sauce', 'black pepper'], ['Anchovies Appetizer With Breadcrumbs & Scallions', 'starter', 'Toasted Parmesan And Garlic Oil Caesar Salad', 'worcestershire sauce', 'Deb’s Caesar Salad Dressing', 'lemon juice', 'Ceviche de Pescado: Two Ways', 'you might also like', 'Ceviche de Pescado: Two Ways', 'beer', 'Beer Salmon', 'butter', 'Baked Cod With Mustard Crumbs', 'parsley', 'Radicchio & Halloumi Salad With Lemon Anchovy Dressing', 'bread'], ['Anchovies Appetizer With Breadcrumbs & Scallions', 'antipasti', 'Stilton Cheese Puffs', 'flour', 'Orange Roughy With Citrus Sauce', 'butter', 'Smoked haddock with flageolets in a creamy mustard sauce (or Nigel Slater does WTSIM)', 'by jeanne on april 1', 'Smoked haddock with flageolets in a creamy mustard sauce (or Nigel Slater does WTSIM)', 'bay leaves', 'Whole Roast Fish With Salmoriglio', 'parsley leaves', \"Alex's Anchovy Bucatini\", 'olive oil', 'Niçoise Salad with Salmon', 'bell pepper'], ['Anchovies Appetizer With Breadcrumbs & Scallions', 'antipasto', 'Fish Chowder', 'yellow onions', 'Onion Tartlets', 'olives', 'The Secret Ingredient (anchovy): Halibut Poached In Olive Oil W', 'main dish', 'Grilled Halibut with Potato-Fennel Puree', 'dinner', 'Salmon with Creamy Dill Sauce', 'sour cream', 'Crispy Baked Fish', 'butter', 'Grilled Mozzarella Sandwich With Anchovy-olive Tapenade', 'garlic clove'], ['Anchovies Appetizer With Breadcrumbs & Scallions', 'anchovies', 'Triple Citrus Caesar Salad', 'red grapefruit', 'Seared Black Bass with Bitter Greens, Grapefruit and Feta Salad', 'main course', 'Gemelli with Broccoli Rabe and Anchovies', 'broccoli rabe', 'Broccoli Rabe With Garlic & Anchovies', 'salt', 'Niçoise Salad with Salmon', 'salt', \"Curto's Grilled Salmon with Bacon and Potato Hash\", 'applewood smoked bacon', \"Curto's Grilled Salmon with Bacon and Potato Hash\", 'red wine vinegar'], ['Anchovies Appetizer With Breadcrumbs & Scallions', 'garlic clove', 'Garlicky Caesar Salad', 'salad', 'Escarole Salad with Anchovy Dressing', 'olive oil', 'Macadamia-crusted Sea Bass With Mango Cream Sauce', 'main dish', 'Fish Chowder', 'cod', 'Baked Cod With Olives', 'capers', 'Bread, Butter And Anchovies', 'bread', 'Steak, Tomato and Arugula Sandwiches', 'main course'], ['Anchovies Appetizer With Breadcrumbs & Scallions', 'snack', 'Pesto-Marinated Striped Bass with Warm Tomatoes', 'grape tomatoes', 'Whole Roasted Sea Bass with Potatoes and Olives', 'flat leaf parsley', 'Pasta With Anchovy-walnut Sauce', 'crushed red pepper', 'Broccoli Rabe Saute With Chicken Sausage', 'chicken sausage', 'Broccoli Rabe Saute With Chicken Sausage', 'olive oil', 'Warm Tuna Salad Niçoise', 'lemon juice', 'Caesar Salad Spears', 'mayonnaise'], ['Anchovies Appetizer With Breadcrumbs & Scallions', 'antipasto', 'Striped Bass Plaki', 'antipasti', 'Whole Branzino In Grape Leaves With Zucchini, Olives, And Mint', 'branzino', 'Whole Branzino In Grape Leaves With Zucchini, Olives, And Mint', 'olive oil', 'Sunny Side Up Eggs', 'swiss chard', 'Garlic And Oil Spaghetti With Greens', 'swiss chard', 'Garlic And Oil Spaghetti With Greens', 'nutmeg', 'Haddock with Cheese Sauce', 'haddock'], ['Anchovies Appetizer With Breadcrumbs & Scallions', 'snack', 'Anchoïade With Radishes, Fennel, Celery And Carrots', 'anchovy fillets', 'Grilled Salmon With Basil Aioli', 'main dish', 'Maruja’s Fish Fillets Layered with Tomatoes, Capers, Bread Crumbs, and Cheese', 'main course', 'Pan- Seared Tilapia', 'parsley', 'Grouper Picatta', 'grouper fillets', 'Crab Crusted Grouper', 'bread crumbs', 'Fried Green Tomatoes with Anchovy and Lemon', 'bread crumbs'], ['Anchovies Appetizer With Breadcrumbs & Scallions', 'antipasti', 'Favas, Green Beans, Peas And Zucchini Ribbons', 'anchovy', 'Seared Scallops with Basil, Anchovy and Sweet Corn Pudding', 'heavy cream', 'Big City Salmon with Martini Sauce', 'dry vermouth', 'Oven-braised Salmon In Lemon-tarragon Crème Fraîche', 'salmon fillets', 'Roasted Salmon With Spicy Cauliflower', 'main course', 'Grilled Branzino With Vegetables', 'dinner', 'Sauteed Cod with Lentils', 'black pepper'], ['Anchovies Appetizer With Breadcrumbs & Scallions', 'garlic clove', 'Caesar Salad', 'salad', 'Caesar Salad with Crispy Tofu Croutons', 'lemon juice', 'Grilled Fish and \"Chips', 'main dish', 'Meat Lite: Nutty Pasta', 'garlic cloves', 'Spaghetti with puttanesca', 'main dish', 'Grilled Swordfish With Tangy Compound Butter', 'parsley', 'Lamb Chops with Fennel Relish', 'olive oil'], ['Anchovies Appetizer With Breadcrumbs & Scallions', 'antipasti', 'Baked Sole With Asparagus', 'salt and pepper', 'Piquillo-Pepper Num Pangs', 'sub rolls', 'Treviso Caesar Salad', 'olive oil', 'Tuscan Kale With Lemon, Parmesan & White Anchovies', 'lemon', 'Fish with Curried Cucumber Tomato Water and Tomato Herb Salad', 'cucumber', 'Panzanella With Mint And Anchovy', 'cucumber', 'Piquillo-Pepper Num Pangs', 'lime juice'], ['Anchovies Appetizer With Breadcrumbs & Scallions', 'anchovies', \"dragon's Breath' Caesar Salad\", 'romaine lettuce', 'The Perfect Caesar Salad', 'anchovies', 'Chargrilled Tuna & Green Beans With Salsa Verde', 'basil', 'Salmon Salsa Verde', 'dinner', 'Summer Ceviche', 'main course', 'Halibut with Anchovy-Stuffed Olives, Red Peppers and Oregano', 'sea bass fillets', 'Sea Bass with Fennel, Tomato and Orange', 'sea bass fillets'], ['Anchovies Appetizer With Breadcrumbs & Scallions', 'appetizer', 'Polenta Puttanesca', 'starter', 'Lemon Herb Fish', 'tilapia fillets', 'Grilled Tilapia with Lemon Butter, Capers and Orzo', 'olive oil', 'Tapenade', 'lunch', 'Smoked-sable Tartare With Beets And Watercress', 'watercress', 'Salmon Salsa Verde', 'watercress', 'The Ultimate Caesar Salad', 'juice of lemon'], ['Anchovies Appetizer With Breadcrumbs & Scallions', 'snack', 'Tagliatelle With Purple Sprouting Broccoli, Anchovies And Pecorino', 'pecorino romano', 'Tagliatelle With Purple Sprouting Broccoli, Anchovies And Pecorino', 'pecorino', 'Pan Fried Hake With Polenta And Wilted Baby Spinach Recipe', 'cod fillets', 'Cod With Artichokes And Chickpeas', 'main course', 'Burn-Your-Fingers Chicken Wings', 'vegetable oil', 'Pan-Seared Black Cod with Grape Salsa', 'white wine vinegar', 'Salmon Chowder with Chives', 'fresh chives'], ['Anchovies Appetizer With Breadcrumbs & Scallions', 'olive oil', 'Sundried Tomato Sauce', 'butter', 'Chili Garlic Salmon (light Butter Recipe)', 'swiss chard', 'Sea Bass With Swiss Chard & Beurre Blanc', 'vanilla pod', 'Steamed Sea Bass with Vanilla, Baby Vegetables and Cappuccino Sauce', 'juice of lemon', 'Butter And Herb Cracker Crusted Baked Cod Fish', 'dijon mustard', \"McDevitt's Miso-Marinated Sea Bass\", 'lemon', 'Whole Striped Bass with Lemon and Mint', 'lemon juice'], ['Anchovies Appetizer With Breadcrumbs & Scallions', 'starter', 'Balsamic, Caper, And Anchovy Marinade', 'lemon juice', 'Pan-Roasted Cod with Roasted Tomatoes and Leeks', 'fat free chicken broth', 'Sea Bass and Spicy Tomato Sauce Over Braised Fennel', 'dinner', 'Yellowfin Tuna with Scallions and Ginger', 'olive oil', 'Black Pepper-crusted Salmon', 'salmon', 'Salmon Chowder With Tarragon', 'unsalted butter', 'Salmon With Honey Mustard Pan Sauce', 'pepper'], ['Anchovies Appetizer With Breadcrumbs & Scallions', 'starter', 'Hake Fillet With Jasmine Rice And Cabbage', 'green cabbage', 'Black-and-Tan Pork With Spicy Ale Slaw', 'main course', 'Roasted Halibut with Wine-Braised Fennel', 'shallot', 'Pan-fried Trout With Pecans', 'mat beans', 'Pan-fried Trout With Pecans', 'juice of lemon', 'Pan-fried Trout With Pecans', 'sugar', 'Salade Nicoise', 'croutons'], ['Anchovies Appetizer With Breadcrumbs & Scallions', 'olive oil', 'Piquillo-Pepper Num Pangs', 'thai basil', 'Piquillo-Pepper Num Pangs', 'mayonnaise', 'Deviled Eggs', 'snack', 'Vegetable Stew With Halibut', 'fresh corn kernels', 'Crisp Chatham Bluefish with Maque Choux', 'lunch', 'Red Snapper With Chick Peas, Fennel And White Wine', 'wine', 'Steamed Whole Fish with Scallions and Ginger', 'sesame oil'], ['Anchovies Appetizer With Breadcrumbs & Scallions', 'antipasti', 'Blue Fish With Tomato, Garlic And Onions', 'olive oil', 'Seafood Stew with Anchovy Aioli', 'cayenne pepper', 'Smoky-Spicy Bass', 'granulated garlic', 'Smoky-Spicy Bass', 'parsley leaves', 'Blackened Peppers With Capers, Parsley, And Garlic', 'capers', 'Pan Bagnat a Gribiche', 'olives', 'Puttanesca Baked Cod', 'lunch'], ['Anchovies Appetizer With Breadcrumbs & Scallions', 'appetizer', 'Striped Bass Plaki', 'lemon', 'Steamed Artichokes With Salsa Verde', 'olive oil', 'Lime Caesar Salad', 'lime juice', 'Grilling: Striped Bass with Roasted Salsa', 'dinner', 'French in a Flash: Chilean Sea Bass with Bouillabaisse Broth', 'main dish', 'Tamarind Glazed Swordfish with Lime, Cilantro and Tamarind Sauce', 'limes', 'Arctic Char And Smoked Salmon Rillettes', 'limes'], ['Anchovies Appetizer With Breadcrumbs & Scallions', 'anchovies', 'Pasta With Fried Chile Peppers And Bread Crumbs', 'chiles', 'Grilled Apple-Smoked Striped Bass', 'main dish', 'Salmon, Sweet Potato, and Broccoli Chowder', 'sweet potato', 'Peruvian Fish Ceviche', 'garlic', 'Spicy Shrimp And Spaghetti Aglio Olio (garlic And Oil)', 'main dish', 'Kedgeree', 'water', 'Lemon-Pepper Salmon', 'tomatoes'], ['Anchovies Appetizer With Breadcrumbs & Scallions', \"hor d'oeuvre\", 'Blue Fish With Tomato, Garlic And Onions', 'antipasti', \"Katie Lee's Sole Meunière Recipe\", 'snack', 'Seafood Stew', 'canned tomatoes', \"Domestic Diva's Sea Bass With Roasted Eggplant Puree & Olive An\", 'eggplant', 'Caponata-stuffed Zucchini', 'lemon juice', 'Caesar Salad with Crisp Shredded Pork', 'garlic', 'Fish With Olives, Pine Nuts, Basil And Wine', 'appetizer'], ['Anchovies Appetizer With Breadcrumbs & Scallions', 'olive oil', \"Alex's Anchovy Bucatini\", 'olive oil', \"Tom Valenti's Lamb Shanks\", 'coarse salt', 'Salade Nicoise', 'olive oil', 'Roasted Radishes With Anchovies', 'anchovies', 'Pan-roasted East Coast Skate, Anchovy And Broccoli Pickle', 'side dish', 'Pissaladiere', 'anchovy', 'Salmon Brochettes with Sliced Fennel Vinaigrette', 'main dish'], ['Anchovies Appetizer With Breadcrumbs & Scallions', 'olive oil', 'Chopped Greek Salad', 'kosher salt', 'Salt and Pepper Salmon', 'unsalted butter', 'Piquillo-Pepper Num Pangs', 'cider vinegar', 'Grilled Mackerel With Spicy Tomato Jam', 'cider vinegar', 'Striped Bass with Sweet Carrots and Cider Glaze', 'vegetable oil', 'Veal Scaloppine with Wilted Parsley, Lemon and Sesame', 'sesame seeds', 'Veal Scaloppine with Wilted Parsley, Lemon and Sesame', 'flat leaf parsley'], ['Anchovies Appetizer With Breadcrumbs & Scallions', 'antipasti', 'Anchovy Fennel Toasts with Roasted Red Peppers', 'fennel seeds', 'Seared Sea Bass With Fennel Seeds & Roasted Sweet Potatoes', 'lunch', 'Parmesan Chicken With Caesar Roasted Romaine', 'main dish', 'Lemon-horseradish Sole', 'lunch', 'Parmesan-crusted Veal With Salsa Verde', 'salad mix', 'Seared Bass with Cauliflower Duo', 'cauliflower', 'Gemelli With Cauliflower, Scallions & Green Olives', 'red pepper flakes'], ['Anchovies Appetizer With Breadcrumbs & Scallions', 'garlic clove', 'Puff Pastry Salmon with Creamy Pesto', 'egg', 'Parmesan & Anchovy Straws', 'parmesan', 'Chicken Caesar Salad With Anchovy-caesar Vinaigrette And Garlic', 'worcestershire sauce', 'Easy to Make Dinner Combo', 'canned anchovies', 'Broccoflower with Anchovies and Garlic', 'golden raisins', 'Whole Roasted Megrim Sole With Caper Parsley Butter', 'butter', 'Salmon And Zucchini Baked In Parchment', 'shallot'], ['Anchovies Appetizer With Breadcrumbs & Scallions', \"hor d'oeuvre\", 'Tilapia With Caper-parsley Sauce', 'unsalted butter', 'Fusilli with Broccoli Rabe', 'crushed red pepper', 'Redfish on the Half Shell', 'striped bass', 'Striped Bass with Toasted-Shallot Vinaigrette and Spinach', 'kosher salt', 'Pan-seared Fish Fillets With Browned Butter, Lemon & Malt Vinegar', 'main dish', 'Roasted Monkfish with Curried Lentils and Browned Butter Cauliflower', 'lemon peel', 'Poached Cod with Parsley Sauce', 'lemon juice'], ['Anchovies Appetizer With Breadcrumbs & Scallions', 'antipasti', 'Sliced Baguette With Radishes And Anchovy Butter', 'anchovy', 'Pan-roasted Salmon With Purple Sprouting Broccoli And Anchovy-r', 'juice of lemon', 'Salade Nicoise', 'fresh basil leaves', 'Grilled Salmon With Zucchini Relish', 'main course', \"The (not Barefoot) Contessa's Fish Pasta\", 'capers', 'Parmesan-crusted Veal With Salsa Verde', 'anchovy', 'Potato And Shrimp Salad With Green Goddess Dressing', 'white wine'], ['Anchovies Appetizer With Breadcrumbs & Scallions', 'anchovies', 'Grilled Fish With Seville Orange & Rosemary Butter', 'side dish', 'Pickled Pepper, Anchovy & Egg Sandwich On Rye', 'shallot', 'Oven-braised Salmon In Lemon-tarragon Crème Fraîche', 'salmon fillets', 'Salmon Fillets With Orange Basil Butter', 'lunch', 'Macadamia Nut Crusted Mahi Mahi', 'chicken stock', \"Foshee's Striped Bass with Caramelized Onion Sauce\", 'main dish', 'Salmon With Pistachio-basil Butter', 'salmon fillets'], ['Anchovies Appetizer With Breadcrumbs & Scallions', 'starter', 'Queso Manchego con Aceitunas y Piquillos', 'piquillo peppers', 'Piquillo-Pepper Num Pangs', 'unsalted butter', 'Black Cod with Chanterelle Ragout', 'cod fillets', 'Pan-Seared Black Cod with Grape Salsa', 'sriracha sauce', 'Piquillo-Pepper Num Pangs', 'cider vinegar', 'Piquillo-Pepper Num Pangs', 'cucumber', 'Salmon With Cucumber-sour Cream Sauce', 'main dish'], ['Anchovies Appetizer With Breadcrumbs & Scallions', 'olive oil', 'Anchoïade With Radishes, Fennel, Celery And Carrots', 'appetizer', 'Fish With Olives, Pine Nuts, Basil And Wine', 'olive oil', 'Halibut, Clams, and Pancetta with Escarole', 'lemon', 'Pan Roasted Halibut W/ Creamy Lemon And Spinach Farro W/ Toaste', 'onion', 'Sicilian-style Fish Stew', 'white wine', \"Jacques-Imos' Blackened Gulf Fish\", 'cayenne pepper', 'Seared Ahi Tuna Steaks', 'ahi tuna steaks'], ['Anchovies Appetizer With Breadcrumbs & Scallions', 'bread', 'Steak, Tomato and Arugula Sandwiches', 'sirloin steak', 'Steak With Piquant Italian Salsa Verde', 'baby greens', 'Mixed Green Salad with Lemon, Olives and Anchovies', 'fresh chives', 'Smoked-bluefish Pâté', 'side dish', 'Endive, Fennel And Parmesan With Anchovy Date Dressing', 'side dish', 'Artichokes with Bagna Cauda', 'garlic', 'Grilled Halibut with Cilantro Garlic Butter', 'olive oil'], ['Anchovies Appetizer With Breadcrumbs & Scallions', 'snack', 'Favas, Green Beans, Peas And Zucchini Ribbons', 'parmigiano reggiano cheese', \"Emmanuel's Baked Artichoke Hearts\", 'parmigiano reggiano cheese', 'Brussels Sprout Leaf, Jerusalem Artichoke & Castelvetrano Olive', 'extra virgin olive oil', 'Penne Avvocato', 'steak', 'Penne Rigate with Spicy Braised Swordfish', 'salt and pepper', 'Risotto With Sea Bass And Fennel', 'yellow onion', 'Halibut Veracruz', 'kosher salt'], ['Anchovies Appetizer With Breadcrumbs & Scallions', 'scallions', 'Avocado & Marinated Anchovy Bruschetta', 'salt', 'Whole Black Bass with Ginger and Scallions', 'dinner', 'Pistachio-crusted Petrale Sole With Grapefruit-avocado Salad', 'walnut oil', 'Wild Striped Bass with Scallions and Herb Salad', 'lunch', 'Mahimahi with Onion, Capers, and Lemon', 'dinner', 'Grilled Fish with Sauce au Chien', 'vegetable oil', 'Tempura Sardines with Tonnatto Sauce', 'chicken stock'], ['Anchovies Appetizer With Breadcrumbs & Scallions', 'antipasto', 'Broccoli Rabe With Garlic & Anchovies', 'starter', 'Pesto-Marinated Striped Bass with Warm Tomatoes', 'white wine', 'Halibut with Mustard-Nut Crust', 'thyme', 'Bouillabaisse', 'thyme', 'Warm Cucumber Soup with Scallop and Sole Mousselines', 'salt', 'Seriously Asian: The Passing Through Technique', 'corn starch', 'Veal Cutlets With Lemon Caper Sauce', 'olive oil'], ['Anchovies Appetizer With Breadcrumbs & Scallions', 'starter', 'Salmon Club with Avocado Butter', 'avocado', \"Rick's Seviche 101\", 'olive oil', 'Hanger Steak with Herb-Nut Salsa', 'oil packed tuna', 'J&G Steak Sauce', 'adobo sauce', 'J&G Steak Sauce', 'vegetable oil', 'Whole Fish With Mint', 'jalapeno pepper', 'Pan Sauteed Tilapia With Lemon And Jalapeno', 'lemon'], ['Anchovies Appetizer With Breadcrumbs & Scallions', 'antipasti', 'Roast Sea Bass With Chilli & Lime Leaves', \"hor d'oeuvre\", 'Fish Chowder', 'antipasti', 'Striped Bass With Olive-almond Relish Recipe', 'lemon zest', 'Rockfish Galettes', 'rockfish', 'Herbed Striped Bass', 'egg white', 'Crispy Broiled Sablefish', 'dinner', 'Grilled Fish With Orange-fennel Salsa', 'fresh cilantro'], ['Anchovies Appetizer With Breadcrumbs & Scallions', 'snack', 'Pan-fried Cod With Mustard-caper Sauce', 'english cucumber', 'Fresh Bloody Mary', 'lime', 'Roasted Pompano with Citrus Avocado Salsa, Cilantro Butter & Spicy Plantains', 'plantain', 'Roasted Pompano with Citrus Avocado Salsa, Cilantro Butter & Spicy Plantains', 'cumin powder', 'Roasted Pompano with Citrus Avocado Salsa, Cilantro Butter & Spicy Plantains', 'canola oil', 'Seared Wild Striped Bass With Tomato Sage \"fondue', 'garlic cloves', 'Home-Style Parisian Potato Salad', 'red potatoes'], ['Anchovies Appetizer With Breadcrumbs & Scallions', 'appetizer', 'Pesto-Marinated Striped Bass with Warm Tomatoes', 'striped bass', 'Pan-Roasted Striped Bass with Roasted Artichokes, Mushrooms, and Tomato Marmalade', 'coarse salt', 'Balsamic, Caper, And Anchovy Marinade', 'starter', 'French Onion Tart', 'onions', 'Pissaladiere – a piece of France', 'black olives', 'Lemon And Chilli Bread Salad', 'dinner', 'Sautéed Shrimp with Green Olives, Scallions and Anchovies', 'dry white wine'], ['Anchovies Appetizer With Breadcrumbs & Scallions', 'olive oil', 'Bacon Bagna Càuda', 'white asparagus', 'Bacon Bagna Càuda', 'white asparagus', 'Bacon Bagna Càuda', 'bacon', 'Green Bean Caesar Salad with Baby Romaine Lettuces', 'bacon', 'Bacon Bagna Càuda', 'green beans', 'Young Green Bean, Anchovy and Potato Salad', 'red onion', \"McDevitt's Miso-Marinated Sea Bass\", 'water'], ['Anchovies Appetizer With Breadcrumbs & Scallions', 'antipasto', 'French Onion Tart', 'antipasti', 'Baked Flounder With Parsnips And Carrots Recipe', 'appetizer', 'Baked Flounder With Parsnips And Carrots Recipe', 'olive oil', 'Seabass Tartar On Warm Zucchini Cream With Tomato Caviar', 'extra virgin olive oil', 'Fish Baked In Salt', 'egg whites', 'Sesame-Crusted Fish Fillets with Garlic-Ginger Sauce', 'ginger', \"McDevitt's Miso-Marinated Sea Bass\", 'white wine'], ['Anchovies Appetizer With Breadcrumbs & Scallions', 'anchovies', 'Red Mullet With Tomatoes, Olives & Anchovies', 'cherry tomatoes', 'Grilled Halibut with Smashed Fingerlings and Tomato Butter', 'main dish', 'Plank-Grilled Salmon with Grape Relish', 'butter', 'Seared Halibut with Yellow-Pepper Sauce', 'dinner', 'Simple Sassy Salmon', 'main dish', 'Pizza With Anchovies, Red Onion, And Oregano', 'pizza dough', 'Springtime Asparagus Pizza', 'lunch'], ['Anchovies Appetizer With Breadcrumbs & Scallions', 'scallions', 'Sardines On Toast', 'side dish', 'Pasta Puttanesca', 'anchovy', 'Farmers’ Pasta', 'fresh basil leaves', 'Panzanella', 'bread cubes', 'Panzanella', 'red onion', 'Tomato And Boquerones Salad With Garlicky Breadcrumbs', 'side dish', 'Beet Greens With Anchovies', 'food dye'], ['Anchovies Appetizer With Breadcrumbs & Scallions', 'bread', 'Anchovy and Roasted-Pepper Salad with Goat Cheese', 'oil packed tuna', 'Orecchiette with Cauliflower, Anchovies and Pistachios', 'main dish', 'Pasta with Spicy Anchovy Sauce and Dill Bread Crumbs', 'lunch', 'Grilled Salmon With Zucchini Relish', 'pepper', 'Classic Caesar Salad', 'worcestershire sauce', 'Dinner Tonight: Kale Caesar Salad with Anchovies', 'lemon juice', 'Roasted Red Peppers with Tonnato Sauce', 'tuna'], ['Anchovies Appetizer With Breadcrumbs & Scallions', 'starter', 'Chicken-Liver Crostini', 'cognac', 'Tapenade', 'anchovy fillets', 'Olive Tapenade', 'fresh flat leaf parsley', 'Pissaladiere', 'plum tomatoes', 'Saffron Sea Bass Bowl', 'main dish', 'Salmon With Cucumber-sour Cream Sauce', 'margarine', 'Grilled Swordfish', 'garlic powder'], ['Anchovies Appetizer With Breadcrumbs & Scallions', 'snack', 'Seafood Stew', 'mussels', 'Roasted Striped Bass', 'olive oil', 'Grilled Fish In A Spicy Citrus Marinade', 'ginger', 'Whole Fish With Mint', 'garlic', 'Muffuletta', 'mortadella', 'Muffuletta', 'ham', 'Muffuletta', 'extra virgin olive oil'], ['Anchovies Appetizer With Breadcrumbs & Scallions', 'bread', 'Panzanella', 'yellow bell pepper', \"Chef Tyson Cole's Ceviche\", 'soy sauce', 'Steamed Asian Sea Bass In The Bag', 'appetizer', 'Pan-fried Cod With Mustard-caper Sauce', 'bibb lettuce', 'Pan-fried Cod With Mustard-caper Sauce', 'english cucumber', 'Pan-fried Cod With Mustard-caper Sauce', 'appetizer', 'Roasted Cod And Scallions With Spiced Potatoes', 'red potatoes'], ['Anchovies Appetizer With Breadcrumbs & Scallions', \"hor d'oeuvre\", 'Glazed Salmon', 'white wine', 'Red Snapper With Asparagus In White Wine Butter Sauce', 'snapper fillets', 'Blackened Yellowtail Snapper with Mango Salsa', 'fresh cilantro', 'Grilled Swordfish With Fresh Vegetable Salsa', 'lunch', 'Whole Fish With Mint', 'kosher salt', 'Fish Tacos with Pickled Onions and Chilies', 'crema', 'Fish Tacos with Pickled Onions and Chilies', 'romaine lettuce'], ['Anchovies Appetizer With Breadcrumbs & Scallions', 'snack', 'Deviled Eggs', 'appetizer', 'Striped Bass With Tomatoes, Corn, And Basil', 'cilantro', 'Fish Tacos On The Grill', 'dinner', 'Challenging Misconceptions: Potato Pizza – A cooking blog - Kitchenist', 'potatoes', 'Poached Beef With Green Sauce', 'peppers', 'Poached Beef With Green Sauce', 'raisin', 'Poached Beef With Green Sauce', 'shallots'], ['Anchovies Appetizer With Breadcrumbs & Scallions', 'starter', 'Garlic & Herb Seasoned Tilapia', 'lemon juice', 'Roasted Halibut With Pickled Beets Stegte Helleflynder Med Rodb', 'pickled beets', 'Beer-Battered Fish Tacos', 'pickled beets', 'Roasted Halibut With Pickled Beets (stegte Helleflynder Med Rød', 'starter', 'Whole Striped Bass With Fennel And Tomato', 'starter', 'Tuna, Tomato And Olive Sandwich (pan Bagnat)', 'oil packed tuna', 'Ojai Tapenade', 'olive oil'], ['Anchovies Appetizer With Breadcrumbs & Scallions', 'anchovies', 'Grilled Wahoo with Tomato Sauce', 'kalamata olives', 'Butter Poached Salmon With Warm Tomato Relish', 'tomatoes', 'Butter Poached Salmon With Warm Tomato Relish', 'lunch', 'Tuna Patties', 'canned tuna', 'Niçoise on a Roll', 'hard cooked egg', 'Grilled Radicchio And Romaine Chopped Salad', 'from donna deane', 'Grilled Radicchio And Romaine Chopped Salad', 'side dish'], ['Anchovies Appetizer With Breadcrumbs & Scallions', 'antipasto', 'Salmon With Pepita-lime Butter', 'unsalted pepitas', 'Salmon With Pepita-lime Butter', 'appetizer', 'Oven-roasted Trout With Potatoes', 'olive oil', 'Salsa Verde', 'capers', 'Parmesan-crusted Veal With Salsa Verde', 'capers', 'Shrimp and Pasta Puttanesca', 'marinara sauce', 'Shrimp and Pasta Puttanesca', 'marinara sauce'], ['Anchovies Appetizer With Breadcrumbs & Scallions', 'olive oil', 'Crispy Tuna with Tuna-Caper Sauce', 'main course', 'Salt-baked Striped Bass With Herbs And Lemon', 'italian herb mix', 'Salt-baked Striped Bass With Herbs And Lemon', 'lemon', 'Pan Seared Trout With Pecan Browned Butter', 'lemon', 'Pan-Fried Flounder with Potatoes in Parsley', 'rye flour', 'Pan-Fried Flounder with Potatoes in Parsley', 'dinner', 'Fish Taco Platter', 'red onion'], ['Anchovies Appetizer With Breadcrumbs & Scallions', 'scallions', 'Sake Sea Bass in Parchment', 'sugar', 'Pissaladiere', 'sugar', 'Miso-Glazed Sea Bass with Asparagus', 'lemon juice', 'Celery -Root Rémoulade', 'capers', 'Mixed Olive Tapenade', 'black pepper', 'Salmon Cannelloni with Lemon Cream Sauce', 'heavy cream', 'Nori Ahi with Soy-Mustard-Port Sauce', 'port wine'], ['Anchovies Appetizer With Breadcrumbs & Scallions', 'anchovies', 'Pasta With Fried Chile Peppers And Bread Crumbs', 'pasillas', 'Pasta With Fried Chile Peppers And Bread Crumbs', 'kosher salt', 'Pan-seared Crispy Salmon', 'main dish', 'Lake Trout with Fingerling Potatoes and Bacon', 'leeks', 'Fish Stew with Arepa Dumplings', 'parmesan cheese', 'Romaine With Garlic Lemon Anchovy Dressing', 'anchovy', 'Bagna Cauda Salad', 'salt'], ['Anchovies Appetizer With Breadcrumbs & Scallions', 'anchovies', 'Bap Story: Stir Fried Anchovies (Myulchi Bokkeum)', 'sprinkle', 'Bap Story: Stir Fried Anchovies (Myulchi Bokkeum)', 'anchovies', 'Bean Sprout Beef Rice Bowl', 'chili flakes', 'Local Amberjack with Pea Tendrils & Roasted Butternut Squash Mash', 'butter', 'Caramelized Maple-and-Garlic-Glazed Salmon', 'maple syrup', 'Caramelized Maple-and-Garlic-Glazed Salmon', 'dinner', 'Salmon And Zucchini Baked In Parchment', 'butter'], ['Anchovies Appetizer With Breadcrumbs & Scallions', 'anchovies', 'Caponata-Style Escarole and Cod', 'capers', 'Cavatappi Niçoise', 'olives', 'Plank-Grilled Salmon with Grape Relish', 'black pepper', 'Baked Fish with Roasted Potatoes, Tomatoes, and Salmoriglio Sauce', 'red potatoes', 'Roasted Cod And Scallions With Spiced Potatoes', 'snack', 'Creole Striped Bass', 'appetizer', 'Sliced Baguette With Radishes And Anchovy Butter', 'fresh chives'], ['Anchovies Appetizer With Breadcrumbs & Scallions', 'snack', 'Blue Fish With Tomato, Garlic And Onions', 'olive oil', 'Tagliolino Allo Scoglio', 'garlic', 'Roasted Cauliflower with Capers and Bread Crumbs', 'side dish', 'Sautéed Red Cabbage With Onions, Garlic, And Anchovy', 'kosher salt', 'Chicory In Anchovy Sauce', 'sauce', 'Turbot Fish in Tomato Sauce (Breaded Fish )', 'white bread', 'Whole-wheat blini with green olive tapenade', 'water'], ['Anchovies Appetizer With Breadcrumbs & Scallions', 'olive oil', 'Grilled Kale Caesar Salad', 'anchovy', 'Tuscan Kale With Lemon, Parmesan & White Anchovies', 'lemon', 'Triple Citrus Caesar Salad', 'lemon', 'Whole Roasted Megrim Sole With Caper Parsley Butter', 'capers', 'Turkey Sandwich With Tapenade And Fontina', 'garlic clove', 'Spaghetti with Fried Capers and Anchovies', 'spaghetti', 'Spaghetti with Anchovies and Bread Crumbs (Spaghetti con Acciughe e Mollica)', 'side dish'], ['Anchovies Appetizer With Breadcrumbs & Scallions', 'snack', 'Salmon With Dijon Dill Sauce', 'cucumber', 'Niçoise on a Roll', 'salt and pepper', 'Caponata-Style Escarole and Cod', 'main dish', 'Pan Seared Trout With Pecan Browned Butter', 'lemon wedges', 'Maple-Soy Glazed Salmon', 'lunch', 'Pan-Fried Skate with Brown Butter and Parsnip Puree', 'dinner', 'Spice-rubbed Fish Fillets With Lemon Butter Sauce', 'ground cayenne pepper'], ['Anchovies Appetizer With Breadcrumbs & Scallions', 'scallions', 'Succotash with Three Steamed Fish', 'side dish', 'Fish Roll-Ups', 'fresh parsley', 'Herb Stuffed Sole', 'dinner', 'Garlic And Oil Spaghetti With Greens', 'dinner', 'Salt-Baked Sea Bass with Warm Tomato Vinaigrette', 'main course', 'Pork Tenderloin with Red and Yellow Peppers', 'lean pork tenderloin', 'Pork Tenderloin with Red and Yellow Peppers', 'yellow bell pepper'], ['Anchovies Appetizer With Breadcrumbs & Scallions', 'scallions', 'Snapper With Succotash', 'dinner', 'Roast Leg Of Lamb With Salsa Verde', 'juice of lemon', 'Caesar-roasted Asparagus', 'olive oil', 'Grilled Lamb With Broccoli & Anchovy Sauce', 'broccoli', 'Mediterranean Pasta with Broccoli', 'salt and pepper', 'Sake-Steamed Halibut with Ginger and Cabbage', 'lunch', 'Poached Salmon With Dill & Capers', 'lunch'], ['Anchovies Appetizer With Breadcrumbs & Scallions', 'bread', 'Caesar Salad With Toasty Garlic Croutons', 'mayonnaise', 'Deviled Eggs', 'antipasti', 'French Onion Tart', 'anchovies', 'Beans And Salsa Verde', 'lunch', 'Seared Mahi Mahi with Zesty Basil Butter', 'salt', 'Marinated Vegetables: Verdure in Scapece', 'olive oil', 'Citrus Twist Sea-bass', 'pineapple'], ['Anchovies Appetizer With Breadcrumbs & Scallions', 'antipasti', 'Acqua Pazza (fish Simmered In Tomato-garlic Broth)', 'fresh basil', 'Grilled Sea Bass With A Portuguese Sauce', 'main dish', 'Garlic, Thyme And Anchovy Baked Potatoes', 'sea salt', 'Grilled Salmon With Basil Lemon Butter', 'main dish', 'Grilled Mahimahi With Red Pepper Sauce', 'garlic', 'Corned Beef In Broth With Salsa Verde', 'anchovies', 'Cook the Book: Deviled Egg Salad with Anchovies, Hot Smoked Paprika, and Tomato', 'salad'], ['Anchovies Appetizer With Breadcrumbs & Scallions', 'antipasto', 'Roast Sea Bass With Chilli & Lime Leaves', 'lemongrass', 'Super Simple Sea Bass', 'beverage', 'Garam Masala Seared Salmon with Coconut-Curry Butter', 'beverage', 'Faux-nagi', 'mirin', 'Sea Bass With Asparagus', 'main dish', 'Grilled Sea Bass with Miso-Mustard Sauce', 'sesame seeds', 'Bap Story: Stir Fried Anchovies (Myulchi Bokkeum)', 'main course'], ['Anchovies Appetizer With Breadcrumbs & Scallions', 'appetizer', 'Sauteed Flounder With Orange-shallot Sauce', 'antipasti', 'Emerils Fish Provencal', 'snack', 'Clam And Calamari Seafood Stew With Salsa Verde', \"hor d'oeuvre\", 'Steamed Asian Sea Bass In The Bag', 'olive oil', 'Roasted Brussels Sprouts With Capers, Walnuts And Anchovies', 'shallots', 'Halibut With Caper Beurre Blanc & Crushed Jersey Royals', 'white wine vinegar', 'Caesar Salad', 'cos lettuce'], ['Anchovies Appetizer With Breadcrumbs & Scallions', 'snack', 'Creole Striped Bass', 'appetizer', 'Pasta Con Sarde', 'antipasto', 'Pasta With Cauliflower', 'antipasti', 'Slow-roasted Cherry Tomato Bruschetta', \"hor d'oeuvre\", 'Glazed Salmon', 'apple cider', 'Glazed Salmon with Braised Fennel', 'chicken stock', 'Lemon Sole, Chicory And Cockles', 'chicory'], ['Anchovies Appetizer With Breadcrumbs & Scallions', 'starter', 'Miniature Onion Tartlets', 'fresh thyme', 'Pan-roasted Sea Bass with Citrus-Heirloom Tomato Vinaigrette', 'salt', 'Baked Ling Cod With Lemon-garlic Butter Sauce', 'cod fillets', 'Miso-roasted Fish On Cedar Plank', 'ginger', 'Yellowfin Tuna with Scallions and Ginger', 'olive oil', 'Panzanella', 'bread', 'Grilled Mozzarella Sandwich With Anchovy-olive Tapenade', 'butter'], ['Anchovies Appetizer With Breadcrumbs & Scallions', 'olive oil', 'Tuna Patties', 'water', 'Fish and Vegetable Soup with Lime, Ginger, and Cilantro', 'dinner', 'Ginger-Miso Striped Bass in Shiitake Mushroom Broth', 'panko', 'Grilled Trout Fillets with Crunchy Pine-nut Lemon Topping', 'lemon juice', 'Sautéed Chicken with Tonnato Sauce', 'dinner', 'Striped Bass With Sage And Red-wine Butter', 'red wine vinegar', 'Blue Corn Crusted Black Bass', 'main course'], ['Anchovies Appetizer With Breadcrumbs & Scallions', 'antipasti', 'Sliced Baguette With Radishes And Anchovy Butter', 'fresh chives', 'Roasted Salmon With White-wine Sauce', 'unsalted butter', 'Mahimahi with Onion, Capers, and Lemon', 'onion', 'Baked Cod With Mustard Crumbs', 'butter', 'Seared Wild Salmon With New Potatoes And Dijon Broth', 'lunch', 'Pan-roasted Swordfish Steaks With Mixed-peppercorn Butter', 'dinner', 'Deep Fried Sea Bass', 'ground pepper'], ['Anchovies Appetizer With Breadcrumbs & Scallions', 'olive oil', 'Tilapia with Purple Potato Crust and Chive Rosemary Oil', 'fresh rosemary leaves', 'Rib Roast Of Beef With Beets, Potatoes, And Horseradish', 'garlic', 'Sea Bass Crudo With Peruvian Tiradito Sauce', 'main course', 'Fish Stew with Clams', 'dinner', 'Striped Bass Meunière', 'flour', 'Rib Roast Of Beef With Beets, Potatoes, And Horseradish', 'lunch', 'Red Pepper & Caper Bruschetta', 'capers'], ['Anchovies Appetizer With Breadcrumbs & Scallions', 'scallions', 'Yellowfin Tuna with Scallions and Ginger', 'salt and pepper', 'Mediterranean Pasta with Broccoli', 'oil packed tuna', 'Ojai Tapenade', 'cauliflower', 'Spicy Cauliflower Pasta With Garlic, Anchovies And Capers', 'red pepper flakes', 'Salmon Brochettes with Sliced Fennel Vinaigrette', 'kosher salt', 'Catfish Pecan With Lemon-Thyme-Pecan Butter', 'worcestershire sauce', 'Caesar Salad', 'salt and pepper'], ['Anchovies Appetizer With Breadcrumbs & Scallions', \"hor d'oeuvre\", 'Chicken And Radish Salad With Creamy Avocado Dressing', 'antipasto', 'Italian Tomato Spaghetti', 'capers', 'Garlic-Rubbed Tri-Tip with Mint Caper Salsa', 'capers', 'Fish Piccata', 'white fish fillets', 'Classic Sole Meunière', 'white fish fillets', 'Baked Fish In Soy Ginger Sauce', 'rice wine vinegar', 'Baked Fish In Soy Ginger Sauce', 'cornstarch'], ['Anchovies Appetizer With Breadcrumbs & Scallions', 'garlic clove', 'Pan-roasted Swordfish Steaks With Mixed-peppercorn Butter', 'dinner', 'Miso And Soy Chilean Sea Bass', 'main dish', \"Alex's Anchovy Bucatini\", 'italian bread', 'Spaghetti with Anchovies and Breadcrumbs', 'fresh parsley', 'Italian Tomato Spaghetti', 'antipasto', 'Pasta With Cauliflower', 'snack', 'Hake Fillet With Jasmine Rice And Cabbage', 'green cabbage'], ['Anchovies Appetizer With Breadcrumbs & Scallions', 'anchovies', 'Caesar Salad', 'garlic clove', 'Treviso Caesar Salad', 'kosher salt', 'Pan-Fried Striped Bass with Stir-Fried Tomatoes and Dill', 'kosher salt', 'Salmon With Blackberry Brandy Sauce', 'dijon mustard', 'Roasted Sea Bass With Caper Sauce', 'main course', \"John Besh's Louisiana Speckled Trout Amandine\", 'unsalted butter', 'Salmon Club with Avocado Butter', 'snack'], ['Anchovies Appetizer With Breadcrumbs & Scallions', 'antipasto', 'Mediterranean Fish Fillets', 'basil leaves', 'Crispy Halibut With Lemony Basil Sauce', 'white wine', \"Baketard.com - Blog - Giorgio Locatelli's Branzino alla Vernaccia in Crosta Di Pomodoro (Sea Bass with Tomato Crust and Vernaccia Wine)\", 'branzino', 'Whole Branzino In Grape Leaves With Zucchini, Olives, And Mint', 'appetizer', 'Miniature Onion Tartlets', 'puff pastry sheet', 'Miniature Onion Tartlets', 'antipasto', 'Anchoïade With Radishes, Fennel, Celery And Carrots', 'anchovy fillets'], ['Anchovies Appetizer With Breadcrumbs & Scallions', \"hor d'oeuvre\", 'Mediterranean Fish Fillets', 'onion', \"Jacques-Imos' Blackened Gulf Fish\", 'chipotle powder', \"Jacques-Imos' Blackened Gulf Fish\", 'worcestershire sauce', 'Smoked Bluefish Pâté', 'hot sauce', 'Pecan-Crusted Tilapia', 'hot sauce', 'Tuna Patties', 'main dish', 'Pan-Sautéed Trout with Capers', 'fresh flat leaf parsley'], ['Anchovies Appetizer With Breadcrumbs & Scallions', 'bread', 'Bagna Cauda', 'snack', 'Fish With Olives, Pine Nuts, Basil And Wine', 'starter', 'Risotto With Sea Bass And Fennel', 'snack', 'Hake Fillet With Jasmine Rice And Cabbage', \"hor d'oeuvre\", 'Blue Fish With Tomato, Garlic And Onions', 'appetizer', 'Hard-Cooked Eggs with Crisp Anchovy Crumbs', 'garlic', 'Caesar Salad Deviled Eggs', 'salad'], ['Anchovies Appetizer With Breadcrumbs & Scallions', 'olive oil', 'Poached Salmon With Corn And White Wine–butter Sauce', 'basil leaves', 'Bluefish (or Swordfish) With Preserved Lemons', 'red onion', 'Mixed Grill with Sicilian Lemon Salad and Almond Mint Salsa', 'main course', 'Salmon Chowder', 'canned salmon', 'Salmon Chowder', 'garlic', 'Caesar Salad With Heart Croutons', 'garlic', 'Halibut Veracruz', 'butter'], ['Anchovies Appetizer With Breadcrumbs & Scallions', 'antipasto', 'Lemon Herb Fish', 'tilapia fillets', 'Tilapia with Purple Potato Crust and Chive Rosemary Oil', 'tilapia fillets', 'Crispy Oven-Baked Tilapia with Lemon-Tomato Fettuccine', 'canned tomatoes', 'French in a Flash: Chilean Sea Bass with Bouillabaisse Broth', 'fennel bulb', 'Favourite Winter Salad Recipe', 'salad', 'Hearts of Romaine Caesar Salad with Grilled Chicken', 'garlic cloves', \"Seabass Ravioli from Ischia: Ravioli all' Ischitana\", 'dinner'], ['Anchovies Appetizer With Breadcrumbs & Scallions', \"hor d'oeuvre\", \"Ginger-steamed Fish With Troy's Hana-style Sauce\", 'appetizer', 'Herbed Fish Cakes with Green Horseradish Sauce', \"hor d'oeuvre\", 'Glazed Salmon', 'salmon fillets', 'Salmon with Red Wine-Balsamic Sauce', 'shallot', 'Salmon with Red Wine-Balsamic Sauce', 'shallot', 'Salmon With Dijon Dill Sauce', 'salmon fillets', 'Olive Oil Poached Salmon with Chanterelles and Asparagus', 'lunch'], ['Anchovies Appetizer With Breadcrumbs & Scallions', 'garlic clove', 'Fresh Tuna Salad with Avocado', 'fennel seeds', 'Seared Sea Bass With Fennel Seeds & Roasted Sweet Potatoes', 'main course', 'Roasted Halibut with Fennel and Croutons', 'cod fillets', 'Sea Bass Stuffed With Fennel And Olives', 'fennel bulb', 'Endive, Fennel And Parmesan With Anchovy Date Dressing', 'bell pepper', 'Broccoli Rabe With Garlic & Anchovies', 'garlic', 'Faux Peanut Sauce', 'sauce'], ['Anchovies Appetizer With Breadcrumbs & Scallions', \"hor d'oeuvre\", 'Fish Chowder', 'butter', 'San Fran-Caesar with Sour Dough Croutons', 'side dish', 'Blackened Salmon and Rice', 'kosher salt', 'Pan-fried Trout With Polenta-spice Crust', 'dinner', 'Turkey Tonnato With Potatoes And Green Beans', 'water', 'Pissaladiere', 'anchovy', 'Braised Veal Shank with Marjoram: Stinco di Vitello', 'fresh thyme leaves'], ['Anchovies Appetizer With Breadcrumbs & Scallions', 'starter', 'Roast Sea Bass With Chilli & Lime Leaves', 'fresh coriander', 'Roast Sea Bass With Chilli & Lime Leaves', \"hor d'oeuvre\", 'Cioppino', 'olive oil', \"Domestic Diva's Sea Bass With Roasted Eggplant Puree & Olive An\", 'salt and pepper', 'Dinner Tonight: Shallow-Poached Salmon', 'dinner', 'Grilled Halibut with Potato-Fennel Puree', 'main course', 'Super Summer Grilled Bluefish', 'main dish'], ['Anchovies Appetizer With Breadcrumbs & Scallions', 'scallions', 'Sautéed Bass with Lemongrass', 'unsalted butter', 'Corn And Clam Chowder Sauce', 'thyme', 'Roasted Red Pepper Sandwiches with Tapenade and Basil', 'side dish', 'Beef Carpaccio with Anchovies, Capers, and Parmesan', 'extra virgin olive oil', 'Sea Bass With Herb Butter And Frisee Salad', 'lunch', 'Skinny Tuna Noodle Casserole', 'fat free chicken broth', 'Sea Bass and Spicy Tomato Sauce Over Braised Fennel', 'canned tomatoes'], ['Anchovies Appetizer With Breadcrumbs & Scallions', 'snack', 'Anchoïade With Radishes, Fennel, Celery And Carrots', 'anchovy fillets', 'French Tapenade', 'olive oil', 'Seared Halibut with Yellow-Pepper Sauce', 'lunch', 'Wheat Noodles with Anchovy Sauce: Bigoli en Salsa', 'dinner', 'Plank-Grilled Salmon with Grape Relish', 'butter', 'Grilled Salmon With Zucchini Relish', 'sugar', 'Arctic Char with Tangerine-Habanero Glaze and Meyer Lemon Couscous Broth', 'red wine vinegar'], ['Anchovies Appetizer With Breadcrumbs & Scallions', 'starter', 'Fried Anchovies', 'appetizer', 'Striped Bass With Olive-almond Relish Recipe', 'olive oil', 'Eggplant Stuffed With Savory Beef', 'dinner', 'Sea Bream with Artichokes and Caper Dressing', 'lemon peel', 'Black Cod with Chanterelle Ragout', 'parsley', 'Lemon-Stuffed Grilled Branzino', 'thyme sprigs', 'Herb-Broiled Fish with Lemon Aioli', 'lemon'], ['Anchovies Appetizer With Breadcrumbs & Scallions', 'olive oil', 'Orange & Fennel Seed Tapenade', 'orange juice', 'Orange Roughy With Citrus Sauce', 'garlic', 'Anchoïade', 'garlic', 'Acciugata Di Renato', 'water', 'Pizza', 'water', 'Clam And Calamari Seafood Stew With Salsa Verde', 'manila clams', 'Red Clam Chowder', 'tomatoes'], ['Anchovies Appetizer With Breadcrumbs & Scallions', 'appetizer', 'Kiss (keeping It Super Simple) Fried Fish', 'antipasti', 'Deviled Eggs', 'mayonnaise', 'Cornmeal-Crusted Fish with Green-Tomato Tartar Sauce', 'main course', 'Linguine Aglio E Olio Con Acciuga', 'anchovies', 'The Chicken Fried Pork Belly Caesar', 'romaine lettuce', 'Dinner Tonight: Caesar Salad', 'bread', 'Panzanella', 'yellow bell pepper'], ['Anchovies Appetizer With Breadcrumbs & Scallions', \"hor d'oeuvre\", 'Spaghetti Puttanesca', 'red pepper flakes', 'Roasted Tomato Spaghetti', 'main dish', 'Schezuan Pear Broth With Mackerel Dumplings', 'dinner', 'Salmon with Lentils and Pink Horseradish Cream', 'chicken stock', 'Spiced Salmon With Wine Braised Shallots, Edamame & Sunchoke Puree', 'main dish', 'Halibut Veracruz', 'main course', 'Mahimahi with Onion, Capers, and Lemon', 'main dish'], ['Anchovies Appetizer With Breadcrumbs & Scallions', 'antipasti', 'Grilled Miso-glazed Sea Bass With Japanese Cucumber Salad', 'soy sauce', 'Nabe (Yosenabe/Japanese Hot Pot)', 'scallops', 'Nabe (Yosenabe/Japanese Hot Pot)', 'bonito flakes', 'Nabe (Yosenabe/Japanese Hot Pot)', 'spinach', 'Fish Fusilli', 'pepper', 'Bold Winter Greens Salad', 'olive oil', 'Spinach Caesar Salad', 'salt and pepper'], ['Anchovies Appetizer With Breadcrumbs & Scallions', 'olive oil', \"Dad's Caesar Salad\", 'garlic', 'Pepper Pasta', 'broth', 'Cod with Cockles and White Wine', 'main course', 'Caramel Pork', 'peas', 'Favas, Green Beans, Peas And Zucchini Ribbons', \"hor d'oeuvre\", 'Pasta With Cauliflower', 'snack', 'Steamed Fish With Ponzu', 'snack'], ['Anchovies Appetizer With Breadcrumbs & Scallions', 'anchovies', 'Chicken Cacciatora With Pan Roasted Potatoes', 'potatoes', 'Simple Niçoise Salad Recipe', 'hard boiled eggs', 'Salad Nicoise', 'olive oil', 'Baked Peppers With Onion And Tomato', 'side dish', 'Steamed Fish with Scallions and Ginger', 'sugar', 'Schezuan Pear Broth With Mackerel Dumplings', 'lemongrass', 'Seared Sea Bass with Spicy Lemongrass Crust', 'lemon juice'], ['Anchovies Appetizer With Breadcrumbs & Scallions', 'garlic clove', 'J&G Steak Sauce', 'oil packed tuna', 'Balsamic Portabella Salad With Goat Cheese', 'kosher salt', 'Pan-Seared Lemon Sole', 'main course', 'Grilled Fish With Pesto Sauce', 'salt', 'Nut-crusted Salmon With Garlicky Greens And Walnuts', 'salmon fillets', 'Garlic Lovin’ Salmon', 'dinner', 'Roasted Wild Striped Bass', 'olive oil'], ['Anchovies Appetizer With Breadcrumbs & Scallions', 'anchovies', 'Down And Dirty Pasta E Cecci', 'canned chick peas', 'Down And Dirty Pasta E Cecci', 'parmesan', 'Bacon Caesar Salad', 'worcestershire sauce', 'Saucy Catfish', 'catfish', 'Chef Race: Cornmeal-Crusted Catfish with Tomato-Zucchini Rice and Radish Slaw', 'cumin', 'Citrus Twist Sea-bass', 'red onion', 'Lemon Sole With Flageolet Beans', 'olive oil'], ['Anchovies Appetizer With Breadcrumbs & Scallions', \"hor d'oeuvre\", 'Tagliatelle With Purple Sprouting Broccoli, Anchovies And Pecorino', 'snack', 'Seafood Chowder With Crispy Bread Crumbs', 'white sandwich bread', 'Grilled Fish Sandwich With Cabbage Slaw', 'main dish', 'Corned Beef In Broth With Salsa Verde', 'garlic', 'Cauliflower With A Sicilian Anchovy Crust', 'unsalted butter', 'Poached Halibut with Green Beans and Red Potatoes', 'fresh chives', 'Baked Sea Bass With Herb Sauce', 'fresh chives'], ['Anchovies Appetizer With Breadcrumbs & Scallions', 'olive oil', 'Cooking For Others: Fall Farmers’ Market', 'orange juice', 'Whole Grilled Fiesta Fish', 'main dish', 'Sole Piccata With Brown Butter & Grapes', 'capers', 'Pasta Puttanesca', 'crushed red pepper', 'Wild Striped Bass with Scallions and Herb Salad', 'dinner', 'Steamed Green Cabbage With Halibut Fillet', 'main course', 'Mustard-Roasted Salmon with Lingonberry Sauce', 'preserves'], ['Anchovies Appetizer With Breadcrumbs & Scallions', 'antipasti', 'Bagna Cauda', 'antipasto', 'Steamed Asian Sea Bass In The Bag', \"hor d'oeuvre\", 'Risotto With Sea Bass And Fennel', 'unsalted butter', 'Shallow-Poached Fish Fillets', 'cod fillets', 'Roasted Cod With Lemon-parsley Crumbs', 'panko breadcrumbs', 'Roasted Cod With Lemon-parsley Crumbs', 'lemon zest', 'Lemon And Parsley Sauce', 'anchovy'], ['Anchovies Appetizer With Breadcrumbs & Scallions', \"hor d'oeuvre\", 'Striped Bass With Lime Butter', 'pan fried bacon', 'Striped Bass With Lime Butter', 'snack', 'Striped Bass With Tomatoes, Corn, And Basil', 'cherry tomatoes', 'Farro & Tomato Salad With Basil & Anchovies', 'farro', 'Farro & Tomato Salad With Basil & Anchovies', 'pepper', 'Kale and Radicchio Salad with Broken Caesar Dressing', 'garlic clove', 'Mixed Seafood Risotto', 'chicken broth'], ['Anchovies Appetizer With Breadcrumbs & Scallions', 'appetizer', 'Pissaladiere', 'sugar', 'Grilled Sea Bass Donburi', 'side dish', 'Cajun-Baked Catfish', 'butter', 'Grilled Halibut with BBQ Butter', 'onion powder', 'Broiled Tilapia With Parmesan', 'parmesan cheese', 'Puff Pastry Salmon with Creamy Pesto', 'egg', 'Smoked Fish Cakes With Corn Tartar Sauce', 'main course'], ['Anchovies Appetizer With Breadcrumbs & Scallions', 'appetizer', 'Pasta With Cauliflower', 'cauliflower', 'Lamb Chops With Olive Orange Anchovy Sauce Recipe', 'flat leaf parsley', \"Katie Lee's Sole Meunière Recipe\", 'appetizer', 'Roast Sea Bass With Chilli & Lime Leaves', 'fresh coriander', 'Steamed Fish With Ginger & Orange', 'dinner', 'Lemon Sole, Chicory And Cockles', 'juice of lemon', 'Grilled Lamb With Broccoli & Anchovy Sauce', 'main course']]\n"
          ],
          "name": "stdout"
        }
      ]
    },
    {
      "cell_type": "code",
      "metadata": {
        "colab": {
          "base_uri": "https://localhost:8080/"
        },
        "id": "ItsqILlqcW4n",
        "outputId": "072f0c0f-6af5-4ea9-f2b1-b812406fea35"
      },
      "source": [
        "model.wv.most_similar(['tomatoes','penne'])"
      ],
      "execution_count": null,
      "outputs": [
        {
          "output_type": "stream",
          "text": [
            "/usr/local/lib/python3.6/dist-packages/gensim/matutils.py:737: FutureWarning: Conversion of the second argument of issubdtype from `int` to `np.signedinteger` is deprecated. In future, it will be treated as `np.int64 == np.dtype(int).type`.\n",
            "  if np.issubdtype(vec.dtype, np.int):\n"
          ],
          "name": "stderr"
        },
        {
          "output_type": "execute_result",
          "data": {
            "text/plain": [
              "[('turkey breast', 0.8138086795806885),\n",
              " ('cooked couscous', 0.8111531138420105),\n",
              " ('pissaladiere   a piece of france', 0.8110102415084839),\n",
              " ('macaroni', 0.8081371784210205),\n",
              " ('bucatini pasta', 0.8071438670158386),\n",
              " ('yellow peppers', 0.8017556071281433),\n",
              " ('skim milk mozzarella', 0.7999981641769409),\n",
              " ('servings: to 6 as a main course', 0.7998377084732056),\n",
              " ('dried chilli flakes', 0.7973442077636719),\n",
              " ('red chilis', 0.7963932752609253)]"
            ]
          },
          "metadata": {
            "tags": []
          },
          "execution_count": 12
        }
      ]
    },
    {
      "cell_type": "code",
      "metadata": {
        "colab": {
          "base_uri": "https://localhost:8080/"
        },
        "id": "tqf-wMeTyK8-",
        "outputId": "aadcbc30-30de-48e3-9f7b-3f54c1cd594e"
      },
      "source": [
        "type(model.most_similar(['tomatoes','fettucine'])[0][0])"
      ],
      "execution_count": null,
      "outputs": [
        {
          "output_type": "stream",
          "text": [
            "/usr/local/lib/python3.6/dist-packages/ipykernel_launcher.py:1: DeprecationWarning: Call to deprecated `most_similar` (Method will be removed in 4.0.0, use self.wv.most_similar() instead).\n",
            "  \"\"\"Entry point for launching an IPython kernel.\n",
            "/usr/local/lib/python3.6/dist-packages/gensim/matutils.py:737: FutureWarning: Conversion of the second argument of issubdtype from `int` to `np.signedinteger` is deprecated. In future, it will be treated as `np.int64 == np.dtype(int).type`.\n",
            "  if np.issubdtype(vec.dtype, np.int):\n"
          ],
          "name": "stderr"
        },
        {
          "output_type": "execute_result",
          "data": {
            "text/plain": [
              "str"
            ]
          },
          "metadata": {
            "tags": []
          },
          "execution_count": 33
        }
      ]
    },
    {
      "cell_type": "code",
      "metadata": {
        "colab": {
          "base_uri": "https://localhost:8080/"
        },
        "id": "hqHqm-ANvDp9",
        "outputId": "1bbb3d64-fb75-4e82-eb4e-3e3387200ffa"
      },
      "source": [
        "model.similarity(\"Lemon-Pepper Salmon\",\"Lemon-Pepper Salmon\")"
      ],
      "execution_count": null,
      "outputs": [
        {
          "output_type": "stream",
          "text": [
            "/usr/local/lib/python3.6/dist-packages/ipykernel_launcher.py:1: DeprecationWarning: Call to deprecated `similarity` (Method will be removed in 4.0.0, use self.wv.similarity() instead).\n",
            "  \"\"\"Entry point for launching an IPython kernel.\n",
            "/usr/local/lib/python3.6/dist-packages/gensim/matutils.py:737: FutureWarning: Conversion of the second argument of issubdtype from `int` to `np.signedinteger` is deprecated. In future, it will be treated as `np.int64 == np.dtype(int).type`.\n",
            "  if np.issubdtype(vec.dtype, np.int):\n"
          ],
          "name": "stderr"
        },
        {
          "output_type": "execute_result",
          "data": {
            "text/plain": [
              "0.9999999"
            ]
          },
          "metadata": {
            "tags": []
          },
          "execution_count": 26
        }
      ]
    }
  ]
}